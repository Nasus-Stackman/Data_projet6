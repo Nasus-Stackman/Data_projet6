{
 "cells": [
  {
   "cell_type": "markdown",
   "id": "a74cefe5-7bad-4ed7-9130-ffa23446ce87",
   "metadata": {},
   "source": [
    "<div style=\"display: flex; background-color: RGB(255,114,0);\" >\n",
    "<h1 style=\"margin: auto; padding: 30px; \">ANALYSE DU STOCK ET DES VENTES DU SITE BOTTLENECK</h1>\n",
    "</div>"
   ]
  },
  {
   "cell_type": "markdown",
   "id": "4d0d1bb8",
   "metadata": {},
   "source": [
    "# OBJECTIF DE CE NOTEBOOK\n",
    "\n",
    "Bienvenue dans l'outil plébiscité par les analystes de données Jupyter.\n",
    "\n",
    "Il s'agit d'un outil permettant de mixer et d'alterner code, texte et graphiques.\n",
    "\n",
    "Cet outil est formidable pour plusieurs raisons:\n",
    "\n",
    "+ Il permet de tester des lignes de codes au fur et à mesure de votre rédaction, de constater immédiatement le résultat d'une instruction, de la corriger si nécessaire.\n",
    "+ Il permet aussi de rédiger du texte pour expliquer l'approche suivie ou les résultats d'une analyse et de le mettre en forme grâce à du code html ou plus simple avec **Markdown**\n",
    "+ Il est possible d'ajouter des graphiques\n",
    "\n",
    "Pour vous aider dans vos premiers pas à l'usage de Jupyter et de Python, nous avons rédigé ce notebook en vous indiquant les instructions à suivre.\n",
    "\n",
    "Il vous suffit pour cela de saisir le code Python répondant à l'instruction donnée.\n",
    "\n",
    "Vous verrez de temps à autre le code Python répondant à une instruction donnée mais cela est fait pour vous aider à comprendre la nature du travail qui vous est demandé.\n",
    "\n",
    "Et gardez à l'esprit qu'il n'y a pas de solution unique pour résoudre un problème et qu'il y a autant de résolutions de problèmes que de développeurs ;)...\n",
    "\n"
   ]
  },
  {
   "cell_type": "markdown",
   "id": "b85efb87",
   "metadata": {},
   "source": [
    "<div style=\"background-color: RGB(51,165,182);\" >\n",
    "<h2 style=\"margin: auto; padding: 20px; color:#fff; \">Etape 1 - Importation des librairies et chargement des fichiers</h2>\n",
    "</div>"
   ]
  },
  {
   "cell_type": "markdown",
   "id": "b5449401",
   "metadata": {},
   "source": [
    "<div style=\"border: 1px solid RGB(51,165,182);\" >\n",
    "<h3 style=\"margin: auto; padding: 20px; color: RGB(51,165,182); \">1.1 - Importation des librairies</h3>\n",
    "</div>"
   ]
  },
  {
   "cell_type": "code",
   "execution_count": 1,
   "id": "e6ef06ec",
   "metadata": {},
   "outputs": [],
   "source": [
    "#Importation de la librairie Pandas et des autres\n",
    "import pandas as pd\n",
    "import numpy as np\n",
    "import seaborn as sns\n",
    "import matplotlib.pyplot as plt"
   ]
  },
  {
   "cell_type": "code",
   "execution_count": 2,
   "id": "a38ce0fc",
   "metadata": {},
   "outputs": [],
   "source": [
    "#Importation de la librairie plotly express\n",
    "import plotly.express as px      \n",
    "import plotly.graph_objects as go\n",
    "import openpyxl"
   ]
  },
  {
   "cell_type": "code",
   "execution_count": 3,
   "id": "0a718067",
   "metadata": {},
   "outputs": [],
   "source": [
    "#Trouver dans Google l'instruction permettant d'afficher toutes les colonnes d'un dataframe\n",
    "#Saisir dans Google les mots clés \"display all columns dataframe Pandas\" par exemple.\n",
    "#Dans les résultats de la recherche, privilégier les solutions provenant de Stack Overflow ou Medium\n",
    "pd.set_option('display.max_columns', None)"
   ]
  },
  {
   "cell_type": "markdown",
   "id": "f4918299",
   "metadata": {},
   "source": [
    "<div style=\"border: 1px solid RGB(51,165,182);\" >\n",
    "<h3 style=\"margin: auto; padding: 20px; color: RGB(51,165,182); \">1.2 - Chargements des fichiers</h3>\n",
    "</div>"
   ]
  },
  {
   "cell_type": "code",
   "execution_count": 4,
   "id": "9642cf03",
   "metadata": {},
   "outputs": [],
   "source": [
    "import warnings\n",
    "warnings.filterwarnings(\"ignore\", category=UserWarning, module=\"openpyxl\")\n",
    "\n",
    "#Importation du fichier web.xlsx\n",
    "df_web = pd.read_excel(\"C:/Users/AUCLAIR/Documents/Projet_Data_6/web.xlsx\")\n",
    "#Importation du fichier erp.xlsx\n",
    "df_erp = pd.read_excel(\"C:/Users/AUCLAIR/Documents/Projet_Data_6/erp.xlsx\")\n",
    "#Importation du fichier liaison.xlsx\n",
    "df_liaison = pd.read_excel(\"C:/Users/AUCLAIR/Documents/Projet_Data_6/liaison.xlsx\")"
   ]
  },
  {
   "cell_type": "markdown",
   "id": "605f7056",
   "metadata": {},
   "source": [
    "<div style=\"background-color: RGB(51,165,182);\" >\n",
    "<h2 style=\"margin: auto; padding: 20px; color:#fff; \">Etape 2 - Analyse exploratoire des fichiers</h2>\n",
    "</div>"
   ]
  },
  {
   "cell_type": "markdown",
   "id": "47d3a649",
   "metadata": {},
   "source": [
    "<div style=\"border: 1px solid RGB(51,165,182);\" >\n",
    "<h3 style=\"margin: auto; padding: 20px; color: RGB(51,165,182); \">2.1 - Analyse exploratoire du fichier erp.xlsx</h3>\n",
    "</div>"
   ]
  },
  {
   "cell_type": "code",
   "execution_count": 5,
   "id": "094ef206",
   "metadata": {},
   "outputs": [
    {
     "name": "stdout",
     "output_type": "stream",
     "text": [
      "Le tableau comporte 825 observation(s) ou article(s)\n",
      "Le tableau comporte 6 colonne(s)\n"
     ]
    }
   ],
   "source": [
    "#Afficher les dimensions du dataset\n",
    "print(\"Le tableau comporte {} observation(s) ou article(s)\".format(df_erp.shape[0]))\n",
    "print(\"Le tableau comporte {} colonne(s)\".format(df_erp.shape[1]))"
   ]
  },
  {
   "cell_type": "code",
   "execution_count": 6,
   "id": "7762efdc-23a4-453e-89d3-4c2859c484e5",
   "metadata": {},
   "outputs": [
    {
     "name": "stdout",
     "output_type": "stream",
     "text": [
      "Le DataFrame comporte 6 colonnes\n"
     ]
    }
   ],
   "source": [
    "#Consulter le nombre de colonnes\n",
    "print(\"Le DataFrame comporte\", df_erp.shape[1], \"colonnes\")"
   ]
  },
  {
   "cell_type": "code",
   "execution_count": 7,
   "id": "0bc9337a-16e2-435e-a209-0e881cae5a7c",
   "metadata": {},
   "outputs": [
    {
     "data": {
      "text/plain": [
       "product_id          int64\n",
       "onsale_web          int64\n",
       "price             float64\n",
       "stock_quantity      int64\n",
       "stock_status       object\n",
       "purchase_price    float64\n",
       "dtype: object"
      ]
     },
     "execution_count": 7,
     "metadata": {},
     "output_type": "execute_result"
    }
   ],
   "source": [
    "#La nature des données dans chacune des colonnes\n",
    "df_erp.dtypes"
   ]
  },
  {
   "cell_type": "code",
   "execution_count": 8,
   "id": "541bc6a9-90e6-47bb-9931-a2d63325b411",
   "metadata": {},
   "outputs": [
    {
     "data": {
      "text/plain": [
       "product_id        825\n",
       "onsale_web        825\n",
       "price             825\n",
       "stock_quantity    825\n",
       "stock_status      825\n",
       "purchase_price    825\n",
       "dtype: int64"
      ]
     },
     "execution_count": 8,
     "metadata": {},
     "output_type": "execute_result"
    }
   ],
   "source": [
    "#Le nombre de valeurs présentes dans chacune des colonnes\n",
    "df_erp.count()"
   ]
  },
  {
   "cell_type": "code",
   "execution_count": 9,
   "id": "182441f0",
   "metadata": {},
   "outputs": [
    {
     "data": {
      "text/plain": [
       "product_id        0\n",
       "onsale_web        0\n",
       "price             0\n",
       "stock_quantity    0\n",
       "stock_status      0\n",
       "purchase_price    0\n",
       "dtype: int64"
      ]
     },
     "execution_count": 9,
     "metadata": {},
     "output_type": "execute_result"
    }
   ],
   "source": [
    "#Le nombre de valeurs présentes dans chacune des colonnes\n",
    "df_erp.isna().sum()"
   ]
  },
  {
   "cell_type": "code",
   "execution_count": 10,
   "id": "d3977646",
   "metadata": {},
   "outputs": [
    {
     "data": {
      "text/html": [
       "<div>\n",
       "<style scoped>\n",
       "    .dataframe tbody tr th:only-of-type {\n",
       "        vertical-align: middle;\n",
       "    }\n",
       "\n",
       "    .dataframe tbody tr th {\n",
       "        vertical-align: top;\n",
       "    }\n",
       "\n",
       "    .dataframe thead th {\n",
       "        text-align: right;\n",
       "    }\n",
       "</style>\n",
       "<table border=\"1\" class=\"dataframe\">\n",
       "  <thead>\n",
       "    <tr style=\"text-align: right;\">\n",
       "      <th></th>\n",
       "      <th>product_id</th>\n",
       "      <th>onsale_web</th>\n",
       "      <th>price</th>\n",
       "      <th>stock_quantity</th>\n",
       "      <th>stock_status</th>\n",
       "      <th>purchase_price</th>\n",
       "    </tr>\n",
       "  </thead>\n",
       "  <tbody>\n",
       "    <tr>\n",
       "      <th>0</th>\n",
       "      <td>3847</td>\n",
       "      <td>1</td>\n",
       "      <td>24.2</td>\n",
       "      <td>16</td>\n",
       "      <td>instock</td>\n",
       "      <td>12.88</td>\n",
       "    </tr>\n",
       "    <tr>\n",
       "      <th>1</th>\n",
       "      <td>3849</td>\n",
       "      <td>1</td>\n",
       "      <td>34.3</td>\n",
       "      <td>10</td>\n",
       "      <td>instock</td>\n",
       "      <td>17.54</td>\n",
       "    </tr>\n",
       "    <tr>\n",
       "      <th>2</th>\n",
       "      <td>3850</td>\n",
       "      <td>1</td>\n",
       "      <td>20.8</td>\n",
       "      <td>0</td>\n",
       "      <td>outofstock</td>\n",
       "      <td>10.64</td>\n",
       "    </tr>\n",
       "    <tr>\n",
       "      <th>3</th>\n",
       "      <td>4032</td>\n",
       "      <td>1</td>\n",
       "      <td>14.1</td>\n",
       "      <td>26</td>\n",
       "      <td>instock</td>\n",
       "      <td>6.92</td>\n",
       "    </tr>\n",
       "    <tr>\n",
       "      <th>4</th>\n",
       "      <td>4039</td>\n",
       "      <td>1</td>\n",
       "      <td>46.0</td>\n",
       "      <td>3</td>\n",
       "      <td>outofstock</td>\n",
       "      <td>23.77</td>\n",
       "    </tr>\n",
       "  </tbody>\n",
       "</table>\n",
       "</div>"
      ],
      "text/plain": [
       "   product_id  onsale_web  price  stock_quantity stock_status  purchase_price\n",
       "0        3847           1   24.2              16      instock           12.88\n",
       "1        3849           1   34.3              10      instock           17.54\n",
       "2        3850           1   20.8               0   outofstock           10.64\n",
       "3        4032           1   14.1              26      instock            6.92\n",
       "4        4039           1   46.0               3   outofstock           23.77"
      ]
     },
     "execution_count": 10,
     "metadata": {},
     "output_type": "execute_result"
    }
   ],
   "source": [
    "#Afficher les 5 premières lignes de la table\n",
    "df_erp.head()"
   ]
  },
  {
   "cell_type": "code",
   "execution_count": 11,
   "id": "db102a4a",
   "metadata": {},
   "outputs": [
    {
     "data": {
      "text/html": [
       "<div>\n",
       "<style scoped>\n",
       "    .dataframe tbody tr th:only-of-type {\n",
       "        vertical-align: middle;\n",
       "    }\n",
       "\n",
       "    .dataframe tbody tr th {\n",
       "        vertical-align: top;\n",
       "    }\n",
       "\n",
       "    .dataframe thead th {\n",
       "        text-align: right;\n",
       "    }\n",
       "</style>\n",
       "<table border=\"1\" class=\"dataframe\">\n",
       "  <thead>\n",
       "    <tr style=\"text-align: right;\">\n",
       "      <th></th>\n",
       "      <th>product_id</th>\n",
       "      <th>onsale_web</th>\n",
       "      <th>price</th>\n",
       "      <th>stock_quantity</th>\n",
       "      <th>stock_status</th>\n",
       "      <th>purchase_price</th>\n",
       "    </tr>\n",
       "  </thead>\n",
       "  <tbody>\n",
       "  </tbody>\n",
       "</table>\n",
       "</div>"
      ],
      "text/plain": [
       "Empty DataFrame\n",
       "Columns: [product_id, onsale_web, price, stock_quantity, stock_status, purchase_price]\n",
       "Index: []"
      ]
     },
     "execution_count": 11,
     "metadata": {},
     "output_type": "execute_result"
    }
   ],
   "source": [
    "#Vérifier si il y a des lignes en doublon dans la colonne product_id\n",
    "doublons_erp = df_erp.duplicated(subset='product_id')\n",
    "df_erp[doublons_erp]"
   ]
  },
  {
   "cell_type": "code",
   "execution_count": 12,
   "id": "d443d4ff",
   "metadata": {},
   "outputs": [
    {
     "data": {
      "text/plain": [
       "array(['instock', 'outofstock'], dtype=object)"
      ]
     },
     "execution_count": 12,
     "metadata": {},
     "output_type": "execute_result"
    }
   ],
   "source": [
    "#Afficher les valeurs distinctes de la colonne stock_status\n",
    "df_erp['stock_status'].unique()"
   ]
  },
  {
   "cell_type": "code",
   "execution_count": 13,
   "id": "1704d8a2-807e-428d-9dc2-9df11944662b",
   "metadata": {},
   "outputs": [
    {
     "data": {
      "text/html": [
       "<div>\n",
       "<style scoped>\n",
       "    .dataframe tbody tr th:only-of-type {\n",
       "        vertical-align: middle;\n",
       "    }\n",
       "\n",
       "    .dataframe tbody tr th {\n",
       "        vertical-align: top;\n",
       "    }\n",
       "\n",
       "    .dataframe thead th {\n",
       "        text-align: right;\n",
       "    }\n",
       "</style>\n",
       "<table border=\"1\" class=\"dataframe\">\n",
       "  <thead>\n",
       "    <tr style=\"text-align: right;\">\n",
       "      <th></th>\n",
       "      <th>product_id</th>\n",
       "      <th>onsale_web</th>\n",
       "      <th>price</th>\n",
       "      <th>stock_quantity</th>\n",
       "      <th>stock_status</th>\n",
       "      <th>purchase_price</th>\n",
       "    </tr>\n",
       "  </thead>\n",
       "  <tbody>\n",
       "    <tr>\n",
       "      <th>4</th>\n",
       "      <td>4039</td>\n",
       "      <td>1</td>\n",
       "      <td>46.0</td>\n",
       "      <td>3</td>\n",
       "      <td>outofstock</td>\n",
       "      <td>23.77</td>\n",
       "    </tr>\n",
       "    <tr>\n",
       "      <th>449</th>\n",
       "      <td>4973</td>\n",
       "      <td>0</td>\n",
       "      <td>10.0</td>\n",
       "      <td>-10</td>\n",
       "      <td>outofstock</td>\n",
       "      <td>4.96</td>\n",
       "    </tr>\n",
       "    <tr>\n",
       "      <th>573</th>\n",
       "      <td>5700</td>\n",
       "      <td>1</td>\n",
       "      <td>44.5</td>\n",
       "      <td>-1</td>\n",
       "      <td>outofstock</td>\n",
       "      <td>22.30</td>\n",
       "    </tr>\n",
       "  </tbody>\n",
       "</table>\n",
       "</div>"
      ],
      "text/plain": [
       "     product_id  onsale_web  price  stock_quantity stock_status  \\\n",
       "4          4039           1   46.0               3   outofstock   \n",
       "449        4973           0   10.0             -10   outofstock   \n",
       "573        5700           1   44.5              -1   outofstock   \n",
       "\n",
       "     purchase_price  \n",
       "4             23.77  \n",
       "449            4.96  \n",
       "573           22.30  "
      ]
     },
     "execution_count": 13,
     "metadata": {},
     "output_type": "execute_result"
    }
   ],
   "source": [
    "#À quelle(s) autre(s) colonne(s) sont-elles liées ?\n",
    "df_erp[(df_erp['stock_status']=='outofstock') & (df_erp['stock_quantity']!=0)]"
   ]
  },
  {
   "cell_type": "markdown",
   "id": "84d5939f-fc4a-450e-8611-86b2cdc760b8",
   "metadata": {},
   "source": [
    "**Je constate que les colonnes stock_quantity et stock_status, sont logiquement liées, les 3 exceptions notées au dessus correspondent certaines à des erreurs.**"
   ]
  },
  {
   "cell_type": "code",
   "execution_count": 14,
   "id": "b1618d1a-0cbc-427b-a2c2-61f90bad0e83",
   "metadata": {},
   "outputs": [
    {
     "data": {
      "text/html": [
       "<div>\n",
       "<style scoped>\n",
       "    .dataframe tbody tr th:only-of-type {\n",
       "        vertical-align: middle;\n",
       "    }\n",
       "\n",
       "    .dataframe tbody tr th {\n",
       "        vertical-align: top;\n",
       "    }\n",
       "\n",
       "    .dataframe thead th {\n",
       "        text-align: right;\n",
       "    }\n",
       "</style>\n",
       "<table border=\"1\" class=\"dataframe\">\n",
       "  <thead>\n",
       "    <tr style=\"text-align: right;\">\n",
       "      <th></th>\n",
       "      <th>stock_quantity</th>\n",
       "      <th>stock_status_2</th>\n",
       "    </tr>\n",
       "  </thead>\n",
       "  <tbody>\n",
       "    <tr>\n",
       "      <th>0</th>\n",
       "      <td>16</td>\n",
       "      <td>instock</td>\n",
       "    </tr>\n",
       "    <tr>\n",
       "      <th>1</th>\n",
       "      <td>10</td>\n",
       "      <td>instock</td>\n",
       "    </tr>\n",
       "    <tr>\n",
       "      <th>2</th>\n",
       "      <td>0</td>\n",
       "      <td>outofstock</td>\n",
       "    </tr>\n",
       "    <tr>\n",
       "      <th>3</th>\n",
       "      <td>26</td>\n",
       "      <td>instock</td>\n",
       "    </tr>\n",
       "    <tr>\n",
       "      <th>4</th>\n",
       "      <td>3</td>\n",
       "      <td>instock</td>\n",
       "    </tr>\n",
       "    <tr>\n",
       "      <th>...</th>\n",
       "      <td>...</td>\n",
       "      <td>...</td>\n",
       "    </tr>\n",
       "    <tr>\n",
       "      <th>820</th>\n",
       "      <td>30</td>\n",
       "      <td>instock</td>\n",
       "    </tr>\n",
       "    <tr>\n",
       "      <th>821</th>\n",
       "      <td>9</td>\n",
       "      <td>instock</td>\n",
       "    </tr>\n",
       "    <tr>\n",
       "      <th>822</th>\n",
       "      <td>6</td>\n",
       "      <td>instock</td>\n",
       "    </tr>\n",
       "    <tr>\n",
       "      <th>823</th>\n",
       "      <td>14</td>\n",
       "      <td>instock</td>\n",
       "    </tr>\n",
       "    <tr>\n",
       "      <th>824</th>\n",
       "      <td>40</td>\n",
       "      <td>instock</td>\n",
       "    </tr>\n",
       "  </tbody>\n",
       "</table>\n",
       "<p>825 rows × 2 columns</p>\n",
       "</div>"
      ],
      "text/plain": [
       "     stock_quantity stock_status_2\n",
       "0                16        instock\n",
       "1                10        instock\n",
       "2                 0     outofstock\n",
       "3                26        instock\n",
       "4                 3        instock\n",
       "..              ...            ...\n",
       "820              30        instock\n",
       "821               9        instock\n",
       "822               6        instock\n",
       "823              14        instock\n",
       "824              40        instock\n",
       "\n",
       "[825 rows x 2 columns]"
      ]
     },
     "execution_count": 14,
     "metadata": {},
     "output_type": "execute_result"
    }
   ],
   "source": [
    "#Création d'une colonne \"stock_status_2\"\n",
    "#La valeur de cette deuxième colonne sera fonction de la valeur dans la colonne \"stock_quantity\"\n",
    "#Si la valeur de la colonne \"stock_quantity\" est nulle, renseigner \"outofstock\" sinon mettre \"instock\"\n",
    "stock =df_erp[\"stock_quantity\"]\n",
    "df_erp[\"stock_status_2\"] = np.where(stock==0, 'outofstock', 'instock')\n",
    "df_erp[[\"stock_quantity\", \"stock_status_2\"]]"
   ]
  },
  {
   "cell_type": "code",
   "execution_count": 15,
   "id": "90a1c8ae",
   "metadata": {},
   "outputs": [
    {
     "data": {
      "text/plain": [
       "0       True\n",
       "1       True\n",
       "2       True\n",
       "3       True\n",
       "4      False\n",
       "       ...  \n",
       "820     True\n",
       "821     True\n",
       "822     True\n",
       "823     True\n",
       "824     True\n",
       "Length: 825, dtype: bool"
      ]
     },
     "execution_count": 15,
     "metadata": {},
     "output_type": "execute_result"
    }
   ],
   "source": [
    "#Vérifions que les 2 colonnes sont identiques:\n",
    "#Les 2 colonnes sont strictement identiques si les valeurs de chaque ligne sont strictement identiques 2 à 2\n",
    "#La comparaison de 2 colonnes peut se réaliser simplement avec l'instruction ci-dessous:\n",
    "df_erp[\"stock_status\"] == df_erp[\"stock_status_2\"]\n",
    "\n",
    "#Le résultat est l'affichage de True ou False pour chacune des lignes du dataset\n",
    "#C'est un bon début, mais difficile à exploiter"
   ]
  },
  {
   "cell_type": "code",
   "execution_count": 16,
   "id": "ebe3650a",
   "metadata": {},
   "outputs": [
    {
     "name": "stdout",
     "output_type": "stream",
     "text": [
      "Nombre de lignes identiques : 821 sur 825\n"
     ]
    }
   ],
   "source": [
    "#Mais il est possible de synthétiser ce résultat en effectuant la somme de cette colonne:\n",
    "#True vaut 1 et False 0\n",
    "#Nous devrions obtenir la somme de 825 qui correspond au nombre de lignes dans ce dataset\n",
    "liste = np.where(df_erp[\"stock_status\"] == df_erp[\"stock_status_2\"], 1, 0)\n",
    "print(\"Nombre de lignes identiques :\", liste.sum(), \"sur 825\")"
   ]
  },
  {
   "cell_type": "code",
   "execution_count": 17,
   "id": "1ca6060a",
   "metadata": {},
   "outputs": [],
   "source": [
    "#Si les colonnes ne sont absolument pas identiques ligne à ligne alors identifier la ligne en écart\n",
    "##Dans ce cas je vous donne ce lien pour apprendre à réaliser des filtres dans Pandas:\n",
    "##https://bitbucket.org/hrojas/learn-pandas/src/master/\n",
    "##Lesson 3"
   ]
  },
  {
   "cell_type": "code",
   "execution_count": 18,
   "id": "d7cea6d5-bff8-42bf-9272-b350c10820f7",
   "metadata": {},
   "outputs": [
    {
     "data": {
      "text/html": [
       "<div>\n",
       "<style scoped>\n",
       "    .dataframe tbody tr th:only-of-type {\n",
       "        vertical-align: middle;\n",
       "    }\n",
       "\n",
       "    .dataframe tbody tr th {\n",
       "        vertical-align: top;\n",
       "    }\n",
       "\n",
       "    .dataframe thead th {\n",
       "        text-align: right;\n",
       "    }\n",
       "</style>\n",
       "<table border=\"1\" class=\"dataframe\">\n",
       "  <thead>\n",
       "    <tr style=\"text-align: right;\">\n",
       "      <th></th>\n",
       "      <th>product_id</th>\n",
       "      <th>onsale_web</th>\n",
       "      <th>price</th>\n",
       "      <th>stock_quantity</th>\n",
       "      <th>stock_status</th>\n",
       "      <th>purchase_price</th>\n",
       "      <th>stock_status_2</th>\n",
       "    </tr>\n",
       "  </thead>\n",
       "  <tbody>\n",
       "    <tr>\n",
       "      <th>4</th>\n",
       "      <td>4039</td>\n",
       "      <td>1</td>\n",
       "      <td>46.0</td>\n",
       "      <td>3</td>\n",
       "      <td>outofstock</td>\n",
       "      <td>23.77</td>\n",
       "      <td>instock</td>\n",
       "    </tr>\n",
       "    <tr>\n",
       "      <th>398</th>\n",
       "      <td>4885</td>\n",
       "      <td>1</td>\n",
       "      <td>18.7</td>\n",
       "      <td>0</td>\n",
       "      <td>instock</td>\n",
       "      <td>9.66</td>\n",
       "      <td>outofstock</td>\n",
       "    </tr>\n",
       "    <tr>\n",
       "      <th>449</th>\n",
       "      <td>4973</td>\n",
       "      <td>0</td>\n",
       "      <td>10.0</td>\n",
       "      <td>-10</td>\n",
       "      <td>outofstock</td>\n",
       "      <td>4.96</td>\n",
       "      <td>instock</td>\n",
       "    </tr>\n",
       "    <tr>\n",
       "      <th>573</th>\n",
       "      <td>5700</td>\n",
       "      <td>1</td>\n",
       "      <td>44.5</td>\n",
       "      <td>-1</td>\n",
       "      <td>outofstock</td>\n",
       "      <td>22.30</td>\n",
       "      <td>instock</td>\n",
       "    </tr>\n",
       "  </tbody>\n",
       "</table>\n",
       "</div>"
      ],
      "text/plain": [
       "     product_id  onsale_web  price  stock_quantity stock_status  \\\n",
       "4          4039           1   46.0               3   outofstock   \n",
       "398        4885           1   18.7               0      instock   \n",
       "449        4973           0   10.0             -10   outofstock   \n",
       "573        5700           1   44.5              -1   outofstock   \n",
       "\n",
       "     purchase_price stock_status_2  \n",
       "4             23.77        instock  \n",
       "398            9.66     outofstock  \n",
       "449            4.96        instock  \n",
       "573           22.30        instock  "
      ]
     },
     "execution_count": 18,
     "metadata": {},
     "output_type": "execute_result"
    }
   ],
   "source": [
    "#Identification des lignes différentes\n",
    "df_erp[df_erp[\"stock_status\"] != df_erp[\"stock_status_2\"]]"
   ]
  },
  {
   "cell_type": "code",
   "execution_count": 19,
   "id": "ce1b9704",
   "metadata": {},
   "outputs": [
    {
     "data": {
      "text/html": [
       "<div>\n",
       "<style scoped>\n",
       "    .dataframe tbody tr th:only-of-type {\n",
       "        vertical-align: middle;\n",
       "    }\n",
       "\n",
       "    .dataframe tbody tr th {\n",
       "        vertical-align: top;\n",
       "    }\n",
       "\n",
       "    .dataframe thead th {\n",
       "        text-align: right;\n",
       "    }\n",
       "</style>\n",
       "<table border=\"1\" class=\"dataframe\">\n",
       "  <thead>\n",
       "    <tr style=\"text-align: right;\">\n",
       "      <th></th>\n",
       "      <th>product_id</th>\n",
       "      <th>onsale_web</th>\n",
       "      <th>price</th>\n",
       "      <th>stock_quantity</th>\n",
       "      <th>stock_status</th>\n",
       "      <th>purchase_price</th>\n",
       "      <th>stock_status_2</th>\n",
       "    </tr>\n",
       "  </thead>\n",
       "  <tbody>\n",
       "    <tr>\n",
       "      <th>4</th>\n",
       "      <td>4039</td>\n",
       "      <td>1</td>\n",
       "      <td>46.0</td>\n",
       "      <td>3</td>\n",
       "      <td>outofstock</td>\n",
       "      <td>23.77</td>\n",
       "      <td>instock</td>\n",
       "    </tr>\n",
       "    <tr>\n",
       "      <th>398</th>\n",
       "      <td>4885</td>\n",
       "      <td>1</td>\n",
       "      <td>18.7</td>\n",
       "      <td>0</td>\n",
       "      <td>instock</td>\n",
       "      <td>9.66</td>\n",
       "      <td>outofstock</td>\n",
       "    </tr>\n",
       "    <tr>\n",
       "      <th>449</th>\n",
       "      <td>4973</td>\n",
       "      <td>0</td>\n",
       "      <td>10.0</td>\n",
       "      <td>0</td>\n",
       "      <td>outofstock</td>\n",
       "      <td>4.96</td>\n",
       "      <td>instock</td>\n",
       "    </tr>\n",
       "    <tr>\n",
       "      <th>573</th>\n",
       "      <td>5700</td>\n",
       "      <td>1</td>\n",
       "      <td>44.5</td>\n",
       "      <td>0</td>\n",
       "      <td>outofstock</td>\n",
       "      <td>22.30</td>\n",
       "      <td>instock</td>\n",
       "    </tr>\n",
       "  </tbody>\n",
       "</table>\n",
       "</div>"
      ],
      "text/plain": [
       "     product_id  onsale_web  price  stock_quantity stock_status  \\\n",
       "4          4039           1   46.0               3   outofstock   \n",
       "398        4885           1   18.7               0      instock   \n",
       "449        4973           0   10.0               0   outofstock   \n",
       "573        5700           1   44.5               0   outofstock   \n",
       "\n",
       "     purchase_price stock_status_2  \n",
       "4             23.77        instock  \n",
       "398            9.66     outofstock  \n",
       "449            4.96        instock  \n",
       "573           22.30        instock  "
      ]
     },
     "execution_count": 19,
     "metadata": {},
     "output_type": "execute_result"
    }
   ],
   "source": [
    "#Corriger la ou les données incohérentes\n",
    "df_erp.loc[df_erp['stock_quantity'] <  0, \"stock_quantity\"] = 0\n",
    "#Vérification en utilisant le même code que plus haut pour afficher les problèmes\n",
    "df_erp[df_erp[\"stock_status\"] != df_erp[\"stock_status_2\"]]"
   ]
  },
  {
   "cell_type": "markdown",
   "id": "154003df-bee9-4cec-ba9c-de0b102920c5",
   "metadata": {},
   "source": [
    "**Je fais le choix de remplacer les 2 valeurs négatives par 0**"
   ]
  },
  {
   "cell_type": "code",
   "execution_count": 20,
   "id": "7e0c2347-2d9f-4f20-90a3-b7cfb674bc21",
   "metadata": {},
   "outputs": [
    {
     "data": {
      "text/html": [
       "<div>\n",
       "<style scoped>\n",
       "    .dataframe tbody tr th:only-of-type {\n",
       "        vertical-align: middle;\n",
       "    }\n",
       "\n",
       "    .dataframe tbody tr th {\n",
       "        vertical-align: top;\n",
       "    }\n",
       "\n",
       "    .dataframe thead th {\n",
       "        text-align: right;\n",
       "    }\n",
       "</style>\n",
       "<table border=\"1\" class=\"dataframe\">\n",
       "  <thead>\n",
       "    <tr style=\"text-align: right;\">\n",
       "      <th></th>\n",
       "      <th>product_id</th>\n",
       "      <th>onsale_web</th>\n",
       "      <th>price</th>\n",
       "      <th>stock_quantity</th>\n",
       "      <th>stock_status</th>\n",
       "      <th>purchase_price</th>\n",
       "      <th>stock_status_2</th>\n",
       "    </tr>\n",
       "  </thead>\n",
       "  <tbody>\n",
       "    <tr>\n",
       "      <th>4</th>\n",
       "      <td>4039</td>\n",
       "      <td>1</td>\n",
       "      <td>46.0</td>\n",
       "      <td>3</td>\n",
       "      <td>outofstock</td>\n",
       "      <td>23.77</td>\n",
       "      <td>instock</td>\n",
       "    </tr>\n",
       "    <tr>\n",
       "      <th>398</th>\n",
       "      <td>4885</td>\n",
       "      <td>1</td>\n",
       "      <td>18.7</td>\n",
       "      <td>0</td>\n",
       "      <td>instock</td>\n",
       "      <td>9.66</td>\n",
       "      <td>outofstock</td>\n",
       "    </tr>\n",
       "  </tbody>\n",
       "</table>\n",
       "</div>"
      ],
      "text/plain": [
       "     product_id  onsale_web  price  stock_quantity stock_status  \\\n",
       "4          4039           1   46.0               3   outofstock   \n",
       "398        4885           1   18.7               0      instock   \n",
       "\n",
       "     purchase_price stock_status_2  \n",
       "4             23.77        instock  \n",
       "398            9.66     outofstock  "
      ]
     },
     "execution_count": 20,
     "metadata": {},
     "output_type": "execute_result"
    }
   ],
   "source": [
    "# Je recréé la colonne \"stock_status_2\" pour s'adapter au nouveau changement\n",
    "df_erp[\"stock_status_2\"] = np.where(df_erp['stock_quantity']==0, 'outofstock', 'instock')\n",
    "df_erp[df_erp[\"stock_status\"] != df_erp[\"stock_status_2\"]]"
   ]
  },
  {
   "cell_type": "markdown",
   "id": "f15f6326-8517-4a83-aaf8-a29406967081",
   "metadata": {},
   "source": [
    "**Je décide de remplacer les valeurs négatives par 0, mon choix étant appuyé par la valeur 'outofstock' dans la colonne \"stock_status\". Je relance pour finir la colonne \"stock_status_2\" pour qu'elle s'adapte à ce changement.  \n",
    "Il n'ya pas de doublons pour la clé \"product_id\", et pas de valeurs manquantes dans le DataFrame.**"
   ]
  },
  {
   "cell_type": "markdown",
   "id": "08bd4b08",
   "metadata": {},
   "source": [
    "<div style=\"border: 1px solid RGB(51,165,182);\" >\n",
    "<h3 style=\"margin: auto; padding: 20px; color: RGB(51,165,182); \">2.1.1 - Analyse exploratoire de chaque variable du fichier erp.xlsx</h3>\n",
    "</div>"
   ]
  },
  {
   "cell_type": "markdown",
   "id": "3476df40",
   "metadata": {},
   "source": [
    "<div style=\"border: 1px solid RGB(51,165,182);\" >\n",
    "<h3 style=\"margin: auto; padding: 20px; color: RGB(51,165,182); \">2.1.1.1 - Analyse de la variable PRIX</h3>\n",
    "</div>"
   ]
  },
  {
   "cell_type": "code",
   "execution_count": 21,
   "id": "a7fc3384",
   "metadata": {},
   "outputs": [
    {
     "name": "stdout",
     "output_type": "stream",
     "text": [
      "Nombres d'articles avec un prix non renseigné: 0\n"
     ]
    }
   ],
   "source": [
    "###############\n",
    "## LES PRIX  ##\n",
    "###############\n",
    "#Vérification des prix: Y a t-il des prix non renseignés?\n",
    "valeurs_manquantes_prix = df_erp['price'].isna().sum()\n",
    "#Afficher le ou les prix non renseignés dans la colonne \"price\"\n",
    "print(\"Nombres d'articles avec un prix non renseigné: {}\".format(valeurs_manquantes_prix))"
   ]
  },
  {
   "cell_type": "code",
   "execution_count": 22,
   "id": "e1cfa134-e6e7-49b6-851f-fa7e6d91d6f0",
   "metadata": {},
   "outputs": [
    {
     "data": {
      "text/html": [
       "<div>\n",
       "<style scoped>\n",
       "    .dataframe tbody tr th:only-of-type {\n",
       "        vertical-align: middle;\n",
       "    }\n",
       "\n",
       "    .dataframe tbody tr th {\n",
       "        vertical-align: top;\n",
       "    }\n",
       "\n",
       "    .dataframe thead th {\n",
       "        text-align: right;\n",
       "    }\n",
       "</style>\n",
       "<table border=\"1\" class=\"dataframe\">\n",
       "  <thead>\n",
       "    <tr style=\"text-align: right;\">\n",
       "      <th></th>\n",
       "      <th>product_id</th>\n",
       "      <th>onsale_web</th>\n",
       "      <th>price</th>\n",
       "      <th>stock_quantity</th>\n",
       "      <th>stock_status</th>\n",
       "      <th>purchase_price</th>\n",
       "      <th>stock_status_2</th>\n",
       "    </tr>\n",
       "  </thead>\n",
       "  <tbody>\n",
       "    <tr>\n",
       "      <th>151</th>\n",
       "      <td>4233</td>\n",
       "      <td>0</td>\n",
       "      <td>-20.0</td>\n",
       "      <td>0</td>\n",
       "      <td>outofstock</td>\n",
       "      <td>10.33</td>\n",
       "      <td>outofstock</td>\n",
       "    </tr>\n",
       "    <tr>\n",
       "      <th>469</th>\n",
       "      <td>5017</td>\n",
       "      <td>0</td>\n",
       "      <td>-8.0</td>\n",
       "      <td>0</td>\n",
       "      <td>outofstock</td>\n",
       "      <td>4.34</td>\n",
       "      <td>outofstock</td>\n",
       "    </tr>\n",
       "    <tr>\n",
       "      <th>739</th>\n",
       "      <td>6594</td>\n",
       "      <td>0</td>\n",
       "      <td>-9.1</td>\n",
       "      <td>19</td>\n",
       "      <td>instock</td>\n",
       "      <td>4.61</td>\n",
       "      <td>instock</td>\n",
       "    </tr>\n",
       "  </tbody>\n",
       "</table>\n",
       "</div>"
      ],
      "text/plain": [
       "     product_id  onsale_web  price  stock_quantity stock_status  \\\n",
       "151        4233           0  -20.0               0   outofstock   \n",
       "469        5017           0   -8.0               0   outofstock   \n",
       "739        6594           0   -9.1              19      instock   \n",
       "\n",
       "     purchase_price stock_status_2  \n",
       "151           10.33     outofstock  \n",
       "469            4.34     outofstock  \n",
       "739            4.61        instock  "
      ]
     },
     "execution_count": 22,
     "metadata": {},
     "output_type": "execute_result"
    }
   ],
   "source": [
    "#Vérification des prix: Y a t-il des prix  négatifs ou nuls?\n",
    "df_erp_err_val = df_erp[df_erp['price'] <= 0]\n",
    "df_erp_err_val"
   ]
  },
  {
   "cell_type": "code",
   "execution_count": 23,
   "id": "46301f1f-ee3d-4267-9b3c-0a9b39424ae4",
   "metadata": {},
   "outputs": [
    {
     "name": "stdout",
     "output_type": "stream",
     "text": [
      "prix minimum de la colonne 'price': -20.0\n",
      "prix minimum de la colonne 'price': 225.0\n"
     ]
    }
   ],
   "source": [
    "#Afficher le prix minimum de la colonne \"price\"\n",
    "print(\"prix minimum de la colonne 'price': {}\".format(df_erp['price'].min()))\n",
    "#Afficher le prix maximum de la colonne \"price\"\n",
    "print(\"prix minimum de la colonne 'price': {}\".format(df_erp['price'].max()))"
   ]
  },
  {
   "cell_type": "code",
   "execution_count": 24,
   "id": "ff968fc2-d070-4981-8c7e-f2a7cdd67614",
   "metadata": {},
   "outputs": [
    {
     "name": "stdout",
     "output_type": "stream",
     "text": [
      "Différents prix inférieurs à 0 :\n",
      " -20.0\n",
      " -8.0\n",
      " -9.1\n"
     ]
    }
   ],
   "source": [
    "#Afficher les prix inférieurs à 0 (qu'est-ce qu'il faut en faire ?)\n",
    "print(\"Différents prix inférieurs à 0 :\")\n",
    "for p in df_erp_err_val['price']:\n",
    "    print(f\" {p}\")"
   ]
  },
  {
   "cell_type": "code",
   "execution_count": 25,
   "id": "5a63c0de-74d3-4f7e-91a8-f9d71a76be32",
   "metadata": {},
   "outputs": [
    {
     "data": {
      "text/html": [
       "<div>\n",
       "<style scoped>\n",
       "    .dataframe tbody tr th:only-of-type {\n",
       "        vertical-align: middle;\n",
       "    }\n",
       "\n",
       "    .dataframe tbody tr th {\n",
       "        vertical-align: top;\n",
       "    }\n",
       "\n",
       "    .dataframe thead th {\n",
       "        text-align: right;\n",
       "    }\n",
       "</style>\n",
       "<table border=\"1\" class=\"dataframe\">\n",
       "  <thead>\n",
       "    <tr style=\"text-align: right;\">\n",
       "      <th></th>\n",
       "      <th>product_id</th>\n",
       "      <th>onsale_web</th>\n",
       "      <th>price</th>\n",
       "      <th>stock_quantity</th>\n",
       "      <th>stock_status</th>\n",
       "      <th>purchase_price</th>\n",
       "      <th>stock_status_2</th>\n",
       "    </tr>\n",
       "  </thead>\n",
       "  <tbody>\n",
       "    <tr>\n",
       "      <th>151</th>\n",
       "      <td>4233</td>\n",
       "      <td>0</td>\n",
       "      <td>20.0</td>\n",
       "      <td>0</td>\n",
       "      <td>outofstock</td>\n",
       "      <td>10.33</td>\n",
       "      <td>outofstock</td>\n",
       "    </tr>\n",
       "    <tr>\n",
       "      <th>469</th>\n",
       "      <td>5017</td>\n",
       "      <td>0</td>\n",
       "      <td>8.0</td>\n",
       "      <td>0</td>\n",
       "      <td>outofstock</td>\n",
       "      <td>4.34</td>\n",
       "      <td>outofstock</td>\n",
       "    </tr>\n",
       "    <tr>\n",
       "      <th>739</th>\n",
       "      <td>6594</td>\n",
       "      <td>0</td>\n",
       "      <td>9.1</td>\n",
       "      <td>19</td>\n",
       "      <td>instock</td>\n",
       "      <td>4.61</td>\n",
       "      <td>instock</td>\n",
       "    </tr>\n",
       "  </tbody>\n",
       "</table>\n",
       "</div>"
      ],
      "text/plain": [
       "     product_id  onsale_web  price  stock_quantity stock_status  \\\n",
       "151        4233           0   20.0               0   outofstock   \n",
       "469        5017           0    8.0               0   outofstock   \n",
       "739        6594           0    9.1              19      instock   \n",
       "\n",
       "     purchase_price stock_status_2  \n",
       "151           10.33     outofstock  \n",
       "469            4.34     outofstock  \n",
       "739            4.61        instock  "
      ]
     },
     "execution_count": 25,
     "metadata": {},
     "output_type": "execute_result"
    }
   ],
   "source": [
    "#Transformation des valeurs négatives en positives\n",
    "df_erp.loc[df_erp['price']<0, \"price\"] = df_erp.loc[df_erp['price']<0, \"price\"].abs()\n",
    "df_erp.loc[[151, 469, 739]]"
   ]
  },
  {
   "cell_type": "markdown",
   "id": "76a1230e-4412-4e18-a7fb-041172811ce0",
   "metadata": {},
   "source": [
    "**Je fais le choix de transformer les valeurs négatives en valeurs positives pour les prix.  \n",
    "Il n'y a pas de valeurs manquantes pour cette variable.**"
   ]
  },
  {
   "cell_type": "markdown",
   "id": "c5fce58c",
   "metadata": {},
   "source": [
    "<div style=\"border: 1px solid RGB(51,165,182);\" >\n",
    "<h3 style=\"margin: auto; padding: 20px; color: RGB(51,165,182); \">2.1.1.2 - Analyse de la variable STOCK</h3>\n",
    "</div>"
   ]
  },
  {
   "cell_type": "code",
   "execution_count": 26,
   "id": "e5e9e1bc-2cb6-4158-9025-c2275d0f322d",
   "metadata": {},
   "outputs": [
    {
     "name": "stdout",
     "output_type": "stream",
     "text": [
      "0\n"
     ]
    }
   ],
   "source": [
    "#######################\n",
    "### stock_quantity  ###\n",
    "#######################\n",
    "\n",
    "#Afficher la quantité minimum de la colonne \"stock_quantity\"\n",
    "print(df_erp['stock_quantity'].min())"
   ]
  },
  {
   "cell_type": "code",
   "execution_count": 27,
   "id": "824ed02c-5bec-46b8-becb-828fb592417e",
   "metadata": {},
   "outputs": [
    {
     "name": "stdout",
     "output_type": "stream",
     "text": [
      "145\n"
     ]
    }
   ],
   "source": [
    "#Afficher la quantité maximum de la colonne \"stock_quantity\"\n",
    "print(df_erp['stock_quantity'].max())"
   ]
  },
  {
   "cell_type": "code",
   "execution_count": 28,
   "id": "3d14c4a0",
   "metadata": {},
   "outputs": [
    {
     "data": {
      "text/html": [
       "<div>\n",
       "<style scoped>\n",
       "    .dataframe tbody tr th:only-of-type {\n",
       "        vertical-align: middle;\n",
       "    }\n",
       "\n",
       "    .dataframe tbody tr th {\n",
       "        vertical-align: top;\n",
       "    }\n",
       "\n",
       "    .dataframe thead th {\n",
       "        text-align: right;\n",
       "    }\n",
       "</style>\n",
       "<table border=\"1\" class=\"dataframe\">\n",
       "  <thead>\n",
       "    <tr style=\"text-align: right;\">\n",
       "      <th></th>\n",
       "      <th>product_id</th>\n",
       "      <th>onsale_web</th>\n",
       "      <th>price</th>\n",
       "      <th>stock_quantity</th>\n",
       "      <th>stock_status</th>\n",
       "      <th>purchase_price</th>\n",
       "      <th>stock_status_2</th>\n",
       "    </tr>\n",
       "  </thead>\n",
       "  <tbody>\n",
       "  </tbody>\n",
       "</table>\n",
       "</div>"
      ],
      "text/plain": [
       "Empty DataFrame\n",
       "Columns: [product_id, onsale_web, price, stock_quantity, stock_status, purchase_price, stock_status_2]\n",
       "Index: []"
      ]
     },
     "execution_count": 28,
     "metadata": {},
     "output_type": "execute_result"
    }
   ],
   "source": [
    "#Afficher les stocks inférieurs à 0 (qu'est-ce qu'il faut en faire ?)\n",
    "df_erp[df_erp['stock_quantity']<0]"
   ]
  },
  {
   "cell_type": "markdown",
   "id": "17b5a5cf-a9a0-4fe3-be2a-84e03d84103a",
   "metadata": {},
   "source": [
    "**Je note que aucune ligne (donc un produit précis) ne correspond à une valeur négative, ce qui est rassurant.**"
   ]
  },
  {
   "cell_type": "markdown",
   "id": "dc134ae2-cc7b-46d8-a7b2-c87df3d5e87f",
   "metadata": {},
   "source": [
    "<div style=\"border: 1px solid RGB(51,165,182);\" >\n",
    "<h3 style=\"margin: auto; padding: 20px; color: RGB(51,165,182); \">2.1.1.3 - Analyse de la variable ONSALE_WEB</h3>\n",
    "</div>"
   ]
  },
  {
   "cell_type": "code",
   "execution_count": 29,
   "id": "99b936ca",
   "metadata": {},
   "outputs": [
    {
     "data": {
      "text/plain": [
       "onsale_web\n",
       "1    716\n",
       "0    109\n",
       "Name: count, dtype: int64"
      ]
     },
     "execution_count": 29,
     "metadata": {},
     "output_type": "execute_result"
    }
   ],
   "source": [
    "#Vérification de la colonne onsale_web et des valeurs qu'elle contient. Que signifient-elles?\n",
    "df_erp['onsale_web'].value_counts()"
   ]
  },
  {
   "cell_type": "code",
   "execution_count": 30,
   "id": "8491eea1-82cd-4014-867a-b18af669f175",
   "metadata": {},
   "outputs": [
    {
     "data": {
      "text/plain": [
       "44"
      ]
     },
     "execution_count": 30,
     "metadata": {},
     "output_type": "execute_result"
    }
   ],
   "source": [
    "onsale_stock_commun = df_erp[(df_erp['onsale_web'] == 0) & (df_erp['stock_quantity'] == 0)]\n",
    "len(onsale_stock_commun)"
   ]
  },
  {
   "cell_type": "markdown",
   "id": "29ca1759-256c-4db3-9f4c-ddb706f262fd",
   "metadata": {},
   "source": [
    "**Je fais la supposition que \"on_sale\" correspond au fait que le produit est achetable depuis le site**"
   ]
  },
  {
   "cell_type": "code",
   "execution_count": 31,
   "id": "8053aeda",
   "metadata": {},
   "outputs": [
    {
     "data": {
      "text/html": [
       "<div>\n",
       "<style scoped>\n",
       "    .dataframe tbody tr th:only-of-type {\n",
       "        vertical-align: middle;\n",
       "    }\n",
       "\n",
       "    .dataframe tbody tr th {\n",
       "        vertical-align: top;\n",
       "    }\n",
       "\n",
       "    .dataframe thead th {\n",
       "        text-align: right;\n",
       "    }\n",
       "</style>\n",
       "<table border=\"1\" class=\"dataframe\">\n",
       "  <thead>\n",
       "    <tr style=\"text-align: right;\">\n",
       "      <th></th>\n",
       "      <th>product_id</th>\n",
       "      <th>onsale_web</th>\n",
       "      <th>price</th>\n",
       "      <th>stock_quantity</th>\n",
       "      <th>stock_status</th>\n",
       "      <th>purchase_price</th>\n",
       "    </tr>\n",
       "  </thead>\n",
       "  <tbody>\n",
       "    <tr>\n",
       "      <th>0</th>\n",
       "      <td>3847</td>\n",
       "      <td>1</td>\n",
       "      <td>24.2</td>\n",
       "      <td>16</td>\n",
       "      <td>instock</td>\n",
       "      <td>12.88</td>\n",
       "    </tr>\n",
       "    <tr>\n",
       "      <th>1</th>\n",
       "      <td>3849</td>\n",
       "      <td>1</td>\n",
       "      <td>34.3</td>\n",
       "      <td>10</td>\n",
       "      <td>instock</td>\n",
       "      <td>17.54</td>\n",
       "    </tr>\n",
       "    <tr>\n",
       "      <th>2</th>\n",
       "      <td>3850</td>\n",
       "      <td>1</td>\n",
       "      <td>20.8</td>\n",
       "      <td>0</td>\n",
       "      <td>outofstock</td>\n",
       "      <td>10.64</td>\n",
       "    </tr>\n",
       "    <tr>\n",
       "      <th>3</th>\n",
       "      <td>4032</td>\n",
       "      <td>1</td>\n",
       "      <td>14.1</td>\n",
       "      <td>26</td>\n",
       "      <td>instock</td>\n",
       "      <td>6.92</td>\n",
       "    </tr>\n",
       "    <tr>\n",
       "      <th>4</th>\n",
       "      <td>4039</td>\n",
       "      <td>1</td>\n",
       "      <td>46.0</td>\n",
       "      <td>3</td>\n",
       "      <td>instock</td>\n",
       "      <td>23.77</td>\n",
       "    </tr>\n",
       "    <tr>\n",
       "      <th>...</th>\n",
       "      <td>...</td>\n",
       "      <td>...</td>\n",
       "      <td>...</td>\n",
       "      <td>...</td>\n",
       "      <td>...</td>\n",
       "      <td>...</td>\n",
       "    </tr>\n",
       "    <tr>\n",
       "      <th>820</th>\n",
       "      <td>7203</td>\n",
       "      <td>0</td>\n",
       "      <td>45.0</td>\n",
       "      <td>30</td>\n",
       "      <td>instock</td>\n",
       "      <td>23.48</td>\n",
       "    </tr>\n",
       "    <tr>\n",
       "      <th>821</th>\n",
       "      <td>7204</td>\n",
       "      <td>0</td>\n",
       "      <td>45.0</td>\n",
       "      <td>9</td>\n",
       "      <td>instock</td>\n",
       "      <td>24.18</td>\n",
       "    </tr>\n",
       "    <tr>\n",
       "      <th>822</th>\n",
       "      <td>7247</td>\n",
       "      <td>1</td>\n",
       "      <td>54.8</td>\n",
       "      <td>6</td>\n",
       "      <td>instock</td>\n",
       "      <td>27.18</td>\n",
       "    </tr>\n",
       "    <tr>\n",
       "      <th>823</th>\n",
       "      <td>7329</td>\n",
       "      <td>0</td>\n",
       "      <td>26.5</td>\n",
       "      <td>14</td>\n",
       "      <td>instock</td>\n",
       "      <td>13.42</td>\n",
       "    </tr>\n",
       "    <tr>\n",
       "      <th>824</th>\n",
       "      <td>7338</td>\n",
       "      <td>1</td>\n",
       "      <td>16.3</td>\n",
       "      <td>40</td>\n",
       "      <td>instock</td>\n",
       "      <td>8.00</td>\n",
       "    </tr>\n",
       "  </tbody>\n",
       "</table>\n",
       "<p>825 rows × 6 columns</p>\n",
       "</div>"
      ],
      "text/plain": [
       "     product_id  onsale_web  price  stock_quantity stock_status  \\\n",
       "0          3847           1   24.2              16      instock   \n",
       "1          3849           1   34.3              10      instock   \n",
       "2          3850           1   20.8               0   outofstock   \n",
       "3          4032           1   14.1              26      instock   \n",
       "4          4039           1   46.0               3      instock   \n",
       "..          ...         ...    ...             ...          ...   \n",
       "820        7203           0   45.0              30      instock   \n",
       "821        7204           0   45.0               9      instock   \n",
       "822        7247           1   54.8               6      instock   \n",
       "823        7329           0   26.5              14      instock   \n",
       "824        7338           1   16.3              40      instock   \n",
       "\n",
       "     purchase_price  \n",
       "0             12.88  \n",
       "1             17.54  \n",
       "2             10.64  \n",
       "3              6.92  \n",
       "4             23.77  \n",
       "..              ...  \n",
       "820           23.48  \n",
       "821           24.18  \n",
       "822           27.18  \n",
       "823           13.42  \n",
       "824            8.00  \n",
       "\n",
       "[825 rows x 6 columns]"
      ]
     },
     "execution_count": 31,
     "metadata": {},
     "output_type": "execute_result"
    }
   ],
   "source": [
    "#Quelles sont les colonnes à conserver selon vous?\n",
    "#Supprimer la colonne comportant le libellé \"stock_status_2\" car elle est redondante \n",
    "#avec la colonne \"stock_status\".\n",
    "df_erp[\"stock_status\"] = df_erp[\"stock_status_2\"]\n",
    "df_erp.drop(\"stock_status_2\", axis=1, inplace = True)\n",
    "df_erp"
   ]
  },
  {
   "cell_type": "markdown",
   "id": "da2e3150-b13b-417c-9a98-062396b64cdc",
   "metadata": {},
   "source": [
    "**Je remplace le contenu de \"stock_status\" par \"stock_status_2\", car cette dernière correspond mieux à \"stock_quantity\" suite au traitement fait auparavant.  \n",
    "Enfin, je supprime \"stock_status_2\" pour ne pas faire de redondance.**"
   ]
  },
  {
   "cell_type": "markdown",
   "id": "eca4fce9",
   "metadata": {},
   "source": [
    "<div style=\"border: 1px solid RGB(51,165,182);\" >\n",
    "<h3 style=\"margin: auto; padding: 20px; color: RGB(51,165,182); \">2.1.1.4 - Analyse de la variable prix d'achat</h3>\n",
    "</div>"
   ]
  },
  {
   "cell_type": "code",
   "execution_count": 32,
   "id": "59f93a82-9778-4e13-9c8d-fc34d8a0582c",
   "metadata": {},
   "outputs": [
    {
     "name": "stdout",
     "output_type": "stream",
     "text": [
      "Nombre de valeurs manquantes dans la colonne 'purchase_price' : 0\n"
     ]
    }
   ],
   "source": [
    "######################\n",
    "##   prix d'achat   ##\n",
    "######################\n",
    "\n",
    "#Vérification de la colonne purchase_price : \n",
    "#Afficher le ou les prix non renseignés dans la colonne \"purchase_price\"\n",
    "print(\"Nombre de valeurs manquantes dans la colonne 'purchase_price' :\", df_erp['purchase_price'].isna().sum())"
   ]
  },
  {
   "cell_type": "code",
   "execution_count": 33,
   "id": "6b85ba0d",
   "metadata": {},
   "outputs": [
    {
     "name": "stdout",
     "output_type": "stream",
     "text": [
      "Valeur minimale de 'purchase_price' : 2.74\n"
     ]
    }
   ],
   "source": [
    "#Afficher le prix minimum de la colonne \"purchase_price\"\n",
    "print(\"Valeur minimale de 'purchase_price' :\",df_erp['purchase_price'].min())"
   ]
  },
  {
   "cell_type": "code",
   "execution_count": 34,
   "id": "6a2be271-7449-4640-a47e-bba048bf374c",
   "metadata": {},
   "outputs": [
    {
     "name": "stdout",
     "output_type": "stream",
     "text": [
      "Valeur maximale de 'purchase_price' : 137.81\n"
     ]
    }
   ],
   "source": [
    "#Afficher le prix maximum de la colonne \"purchase_price\"\n",
    "print(\"Valeur maximale de 'purchase_price' :\",df_erp['purchase_price'].max())"
   ]
  },
  {
   "cell_type": "markdown",
   "id": "f61b5e6e-1401-4f5e-a955-79868dbbf659",
   "metadata": {},
   "source": [
    "**La variable 'prix d'achat' n'a pas de valeurs manquantes.**"
   ]
  },
  {
   "cell_type": "markdown",
   "id": "a550f996",
   "metadata": {},
   "source": [
    "<div style=\"border: 1px solid RGB(51,165,182);\" >\n",
    "<h3 style=\"margin: auto; padding: 20px; color: RGB(51,165,182); \">2.2 - Analyse exploratoire du fichier web.xlsx</h3>\n",
    "</div>\n",
    " "
   ]
  },
  {
   "cell_type": "code",
   "execution_count": 35,
   "id": "04f66e39-737d-403d-80a3-cd92f99b153e",
   "metadata": {},
   "outputs": [
    {
     "data": {
      "text/plain": [
       "(1513, 29)"
      ]
     },
     "execution_count": 35,
     "metadata": {},
     "output_type": "execute_result"
    }
   ],
   "source": [
    "#Dimension du dataset\n",
    "df_web.shape"
   ]
  },
  {
   "cell_type": "code",
   "execution_count": 36,
   "id": "bb7e292c",
   "metadata": {},
   "outputs": [
    {
     "name": "stdout",
     "output_type": "stream",
     "text": [
      "Nombre d'observations (lignes) : 1513\n"
     ]
    }
   ],
   "source": [
    "#Nombre d'observations\n",
    "print(f\"Nombre d'observations (lignes) : {df_web.shape[0]}\")"
   ]
  },
  {
   "cell_type": "code",
   "execution_count": 37,
   "id": "dec7966b-2e23-40f9-bfae-7cc6f6b1f635",
   "metadata": {},
   "outputs": [
    {
     "name": "stdout",
     "output_type": "stream",
     "text": [
      "Nombre de caractéristiques (colonnes) : 29\n"
     ]
    }
   ],
   "source": [
    "#Nombre de caractéristiques\n",
    "print(f\"Nombre de caractéristiques (colonnes) : {df_web.shape[1]}\")"
   ]
  },
  {
   "cell_type": "code",
   "execution_count": 38,
   "id": "0b70a8da",
   "metadata": {},
   "outputs": [
    {
     "data": {
      "text/plain": [
       "sku                              object\n",
       "virtual                           int64\n",
       "downloadable                      int64\n",
       "rating_count                      int64\n",
       "average_rating                  float64\n",
       "total_sales                     float64\n",
       "tax_status                       object\n",
       "tax_class                       float64\n",
       "post_author                     float64\n",
       "post_date                datetime64[ns]\n",
       "post_date_gmt            datetime64[ns]\n",
       "post_content                    float64\n",
       "product_type                     object\n",
       "post_title                       object\n",
       "post_excerpt                     object\n",
       "post_status                      object\n",
       "comment_status                   object\n",
       "ping_status                      object\n",
       "post_password                   float64\n",
       "post_name                        object\n",
       "post_modified            datetime64[ns]\n",
       "post_modified_gmt        datetime64[ns]\n",
       "post_content_filtered           float64\n",
       "post_parent                     float64\n",
       "guid                             object\n",
       "menu_order                      float64\n",
       "post_type                        object\n",
       "post_mime_type                   object\n",
       "comment_count                   float64\n",
       "dtype: object"
      ]
     },
     "execution_count": 38,
     "metadata": {},
     "output_type": "execute_result"
    }
   ],
   "source": [
    "#La nature des données dans chacune des colonnes\n",
    "df_web.dtypes"
   ]
  },
  {
   "cell_type": "code",
   "execution_count": 39,
   "id": "23567c98-8872-498c-a746-fd436a212eac",
   "metadata": {},
   "outputs": [
    {
     "data": {
      "text/plain": [
       "sku                      1428\n",
       "virtual                  1513\n",
       "downloadable             1513\n",
       "rating_count             1513\n",
       "average_rating           1430\n",
       "total_sales              1430\n",
       "tax_status                716\n",
       "tax_class                   0\n",
       "post_author              1430\n",
       "post_date                1430\n",
       "post_date_gmt            1430\n",
       "post_content                0\n",
       "product_type             1429\n",
       "post_title               1430\n",
       "post_excerpt              716\n",
       "post_status              1430\n",
       "comment_status           1430\n",
       "ping_status              1430\n",
       "post_password               0\n",
       "post_name                1430\n",
       "post_modified            1430\n",
       "post_modified_gmt        1430\n",
       "post_content_filtered       0\n",
       "post_parent              1430\n",
       "guid                     1430\n",
       "menu_order               1430\n",
       "post_type                1430\n",
       "post_mime_type            714\n",
       "comment_count            1430\n",
       "dtype: int64"
      ]
     },
     "execution_count": 39,
     "metadata": {},
     "output_type": "execute_result"
    }
   ],
   "source": [
    "#Le nombre de valeurs présentes dans chacune des colonnes\n",
    "df_web.count()"
   ]
  },
  {
   "cell_type": "code",
   "execution_count": 40,
   "id": "dd810a0a-2c8d-4f23-a971-026016d1d50d",
   "metadata": {},
   "outputs": [
    {
     "data": {
      "text/plain": [
       "sku                        85\n",
       "virtual                     0\n",
       "downloadable                0\n",
       "rating_count                0\n",
       "average_rating             83\n",
       "total_sales                83\n",
       "tax_status                797\n",
       "tax_class                1513\n",
       "post_author                83\n",
       "post_date                  83\n",
       "post_date_gmt              83\n",
       "post_content             1513\n",
       "product_type               84\n",
       "post_title                 83\n",
       "post_excerpt              797\n",
       "post_status                83\n",
       "comment_status             83\n",
       "ping_status                83\n",
       "post_password            1513\n",
       "post_name                  83\n",
       "post_modified              83\n",
       "post_modified_gmt          83\n",
       "post_content_filtered    1513\n",
       "post_parent                83\n",
       "guid                       83\n",
       "menu_order                 83\n",
       "post_type                  83\n",
       "post_mime_type            799\n",
       "comment_count              83\n",
       "dtype: int64"
      ]
     },
     "execution_count": 40,
     "metadata": {},
     "output_type": "execute_result"
    }
   ],
   "source": [
    "#Le nombre de valeurs manquantes dans chacune des colonnes\n",
    "df_web.isna().sum()"
   ]
  },
  {
   "cell_type": "code",
   "execution_count": 41,
   "id": "b0d2f149",
   "metadata": {},
   "outputs": [
    {
     "data": {
      "text/plain": [
       "virtual           1\n",
       "downloadable      1\n",
       "rating_count      1\n",
       "average_rating    1\n",
       "tax_status        1\n",
       "post_status       1\n",
       "comment_status    1\n",
       "ping_status       1\n",
       "post_parent       1\n",
       "menu_order        1\n",
       "post_mime_type    1\n",
       "comment_count     1\n",
       "dtype: int64"
      ]
     },
     "execution_count": 41,
     "metadata": {},
     "output_type": "execute_result"
    }
   ],
   "source": [
    "#Selon vous, quelles sont les colonnes à conserver ?\n",
    "compte_valeurs = df_web.nunique(dropna = True)\n",
    "valeurs_uniques = compte_valeurs[compte_valeurs == 1]\n",
    "valeurs_uniques"
   ]
  },
  {
   "cell_type": "code",
   "execution_count": 42,
   "id": "e631ecc1-fdb0-430d-91ce-56704135af7b",
   "metadata": {},
   "outputs": [
    {
     "name": "stdout",
     "output_type": "stream",
     "text": [
      "Index(['tax_class', 'post_content', 'post_password', 'post_content_filtered'], dtype='object')\n"
     ]
    }
   ],
   "source": [
    "colonnes_vides = df_web.columns[df_web.isna().all()]\n",
    "print(colonnes_vides)"
   ]
  },
  {
   "cell_type": "markdown",
   "id": "b95162b3-23c4-4b98-8ea9-1db96df64508",
   "metadata": {},
   "source": [
    "**Je décide de supprimer les colonnes totalement vides, ou ne contenant qu'une valeur unique (car inexploitable).**"
   ]
  },
  {
   "cell_type": "code",
   "execution_count": 43,
   "id": "30b2196b",
   "metadata": {},
   "outputs": [
    {
     "data": {
      "text/plain": [
       "Index(['sku', 'total_sales', 'post_author', 'post_date', 'post_date_gmt',\n",
       "       'product_type', 'post_title', 'post_excerpt', 'post_name',\n",
       "       'post_modified', 'post_modified_gmt', 'guid', 'post_type'],\n",
       "      dtype='object')"
      ]
     },
     "execution_count": 43,
     "metadata": {},
     "output_type": "execute_result"
    }
   ],
   "source": [
    "#Je supprime les 16 colonnes concernées\n",
    "cols_to_drop = (\n",
    "    list(df_web.columns[1:5]) +\n",
    "    list(df_web.columns[6:8]) +\n",
    "    [df_web.columns[11]] +\n",
    "    list(df_web.columns[15:19]) +\n",
    "    list(df_web.columns[22:24]) +\n",
    "    [df_web.columns[25]] +\n",
    "    list(df_web.columns[27:29])\n",
    ")\n",
    "df_web = df_web.drop(cols_to_drop, axis=1)\n",
    "df_web.columns"
   ]
  },
  {
   "cell_type": "code",
   "execution_count": 44,
   "id": "1b965d06",
   "metadata": {},
   "outputs": [
    {
     "data": {
      "text/plain": [
       "array([11862, 16057, 14692, 16295, 15328, 15471, 16515, 16246, nan, 13572,\n",
       "       16513, 16585, 16269, 15526, 12869, 15575, 11586, 14338, 15425,\n",
       "       16560, 15361, 13809, 11587, 15022, 14323, 16342, 16029, 15475,\n",
       "       13754, 14680, 15875, 9636, 13849, 13662, 16564, 13557, 15429,\n",
       "       14712, 15032, 15481, 15448, 16580, 15441, 804, 15300, 13958, 16071,\n",
       "       15678, 13895, 15711, 12882, 16053, 13766, 16247, 12640, 15292,\n",
       "       15476, 15670, 16189, 16038, 14864, 16044, 15324, 15531, 15953,\n",
       "       15413, 15733, 14366, 15895, 15892, 16472, 15185, 16010, 15793,\n",
       "       15849, 12315, 15741, 15934, 15148, 15781, 15659, 15106, 15490,\n",
       "       14507, 14149, 16307, 13736, 14090, 16037, 15758, 14661, 12587,\n",
       "       15337, 15489, 15201, 16305, 16131, 13435, 15747, 12203, 14509,\n",
       "       14768, 16262, 14561, 16505, 15717, 16129, 13460, 15871, 15940,\n",
       "       11602, 13127, 13520, 15480, 13032, 15436, 15269, 15910, 19821,\n",
       "       16263, 15138, 15146, 15126, 15482, 16186, 13905, 16540, 15856,\n",
       "       15677, 14700, 15325, 19815, 3506, 16056, 14975, 15341, 15204,\n",
       "       15415, 16065, 15479, 16151, 15127, 15140, 15779, 15473, 15530,\n",
       "       14805, 14106, 9937, 15281, 16553, 15315, 15668, 13211, 15161,\n",
       "       11258, 16296, 12588, 15792, 15921, 15690, 15775, 15577, 15870, 802,\n",
       "       15163, 15707, 15561, 15539, 4679, 16320, 15923, 3509, 2534, 16238,\n",
       "       14819, 15705, 15254, 15554, 14451, 13215, 14302, 12476, 16274,\n",
       "       14696, 14573, 15343, 791, 14474, 12586, 15346, 15834, 15342, 15141,\n",
       "       15038, 14265, 15238, 16586, 13073, 15664, 14527, 14845, 13172,\n",
       "       13996, 15864, 15440, 15759, 15706, 11277, 15676, 15731, 16525,\n",
       "       15785, 14699, 16063, 15718, 14372, 15881, 793, 14775, 12771, 15426,\n",
       "       13291, 16023, 15713, 15675, 15282, 15927, 15351, 12791, '13127-1',\n",
       "       13853, 15613, 11849, 15478, 16121, 16237, 15461, 15745, 15621,\n",
       "       15683, 12639, 15466, 15184, 13078, 13904, 14828, 14000, 15612, 304,\n",
       "       15811, 15649, 14599, 15033, 13959, 15026, 16449, 15095, 15829,\n",
       "       13965, 16306, 16276, 15729, 15303, 14679, 15318, 13599, 15206,\n",
       "       19816, 16153, 16067, 15241, 14981, 16264, 14915, 15737, 16289,\n",
       "       15229, 7033, 15654, 15879, 16256, 15710, 16498, 15349, 11933,\n",
       "       16462, 14596, 15296, 16042, 15887, 15264, 15307, 15369, 14095,\n",
       "       15868, 14371, 12657, 15808, 15787, 13604, 15605, 15795, 15566,\n",
       "       16210, 15732, 15661, 13814, 16130, 16003, 14676, 13516, 14977,\n",
       "       14945, 12641, 14469, 15237, 14905, 15462, 16031, 16191, 3568,\n",
       "       15080, 15353, 15861, 16529, 16068, 16081, 14729, 16077, 15373,\n",
       "       11049, 16154, 14809, 15073, 15345, 15756, 13531, 15614, 7086,\n",
       "       15784, 14332, 14300, 14141, 15734, 15456, 805, 15766, 15667, 16152,\n",
       "       16318, 15360, 13517, 7819, 15740, 15930, 16155, 15339, 14950, 2179,\n",
       "       15688, 13982, 38, 15178, 16209, 14982, 8463, 13412, 15298, 15770,\n",
       "       15487, 15205, 13230, 14220, 15227, 16094, 15859, 15179, 14774,\n",
       "       14944, 16022, 15767, 15338, 13913, 14756, 15746, 16192, 15763,\n",
       "       12365, 9562, 16039, 16328, 15196, 531, 15810, 2361, 15402, 15945,\n",
       "       15807, 14506, 14100, 15075, 13765, 16093, 10814, 12942, 1366,\n",
       "       12857, 12045, 13515, 11601, 16148, 12339, 16567, 15240, 15414, 812,\n",
       "       16292, 11736, 15714, 15120, 13117, 3383, 15631, 15136, 15145,\n",
       "       13096, 15857, 14632, 11641, 15736, 15615, 15574, 16096, 15564,\n",
       "       15774, 14930, 15941, 16045, 16230, 14429, 15769, 16265, 14657,\n",
       "       15261, 16239, 15715, 13453, 16244, 15147, 16280, 14508, 15465,\n",
       "       3510, 14374, 15880, 13416, 15183, 15860, 11467, 11585, 14485,\n",
       "       16138, 19822, 15155, 11996, 14626, 16330, 15035, 15404, 8365, 3507,\n",
       "       14773, 15967, 15812, 16319, 16004, 15310, 16097, 14856, 15629,\n",
       "       1364, 15116, 14101, 14912, 15036, 16047, 14184, 14983, 16030,\n",
       "       16283, 16324, 15801, 10014, 12881, 15660, 16005, 15306, 16277,\n",
       "       15527, 15428, 13957, 15647, 12496, 15399, 13969, 15525, 13914,\n",
       "       12790, 15720, 13313, 15928, 15432, 15655, 16539, 12589, 15648,\n",
       "       16011, 16146, 15672, 15030, 15735, 14800, 16190, 13217, 13854,\n",
       "       16317, 16565, 15891, 15730, 16497, 16124, 10459, 19814, 15863,\n",
       "       15786, 15791, 16135, 16147, 16066, 15818, 15790, 8193, 16255,\n",
       "       15047, 15966, 14736, 16120, 16013, 798, 1662, 16416, 7032, 14581,\n",
       "       15783, 16144, 5646, 8344, 13514, 15848, 15658, 14897, 12194, 10775,\n",
       "       16304, 14980, 14192, 15952, 14099, 15125, 13089, 16062, 14923,\n",
       "       14839, 15576, 15657, 1360, 15583, 15457, 16275,\n",
       "       'bon-cadeau-25-euros', 15797, 12366, 15764, 16072, 15070, 16323,\n",
       "       15753, 15755, 15582, 13379, 15704, 13072, 15862, 15533, 16028,\n",
       "       14725, 13647, 16261, 15944, 15256, 523, 15452, 16322, 16014, 14600,\n",
       "       15316, 15776, 16211, 14899, 14955, 13910, 15134, 15434, 15813,\n",
       "       15794, 15946, 16213, 14855, 14827, 14089, 15283, 14647, 16504,\n",
       "       15674, 16537, 41, 13762, 14570, 16041, 15202, 15180, 15375, 16046,\n",
       "       16034, 14092, 14241, 11997, 15922, 14844, 15444, 15486, 15378, 807,\n",
       "       13567, 16281, 15213, 16166, 11225, 15773, 16160, 19820, 7818,\n",
       "       14751, 15280, 15933, 13627, 15403, 14580, 16024, 14797, 12494,\n",
       "       16229, 13659, 16578, 14802, 15850, 16159, 15839, 13052, 15869,\n",
       "       14604, 16273, 15329, 14253, 14941, 15567, 16132, 14746, 15656,\n",
       "       16527, 15162, 16326, 16501, 16119, 15662, 15344, 6616, 15958,\n",
       "       14865, 11669, 14395, 15149, 12585, 11668, 11847, 12599, 16133,\n",
       "       15665, 15382, 13209, 14461, 15748, 15663, 15072, 15004, 16069,\n",
       "       16180, 15949, 16149, 16043, 15845, 15951, 13074, 14569],\n",
       "      dtype=object)"
      ]
     },
     "execution_count": 44,
     "metadata": {},
     "output_type": "execute_result"
    }
   ],
   "source": [
    "#Visualisation des valeurs de la colonne sku\n",
    "#Quelles sont les valeurs qui ne semblent pas respecter la régle de codification?\n",
    "liste_sku = df_web['sku'].unique()\n",
    "liste_sku"
   ]
  },
  {
   "cell_type": "code",
   "execution_count": 45,
   "id": "1226dcfd",
   "metadata": {},
   "outputs": [
    {
     "data": {
      "text/plain": [
       "272                 13127-1\n",
       "842     bon-cadeau-25-euros\n",
       "1117                13127-1\n",
       "1387    bon-cadeau-25-euros\n",
       "Name: sku, dtype: object"
      ]
     },
     "execution_count": 45,
     "metadata": {},
     "output_type": "execute_result"
    }
   ],
   "source": [
    "#Si vous avez identifié des codes articles ne respectant pas la régle de codification, consultez-les\n",
    "df_web_sans_NAN = df_web[~df_web['sku'].isna()].copy()\n",
    "df_web_sans_NAN['sku']= df_web_sans_NAN['sku'].astype(str)\n",
    "valeurs_numeriques = df_web_sans_NAN['sku'].str.fullmatch(r'\\d+')\n",
    "df_web_sans_NAN.loc[~valeurs_numeriques, \"sku\"]"
   ]
  },
  {
   "cell_type": "code",
   "execution_count": 46,
   "id": "967495da",
   "metadata": {},
   "outputs": [],
   "source": [
    "#Pour les codes articles identifiés, réaliser une analyse et définir l'action à entreprendre\n",
    "#Suppression des valeurs\n",
    "df_web.drop([272, 842, 1117, 1387], inplace =True)"
   ]
  },
  {
   "cell_type": "code",
   "execution_count": 47,
   "id": "eb8d31bf",
   "metadata": {},
   "outputs": [
    {
     "data": {
      "text/html": [
       "<div>\n",
       "<style scoped>\n",
       "    .dataframe tbody tr th:only-of-type {\n",
       "        vertical-align: middle;\n",
       "    }\n",
       "\n",
       "    .dataframe tbody tr th {\n",
       "        vertical-align: top;\n",
       "    }\n",
       "\n",
       "    .dataframe thead th {\n",
       "        text-align: right;\n",
       "    }\n",
       "</style>\n",
       "<table border=\"1\" class=\"dataframe\">\n",
       "  <thead>\n",
       "    <tr style=\"text-align: right;\">\n",
       "      <th></th>\n",
       "      <th>sku</th>\n",
       "      <th>total_sales</th>\n",
       "      <th>post_author</th>\n",
       "      <th>post_date</th>\n",
       "      <th>post_date_gmt</th>\n",
       "      <th>product_type</th>\n",
       "      <th>post_title</th>\n",
       "      <th>post_excerpt</th>\n",
       "      <th>post_name</th>\n",
       "      <th>post_modified</th>\n",
       "      <th>post_modified_gmt</th>\n",
       "      <th>guid</th>\n",
       "      <th>post_type</th>\n",
       "    </tr>\n",
       "  </thead>\n",
       "  <tbody>\n",
       "    <tr>\n",
       "      <th>8</th>\n",
       "      <td>NaN</td>\n",
       "      <td>NaN</td>\n",
       "      <td>NaN</td>\n",
       "      <td>NaT</td>\n",
       "      <td>NaT</td>\n",
       "      <td>NaN</td>\n",
       "      <td>NaN</td>\n",
       "      <td>NaN</td>\n",
       "      <td>NaN</td>\n",
       "      <td>NaT</td>\n",
       "      <td>NaT</td>\n",
       "      <td>NaN</td>\n",
       "      <td>NaN</td>\n",
       "    </tr>\n",
       "    <tr>\n",
       "      <th>20</th>\n",
       "      <td>NaN</td>\n",
       "      <td>NaN</td>\n",
       "      <td>NaN</td>\n",
       "      <td>NaT</td>\n",
       "      <td>NaT</td>\n",
       "      <td>NaN</td>\n",
       "      <td>NaN</td>\n",
       "      <td>NaN</td>\n",
       "      <td>NaN</td>\n",
       "      <td>NaT</td>\n",
       "      <td>NaT</td>\n",
       "      <td>NaN</td>\n",
       "      <td>NaN</td>\n",
       "    </tr>\n",
       "    <tr>\n",
       "      <th>30</th>\n",
       "      <td>NaN</td>\n",
       "      <td>NaN</td>\n",
       "      <td>NaN</td>\n",
       "      <td>NaT</td>\n",
       "      <td>NaT</td>\n",
       "      <td>NaN</td>\n",
       "      <td>NaN</td>\n",
       "      <td>NaN</td>\n",
       "      <td>NaN</td>\n",
       "      <td>NaT</td>\n",
       "      <td>NaT</td>\n",
       "      <td>NaN</td>\n",
       "      <td>NaN</td>\n",
       "    </tr>\n",
       "    <tr>\n",
       "      <th>37</th>\n",
       "      <td>NaN</td>\n",
       "      <td>NaN</td>\n",
       "      <td>NaN</td>\n",
       "      <td>NaT</td>\n",
       "      <td>NaT</td>\n",
       "      <td>NaN</td>\n",
       "      <td>NaN</td>\n",
       "      <td>NaN</td>\n",
       "      <td>NaN</td>\n",
       "      <td>NaT</td>\n",
       "      <td>NaT</td>\n",
       "      <td>NaN</td>\n",
       "      <td>NaN</td>\n",
       "    </tr>\n",
       "    <tr>\n",
       "      <th>41</th>\n",
       "      <td>NaN</td>\n",
       "      <td>NaN</td>\n",
       "      <td>NaN</td>\n",
       "      <td>NaT</td>\n",
       "      <td>NaT</td>\n",
       "      <td>NaN</td>\n",
       "      <td>NaN</td>\n",
       "      <td>NaN</td>\n",
       "      <td>NaN</td>\n",
       "      <td>NaT</td>\n",
       "      <td>NaT</td>\n",
       "      <td>NaN</td>\n",
       "      <td>NaN</td>\n",
       "    </tr>\n",
       "    <tr>\n",
       "      <th>...</th>\n",
       "      <td>...</td>\n",
       "      <td>...</td>\n",
       "      <td>...</td>\n",
       "      <td>...</td>\n",
       "      <td>...</td>\n",
       "      <td>...</td>\n",
       "      <td>...</td>\n",
       "      <td>...</td>\n",
       "      <td>...</td>\n",
       "      <td>...</td>\n",
       "      <td>...</td>\n",
       "      <td>...</td>\n",
       "      <td>...</td>\n",
       "    </tr>\n",
       "    <tr>\n",
       "      <th>1384</th>\n",
       "      <td>NaN</td>\n",
       "      <td>NaN</td>\n",
       "      <td>NaN</td>\n",
       "      <td>NaT</td>\n",
       "      <td>NaT</td>\n",
       "      <td>NaN</td>\n",
       "      <td>NaN</td>\n",
       "      <td>NaN</td>\n",
       "      <td>NaN</td>\n",
       "      <td>NaT</td>\n",
       "      <td>NaT</td>\n",
       "      <td>NaN</td>\n",
       "      <td>NaN</td>\n",
       "    </tr>\n",
       "    <tr>\n",
       "      <th>1429</th>\n",
       "      <td>NaN</td>\n",
       "      <td>NaN</td>\n",
       "      <td>NaN</td>\n",
       "      <td>NaT</td>\n",
       "      <td>NaT</td>\n",
       "      <td>NaN</td>\n",
       "      <td>NaN</td>\n",
       "      <td>NaN</td>\n",
       "      <td>NaN</td>\n",
       "      <td>NaT</td>\n",
       "      <td>NaT</td>\n",
       "      <td>NaN</td>\n",
       "      <td>NaN</td>\n",
       "    </tr>\n",
       "    <tr>\n",
       "      <th>1432</th>\n",
       "      <td>NaN</td>\n",
       "      <td>NaN</td>\n",
       "      <td>NaN</td>\n",
       "      <td>NaT</td>\n",
       "      <td>NaT</td>\n",
       "      <td>NaN</td>\n",
       "      <td>NaN</td>\n",
       "      <td>NaN</td>\n",
       "      <td>NaN</td>\n",
       "      <td>NaT</td>\n",
       "      <td>NaT</td>\n",
       "      <td>NaN</td>\n",
       "      <td>NaN</td>\n",
       "    </tr>\n",
       "    <tr>\n",
       "      <th>1445</th>\n",
       "      <td>NaN</td>\n",
       "      <td>NaN</td>\n",
       "      <td>NaN</td>\n",
       "      <td>NaT</td>\n",
       "      <td>NaT</td>\n",
       "      <td>NaN</td>\n",
       "      <td>NaN</td>\n",
       "      <td>NaN</td>\n",
       "      <td>NaN</td>\n",
       "      <td>NaT</td>\n",
       "      <td>NaT</td>\n",
       "      <td>NaN</td>\n",
       "      <td>NaN</td>\n",
       "    </tr>\n",
       "    <tr>\n",
       "      <th>1457</th>\n",
       "      <td>NaN</td>\n",
       "      <td>NaN</td>\n",
       "      <td>NaN</td>\n",
       "      <td>NaT</td>\n",
       "      <td>NaT</td>\n",
       "      <td>NaN</td>\n",
       "      <td>NaN</td>\n",
       "      <td>NaN</td>\n",
       "      <td>NaN</td>\n",
       "      <td>NaT</td>\n",
       "      <td>NaT</td>\n",
       "      <td>NaN</td>\n",
       "      <td>NaN</td>\n",
       "    </tr>\n",
       "  </tbody>\n",
       "</table>\n",
       "<p>85 rows × 13 columns</p>\n",
       "</div>"
      ],
      "text/plain": [
       "      sku  total_sales  post_author post_date post_date_gmt product_type  \\\n",
       "8     NaN          NaN          NaN       NaT           NaT          NaN   \n",
       "20    NaN          NaN          NaN       NaT           NaT          NaN   \n",
       "30    NaN          NaN          NaN       NaT           NaT          NaN   \n",
       "37    NaN          NaN          NaN       NaT           NaT          NaN   \n",
       "41    NaN          NaN          NaN       NaT           NaT          NaN   \n",
       "...   ...          ...          ...       ...           ...          ...   \n",
       "1384  NaN          NaN          NaN       NaT           NaT          NaN   \n",
       "1429  NaN          NaN          NaN       NaT           NaT          NaN   \n",
       "1432  NaN          NaN          NaN       NaT           NaT          NaN   \n",
       "1445  NaN          NaN          NaN       NaT           NaT          NaN   \n",
       "1457  NaN          NaN          NaN       NaT           NaT          NaN   \n",
       "\n",
       "     post_title post_excerpt post_name post_modified post_modified_gmt guid  \\\n",
       "8           NaN          NaN       NaN           NaT               NaT  NaN   \n",
       "20          NaN          NaN       NaN           NaT               NaT  NaN   \n",
       "30          NaN          NaN       NaN           NaT               NaT  NaN   \n",
       "37          NaN          NaN       NaN           NaT               NaT  NaN   \n",
       "41          NaN          NaN       NaN           NaT               NaT  NaN   \n",
       "...         ...          ...       ...           ...               ...  ...   \n",
       "1384        NaN          NaN       NaN           NaT               NaT  NaN   \n",
       "1429        NaN          NaN       NaN           NaT               NaT  NaN   \n",
       "1432        NaN          NaN       NaN           NaT               NaT  NaN   \n",
       "1445        NaN          NaN       NaN           NaT               NaT  NaN   \n",
       "1457        NaN          NaN       NaN           NaT               NaT  NaN   \n",
       "\n",
       "     post_type  \n",
       "8          NaN  \n",
       "20         NaN  \n",
       "30         NaN  \n",
       "37         NaN  \n",
       "41         NaN  \n",
       "...        ...  \n",
       "1384       NaN  \n",
       "1429       NaN  \n",
       "1432       NaN  \n",
       "1445       NaN  \n",
       "1457       NaN  \n",
       "\n",
       "[85 rows x 13 columns]"
      ]
     },
     "execution_count": 47,
     "metadata": {},
     "output_type": "execute_result"
    }
   ],
   "source": [
    "#Identifier les lignes sans code article\n",
    "df_web[df_web['sku'].isna()]"
   ]
  },
  {
   "cell_type": "code",
   "execution_count": 48,
   "id": "0492539b-9d20-4ff8-9cfa-8441ca8e5e01",
   "metadata": {},
   "outputs": [
    {
     "data": {
      "text/html": [
       "<div>\n",
       "<style scoped>\n",
       "    .dataframe tbody tr th:only-of-type {\n",
       "        vertical-align: middle;\n",
       "    }\n",
       "\n",
       "    .dataframe tbody tr th {\n",
       "        vertical-align: top;\n",
       "    }\n",
       "\n",
       "    .dataframe thead th {\n",
       "        text-align: right;\n",
       "    }\n",
       "</style>\n",
       "<table border=\"1\" class=\"dataframe\">\n",
       "  <thead>\n",
       "    <tr style=\"text-align: right;\">\n",
       "      <th></th>\n",
       "      <th>sku</th>\n",
       "      <th>total_sales</th>\n",
       "      <th>post_author</th>\n",
       "      <th>post_date</th>\n",
       "      <th>post_date_gmt</th>\n",
       "      <th>product_type</th>\n",
       "      <th>post_title</th>\n",
       "      <th>post_excerpt</th>\n",
       "      <th>post_name</th>\n",
       "      <th>post_modified</th>\n",
       "      <th>post_modified_gmt</th>\n",
       "      <th>guid</th>\n",
       "      <th>post_type</th>\n",
       "    </tr>\n",
       "  </thead>\n",
       "  <tbody>\n",
       "    <tr>\n",
       "      <th>8</th>\n",
       "      <td>NaN</td>\n",
       "      <td>NaN</td>\n",
       "      <td>NaN</td>\n",
       "      <td>NaT</td>\n",
       "      <td>NaT</td>\n",
       "      <td>NaN</td>\n",
       "      <td>NaN</td>\n",
       "      <td>NaN</td>\n",
       "      <td>NaN</td>\n",
       "      <td>NaT</td>\n",
       "      <td>NaT</td>\n",
       "      <td>NaN</td>\n",
       "      <td>NaN</td>\n",
       "    </tr>\n",
       "    <tr>\n",
       "      <th>20</th>\n",
       "      <td>NaN</td>\n",
       "      <td>NaN</td>\n",
       "      <td>NaN</td>\n",
       "      <td>NaT</td>\n",
       "      <td>NaT</td>\n",
       "      <td>NaN</td>\n",
       "      <td>NaN</td>\n",
       "      <td>NaN</td>\n",
       "      <td>NaN</td>\n",
       "      <td>NaT</td>\n",
       "      <td>NaT</td>\n",
       "      <td>NaN</td>\n",
       "      <td>NaN</td>\n",
       "    </tr>\n",
       "    <tr>\n",
       "      <th>30</th>\n",
       "      <td>NaN</td>\n",
       "      <td>NaN</td>\n",
       "      <td>NaN</td>\n",
       "      <td>NaT</td>\n",
       "      <td>NaT</td>\n",
       "      <td>NaN</td>\n",
       "      <td>NaN</td>\n",
       "      <td>NaN</td>\n",
       "      <td>NaN</td>\n",
       "      <td>NaT</td>\n",
       "      <td>NaT</td>\n",
       "      <td>NaN</td>\n",
       "      <td>NaN</td>\n",
       "    </tr>\n",
       "    <tr>\n",
       "      <th>37</th>\n",
       "      <td>NaN</td>\n",
       "      <td>NaN</td>\n",
       "      <td>NaN</td>\n",
       "      <td>NaT</td>\n",
       "      <td>NaT</td>\n",
       "      <td>NaN</td>\n",
       "      <td>NaN</td>\n",
       "      <td>NaN</td>\n",
       "      <td>NaN</td>\n",
       "      <td>NaT</td>\n",
       "      <td>NaT</td>\n",
       "      <td>NaN</td>\n",
       "      <td>NaN</td>\n",
       "    </tr>\n",
       "    <tr>\n",
       "      <th>41</th>\n",
       "      <td>NaN</td>\n",
       "      <td>NaN</td>\n",
       "      <td>NaN</td>\n",
       "      <td>NaT</td>\n",
       "      <td>NaT</td>\n",
       "      <td>NaN</td>\n",
       "      <td>NaN</td>\n",
       "      <td>NaN</td>\n",
       "      <td>NaN</td>\n",
       "      <td>NaT</td>\n",
       "      <td>NaT</td>\n",
       "      <td>NaN</td>\n",
       "      <td>NaN</td>\n",
       "    </tr>\n",
       "    <tr>\n",
       "      <th>...</th>\n",
       "      <td>...</td>\n",
       "      <td>...</td>\n",
       "      <td>...</td>\n",
       "      <td>...</td>\n",
       "      <td>...</td>\n",
       "      <td>...</td>\n",
       "      <td>...</td>\n",
       "      <td>...</td>\n",
       "      <td>...</td>\n",
       "      <td>...</td>\n",
       "      <td>...</td>\n",
       "      <td>...</td>\n",
       "      <td>...</td>\n",
       "    </tr>\n",
       "    <tr>\n",
       "      <th>1384</th>\n",
       "      <td>NaN</td>\n",
       "      <td>NaN</td>\n",
       "      <td>NaN</td>\n",
       "      <td>NaT</td>\n",
       "      <td>NaT</td>\n",
       "      <td>NaN</td>\n",
       "      <td>NaN</td>\n",
       "      <td>NaN</td>\n",
       "      <td>NaN</td>\n",
       "      <td>NaT</td>\n",
       "      <td>NaT</td>\n",
       "      <td>NaN</td>\n",
       "      <td>NaN</td>\n",
       "    </tr>\n",
       "    <tr>\n",
       "      <th>1429</th>\n",
       "      <td>NaN</td>\n",
       "      <td>NaN</td>\n",
       "      <td>NaN</td>\n",
       "      <td>NaT</td>\n",
       "      <td>NaT</td>\n",
       "      <td>NaN</td>\n",
       "      <td>NaN</td>\n",
       "      <td>NaN</td>\n",
       "      <td>NaN</td>\n",
       "      <td>NaT</td>\n",
       "      <td>NaT</td>\n",
       "      <td>NaN</td>\n",
       "      <td>NaN</td>\n",
       "    </tr>\n",
       "    <tr>\n",
       "      <th>1432</th>\n",
       "      <td>NaN</td>\n",
       "      <td>NaN</td>\n",
       "      <td>NaN</td>\n",
       "      <td>NaT</td>\n",
       "      <td>NaT</td>\n",
       "      <td>NaN</td>\n",
       "      <td>NaN</td>\n",
       "      <td>NaN</td>\n",
       "      <td>NaN</td>\n",
       "      <td>NaT</td>\n",
       "      <td>NaT</td>\n",
       "      <td>NaN</td>\n",
       "      <td>NaN</td>\n",
       "    </tr>\n",
       "    <tr>\n",
       "      <th>1445</th>\n",
       "      <td>NaN</td>\n",
       "      <td>NaN</td>\n",
       "      <td>NaN</td>\n",
       "      <td>NaT</td>\n",
       "      <td>NaT</td>\n",
       "      <td>NaN</td>\n",
       "      <td>NaN</td>\n",
       "      <td>NaN</td>\n",
       "      <td>NaN</td>\n",
       "      <td>NaT</td>\n",
       "      <td>NaT</td>\n",
       "      <td>NaN</td>\n",
       "      <td>NaN</td>\n",
       "    </tr>\n",
       "    <tr>\n",
       "      <th>1457</th>\n",
       "      <td>NaN</td>\n",
       "      <td>NaN</td>\n",
       "      <td>NaN</td>\n",
       "      <td>NaT</td>\n",
       "      <td>NaT</td>\n",
       "      <td>NaN</td>\n",
       "      <td>NaN</td>\n",
       "      <td>NaN</td>\n",
       "      <td>NaN</td>\n",
       "      <td>NaT</td>\n",
       "      <td>NaT</td>\n",
       "      <td>NaN</td>\n",
       "      <td>NaN</td>\n",
       "    </tr>\n",
       "  </tbody>\n",
       "</table>\n",
       "<p>85 rows × 13 columns</p>\n",
       "</div>"
      ],
      "text/plain": [
       "      sku  total_sales  post_author post_date post_date_gmt product_type  \\\n",
       "8     NaN          NaN          NaN       NaT           NaT          NaN   \n",
       "20    NaN          NaN          NaN       NaT           NaT          NaN   \n",
       "30    NaN          NaN          NaN       NaT           NaT          NaN   \n",
       "37    NaN          NaN          NaN       NaT           NaT          NaN   \n",
       "41    NaN          NaN          NaN       NaT           NaT          NaN   \n",
       "...   ...          ...          ...       ...           ...          ...   \n",
       "1384  NaN          NaN          NaN       NaT           NaT          NaN   \n",
       "1429  NaN          NaN          NaN       NaT           NaT          NaN   \n",
       "1432  NaN          NaN          NaN       NaT           NaT          NaN   \n",
       "1445  NaN          NaN          NaN       NaT           NaT          NaN   \n",
       "1457  NaN          NaN          NaN       NaT           NaT          NaN   \n",
       "\n",
       "     post_title post_excerpt post_name post_modified post_modified_gmt guid  \\\n",
       "8           NaN          NaN       NaN           NaT               NaT  NaN   \n",
       "20          NaN          NaN       NaN           NaT               NaT  NaN   \n",
       "30          NaN          NaN       NaN           NaT               NaT  NaN   \n",
       "37          NaN          NaN       NaN           NaT               NaT  NaN   \n",
       "41          NaN          NaN       NaN           NaT               NaT  NaN   \n",
       "...         ...          ...       ...           ...               ...  ...   \n",
       "1384        NaN          NaN       NaN           NaT               NaT  NaN   \n",
       "1429        NaN          NaN       NaN           NaT               NaT  NaN   \n",
       "1432        NaN          NaN       NaN           NaT               NaT  NaN   \n",
       "1445        NaN          NaN       NaN           NaT               NaT  NaN   \n",
       "1457        NaN          NaN       NaN           NaT               NaT  NaN   \n",
       "\n",
       "     post_type  \n",
       "8          NaN  \n",
       "20         NaN  \n",
       "30         NaN  \n",
       "37         NaN  \n",
       "41         NaN  \n",
       "...        ...  \n",
       "1384       NaN  \n",
       "1429       NaN  \n",
       "1432       NaN  \n",
       "1445       NaN  \n",
       "1457       NaN  \n",
       "\n",
       "[85 rows x 13 columns]"
      ]
     },
     "execution_count": 48,
     "metadata": {},
     "output_type": "execute_result"
    }
   ],
   "source": [
    "#Les lignes sans code article semblent être toutes non renseignées\n",
    "#Pour s'en assurer, réaliser les étapes suivantes:\n",
    "#1 - Créer un dataframe avec uniquement les lignes sans code article\n",
    "df_web_no_sku =  df_web[df_web['sku'].isna()]\n",
    "df_web_no_sku"
   ]
  },
  {
   "cell_type": "code",
   "execution_count": 49,
   "id": "8b81d617",
   "metadata": {},
   "outputs": [
    {
     "name": "stdout",
     "output_type": "stream",
     "text": [
      "<class 'pandas.core.frame.DataFrame'>\n",
      "Index: 85 entries, 8 to 1457\n",
      "Data columns (total 13 columns):\n",
      " #   Column             Non-Null Count  Dtype         \n",
      "---  ------             --------------  -----         \n",
      " 0   sku                0 non-null      object        \n",
      " 1   total_sales        2 non-null      float64       \n",
      " 2   post_author        2 non-null      float64       \n",
      " 3   post_date          2 non-null      datetime64[ns]\n",
      " 4   post_date_gmt      2 non-null      datetime64[ns]\n",
      " 5   product_type       2 non-null      object        \n",
      " 6   post_title         2 non-null      object        \n",
      " 7   post_excerpt       2 non-null      object        \n",
      " 8   post_name          2 non-null      object        \n",
      " 9   post_modified      2 non-null      datetime64[ns]\n",
      " 10  post_modified_gmt  2 non-null      datetime64[ns]\n",
      " 11  guid               2 non-null      object        \n",
      " 12  post_type          2 non-null      object        \n",
      "dtypes: datetime64[ns](4), float64(2), object(7)\n",
      "memory usage: 9.3+ KB\n"
     ]
    }
   ],
   "source": [
    "#2 - Utiliser la fonction df.info() sur ce nouveau dataframe pour observer le nombre de valeurs renseignées dans chacune des colonnes\n",
    "df_web_no_sku.info()"
   ]
  },
  {
   "cell_type": "markdown",
   "id": "61da9fa2-2e83-4202-bc93-a5c7749f1337",
   "metadata": {},
   "source": [
    "**Je constate que le nouveau dataFrame créé avec les lignes vides pour \"sku\" donne un Dataframe vide, ainsi, on conclu qu'il faut nécessairement une clé \"sku\" pour avoir une ligne de données dans \"df_web\".**"
   ]
  },
  {
   "cell_type": "code",
   "execution_count": 50,
   "id": "6df1a9c3-055a-4b1c-9332-fc80b33dee9c",
   "metadata": {},
   "outputs": [
    {
     "data": {
      "text/plain": [
       "1424"
      ]
     },
     "execution_count": 50,
     "metadata": {},
     "output_type": "execute_result"
    }
   ],
   "source": [
    "#Suppression des NAN \n",
    "df_web.dropna(subset=\"sku\", inplace =True)\n",
    "len(df_web)"
   ]
  },
  {
   "cell_type": "code",
   "execution_count": 51,
   "id": "5ccf72c1-c0ef-4cf6-a1e3-c47ad75a2f87",
   "metadata": {},
   "outputs": [
    {
     "data": {
      "text/plain": [
       "np.int64(0)"
      ]
     },
     "execution_count": 51,
     "metadata": {},
     "output_type": "execute_result"
    }
   ],
   "source": [
    "#Vérification\n",
    "df_web['sku'].isna().sum()"
   ]
  },
  {
   "cell_type": "markdown",
   "id": "fa6abe7c-14ea-4bc6-afab-d40f9772c0e0",
   "metadata": {},
   "source": [
    "**Je supprime ainsi toutes les lignes avec des valeurs manquantes pour la clé \"sku\".**"
   ]
  },
  {
   "cell_type": "code",
   "execution_count": 52,
   "id": "27bf30de",
   "metadata": {},
   "outputs": [
    {
     "data": {
      "text/html": [
       "<div>\n",
       "<style scoped>\n",
       "    .dataframe tbody tr th:only-of-type {\n",
       "        vertical-align: middle;\n",
       "    }\n",
       "\n",
       "    .dataframe tbody tr th {\n",
       "        vertical-align: top;\n",
       "    }\n",
       "\n",
       "    .dataframe thead th {\n",
       "        text-align: right;\n",
       "    }\n",
       "</style>\n",
       "<table border=\"1\" class=\"dataframe\">\n",
       "  <thead>\n",
       "    <tr style=\"text-align: right;\">\n",
       "      <th></th>\n",
       "      <th>sku</th>\n",
       "      <th>total_sales</th>\n",
       "      <th>post_author</th>\n",
       "      <th>post_date</th>\n",
       "      <th>post_date_gmt</th>\n",
       "      <th>product_type</th>\n",
       "      <th>post_title</th>\n",
       "      <th>post_excerpt</th>\n",
       "      <th>post_name</th>\n",
       "      <th>post_modified</th>\n",
       "      <th>post_modified_gmt</th>\n",
       "      <th>guid</th>\n",
       "      <th>post_type</th>\n",
       "    </tr>\n",
       "  </thead>\n",
       "  <tbody>\n",
       "    <tr>\n",
       "      <th>56</th>\n",
       "      <td>12869</td>\n",
       "      <td>7.0</td>\n",
       "      <td>2.0</td>\n",
       "      <td>2019-03-28 14:29:35</td>\n",
       "      <td>2019-03-28 13:29:35</td>\n",
       "      <td>Vin</td>\n",
       "      <td>Stéphane Tissot Arbois D.D. 2016</td>\n",
       "      <td>NaN</td>\n",
       "      <td>stephane-tissot-arbois-dd-2016</td>\n",
       "      <td>2019-12-13 15:40:01</td>\n",
       "      <td>2019-12-13 14:40:01</td>\n",
       "      <td>https://www.bottle-neck.fr/wp-content/uploads/...</td>\n",
       "      <td>attachment</td>\n",
       "    </tr>\n",
       "    <tr>\n",
       "      <th>74</th>\n",
       "      <td>13809</td>\n",
       "      <td>8.0</td>\n",
       "      <td>2.0</td>\n",
       "      <td>2018-05-15 11:11:59</td>\n",
       "      <td>2018-05-15 09:11:59</td>\n",
       "      <td>Vin</td>\n",
       "      <td>Antoine-Marie Arena Vin de France Rouge San Gi...</td>\n",
       "      <td>Ce vin montre de la précision et de la justess...</td>\n",
       "      <td>antoine-marie-arena-vin-de-france-rouge-san-gi...</td>\n",
       "      <td>2020-04-23 22:54:55</td>\n",
       "      <td>2020-04-23 20:54:55</td>\n",
       "      <td>https://www.bottle-neck.fr/?post_type=product&amp;...</td>\n",
       "      <td>product</td>\n",
       "    </tr>\n",
       "    <tr>\n",
       "      <th>109</th>\n",
       "      <td>15758</td>\n",
       "      <td>18.0</td>\n",
       "      <td>2.0</td>\n",
       "      <td>2018-02-16 10:54:27</td>\n",
       "      <td>2018-02-16 09:54:27</td>\n",
       "      <td>Vin</td>\n",
       "      <td>Xavier Frissant Touraine Amboise Chenin Les Pi...</td>\n",
       "      <td>Un Touraine Amboise fin et élégant, un joli ch...</td>\n",
       "      <td>frissant-chenin-pierres-2018</td>\n",
       "      <td>2020-08-27 11:45:02</td>\n",
       "      <td>2020-08-27 09:45:02</td>\n",
       "      <td>https://www.bottle-neck.fr/?post_type=product&amp;...</td>\n",
       "      <td>product</td>\n",
       "    </tr>\n",
       "    <tr>\n",
       "      <th>117</th>\n",
       "      <td>13766</td>\n",
       "      <td>2.0</td>\n",
       "      <td>2.0</td>\n",
       "      <td>2018-03-22 10:35:08</td>\n",
       "      <td>2018-03-22 09:35:08</td>\n",
       "      <td>Whisky</td>\n",
       "      <td>Wemyss Malts Blended Malt Scotch Whisky Treacl...</td>\n",
       "      <td>NaN</td>\n",
       "      <td>whisky-wemyss-treacle-chest</td>\n",
       "      <td>2020-07-20 09:30:05</td>\n",
       "      <td>2020-07-20 07:30:05</td>\n",
       "      <td>https://www.bottle-neck.fr/wp-content/uploads/...</td>\n",
       "      <td>attachment</td>\n",
       "    </tr>\n",
       "    <tr>\n",
       "      <th>137</th>\n",
       "      <td>16580</td>\n",
       "      <td>8.0</td>\n",
       "      <td>2.0</td>\n",
       "      <td>2019-07-24 09:31:48</td>\n",
       "      <td>2019-07-24 07:31:48</td>\n",
       "      <td>Vin</td>\n",
       "      <td>Domaine Giudicelli Patrimonio Blanc 2019</td>\n",
       "      <td>Ce Patrimonio Blanc signé Muriel Giudicelli no...</td>\n",
       "      <td>domaine-giudicelli-patrimonio-blanc-2019</td>\n",
       "      <td>2020-08-27 10:12:58</td>\n",
       "      <td>2020-08-27 08:12:58</td>\n",
       "      <td>https://www.bottle-neck.fr/?post_type=product&amp;...</td>\n",
       "      <td>product</td>\n",
       "    </tr>\n",
       "    <tr>\n",
       "      <th>...</th>\n",
       "      <td>...</td>\n",
       "      <td>...</td>\n",
       "      <td>...</td>\n",
       "      <td>...</td>\n",
       "      <td>...</td>\n",
       "      <td>...</td>\n",
       "      <td>...</td>\n",
       "      <td>...</td>\n",
       "      <td>...</td>\n",
       "      <td>...</td>\n",
       "      <td>...</td>\n",
       "      <td>...</td>\n",
       "      <td>...</td>\n",
       "    </tr>\n",
       "    <tr>\n",
       "      <th>1508</th>\n",
       "      <td>16326</td>\n",
       "      <td>5.0</td>\n",
       "      <td>2.0</td>\n",
       "      <td>2019-04-18 11:32:46</td>\n",
       "      <td>2019-04-18 09:32:46</td>\n",
       "      <td>Vin</td>\n",
       "      <td>Camin Larredya Jurançon Moelleux Au Capcéu 2018</td>\n",
       "      <td>Sur le millésime 2017, Au Capceu du domaine Ca...</td>\n",
       "      <td>camin-larredya-jurancon-moelleux-capceu-2018</td>\n",
       "      <td>2020-08-27 09:24:46</td>\n",
       "      <td>2020-08-27 07:24:46</td>\n",
       "      <td>https://www.bottle-neck.fr/?post_type=product&amp;...</td>\n",
       "      <td>product</td>\n",
       "    </tr>\n",
       "    <tr>\n",
       "      <th>1509</th>\n",
       "      <td>15662</td>\n",
       "      <td>15.0</td>\n",
       "      <td>2.0</td>\n",
       "      <td>2018-02-27 10:13:03</td>\n",
       "      <td>2018-02-27 09:13:03</td>\n",
       "      <td>Vin</td>\n",
       "      <td>Chermette Domaine du Vissoux Beaujolais Griott...</td>\n",
       "      <td>C'est le Beaujolais typique : fruité, frais, g...</td>\n",
       "      <td>chermette-domaine-du-vissoux-beaujolais-griott...</td>\n",
       "      <td>2020-07-11 11:25:03</td>\n",
       "      <td>2020-07-11 09:25:03</td>\n",
       "      <td>https://www.bottle-neck.fr/?post_type=product&amp;...</td>\n",
       "      <td>product</td>\n",
       "    </tr>\n",
       "    <tr>\n",
       "      <th>1510</th>\n",
       "      <td>15329</td>\n",
       "      <td>3.0</td>\n",
       "      <td>2.0</td>\n",
       "      <td>2019-03-27 18:28:15</td>\n",
       "      <td>2019-03-27 17:28:15</td>\n",
       "      <td>Vin</td>\n",
       "      <td>Agnès Levet Côte Rôtie Péroline 2017</td>\n",
       "      <td>NaN</td>\n",
       "      <td>agnes-levet-cote-rotie-peroline-2017</td>\n",
       "      <td>2020-07-28 09:45:02</td>\n",
       "      <td>2020-07-28 07:45:02</td>\n",
       "      <td>https://www.bottle-neck.fr/wp-content/uploads/...</td>\n",
       "      <td>attachment</td>\n",
       "    </tr>\n",
       "    <tr>\n",
       "      <th>1511</th>\n",
       "      <td>14827</td>\n",
       "      <td>7.0</td>\n",
       "      <td>2.0</td>\n",
       "      <td>2018-11-26 09:56:52</td>\n",
       "      <td>2018-11-26 08:56:52</td>\n",
       "      <td>Vin</td>\n",
       "      <td>Marc Colin Et Fils Chassagne-Montrachet Blanc ...</td>\n",
       "      <td>NaN</td>\n",
       "      <td>marc-colin-et-fils-chassagne-montrachet-blanc-...</td>\n",
       "      <td>2020-07-28 09:45:02</td>\n",
       "      <td>2020-07-28 07:45:02</td>\n",
       "      <td>https://www.bottle-neck.fr/wp-content/uploads/...</td>\n",
       "      <td>attachment</td>\n",
       "    </tr>\n",
       "    <tr>\n",
       "      <th>1512</th>\n",
       "      <td>16004</td>\n",
       "      <td>5.0</td>\n",
       "      <td>2.0</td>\n",
       "      <td>2018-06-07 16:27:25</td>\n",
       "      <td>2018-06-07 14:27:25</td>\n",
       "      <td>Vin</td>\n",
       "      <td>Château du Couvent Pomerol 2017</td>\n",
       "      <td>NaN</td>\n",
       "      <td>chateau-du-couvent-pomerol-2017</td>\n",
       "      <td>2020-08-25 18:35:02</td>\n",
       "      <td>2020-08-25 16:35:02</td>\n",
       "      <td>https://www.bottle-neck.fr/wp-content/uploads/...</td>\n",
       "      <td>attachment</td>\n",
       "    </tr>\n",
       "  </tbody>\n",
       "</table>\n",
       "<p>712 rows × 13 columns</p>\n",
       "</div>"
      ],
      "text/plain": [
       "        sku  total_sales  post_author           post_date       post_date_gmt  \\\n",
       "56    12869          7.0          2.0 2019-03-28 14:29:35 2019-03-28 13:29:35   \n",
       "74    13809          8.0          2.0 2018-05-15 11:11:59 2018-05-15 09:11:59   \n",
       "109   15758         18.0          2.0 2018-02-16 10:54:27 2018-02-16 09:54:27   \n",
       "117   13766          2.0          2.0 2018-03-22 10:35:08 2018-03-22 09:35:08   \n",
       "137   16580          8.0          2.0 2019-07-24 09:31:48 2019-07-24 07:31:48   \n",
       "...     ...          ...          ...                 ...                 ...   \n",
       "1508  16326          5.0          2.0 2019-04-18 11:32:46 2019-04-18 09:32:46   \n",
       "1509  15662         15.0          2.0 2018-02-27 10:13:03 2018-02-27 09:13:03   \n",
       "1510  15329          3.0          2.0 2019-03-27 18:28:15 2019-03-27 17:28:15   \n",
       "1511  14827          7.0          2.0 2018-11-26 09:56:52 2018-11-26 08:56:52   \n",
       "1512  16004          5.0          2.0 2018-06-07 16:27:25 2018-06-07 14:27:25   \n",
       "\n",
       "     product_type                                         post_title  \\\n",
       "56            Vin                   Stéphane Tissot Arbois D.D. 2016   \n",
       "74            Vin  Antoine-Marie Arena Vin de France Rouge San Gi...   \n",
       "109           Vin  Xavier Frissant Touraine Amboise Chenin Les Pi...   \n",
       "117        Whisky  Wemyss Malts Blended Malt Scotch Whisky Treacl...   \n",
       "137           Vin           Domaine Giudicelli Patrimonio Blanc 2019   \n",
       "...           ...                                                ...   \n",
       "1508          Vin    Camin Larredya Jurançon Moelleux Au Capcéu 2018   \n",
       "1509          Vin  Chermette Domaine du Vissoux Beaujolais Griott...   \n",
       "1510          Vin               Agnès Levet Côte Rôtie Péroline 2017   \n",
       "1511          Vin  Marc Colin Et Fils Chassagne-Montrachet Blanc ...   \n",
       "1512          Vin                    Château du Couvent Pomerol 2017   \n",
       "\n",
       "                                           post_excerpt  \\\n",
       "56                                                  NaN   \n",
       "74    Ce vin montre de la précision et de la justess...   \n",
       "109   Un Touraine Amboise fin et élégant, un joli ch...   \n",
       "117                                                 NaN   \n",
       "137   Ce Patrimonio Blanc signé Muriel Giudicelli no...   \n",
       "...                                                 ...   \n",
       "1508  Sur le millésime 2017, Au Capceu du domaine Ca...   \n",
       "1509  C'est le Beaujolais typique : fruité, frais, g...   \n",
       "1510                                                NaN   \n",
       "1511                                                NaN   \n",
       "1512                                                NaN   \n",
       "\n",
       "                                              post_name       post_modified  \\\n",
       "56                       stephane-tissot-arbois-dd-2016 2019-12-13 15:40:01   \n",
       "74    antoine-marie-arena-vin-de-france-rouge-san-gi... 2020-04-23 22:54:55   \n",
       "109                        frissant-chenin-pierres-2018 2020-08-27 11:45:02   \n",
       "117                         whisky-wemyss-treacle-chest 2020-07-20 09:30:05   \n",
       "137            domaine-giudicelli-patrimonio-blanc-2019 2020-08-27 10:12:58   \n",
       "...                                                 ...                 ...   \n",
       "1508       camin-larredya-jurancon-moelleux-capceu-2018 2020-08-27 09:24:46   \n",
       "1509  chermette-domaine-du-vissoux-beaujolais-griott... 2020-07-11 11:25:03   \n",
       "1510               agnes-levet-cote-rotie-peroline-2017 2020-07-28 09:45:02   \n",
       "1511  marc-colin-et-fils-chassagne-montrachet-blanc-... 2020-07-28 09:45:02   \n",
       "1512                    chateau-du-couvent-pomerol-2017 2020-08-25 18:35:02   \n",
       "\n",
       "       post_modified_gmt                                               guid  \\\n",
       "56   2019-12-13 14:40:01  https://www.bottle-neck.fr/wp-content/uploads/...   \n",
       "74   2020-04-23 20:54:55  https://www.bottle-neck.fr/?post_type=product&...   \n",
       "109  2020-08-27 09:45:02  https://www.bottle-neck.fr/?post_type=product&...   \n",
       "117  2020-07-20 07:30:05  https://www.bottle-neck.fr/wp-content/uploads/...   \n",
       "137  2020-08-27 08:12:58  https://www.bottle-neck.fr/?post_type=product&...   \n",
       "...                  ...                                                ...   \n",
       "1508 2020-08-27 07:24:46  https://www.bottle-neck.fr/?post_type=product&...   \n",
       "1509 2020-07-11 09:25:03  https://www.bottle-neck.fr/?post_type=product&...   \n",
       "1510 2020-07-28 07:45:02  https://www.bottle-neck.fr/wp-content/uploads/...   \n",
       "1511 2020-07-28 07:45:02  https://www.bottle-neck.fr/wp-content/uploads/...   \n",
       "1512 2020-08-25 16:35:02  https://www.bottle-neck.fr/wp-content/uploads/...   \n",
       "\n",
       "       post_type  \n",
       "56    attachment  \n",
       "74       product  \n",
       "109      product  \n",
       "117   attachment  \n",
       "137      product  \n",
       "...          ...  \n",
       "1508     product  \n",
       "1509     product  \n",
       "1510  attachment  \n",
       "1511  attachment  \n",
       "1512  attachment  \n",
       "\n",
       "[712 rows x 13 columns]"
      ]
     },
     "execution_count": 52,
     "metadata": {},
     "output_type": "execute_result"
    }
   ],
   "source": [
    "#La clé pour chaque ligne est-elle unique? autrement dit, y a-t-il des doublons?\n",
    "doublons_df_web = df_web.duplicated(subset='sku')\n",
    "df_web[doublons_df_web ]"
   ]
  },
  {
   "cell_type": "code",
   "execution_count": 53,
   "id": "cc5a8a36-f9f8-4409-bc44-5fc69708eaa4",
   "metadata": {},
   "outputs": [
    {
     "data": {
      "text/html": [
       "<div>\n",
       "<style scoped>\n",
       "    .dataframe tbody tr th:only-of-type {\n",
       "        vertical-align: middle;\n",
       "    }\n",
       "\n",
       "    .dataframe tbody tr th {\n",
       "        vertical-align: top;\n",
       "    }\n",
       "\n",
       "    .dataframe thead th {\n",
       "        text-align: right;\n",
       "    }\n",
       "</style>\n",
       "<table border=\"1\" class=\"dataframe\">\n",
       "  <thead>\n",
       "    <tr style=\"text-align: right;\">\n",
       "      <th></th>\n",
       "      <th>sku</th>\n",
       "      <th>total_sales</th>\n",
       "      <th>post_author</th>\n",
       "      <th>post_date</th>\n",
       "      <th>post_date_gmt</th>\n",
       "      <th>product_type</th>\n",
       "      <th>post_title</th>\n",
       "      <th>post_excerpt</th>\n",
       "      <th>post_name</th>\n",
       "      <th>post_modified</th>\n",
       "      <th>post_modified_gmt</th>\n",
       "      <th>guid</th>\n",
       "      <th>post_type</th>\n",
       "    </tr>\n",
       "  </thead>\n",
       "  <tbody>\n",
       "    <tr>\n",
       "      <th>1030</th>\n",
       "      <td>10014</td>\n",
       "      <td>10.0</td>\n",
       "      <td>2.0</td>\n",
       "      <td>2019-04-04 15:45:23</td>\n",
       "      <td>2019-04-04 13:45:23</td>\n",
       "      <td>Gin</td>\n",
       "      <td>Darnley's London Dry Gin Original</td>\n",
       "      <td>NaN</td>\n",
       "      <td>darnleys-london-dry-gin-original</td>\n",
       "      <td>2020-08-26 15:55:02</td>\n",
       "      <td>2020-08-26 13:55:02</td>\n",
       "      <td>https://www.bottle-neck.fr/wp-content/uploads/...</td>\n",
       "      <td>attachment</td>\n",
       "    </tr>\n",
       "    <tr>\n",
       "      <th>668</th>\n",
       "      <td>10014</td>\n",
       "      <td>10.0</td>\n",
       "      <td>2.0</td>\n",
       "      <td>2019-04-04 15:45:23</td>\n",
       "      <td>2019-04-04 13:45:23</td>\n",
       "      <td>Gin</td>\n",
       "      <td>Darnley's London Dry Gin Original</td>\n",
       "      <td>&lt;span title=\"\"&gt;Un gin léger, floral et aromati...</td>\n",
       "      <td>darnleys-london-dry-gin-original</td>\n",
       "      <td>2020-08-26 15:55:02</td>\n",
       "      <td>2020-08-26 13:55:02</td>\n",
       "      <td>https://www.bottle-neck.fr/?post_type=product&amp;...</td>\n",
       "      <td>product</td>\n",
       "    </tr>\n",
       "    <tr>\n",
       "      <th>748</th>\n",
       "      <td>10459</td>\n",
       "      <td>4.0</td>\n",
       "      <td>2.0</td>\n",
       "      <td>2018-04-13 15:58:19</td>\n",
       "      <td>2018-04-13 13:58:19</td>\n",
       "      <td>Vin</td>\n",
       "      <td>Alphonse Mellot Sancerre Rouge Génération XIX ...</td>\n",
       "      <td>Robe d'un superbe rubis, dense et profond - As...</td>\n",
       "      <td>alphonse-mellot-sancerre-rouge-generation-xix-...</td>\n",
       "      <td>2020-08-24 14:05:02</td>\n",
       "      <td>2020-08-24 12:05:02</td>\n",
       "      <td>https://www.bottle-neck.fr/?post_type=product&amp;...</td>\n",
       "      <td>product</td>\n",
       "    </tr>\n",
       "    <tr>\n",
       "      <th>887</th>\n",
       "      <td>10459</td>\n",
       "      <td>4.0</td>\n",
       "      <td>2.0</td>\n",
       "      <td>2018-04-13 15:58:19</td>\n",
       "      <td>2018-04-13 13:58:19</td>\n",
       "      <td>Vin</td>\n",
       "      <td>Alphonse Mellot Sancerre Rouge Génération XIX ...</td>\n",
       "      <td>NaN</td>\n",
       "      <td>alphonse-mellot-sancerre-rouge-generation-xix-...</td>\n",
       "      <td>2020-08-24 14:05:02</td>\n",
       "      <td>2020-08-24 12:05:02</td>\n",
       "      <td>https://www.bottle-neck.fr/wp-content/uploads/...</td>\n",
       "      <td>attachment</td>\n",
       "    </tr>\n",
       "    <tr>\n",
       "      <th>802</th>\n",
       "      <td>10775</td>\n",
       "      <td>6.0</td>\n",
       "      <td>2.0</td>\n",
       "      <td>2018-04-17 21:28:52</td>\n",
       "      <td>2018-04-17 19:28:52</td>\n",
       "      <td>Vin</td>\n",
       "      <td>Albert Mann Pinot Gris Vendanges Tardives Alte...</td>\n",
       "      <td>Belle bouteille dotée d’une grande complexité ...</td>\n",
       "      <td>albert-mann-pinot-gris-vendanges-tardives-alte...</td>\n",
       "      <td>2018-12-22 10:30:02</td>\n",
       "      <td>2018-12-22 09:30:02</td>\n",
       "      <td>https://www.bottle-neck.fr/?post_type=product&amp;...</td>\n",
       "      <td>product</td>\n",
       "    </tr>\n",
       "    <tr>\n",
       "      <th>1317</th>\n",
       "      <td>10775</td>\n",
       "      <td>6.0</td>\n",
       "      <td>2.0</td>\n",
       "      <td>2018-04-17 21:28:52</td>\n",
       "      <td>2018-04-17 19:28:52</td>\n",
       "      <td>Vin</td>\n",
       "      <td>Albert Mann Pinot Gris Vendanges Tardives Alte...</td>\n",
       "      <td>NaN</td>\n",
       "      <td>albert-mann-pinot-gris-vendanges-tardives-alte...</td>\n",
       "      <td>2018-12-22 10:30:02</td>\n",
       "      <td>2018-12-22 09:30:02</td>\n",
       "      <td>https://www.bottle-neck.fr/wp-content/uploads/...</td>\n",
       "      <td>attachment</td>\n",
       "    </tr>\n",
       "    <tr>\n",
       "      <th>520</th>\n",
       "      <td>10814</td>\n",
       "      <td>7.0</td>\n",
       "      <td>2.0</td>\n",
       "      <td>2018-04-17 10:12:40</td>\n",
       "      <td>2018-04-17 08:12:40</td>\n",
       "      <td>Vin</td>\n",
       "      <td>Thierry Germain Saumur-Champigny Outre Terre 2013</td>\n",
       "      <td>NaN</td>\n",
       "      <td>thierry-germain-saumur-champigny-outre-terre-2013</td>\n",
       "      <td>2020-08-05 14:35:02</td>\n",
       "      <td>2020-08-05 12:35:02</td>\n",
       "      <td>https://www.bottle-neck.fr/wp-content/uploads/...</td>\n",
       "      <td>attachment</td>\n",
       "    </tr>\n",
       "    <tr>\n",
       "      <th>860</th>\n",
       "      <td>10814</td>\n",
       "      <td>7.0</td>\n",
       "      <td>2.0</td>\n",
       "      <td>2018-04-17 10:12:40</td>\n",
       "      <td>2018-04-17 08:12:40</td>\n",
       "      <td>Vin</td>\n",
       "      <td>Thierry Germain Saumur-Champigny Outre Terre 2013</td>\n",
       "      <td>La robe est rouge vif. Le nez est très floral,...</td>\n",
       "      <td>thierry-germain-saumur-champigny-outre-terre-2013</td>\n",
       "      <td>2020-08-05 14:35:02</td>\n",
       "      <td>2020-08-05 12:35:02</td>\n",
       "      <td>https://www.bottle-neck.fr/?post_type=product&amp;...</td>\n",
       "      <td>product</td>\n",
       "    </tr>\n",
       "    <tr>\n",
       "      <th>1322</th>\n",
       "      <td>11049</td>\n",
       "      <td>4.0</td>\n",
       "      <td>2.0</td>\n",
       "      <td>2018-04-13 16:07:49</td>\n",
       "      <td>2018-04-13 14:07:49</td>\n",
       "      <td>Vin</td>\n",
       "      <td>Alphonse Mellot Sancerre Rouge En Grands Champ...</td>\n",
       "      <td>NaN</td>\n",
       "      <td>alphonse-mellot-sancerre-rouge-en-grands-champ...</td>\n",
       "      <td>2020-01-31 09:30:02</td>\n",
       "      <td>2020-01-31 08:30:02</td>\n",
       "      <td>https://www.bottle-neck.fr/wp-content/uploads/...</td>\n",
       "      <td>attachment</td>\n",
       "    </tr>\n",
       "    <tr>\n",
       "      <th>408</th>\n",
       "      <td>11049</td>\n",
       "      <td>4.0</td>\n",
       "      <td>2.0</td>\n",
       "      <td>2018-04-13 16:07:49</td>\n",
       "      <td>2018-04-13 14:07:49</td>\n",
       "      <td>Vin</td>\n",
       "      <td>Alphonse Mellot Sancerre Rouge En Grands Champ...</td>\n",
       "      <td>Superbe robe carmin profond. Un très grand ter...</td>\n",
       "      <td>alphonse-mellot-sancerre-rouge-en-grands-champ...</td>\n",
       "      <td>2020-01-31 09:30:02</td>\n",
       "      <td>2020-01-31 08:30:02</td>\n",
       "      <td>https://www.bottle-neck.fr/?post_type=product&amp;...</td>\n",
       "      <td>product</td>\n",
       "    </tr>\n",
       "  </tbody>\n",
       "</table>\n",
       "</div>"
      ],
      "text/plain": [
       "        sku  total_sales  post_author           post_date       post_date_gmt  \\\n",
       "1030  10014         10.0          2.0 2019-04-04 15:45:23 2019-04-04 13:45:23   \n",
       "668   10014         10.0          2.0 2019-04-04 15:45:23 2019-04-04 13:45:23   \n",
       "748   10459          4.0          2.0 2018-04-13 15:58:19 2018-04-13 13:58:19   \n",
       "887   10459          4.0          2.0 2018-04-13 15:58:19 2018-04-13 13:58:19   \n",
       "802   10775          6.0          2.0 2018-04-17 21:28:52 2018-04-17 19:28:52   \n",
       "1317  10775          6.0          2.0 2018-04-17 21:28:52 2018-04-17 19:28:52   \n",
       "520   10814          7.0          2.0 2018-04-17 10:12:40 2018-04-17 08:12:40   \n",
       "860   10814          7.0          2.0 2018-04-17 10:12:40 2018-04-17 08:12:40   \n",
       "1322  11049          4.0          2.0 2018-04-13 16:07:49 2018-04-13 14:07:49   \n",
       "408   11049          4.0          2.0 2018-04-13 16:07:49 2018-04-13 14:07:49   \n",
       "\n",
       "     product_type                                         post_title  \\\n",
       "1030          Gin                  Darnley's London Dry Gin Original   \n",
       "668           Gin                  Darnley's London Dry Gin Original   \n",
       "748           Vin  Alphonse Mellot Sancerre Rouge Génération XIX ...   \n",
       "887           Vin  Alphonse Mellot Sancerre Rouge Génération XIX ...   \n",
       "802           Vin  Albert Mann Pinot Gris Vendanges Tardives Alte...   \n",
       "1317          Vin  Albert Mann Pinot Gris Vendanges Tardives Alte...   \n",
       "520           Vin  Thierry Germain Saumur-Champigny Outre Terre 2013   \n",
       "860           Vin  Thierry Germain Saumur-Champigny Outre Terre 2013   \n",
       "1322          Vin  Alphonse Mellot Sancerre Rouge En Grands Champ...   \n",
       "408           Vin  Alphonse Mellot Sancerre Rouge En Grands Champ...   \n",
       "\n",
       "                                           post_excerpt  \\\n",
       "1030                                                NaN   \n",
       "668   <span title=\"\">Un gin léger, floral et aromati...   \n",
       "748   Robe d'un superbe rubis, dense et profond - As...   \n",
       "887                                                 NaN   \n",
       "802   Belle bouteille dotée d’une grande complexité ...   \n",
       "1317                                                NaN   \n",
       "520                                                 NaN   \n",
       "860   La robe est rouge vif. Le nez est très floral,...   \n",
       "1322                                                NaN   \n",
       "408   Superbe robe carmin profond. Un très grand ter...   \n",
       "\n",
       "                                              post_name       post_modified  \\\n",
       "1030                   darnleys-london-dry-gin-original 2020-08-26 15:55:02   \n",
       "668                    darnleys-london-dry-gin-original 2020-08-26 15:55:02   \n",
       "748   alphonse-mellot-sancerre-rouge-generation-xix-... 2020-08-24 14:05:02   \n",
       "887   alphonse-mellot-sancerre-rouge-generation-xix-... 2020-08-24 14:05:02   \n",
       "802   albert-mann-pinot-gris-vendanges-tardives-alte... 2018-12-22 10:30:02   \n",
       "1317  albert-mann-pinot-gris-vendanges-tardives-alte... 2018-12-22 10:30:02   \n",
       "520   thierry-germain-saumur-champigny-outre-terre-2013 2020-08-05 14:35:02   \n",
       "860   thierry-germain-saumur-champigny-outre-terre-2013 2020-08-05 14:35:02   \n",
       "1322  alphonse-mellot-sancerre-rouge-en-grands-champ... 2020-01-31 09:30:02   \n",
       "408   alphonse-mellot-sancerre-rouge-en-grands-champ... 2020-01-31 09:30:02   \n",
       "\n",
       "       post_modified_gmt                                               guid  \\\n",
       "1030 2020-08-26 13:55:02  https://www.bottle-neck.fr/wp-content/uploads/...   \n",
       "668  2020-08-26 13:55:02  https://www.bottle-neck.fr/?post_type=product&...   \n",
       "748  2020-08-24 12:05:02  https://www.bottle-neck.fr/?post_type=product&...   \n",
       "887  2020-08-24 12:05:02  https://www.bottle-neck.fr/wp-content/uploads/...   \n",
       "802  2018-12-22 09:30:02  https://www.bottle-neck.fr/?post_type=product&...   \n",
       "1317 2018-12-22 09:30:02  https://www.bottle-neck.fr/wp-content/uploads/...   \n",
       "520  2020-08-05 12:35:02  https://www.bottle-neck.fr/wp-content/uploads/...   \n",
       "860  2020-08-05 12:35:02  https://www.bottle-neck.fr/?post_type=product&...   \n",
       "1322 2020-01-31 08:30:02  https://www.bottle-neck.fr/wp-content/uploads/...   \n",
       "408  2020-01-31 08:30:02  https://www.bottle-neck.fr/?post_type=product&...   \n",
       "\n",
       "       post_type  \n",
       "1030  attachment  \n",
       "668      product  \n",
       "748      product  \n",
       "887   attachment  \n",
       "802      product  \n",
       "1317  attachment  \n",
       "520   attachment  \n",
       "860      product  \n",
       "1322  attachment  \n",
       "408      product  "
      ]
     },
     "execution_count": 53,
     "metadata": {},
     "output_type": "execute_result"
    }
   ],
   "source": [
    "#Analyse poussée des doublons\n",
    "df_web['sku'] = df_web['sku'].astype(str)\n",
    "d= df_web.duplicated(subset='sku', keep=False)\n",
    "df_duplicates = df_web[d].sort_values('sku').head(10)\n",
    "df_duplicates"
   ]
  },
  {
   "cell_type": "markdown",
   "id": "ac11af4d-14a1-48c2-921c-e7a9111a6d4d",
   "metadata": {},
   "source": [
    "**Je remarque sur les doublons 'sku' que les lignes sont 2 à 2 quasiment identiques, si ce n'est pour quelques colonnes, dont \"post_type\". Je décide de garder uniquement les lignes \"post_type\" ayant pour valeur 'product'**"
   ]
  },
  {
   "cell_type": "code",
   "execution_count": 54,
   "id": "5eb7e7d0-794a-4da3-a899-993287f050d3",
   "metadata": {},
   "outputs": [],
   "source": [
    "# Nettoyer post_type au cas où\n",
    "df_web['post_type'] = df_web['post_type'].astype(str).str.strip().str.lower()\n",
    "\n",
    "# Identifier les SKU dupliqués\n",
    "dupli_skus = df_web[df_web.duplicated(subset='sku', keep=False)]['sku']\n",
    "\n",
    "# Garder toutes les lignes où\n",
    "# - soit le SKU n'est pas dupliqué\n",
    "# - soit le SKU est dupliqué ET post_type == 'product'\n",
    "df_web_filtered = df_web[(~df_web['sku'].isin(dupli_skus)) | \n",
    "                     ((df_web['sku'].isin(dupli_skus)) & (df_web['post_type'] == 'product'))]"
   ]
  },
  {
   "cell_type": "code",
   "execution_count": 55,
   "id": "ff8f767a-05e8-43ad-b89a-81e59f8abe99",
   "metadata": {},
   "outputs": [
    {
     "data": {
      "text/html": [
       "<div>\n",
       "<style scoped>\n",
       "    .dataframe tbody tr th:only-of-type {\n",
       "        vertical-align: middle;\n",
       "    }\n",
       "\n",
       "    .dataframe tbody tr th {\n",
       "        vertical-align: top;\n",
       "    }\n",
       "\n",
       "    .dataframe thead th {\n",
       "        text-align: right;\n",
       "    }\n",
       "</style>\n",
       "<table border=\"1\" class=\"dataframe\">\n",
       "  <thead>\n",
       "    <tr style=\"text-align: right;\">\n",
       "      <th></th>\n",
       "      <th>sku</th>\n",
       "      <th>total_sales</th>\n",
       "      <th>post_author</th>\n",
       "      <th>post_date</th>\n",
       "      <th>post_date_gmt</th>\n",
       "      <th>product_type</th>\n",
       "      <th>post_title</th>\n",
       "      <th>post_excerpt</th>\n",
       "      <th>post_name</th>\n",
       "      <th>post_modified</th>\n",
       "      <th>post_modified_gmt</th>\n",
       "      <th>guid</th>\n",
       "      <th>post_type</th>\n",
       "    </tr>\n",
       "  </thead>\n",
       "  <tbody>\n",
       "  </tbody>\n",
       "</table>\n",
       "</div>"
      ],
      "text/plain": [
       "Empty DataFrame\n",
       "Columns: [sku, total_sales, post_author, post_date, post_date_gmt, product_type, post_title, post_excerpt, post_name, post_modified, post_modified_gmt, guid, post_type]\n",
       "Index: []"
      ]
     },
     "execution_count": 55,
     "metadata": {},
     "output_type": "execute_result"
    }
   ],
   "source": [
    "#Vérification de la suppression des doublons\n",
    "doublons_df_web_filtered =df_web_filtered.duplicated(subset='sku')\n",
    "df_web_filtered[doublons_df_web_filtered ]"
   ]
  },
  {
   "cell_type": "code",
   "execution_count": 56,
   "id": "b7010a23-6077-4cf1-9fbe-ad73325dca0c",
   "metadata": {},
   "outputs": [
    {
     "name": "stdout",
     "output_type": "stream",
     "text": [
      "        sku  total_sales  post_author           post_date       post_date_gmt  \\\n",
      "114   14561        111.0          2.0 2018-09-01 15:34:55 2018-09-01 13:34:55   \n",
      "219   15346         22.0          2.0 2018-07-31 11:49:05 2018-07-31 09:49:05   \n",
      "452   14950        122.0          2.0 2018-04-18 11:53:51 2018-04-18 09:53:51   \n",
      "523    1366        116.0          2.0 2018-02-13 13:45:31 2018-02-13 12:45:31   \n",
      "548    1366          6.0          2.0 2018-02-13 13:45:31 2018-02-13 12:45:31   \n",
      "843   15346          2.0          2.0 2018-07-31 11:49:05 2018-07-31 09:49:05   \n",
      "999   14950         22.0          2.0 2018-04-18 11:53:51 2018-04-18 09:53:51   \n",
      "1052  14561         11.0          2.0 2018-09-01 15:34:55 2018-09-01 13:34:55   \n",
      "\n",
      "     product_type                                    post_title  \\\n",
      "114           Vin       Argentine Mendoza Alamos Torrontes 2017   \n",
      "219           Vin           Albert Mann Pinot Noir Grand H 2017   \n",
      "452           Vin      François Baur Pinot Noir Schlittweg 2017   \n",
      "523     Champagne  Champagne Mailly Grand Cru Intemporelle 2010   \n",
      "548     Champagne  Champagne Mailly Grand Cru Intemporelle 2010   \n",
      "843           Vin           Albert Mann Pinot Noir Grand H 2017   \n",
      "999           Vin      François Baur Pinot Noir Schlittweg 2017   \n",
      "1052          Vin       Argentine Mendoza Alamos Torrontes 2017   \n",
      "\n",
      "                                           post_excerpt  \\\n",
      "114                                                 NaN   \n",
      "219                                                 NaN   \n",
      "452                                                 NaN   \n",
      "523                                                 NaN   \n",
      "548   A l’œil, la robe brillante séduit par sa belle...   \n",
      "843   La robe est profonde, de couleur rouge grenat....   \n",
      "999   Un éclat de fruits, de la souplesse, de la ron...   \n",
      "1052  <span style=\"float: none; background-color: tr...   \n",
      "\n",
      "                                         post_name       post_modified  \\\n",
      "114        argentine-mendoza-alamos-torrontes-2017 2020-07-11 14:00:03   \n",
      "219            albert-mann-pinot-noir-grand-h-2017 2020-02-13 17:00:01   \n",
      "452       francois-baur-pinot-noir-schlittweg-2017 2020-05-06 11:35:01   \n",
      "523   champagne-mailly-grand-cru-intemporelle-2010 2020-08-26 18:05:02   \n",
      "548   champagne-mailly-grand-cru-intemporelle-2010 2020-08-26 18:05:02   \n",
      "843            albert-mann-pinot-noir-grand-h-2017 2020-02-13 17:00:01   \n",
      "999       francois-baur-pinot-noir-schlittweg-2017 2020-05-06 11:35:01   \n",
      "1052       argentine-mendoza-alamos-torrontes-2017 2020-07-11 14:00:03   \n",
      "\n",
      "       post_modified_gmt                                               guid  \\\n",
      "114  2020-07-11 12:00:03  https://www.bottle-neck.fr/wp-content/uploads/...   \n",
      "219  2020-02-13 16:00:01  https://www.bottle-neck.fr/wp-content/uploads/...   \n",
      "452  2020-05-06 09:35:01  https://www.bottle-neck.fr/wp-content/uploads/...   \n",
      "523  2020-08-26 16:05:02  https://www.bottle-neck.fr/wp-content/uploads/...   \n",
      "548  2020-08-26 16:05:02  https://www.bottle-neck.fr/?post_type=product&...   \n",
      "843  2020-02-13 16:00:01  https://www.bottle-neck.fr/?post_type=product&...   \n",
      "999  2020-05-06 09:35:01  https://www.bottle-neck.fr/?post_type=product&...   \n",
      "1052 2020-07-11 12:00:03  https://www.bottle-neck.fr/?post_type=product&...   \n",
      "\n",
      "       post_type  \n",
      "114   attachment  \n",
      "219   attachment  \n",
      "452   attachment  \n",
      "523   attachment  \n",
      "548      product  \n",
      "843      product  \n",
      "999      product  \n",
      "1052     product  \n"
     ]
    }
   ],
   "source": [
    "# Trouver les sku qui ont plus d'une valeur unique de total_sales\n",
    "skus_avec_incoherence = df_web.groupby('sku')['total_sales'].nunique()\n",
    "skus_incoherents = skus_avec_incoherence[skus_avec_incoherence > 1].index\n",
    "\n",
    "# Afficher les lignes concernées\n",
    "df_incoherents = df_web[df_web['sku'].isin(skus_incoherents)]\n",
    "\n",
    "print(df_incoherents)\n"
   ]
  },
  {
   "cell_type": "code",
   "execution_count": 57,
   "id": "ded782fc-0784-48cf-a75a-d42f9cc0eb16",
   "metadata": {},
   "outputs": [
    {
     "data": {
      "image/png": "[encoded data removed]",
      "text/plain": [
       "<Figure size 511.111x500 with 1 Axes>"
      ]
     },
     "metadata": {},
     "output_type": "display_data"
    }
   ],
   "source": [
    "#Vérification des valeurs extrêmes de \"total_sales\"\n",
    "sns.catplot(data=df_web, x='total_sales', kind='box')\n",
    "plt.show()"
   ]
  },
  {
   "cell_type": "code",
   "execution_count": 58,
   "id": "d12c52ad-9695-44a7-a1f3-0bb4cce347e4",
   "metadata": {},
   "outputs": [
    {
     "data": {
      "text/plain": [
       "712"
      ]
     },
     "execution_count": 58,
     "metadata": {},
     "output_type": "execute_result"
    }
   ],
   "source": [
    "#Longeur du dataframe nettoyé\n",
    "len(df_web_filtered)"
   ]
  },
  {
   "cell_type": "code",
   "execution_count": 59,
   "id": "3b056a42-cef7-4845-91c2-afa3a1a073d5",
   "metadata": {},
   "outputs": [
    {
     "data": {
      "text/plain": [
       "sku                  0\n",
       "total_sales          0\n",
       "post_author          0\n",
       "post_date            0\n",
       "post_date_gmt        0\n",
       "product_type         0\n",
       "post_title           0\n",
       "post_excerpt         0\n",
       "post_name            0\n",
       "post_modified        0\n",
       "post_modified_gmt    0\n",
       "guid                 0\n",
       "post_type            0\n",
       "dtype: int64"
      ]
     },
     "execution_count": 59,
     "metadata": {},
     "output_type": "execute_result"
    }
   ],
   "source": [
    "df_web_filtered.isna().sum()"
   ]
  },
  {
   "cell_type": "markdown",
   "id": "55c5551d-f733-4fa0-a276-abe21a126ab2",
   "metadata": {},
   "source": [
    "**En conclusion, df_web_filtered est la nouvelle version de df_web, avec aucun NAN. Le Dataframe a maintenant 712 lignes, et sans doublons pour la clé \"sku\".  \n",
    "Pour les paires doublons présents sur la clé \"sku\", j'ai fais le choix de garder ceux ayant la mentions \"product\" sur \"post_type\", car plus cohérents et complets.**\n"
   ]
  },
  {
   "cell_type": "markdown",
   "id": "dbff6403",
   "metadata": {},
   "source": [
    "<div style=\"border: 1px solid RGB(51,165,182);\" >\n",
    "<h3 style=\"margin: auto; padding: 20px; color: RGB(51,165,182); \">2.3 - Analyse exploratoire du fichier liaison.xlsx</h3>\n",
    "</div>"
   ]
  },
  {
   "cell_type": "code",
   "execution_count": 60,
   "id": "1b5b2385-6df2-419f-8d1e-92088f8388ce",
   "metadata": {},
   "outputs": [
    {
     "data": {
      "text/html": [
       "<div>\n",
       "<style scoped>\n",
       "    .dataframe tbody tr th:only-of-type {\n",
       "        vertical-align: middle;\n",
       "    }\n",
       "\n",
       "    .dataframe tbody tr th {\n",
       "        vertical-align: top;\n",
       "    }\n",
       "\n",
       "    .dataframe thead th {\n",
       "        text-align: right;\n",
       "    }\n",
       "</style>\n",
       "<table border=\"1\" class=\"dataframe\">\n",
       "  <thead>\n",
       "    <tr style=\"text-align: right;\">\n",
       "      <th></th>\n",
       "      <th>id_web</th>\n",
       "      <th>product_id</th>\n",
       "    </tr>\n",
       "  </thead>\n",
       "  <tbody>\n",
       "    <tr>\n",
       "      <th>0</th>\n",
       "      <td>15298</td>\n",
       "      <td>3847</td>\n",
       "    </tr>\n",
       "    <tr>\n",
       "      <th>1</th>\n",
       "      <td>15296</td>\n",
       "      <td>3849</td>\n",
       "    </tr>\n",
       "    <tr>\n",
       "      <th>2</th>\n",
       "      <td>15300</td>\n",
       "      <td>3850</td>\n",
       "    </tr>\n",
       "    <tr>\n",
       "      <th>3</th>\n",
       "      <td>19814</td>\n",
       "      <td>4032</td>\n",
       "    </tr>\n",
       "    <tr>\n",
       "      <th>4</th>\n",
       "      <td>19815</td>\n",
       "      <td>4039</td>\n",
       "    </tr>\n",
       "    <tr>\n",
       "      <th>...</th>\n",
       "      <td>...</td>\n",
       "      <td>...</td>\n",
       "    </tr>\n",
       "    <tr>\n",
       "      <th>820</th>\n",
       "      <td>NaN</td>\n",
       "      <td>7203</td>\n",
       "    </tr>\n",
       "    <tr>\n",
       "      <th>821</th>\n",
       "      <td>NaN</td>\n",
       "      <td>7204</td>\n",
       "    </tr>\n",
       "    <tr>\n",
       "      <th>822</th>\n",
       "      <td>13127-1</td>\n",
       "      <td>7247</td>\n",
       "    </tr>\n",
       "    <tr>\n",
       "      <th>823</th>\n",
       "      <td>14680-1</td>\n",
       "      <td>7329</td>\n",
       "    </tr>\n",
       "    <tr>\n",
       "      <th>824</th>\n",
       "      <td>16230</td>\n",
       "      <td>7338</td>\n",
       "    </tr>\n",
       "  </tbody>\n",
       "</table>\n",
       "<p>825 rows × 2 columns</p>\n",
       "</div>"
      ],
      "text/plain": [
       "      id_web  product_id\n",
       "0      15298        3847\n",
       "1      15296        3849\n",
       "2      15300        3850\n",
       "3      19814        4032\n",
       "4      19815        4039\n",
       "..       ...         ...\n",
       "820      NaN        7203\n",
       "821      NaN        7204\n",
       "822  13127-1        7247\n",
       "823  14680-1        7329\n",
       "824    16230        7338\n",
       "\n",
       "[825 rows x 2 columns]"
      ]
     },
     "execution_count": 60,
     "metadata": {},
     "output_type": "execute_result"
    }
   ],
   "source": [
    "df_liaison"
   ]
  },
  {
   "cell_type": "code",
   "execution_count": 61,
   "id": "de426b74",
   "metadata": {},
   "outputs": [
    {
     "data": {
      "text/plain": [
       "(825, 2)"
      ]
     },
     "execution_count": 61,
     "metadata": {},
     "output_type": "execute_result"
    }
   ],
   "source": [
    "#Dimension du dataset\n",
    "#Nombre d'observations\n",
    "df_liaison.shape"
   ]
  },
  {
   "cell_type": "code",
   "execution_count": 62,
   "id": "e9d4dbdd-ec58-44a5-9f8a-5704677f1177",
   "metadata": {},
   "outputs": [
    {
     "name": "stdout",
     "output_type": "stream",
     "text": [
      "Nombre d'observations (lignes) : 825\n"
     ]
    }
   ],
   "source": [
    "#Nombre de caractéristiques\n",
    "print(f\"Nombre d'observations (lignes) : {df_liaison.shape[0]}\")"
   ]
  },
  {
   "cell_type": "code",
   "execution_count": 63,
   "id": "e7be036c-d895-42ed-9de8-0e1703ffdd5b",
   "metadata": {},
   "outputs": [
    {
     "name": "stdout",
     "output_type": "stream",
     "text": [
      "Nombre d'observations (lignes) : 2\n"
     ]
    }
   ],
   "source": [
    "#Consulter le nombre de colonnes\n",
    "print(f\"Nombre d'observations (lignes) : {df_liaison.shape[1]}\")"
   ]
  },
  {
   "cell_type": "code",
   "execution_count": 64,
   "id": "6b333b0d-3390-4d23-9196-6b4724f3f214",
   "metadata": {},
   "outputs": [
    {
     "data": {
      "text/plain": [
       "id_web        object\n",
       "product_id     int64\n",
       "dtype: object"
      ]
     },
     "execution_count": 64,
     "metadata": {},
     "output_type": "execute_result"
    }
   ],
   "source": [
    "#La nature des données dans chacune des colonnes\n",
    "df_liaison.dtypes"
   ]
  },
  {
   "cell_type": "code",
   "execution_count": 65,
   "id": "9834ae33",
   "metadata": {},
   "outputs": [
    {
     "data": {
      "text/plain": [
       "id_web        734\n",
       "product_id    825\n",
       "dtype: int64"
      ]
     },
     "execution_count": 65,
     "metadata": {},
     "output_type": "execute_result"
    }
   ],
   "source": [
    "#Le nombre de valeurs présentes dans chacune des colonnes\n",
    "df_liaison.count()"
   ]
  },
  {
   "cell_type": "code",
   "execution_count": 66,
   "id": "bce3dbee-abe1-4964-83b9-262059dab213",
   "metadata": {},
   "outputs": [
    {
     "data": {
      "text/plain": [
       "id_web        91\n",
       "product_id     0\n",
       "dtype: int64"
      ]
     },
     "execution_count": 66,
     "metadata": {},
     "output_type": "execute_result"
    }
   ],
   "source": [
    "#Le nombre de valeurs manquantes dans chacune des colonnes\n",
    "df_liaison.isna().sum()"
   ]
  },
  {
   "cell_type": "markdown",
   "id": "d8971362-6916-42dd-a369-3680763e059d",
   "metadata": {},
   "source": [
    "**Je supprime les valeurs manquantes de la clé \"id_web\"**"
   ]
  },
  {
   "cell_type": "code",
   "execution_count": 67,
   "id": "4b24eb43-7b66-463f-ab59-fec7f6e45c38",
   "metadata": {},
   "outputs": [
    {
     "data": {
      "text/plain": [
       "id_web        0\n",
       "product_id    0\n",
       "dtype: int64"
      ]
     },
     "execution_count": 67,
     "metadata": {},
     "output_type": "execute_result"
    }
   ],
   "source": [
    "df_liaison.dropna(inplace = True)\n",
    "df_liaison.isna().sum()"
   ]
  },
  {
   "cell_type": "code",
   "execution_count": 68,
   "id": "2b30d6b2",
   "metadata": {
    "editable": true,
    "slideshow": {
     "slide_type": ""
    },
    "tags": []
   },
   "outputs": [
    {
     "data": {
      "text/html": [
       "<div>\n",
       "<style scoped>\n",
       "    .dataframe tbody tr th:only-of-type {\n",
       "        vertical-align: middle;\n",
       "    }\n",
       "\n",
       "    .dataframe tbody tr th {\n",
       "        vertical-align: top;\n",
       "    }\n",
       "\n",
       "    .dataframe thead th {\n",
       "        text-align: right;\n",
       "    }\n",
       "</style>\n",
       "<table border=\"1\" class=\"dataframe\">\n",
       "  <thead>\n",
       "    <tr style=\"text-align: right;\">\n",
       "      <th></th>\n",
       "      <th>id_web</th>\n",
       "      <th>product_id</th>\n",
       "    </tr>\n",
       "  </thead>\n",
       "  <tbody>\n",
       "  </tbody>\n",
       "</table>\n",
       "</div>"
      ],
      "text/plain": [
       "Empty DataFrame\n",
       "Columns: [id_web, product_id]\n",
       "Index: []"
      ]
     },
     "execution_count": 68,
     "metadata": {},
     "output_type": "execute_result"
    }
   ],
   "source": [
    "#Les valeurs de la colonne \"product_id\" sont-elles toutes uniques?\n",
    "doublons_product_liaison = df_liaison.duplicated(\"product_id\")\n",
    "df_liaison[doublons_product_liaison]"
   ]
  },
  {
   "cell_type": "markdown",
   "id": "a4b6bffc-30e6-4032-9dcd-29a45d2cde80",
   "metadata": {},
   "source": [
    "**Il y a aucun doublons pour la colonne \"product_id\".**"
   ]
  },
  {
   "cell_type": "code",
   "execution_count": 69,
   "id": "4d8ca13c",
   "metadata": {},
   "outputs": [
    {
     "data": {
      "text/html": [
       "<div>\n",
       "<style scoped>\n",
       "    .dataframe tbody tr th:only-of-type {\n",
       "        vertical-align: middle;\n",
       "    }\n",
       "\n",
       "    .dataframe tbody tr th {\n",
       "        vertical-align: top;\n",
       "    }\n",
       "\n",
       "    .dataframe thead th {\n",
       "        text-align: right;\n",
       "    }\n",
       "</style>\n",
       "<table border=\"1\" class=\"dataframe\">\n",
       "  <thead>\n",
       "    <tr style=\"text-align: right;\">\n",
       "      <th></th>\n",
       "      <th>id_web</th>\n",
       "      <th>product_id</th>\n",
       "    </tr>\n",
       "  </thead>\n",
       "  <tbody>\n",
       "  </tbody>\n",
       "</table>\n",
       "</div>"
      ],
      "text/plain": [
       "Empty DataFrame\n",
       "Columns: [id_web, product_id]\n",
       "Index: []"
      ]
     },
     "execution_count": 69,
     "metadata": {},
     "output_type": "execute_result"
    }
   ],
   "source": [
    "#Les valeurs de la colonne \"id_web\" sont-elles toutes uniques?\n",
    "doublons_liaison_web = df_liaison.duplicated(\"id_web\", keep=False)\n",
    "df_liaison[doublons_liaison_web]"
   ]
  },
  {
   "cell_type": "markdown",
   "id": "3159a20b-eafb-4cd8-be14-40c566c3ecbe",
   "metadata": {},
   "source": [
    "**Il y a aucun doublons pour la colonne \"id_web\".**"
   ]
  },
  {
   "cell_type": "code",
   "execution_count": 70,
   "id": "52f7c843",
   "metadata": {},
   "outputs": [
    {
     "data": {
      "text/plain": [
       "(734, 734)"
      ]
     },
     "execution_count": 70,
     "metadata": {},
     "output_type": "execute_result"
    }
   ],
   "source": [
    "#Avons-nous des articles sans correspondance?\n",
    "#Je compare d'abord le nombre de clés unique\n",
    "df_liaison['id_web'].nunique(), df_liaison['product_id'].nunique()"
   ]
  },
  {
   "cell_type": "code",
   "execution_count": 71,
   "id": "e7410e0d-b53c-49e0-a105-78371f56b877",
   "metadata": {},
   "outputs": [
    {
     "data": {
      "text/plain": [
       "0        15298\n",
       "1        15296\n",
       "2        15300\n",
       "3        19814\n",
       "4        19815\n",
       "        ...   \n",
       "792      15891\n",
       "793      15887\n",
       "822    13127-1\n",
       "823    14680-1\n",
       "824      16230\n",
       "Name: id_web, Length: 734, dtype: object"
      ]
     },
     "execution_count": 71,
     "metadata": {},
     "output_type": "execute_result"
    }
   ],
   "source": [
    "df_liaison['id_web']"
   ]
  },
  {
   "cell_type": "code",
   "execution_count": 72,
   "id": "7a614e29-aebc-4050-b4b4-68571b979e49",
   "metadata": {},
   "outputs": [
    {
     "data": {
      "text/plain": [
       "443    bon-cadeau-25-euros\n",
       "822                13127-1\n",
       "823                14680-1\n",
       "Name: id_web, dtype: object"
      ]
     },
     "execution_count": 72,
     "metadata": {},
     "output_type": "execute_result"
    }
   ],
   "source": [
    "#Recherche des valeurs erronées\n",
    "df_liaison_sans_NAN = df_liaison[~df_liaison['id_web'].isna()].copy()\n",
    "df_liaison_sans_NAN['id_web'] =df_liaison_sans_NAN['id_web'].astype(str)\n",
    "valeurs_numerique_liaison = df_liaison_sans_NAN['id_web'].str.fullmatch(r'\\d+')\n",
    "df_liaison_sans_NAN.loc[~valeurs_numerique_liaison, 'id_web']"
   ]
  },
  {
   "cell_type": "code",
   "execution_count": 73,
   "id": "a9f24967-9940-4336-b1d4-3b645a932095",
   "metadata": {},
   "outputs": [],
   "source": [
    "#correction des valeurs\n",
    "df_liaison.drop(443, inplace = True)\n",
    "df_liaison.loc[822, 'id_web'] = 13127\n",
    "df_liaison.loc[823, 'id_web'] = 14680"
   ]
  },
  {
   "cell_type": "code",
   "execution_count": 74,
   "id": "ddac5eb1-6882-4497-958b-76c720f59b80",
   "metadata": {},
   "outputs": [
    {
     "data": {
      "text/html": [
       "<div>\n",
       "<style scoped>\n",
       "    .dataframe tbody tr th:only-of-type {\n",
       "        vertical-align: middle;\n",
       "    }\n",
       "\n",
       "    .dataframe tbody tr th {\n",
       "        vertical-align: top;\n",
       "    }\n",
       "\n",
       "    .dataframe thead th {\n",
       "        text-align: right;\n",
       "    }\n",
       "</style>\n",
       "<table border=\"1\" class=\"dataframe\">\n",
       "  <thead>\n",
       "    <tr style=\"text-align: right;\">\n",
       "      <th></th>\n",
       "      <th>id_web</th>\n",
       "      <th>product_id</th>\n",
       "    </tr>\n",
       "  </thead>\n",
       "  <tbody>\n",
       "    <tr>\n",
       "      <th>17</th>\n",
       "      <td>13127</td>\n",
       "      <td>4053</td>\n",
       "    </tr>\n",
       "    <tr>\n",
       "      <th>363</th>\n",
       "      <td>14680</td>\n",
       "      <td>4757</td>\n",
       "    </tr>\n",
       "    <tr>\n",
       "      <th>822</th>\n",
       "      <td>13127</td>\n",
       "      <td>7247</td>\n",
       "    </tr>\n",
       "    <tr>\n",
       "      <th>823</th>\n",
       "      <td>14680</td>\n",
       "      <td>7329</td>\n",
       "    </tr>\n",
       "  </tbody>\n",
       "</table>\n",
       "</div>"
      ],
      "text/plain": [
       "    id_web  product_id\n",
       "17   13127        4053\n",
       "363  14680        4757\n",
       "822  13127        7247\n",
       "823  14680        7329"
      ]
     },
     "execution_count": 74,
     "metadata": {},
     "output_type": "execute_result"
    }
   ],
   "source": [
    "#Je vérifie une deuxième fois les doublons de la colonne \"id_web\" après mes modifications\n",
    "doublons_liaison_web = df_liaison.duplicated(\"id_web\", keep=False)\n",
    "df_liaison[doublons_liaison_web]"
   ]
  },
  {
   "cell_type": "code",
   "execution_count": 75,
   "id": "ec325052-8855-48dd-b832-a214b5457420",
   "metadata": {},
   "outputs": [
    {
     "data": {
      "text/plain": [
       "733"
      ]
     },
     "execution_count": 75,
     "metadata": {},
     "output_type": "execute_result"
    }
   ],
   "source": [
    "len(df_liaison)"
   ]
  },
  {
   "cell_type": "code",
   "execution_count": 76,
   "id": "76a75e36-4c2d-4a2a-9591-bcf1eab9bfa6",
   "metadata": {},
   "outputs": [
    {
     "data": {
      "text/html": [
       "<div>\n",
       "<style scoped>\n",
       "    .dataframe tbody tr th:only-of-type {\n",
       "        vertical-align: middle;\n",
       "    }\n",
       "\n",
       "    .dataframe tbody tr th {\n",
       "        vertical-align: top;\n",
       "    }\n",
       "\n",
       "    .dataframe thead th {\n",
       "        text-align: right;\n",
       "    }\n",
       "</style>\n",
       "<table border=\"1\" class=\"dataframe\">\n",
       "  <thead>\n",
       "    <tr style=\"text-align: right;\">\n",
       "      <th></th>\n",
       "      <th>id_web</th>\n",
       "      <th>product_id</th>\n",
       "    </tr>\n",
       "  </thead>\n",
       "  <tbody>\n",
       "  </tbody>\n",
       "</table>\n",
       "</div>"
      ],
      "text/plain": [
       "Empty DataFrame\n",
       "Columns: [id_web, product_id]\n",
       "Index: []"
      ]
     },
     "execution_count": 76,
     "metadata": {},
     "output_type": "execute_result"
    }
   ],
   "source": [
    "#Je supprimes les mauvaises clés\n",
    "df_liaison.drop([822, 823], inplace=True)\n",
    "doublons_liaison_web = df_liaison.duplicated(\"id_web\", keep=False)\n",
    "df_liaison[doublons_liaison_web]"
   ]
  },
  {
   "cell_type": "markdown",
   "id": "9c7ba645-1a36-4846-9d85-1b50a4f81cb3",
   "metadata": {},
   "source": [
    "**J'ai supprimé 3 lignes correspondant à des mauvaises clés \"sku.\"**"
   ]
  },
  {
   "cell_type": "code",
   "execution_count": 77,
   "id": "17ea2703-0a52-455d-b3c8-0e7ce248a7a4",
   "metadata": {},
   "outputs": [
    {
     "data": {
      "text/plain": [
       "731"
      ]
     },
     "execution_count": 77,
     "metadata": {},
     "output_type": "execute_result"
    }
   ],
   "source": [
    "len(df_liaison)"
   ]
  },
  {
   "cell_type": "code",
   "execution_count": 78,
   "id": "6be53591-8a2e-4044-8037-b97c26b3911d",
   "metadata": {},
   "outputs": [
    {
     "name": "stdout",
     "output_type": "stream",
     "text": [
      "Il y a 0 articles sans correspondance.\n"
     ]
    }
   ],
   "source": [
    "#Puis je donne la différence\n",
    "nb_sans_correspondance = df_liaison['id_web'].isna().sum()\n",
    "print(f\"Il y a {nb_sans_correspondance} articles sans correspondance.\")"
   ]
  },
  {
   "cell_type": "markdown",
   "id": "7eb3a0a7-c75a-44b8-9c60-226188ff8658",
   "metadata": {},
   "source": [
    "**J'ai supprimé 91 lignes correspondant à des valeurs manquantes pour la clé \"id_web\".  \n",
    "Ensuite, j'ai trouvé 3 erreurs 'hors format', que j'ai supprimé également.  \n",
    "On se retrouve donc avec un dataframe sans aucun doublons, et sans valeurs manquantes, de 731 lignes.**"
   ]
  },
  {
   "cell_type": "markdown",
   "id": "1a359137",
   "metadata": {},
   "source": [
    "<div style=\"background-color: RGB(51,165,182);\" >\n",
    "<h2 style=\"margin: auto; padding: 20px; color:#fff; \">Etape 3 - Jonction des fichiers</h2>\n",
    "</div>"
   ]
  },
  {
   "cell_type": "markdown",
   "id": "b7750c10",
   "metadata": {},
   "source": [
    "<div style=\"border: 1px solid RGB(51,165,182);\" >\n",
    "<h3 style=\"margin: auto; padding: 20px; color: RGB(51,165,182); \">Etape 3.1 - Jonction du fichier df_erp et df_liaison</h3>\n",
    "</div>"
   ]
  },
  {
   "cell_type": "code",
   "execution_count": 79,
   "id": "e756ec7d",
   "metadata": {},
   "outputs": [
    {
     "data": {
      "text/html": [
       "<div>\n",
       "<style scoped>\n",
       "    .dataframe tbody tr th:only-of-type {\n",
       "        vertical-align: middle;\n",
       "    }\n",
       "\n",
       "    .dataframe tbody tr th {\n",
       "        vertical-align: top;\n",
       "    }\n",
       "\n",
       "    .dataframe thead th {\n",
       "        text-align: right;\n",
       "    }\n",
       "</style>\n",
       "<table border=\"1\" class=\"dataframe\">\n",
       "  <thead>\n",
       "    <tr style=\"text-align: right;\">\n",
       "      <th></th>\n",
       "      <th>id_web</th>\n",
       "      <th>product_id</th>\n",
       "      <th>onsale_web</th>\n",
       "      <th>price</th>\n",
       "      <th>stock_quantity</th>\n",
       "      <th>stock_status</th>\n",
       "      <th>purchase_price</th>\n",
       "    </tr>\n",
       "  </thead>\n",
       "  <tbody>\n",
       "    <tr>\n",
       "      <th>0</th>\n",
       "      <td>15298</td>\n",
       "      <td>3847</td>\n",
       "      <td>1</td>\n",
       "      <td>24.2</td>\n",
       "      <td>16</td>\n",
       "      <td>instock</td>\n",
       "      <td>12.88</td>\n",
       "    </tr>\n",
       "    <tr>\n",
       "      <th>1</th>\n",
       "      <td>15296</td>\n",
       "      <td>3849</td>\n",
       "      <td>1</td>\n",
       "      <td>34.3</td>\n",
       "      <td>10</td>\n",
       "      <td>instock</td>\n",
       "      <td>17.54</td>\n",
       "    </tr>\n",
       "    <tr>\n",
       "      <th>2</th>\n",
       "      <td>15300</td>\n",
       "      <td>3850</td>\n",
       "      <td>1</td>\n",
       "      <td>20.8</td>\n",
       "      <td>0</td>\n",
       "      <td>outofstock</td>\n",
       "      <td>10.64</td>\n",
       "    </tr>\n",
       "    <tr>\n",
       "      <th>3</th>\n",
       "      <td>19814</td>\n",
       "      <td>4032</td>\n",
       "      <td>1</td>\n",
       "      <td>14.1</td>\n",
       "      <td>26</td>\n",
       "      <td>instock</td>\n",
       "      <td>6.92</td>\n",
       "    </tr>\n",
       "    <tr>\n",
       "      <th>4</th>\n",
       "      <td>19815</td>\n",
       "      <td>4039</td>\n",
       "      <td>1</td>\n",
       "      <td>46.0</td>\n",
       "      <td>3</td>\n",
       "      <td>instock</td>\n",
       "      <td>23.77</td>\n",
       "    </tr>\n",
       "    <tr>\n",
       "      <th>...</th>\n",
       "      <td>...</td>\n",
       "      <td>...</td>\n",
       "      <td>...</td>\n",
       "      <td>...</td>\n",
       "      <td>...</td>\n",
       "      <td>...</td>\n",
       "      <td>...</td>\n",
       "    </tr>\n",
       "    <tr>\n",
       "      <th>726</th>\n",
       "      <td>15741</td>\n",
       "      <td>6928</td>\n",
       "      <td>1</td>\n",
       "      <td>19.0</td>\n",
       "      <td>15</td>\n",
       "      <td>instock</td>\n",
       "      <td>9.62</td>\n",
       "    </tr>\n",
       "    <tr>\n",
       "      <th>727</th>\n",
       "      <td>16135</td>\n",
       "      <td>6930</td>\n",
       "      <td>1</td>\n",
       "      <td>8.4</td>\n",
       "      <td>28</td>\n",
       "      <td>instock</td>\n",
       "      <td>4.34</td>\n",
       "    </tr>\n",
       "    <tr>\n",
       "      <th>728</th>\n",
       "      <td>15891</td>\n",
       "      <td>7023</td>\n",
       "      <td>1</td>\n",
       "      <td>27.5</td>\n",
       "      <td>23</td>\n",
       "      <td>instock</td>\n",
       "      <td>14.21</td>\n",
       "    </tr>\n",
       "    <tr>\n",
       "      <th>729</th>\n",
       "      <td>15887</td>\n",
       "      <td>7025</td>\n",
       "      <td>1</td>\n",
       "      <td>69.0</td>\n",
       "      <td>8</td>\n",
       "      <td>instock</td>\n",
       "      <td>34.22</td>\n",
       "    </tr>\n",
       "    <tr>\n",
       "      <th>730</th>\n",
       "      <td>16230</td>\n",
       "      <td>7338</td>\n",
       "      <td>1</td>\n",
       "      <td>16.3</td>\n",
       "      <td>40</td>\n",
       "      <td>instock</td>\n",
       "      <td>8.00</td>\n",
       "    </tr>\n",
       "  </tbody>\n",
       "</table>\n",
       "<p>731 rows × 7 columns</p>\n",
       "</div>"
      ],
      "text/plain": [
       "    id_web  product_id  onsale_web  price  stock_quantity stock_status  \\\n",
       "0    15298        3847           1   24.2              16      instock   \n",
       "1    15296        3849           1   34.3              10      instock   \n",
       "2    15300        3850           1   20.8               0   outofstock   \n",
       "3    19814        4032           1   14.1              26      instock   \n",
       "4    19815        4039           1   46.0               3      instock   \n",
       "..     ...         ...         ...    ...             ...          ...   \n",
       "726  15741        6928           1   19.0              15      instock   \n",
       "727  16135        6930           1    8.4              28      instock   \n",
       "728  15891        7023           1   27.5              23      instock   \n",
       "729  15887        7025           1   69.0               8      instock   \n",
       "730  16230        7338           1   16.3              40      instock   \n",
       "\n",
       "     purchase_price  \n",
       "0             12.88  \n",
       "1             17.54  \n",
       "2             10.64  \n",
       "3              6.92  \n",
       "4             23.77  \n",
       "..              ...  \n",
       "726            9.62  \n",
       "727            4.34  \n",
       "728           14.21  \n",
       "729           34.22  \n",
       "730            8.00  \n",
       "\n",
       "[731 rows x 7 columns]"
      ]
     },
     "execution_count": 79,
     "metadata": {},
     "output_type": "execute_result"
    }
   ],
   "source": [
    "#Fusion des fichiers df_erp et df_liaison\n",
    "df_merge= df_liaison.merge(df_erp, on='product_id', how='left')\n",
    "df_merge"
   ]
  },
  {
   "cell_type": "code",
   "execution_count": 80,
   "id": "b7e1da5e",
   "metadata": {},
   "outputs": [
    {
     "data": {
      "text/plain": [
       "_merge\n",
       "both          731\n",
       "left_only       0\n",
       "right_only      0\n",
       "Name: count, dtype: int64"
      ]
     },
     "execution_count": 80,
     "metadata": {},
     "output_type": "execute_result"
    }
   ],
   "source": [
    "#Y a t-il des lignes ne \"matchant\" pas entre les 2 fichiers?\n",
    "df_merge_verification = df_liaison.merge(df_erp, on='product_id', how='left', indicator = True)\n",
    "df_merge_verification['_merge'].value_counts()"
   ]
  },
  {
   "cell_type": "code",
   "execution_count": 81,
   "id": "0f3486c6-c491-4a50-9bb2-f6c3d20d3aaf",
   "metadata": {},
   "outputs": [
    {
     "data": {
      "text/plain": [
       "id_web            0\n",
       "product_id        0\n",
       "onsale_web        0\n",
       "price             0\n",
       "stock_quantity    0\n",
       "stock_status      0\n",
       "purchase_price    0\n",
       "dtype: int64"
      ]
     },
     "execution_count": 81,
     "metadata": {},
     "output_type": "execute_result"
    }
   ],
   "source": [
    "#Vérifications des valeurs manquantes\n",
    "df_merge.isna().sum()"
   ]
  },
  {
   "cell_type": "code",
   "execution_count": 82,
   "id": "2e25ce9b-b502-498a-b0bb-021f1c8c6ba0",
   "metadata": {},
   "outputs": [
    {
     "data": {
      "text/html": [
       "<div>\n",
       "<style scoped>\n",
       "    .dataframe tbody tr th:only-of-type {\n",
       "        vertical-align: middle;\n",
       "    }\n",
       "\n",
       "    .dataframe tbody tr th {\n",
       "        vertical-align: top;\n",
       "    }\n",
       "\n",
       "    .dataframe thead th {\n",
       "        text-align: right;\n",
       "    }\n",
       "</style>\n",
       "<table border=\"1\" class=\"dataframe\">\n",
       "  <thead>\n",
       "    <tr style=\"text-align: right;\">\n",
       "      <th></th>\n",
       "      <th>id_web</th>\n",
       "      <th>product_id</th>\n",
       "      <th>onsale_web</th>\n",
       "      <th>price</th>\n",
       "      <th>stock_quantity</th>\n",
       "      <th>stock_status</th>\n",
       "      <th>purchase_price</th>\n",
       "    </tr>\n",
       "  </thead>\n",
       "  <tbody>\n",
       "  </tbody>\n",
       "</table>\n",
       "</div>"
      ],
      "text/plain": [
       "Empty DataFrame\n",
       "Columns: [id_web, product_id, onsale_web, price, stock_quantity, stock_status, purchase_price]\n",
       "Index: []"
      ]
     },
     "execution_count": 82,
     "metadata": {},
     "output_type": "execute_result"
    }
   ],
   "source": [
    "#Vérification des doublons\n",
    "doublons_df_merge = df_merge.duplicated(keep=False)\n",
    "df_merge[doublons_df_merge]"
   ]
  },
  {
   "cell_type": "markdown",
   "id": "8f30b2c6-9884-4e2b-8a54-1111d63ba970",
   "metadata": {},
   "source": [
    "**Toutes les lignes matchent bien.  \n",
    "Le dataframe df_merge est sans doublons et sans valeurs manquantes.  \n",
    "df_merge fait 731 lignes.**"
   ]
  },
  {
   "cell_type": "markdown",
   "id": "fe4c51d7",
   "metadata": {},
   "source": [
    "<div style=\"border: 1px solid RGB(51,165,182);\" >\n",
    "<h3 style=\"margin: auto; padding: 20px; color: RGB(51,165,182); \">Etape 3.2 - Jonction du fichier df_merge et df_web</h3>\n",
    "</div>"
   ]
  },
  {
   "cell_type": "code",
   "execution_count": 83,
   "id": "a8c84f6b-aaa3-488f-bee1-11766803e0e4",
   "metadata": {},
   "outputs": [
    {
     "data": {
      "text/html": [
       "<div>\n",
       "<style scoped>\n",
       "    .dataframe tbody tr th:only-of-type {\n",
       "        vertical-align: middle;\n",
       "    }\n",
       "\n",
       "    .dataframe tbody tr th {\n",
       "        vertical-align: top;\n",
       "    }\n",
       "\n",
       "    .dataframe thead th {\n",
       "        text-align: right;\n",
       "    }\n",
       "</style>\n",
       "<table border=\"1\" class=\"dataframe\">\n",
       "  <thead>\n",
       "    <tr style=\"text-align: right;\">\n",
       "      <th></th>\n",
       "      <th>id_web</th>\n",
       "      <th>product_id</th>\n",
       "      <th>onsale_web</th>\n",
       "      <th>price</th>\n",
       "      <th>stock_quantity</th>\n",
       "      <th>stock_status</th>\n",
       "      <th>purchase_price</th>\n",
       "      <th>sku</th>\n",
       "      <th>total_sales</th>\n",
       "      <th>post_author</th>\n",
       "      <th>post_date</th>\n",
       "      <th>post_date_gmt</th>\n",
       "      <th>product_type</th>\n",
       "      <th>post_title</th>\n",
       "      <th>post_excerpt</th>\n",
       "      <th>post_name</th>\n",
       "      <th>post_modified</th>\n",
       "      <th>post_modified_gmt</th>\n",
       "      <th>guid</th>\n",
       "      <th>post_type</th>\n",
       "    </tr>\n",
       "  </thead>\n",
       "  <tbody>\n",
       "    <tr>\n",
       "      <th>0</th>\n",
       "      <td>15298</td>\n",
       "      <td>3847</td>\n",
       "      <td>1</td>\n",
       "      <td>24.2</td>\n",
       "      <td>16</td>\n",
       "      <td>instock</td>\n",
       "      <td>12.88</td>\n",
       "      <td>15298</td>\n",
       "      <td>6.0</td>\n",
       "      <td>2.0</td>\n",
       "      <td>2018-02-08 12:58:52</td>\n",
       "      <td>2018-02-08 11:58:52</td>\n",
       "      <td>Vin</td>\n",
       "      <td>Pierre Jean Villa Saint-Joseph Préface 2018</td>\n",
       "      <td>Il exhale un nez subtil, racé avec du poivre f...</td>\n",
       "      <td>pierre-jean-villa-saint-joseph-preface-2018</td>\n",
       "      <td>2019-12-30 09:30:29</td>\n",
       "      <td>2019-12-30 08:30:29</td>\n",
       "      <td>https://www.bottle-neck.fr/?post_type=product&amp;...</td>\n",
       "      <td>product</td>\n",
       "    </tr>\n",
       "    <tr>\n",
       "      <th>1</th>\n",
       "      <td>15296</td>\n",
       "      <td>3849</td>\n",
       "      <td>1</td>\n",
       "      <td>34.3</td>\n",
       "      <td>10</td>\n",
       "      <td>instock</td>\n",
       "      <td>17.54</td>\n",
       "      <td>15296</td>\n",
       "      <td>9.0</td>\n",
       "      <td>2.0</td>\n",
       "      <td>2018-02-08 13:49:41</td>\n",
       "      <td>2018-02-08 12:49:41</td>\n",
       "      <td>Vin</td>\n",
       "      <td>Pierre Jean Villa Saint-Joseph Rouge Tildé 2017</td>\n",
       "      <td>Les vieilles vignes lui apportent une rare pro...</td>\n",
       "      <td>pierre-jean-villa-saint-joseph-tilde-2017</td>\n",
       "      <td>2019-12-21 09:00:17</td>\n",
       "      <td>2019-12-21 08:00:17</td>\n",
       "      <td>https://www.bottle-neck.fr/?post_type=product&amp;...</td>\n",
       "      <td>product</td>\n",
       "    </tr>\n",
       "    <tr>\n",
       "      <th>2</th>\n",
       "      <td>15300</td>\n",
       "      <td>3850</td>\n",
       "      <td>1</td>\n",
       "      <td>20.8</td>\n",
       "      <td>0</td>\n",
       "      <td>outofstock</td>\n",
       "      <td>10.64</td>\n",
       "      <td>15300</td>\n",
       "      <td>0.0</td>\n",
       "      <td>2.0</td>\n",
       "      <td>2018-02-08 14:08:36</td>\n",
       "      <td>2018-02-08 13:08:36</td>\n",
       "      <td>Vin</td>\n",
       "      <td>Pierre Jean Villa Crozes-Hermitage Accroche Co...</td>\n",
       "      <td>Dentelle de fruit de jeunes syrah, aux tanins ...</td>\n",
       "      <td>pierre-jean-villa-croze-hermitage-accroche-coe...</td>\n",
       "      <td>2020-06-26 18:15:03</td>\n",
       "      <td>2020-06-26 16:15:03</td>\n",
       "      <td>https://www.bottle-neck.fr/?post_type=product&amp;...</td>\n",
       "      <td>product</td>\n",
       "    </tr>\n",
       "    <tr>\n",
       "      <th>3</th>\n",
       "      <td>19814</td>\n",
       "      <td>4032</td>\n",
       "      <td>1</td>\n",
       "      <td>14.1</td>\n",
       "      <td>26</td>\n",
       "      <td>instock</td>\n",
       "      <td>6.92</td>\n",
       "      <td>19814</td>\n",
       "      <td>12.0</td>\n",
       "      <td>2.0</td>\n",
       "      <td>2018-02-09 14:01:05</td>\n",
       "      <td>2018-02-09 13:01:05</td>\n",
       "      <td>Vin</td>\n",
       "      <td>Pierre Jean Villa IGP Collines Rhodaniennes Ga...</td>\n",
       "      <td>Gamine représente tout le fruité et la gourman...</td>\n",
       "      <td>pierre-jean-villa-igp-gamine-2018</td>\n",
       "      <td>2020-01-04 16:36:01</td>\n",
       "      <td>2020-01-04 15:36:01</td>\n",
       "      <td>https://www.bottle-neck.fr/?post_type=product&amp;...</td>\n",
       "      <td>product</td>\n",
       "    </tr>\n",
       "    <tr>\n",
       "      <th>4</th>\n",
       "      <td>19815</td>\n",
       "      <td>4039</td>\n",
       "      <td>1</td>\n",
       "      <td>46.0</td>\n",
       "      <td>3</td>\n",
       "      <td>instock</td>\n",
       "      <td>23.77</td>\n",
       "      <td>19815</td>\n",
       "      <td>3.0</td>\n",
       "      <td>2.0</td>\n",
       "      <td>2018-02-12 09:04:37</td>\n",
       "      <td>2018-02-12 08:04:37</td>\n",
       "      <td>Vin</td>\n",
       "      <td>Pierre Jean Villa Côte Rôtie Carmina 2017</td>\n",
       "      <td>Le côte rôtie Carmina monte en puissance mais ...</td>\n",
       "      <td>pierre-jean-villa-cote-rotie-carmina-2017</td>\n",
       "      <td>2020-01-04 16:36:10</td>\n",
       "      <td>2020-01-04 15:36:10</td>\n",
       "      <td>https://www.bottle-neck.fr/?post_type=product&amp;...</td>\n",
       "      <td>product</td>\n",
       "    </tr>\n",
       "  </tbody>\n",
       "</table>\n",
       "</div>"
      ],
      "text/plain": [
       "  id_web  product_id  onsale_web  price  stock_quantity stock_status  \\\n",
       "0  15298        3847           1   24.2              16      instock   \n",
       "1  15296        3849           1   34.3              10      instock   \n",
       "2  15300        3850           1   20.8               0   outofstock   \n",
       "3  19814        4032           1   14.1              26      instock   \n",
       "4  19815        4039           1   46.0               3      instock   \n",
       "\n",
       "   purchase_price    sku  total_sales  post_author           post_date  \\\n",
       "0           12.88  15298          6.0          2.0 2018-02-08 12:58:52   \n",
       "1           17.54  15296          9.0          2.0 2018-02-08 13:49:41   \n",
       "2           10.64  15300          0.0          2.0 2018-02-08 14:08:36   \n",
       "3            6.92  19814         12.0          2.0 2018-02-09 14:01:05   \n",
       "4           23.77  19815          3.0          2.0 2018-02-12 09:04:37   \n",
       "\n",
       "        post_date_gmt product_type  \\\n",
       "0 2018-02-08 11:58:52          Vin   \n",
       "1 2018-02-08 12:49:41          Vin   \n",
       "2 2018-02-08 13:08:36          Vin   \n",
       "3 2018-02-09 13:01:05          Vin   \n",
       "4 2018-02-12 08:04:37          Vin   \n",
       "\n",
       "                                          post_title  \\\n",
       "0        Pierre Jean Villa Saint-Joseph Préface 2018   \n",
       "1    Pierre Jean Villa Saint-Joseph Rouge Tildé 2017   \n",
       "2  Pierre Jean Villa Crozes-Hermitage Accroche Co...   \n",
       "3  Pierre Jean Villa IGP Collines Rhodaniennes Ga...   \n",
       "4          Pierre Jean Villa Côte Rôtie Carmina 2017   \n",
       "\n",
       "                                        post_excerpt  \\\n",
       "0  Il exhale un nez subtil, racé avec du poivre f...   \n",
       "1  Les vieilles vignes lui apportent une rare pro...   \n",
       "2  Dentelle de fruit de jeunes syrah, aux tanins ...   \n",
       "3  Gamine représente tout le fruité et la gourman...   \n",
       "4  Le côte rôtie Carmina monte en puissance mais ...   \n",
       "\n",
       "                                           post_name       post_modified  \\\n",
       "0        pierre-jean-villa-saint-joseph-preface-2018 2019-12-30 09:30:29   \n",
       "1          pierre-jean-villa-saint-joseph-tilde-2017 2019-12-21 09:00:17   \n",
       "2  pierre-jean-villa-croze-hermitage-accroche-coe... 2020-06-26 18:15:03   \n",
       "3                  pierre-jean-villa-igp-gamine-2018 2020-01-04 16:36:01   \n",
       "4          pierre-jean-villa-cote-rotie-carmina-2017 2020-01-04 16:36:10   \n",
       "\n",
       "    post_modified_gmt                                               guid  \\\n",
       "0 2019-12-30 08:30:29  https://www.bottle-neck.fr/?post_type=product&...   \n",
       "1 2019-12-21 08:00:17  https://www.bottle-neck.fr/?post_type=product&...   \n",
       "2 2020-06-26 16:15:03  https://www.bottle-neck.fr/?post_type=product&...   \n",
       "3 2020-01-04 15:36:01  https://www.bottle-neck.fr/?post_type=product&...   \n",
       "4 2020-01-04 15:36:10  https://www.bottle-neck.fr/?post_type=product&...   \n",
       "\n",
       "  post_type  \n",
       "0   product  \n",
       "1   product  \n",
       "2   product  \n",
       "3   product  \n",
       "4   product  "
      ]
     },
     "execution_count": 83,
     "metadata": {},
     "output_type": "execute_result"
    }
   ],
   "source": [
    "#Fusionner les datasets df_merge et df_web\n",
    "df_web_filtered.loc[:, 'sku'] = df_web_filtered['sku'].astype(int)\n",
    "df_merge.loc[:, 'id_web'] = df_merge['id_web'].astype(int)\n",
    "df_merge2 = df_merge.merge(df_web_filtered, how='left', left_on='id_web', right_on='sku')\n",
    "df_merge2.head()"
   ]
  },
  {
   "cell_type": "code",
   "execution_count": 84,
   "id": "3af1a503-d695-4e4e-8c3a-d3a73c7013bf",
   "metadata": {},
   "outputs": [
    {
     "data": {
      "text/plain": [
       "id_web                       object\n",
       "product_id                    int64\n",
       "onsale_web                    int64\n",
       "price                       float64\n",
       "stock_quantity                int64\n",
       "stock_status                 object\n",
       "purchase_price              float64\n",
       "sku                          object\n",
       "total_sales                 float64\n",
       "post_author                 float64\n",
       "post_date            datetime64[ns]\n",
       "post_date_gmt        datetime64[ns]\n",
       "product_type                 object\n",
       "post_title                   object\n",
       "post_excerpt                 object\n",
       "post_name                    object\n",
       "post_modified        datetime64[ns]\n",
       "post_modified_gmt    datetime64[ns]\n",
       "guid                         object\n",
       "post_type                    object\n",
       "dtype: object"
      ]
     },
     "execution_count": 84,
     "metadata": {},
     "output_type": "execute_result"
    }
   ],
   "source": [
    "df_merge2.dtypes"
   ]
  },
  {
   "cell_type": "code",
   "execution_count": 85,
   "id": "e435735c",
   "metadata": {},
   "outputs": [
    {
     "data": {
      "text/plain": [
       "_merge\n",
       "both          712\n",
       "left_only      19\n",
       "right_only      0\n",
       "Name: count, dtype: int64"
      ]
     },
     "execution_count": 85,
     "metadata": {},
     "output_type": "execute_result"
    }
   ],
   "source": [
    "#Avons-nous des lignes sans correspondance?\n",
    "df_merge2_verification = df_merge.merge(df_web_filtered, how='left', left_on='id_web', right_on='sku', indicator=True)\n",
    "df_merge2_verification['_merge'].value_counts()"
   ]
  },
  {
   "cell_type": "code",
   "execution_count": 86,
   "id": "2021762f",
   "metadata": {},
   "outputs": [
    {
     "data": {
      "text/html": [
       "<div>\n",
       "<style scoped>\n",
       "    .dataframe tbody tr th:only-of-type {\n",
       "        vertical-align: middle;\n",
       "    }\n",
       "\n",
       "    .dataframe tbody tr th {\n",
       "        vertical-align: top;\n",
       "    }\n",
       "\n",
       "    .dataframe thead th {\n",
       "        text-align: right;\n",
       "    }\n",
       "</style>\n",
       "<table border=\"1\" class=\"dataframe\">\n",
       "  <thead>\n",
       "    <tr style=\"text-align: right;\">\n",
       "      <th></th>\n",
       "      <th>id_web</th>\n",
       "      <th>product_id</th>\n",
       "      <th>onsale_web</th>\n",
       "      <th>price</th>\n",
       "      <th>stock_quantity</th>\n",
       "      <th>stock_status</th>\n",
       "      <th>purchase_price</th>\n",
       "      <th>sku</th>\n",
       "      <th>total_sales</th>\n",
       "      <th>post_author</th>\n",
       "      <th>post_date</th>\n",
       "      <th>post_date_gmt</th>\n",
       "      <th>product_type</th>\n",
       "      <th>post_title</th>\n",
       "      <th>post_excerpt</th>\n",
       "      <th>post_name</th>\n",
       "      <th>post_modified</th>\n",
       "      <th>post_modified_gmt</th>\n",
       "      <th>guid</th>\n",
       "      <th>post_type</th>\n",
       "      <th>_merge</th>\n",
       "    </tr>\n",
       "  </thead>\n",
       "  <tbody>\n",
       "    <tr>\n",
       "      <th>185</th>\n",
       "      <td>13771</td>\n",
       "      <td>4289</td>\n",
       "      <td>0</td>\n",
       "      <td>22.8</td>\n",
       "      <td>0</td>\n",
       "      <td>outofstock</td>\n",
       "      <td>11.90</td>\n",
       "      <td>NaN</td>\n",
       "      <td>NaN</td>\n",
       "      <td>NaN</td>\n",
       "      <td>NaT</td>\n",
       "      <td>NaT</td>\n",
       "      <td>NaN</td>\n",
       "      <td>NaN</td>\n",
       "      <td>NaN</td>\n",
       "      <td>NaN</td>\n",
       "      <td>NaT</td>\n",
       "      <td>NaT</td>\n",
       "      <td>NaN</td>\n",
       "      <td>NaN</td>\n",
       "      <td>left_only</td>\n",
       "    </tr>\n",
       "    <tr>\n",
       "      <th>227</th>\n",
       "      <td>15065</td>\n",
       "      <td>4568</td>\n",
       "      <td>0</td>\n",
       "      <td>21.5</td>\n",
       "      <td>0</td>\n",
       "      <td>outofstock</td>\n",
       "      <td>11.22</td>\n",
       "      <td>NaN</td>\n",
       "      <td>NaN</td>\n",
       "      <td>NaN</td>\n",
       "      <td>NaT</td>\n",
       "      <td>NaT</td>\n",
       "      <td>NaN</td>\n",
       "      <td>NaN</td>\n",
       "      <td>NaN</td>\n",
       "      <td>NaN</td>\n",
       "      <td>NaT</td>\n",
       "      <td>NaT</td>\n",
       "      <td>NaN</td>\n",
       "      <td>NaN</td>\n",
       "      <td>left_only</td>\n",
       "    </tr>\n",
       "    <tr>\n",
       "      <th>230</th>\n",
       "      <td>14785</td>\n",
       "      <td>4584</td>\n",
       "      <td>0</td>\n",
       "      <td>32.3</td>\n",
       "      <td>0</td>\n",
       "      <td>outofstock</td>\n",
       "      <td>17.36</td>\n",
       "      <td>NaN</td>\n",
       "      <td>NaN</td>\n",
       "      <td>NaN</td>\n",
       "      <td>NaT</td>\n",
       "      <td>NaT</td>\n",
       "      <td>NaN</td>\n",
       "      <td>NaN</td>\n",
       "      <td>NaN</td>\n",
       "      <td>NaN</td>\n",
       "      <td>NaT</td>\n",
       "      <td>NaT</td>\n",
       "      <td>NaN</td>\n",
       "      <td>NaN</td>\n",
       "      <td>left_only</td>\n",
       "    </tr>\n",
       "    <tr>\n",
       "      <th>334</th>\n",
       "      <td>12601</td>\n",
       "      <td>4741</td>\n",
       "      <td>0</td>\n",
       "      <td>12.4</td>\n",
       "      <td>0</td>\n",
       "      <td>outofstock</td>\n",
       "      <td>6.66</td>\n",
       "      <td>NaN</td>\n",
       "      <td>NaN</td>\n",
       "      <td>NaN</td>\n",
       "      <td>NaT</td>\n",
       "      <td>NaT</td>\n",
       "      <td>NaN</td>\n",
       "      <td>NaN</td>\n",
       "      <td>NaN</td>\n",
       "      <td>NaN</td>\n",
       "      <td>NaT</td>\n",
       "      <td>NaT</td>\n",
       "      <td>NaN</td>\n",
       "      <td>NaN</td>\n",
       "      <td>left_only</td>\n",
       "    </tr>\n",
       "    <tr>\n",
       "      <th>368</th>\n",
       "      <td>15154</td>\n",
       "      <td>4864</td>\n",
       "      <td>0</td>\n",
       "      <td>8.3</td>\n",
       "      <td>0</td>\n",
       "      <td>outofstock</td>\n",
       "      <td>9.99</td>\n",
       "      <td>NaN</td>\n",
       "      <td>NaN</td>\n",
       "      <td>NaN</td>\n",
       "      <td>NaT</td>\n",
       "      <td>NaT</td>\n",
       "      <td>NaN</td>\n",
       "      <td>NaN</td>\n",
       "      <td>NaN</td>\n",
       "      <td>NaN</td>\n",
       "      <td>NaT</td>\n",
       "      <td>NaT</td>\n",
       "      <td>NaN</td>\n",
       "      <td>NaN</td>\n",
       "      <td>left_only</td>\n",
       "    </tr>\n",
       "    <tr>\n",
       "      <th>371</th>\n",
       "      <td>14360</td>\n",
       "      <td>4869</td>\n",
       "      <td>0</td>\n",
       "      <td>17.2</td>\n",
       "      <td>0</td>\n",
       "      <td>outofstock</td>\n",
       "      <td>9.33</td>\n",
       "      <td>NaN</td>\n",
       "      <td>NaN</td>\n",
       "      <td>NaN</td>\n",
       "      <td>NaT</td>\n",
       "      <td>NaT</td>\n",
       "      <td>NaN</td>\n",
       "      <td>NaN</td>\n",
       "      <td>NaN</td>\n",
       "      <td>NaN</td>\n",
       "      <td>NaT</td>\n",
       "      <td>NaT</td>\n",
       "      <td>NaN</td>\n",
       "      <td>NaN</td>\n",
       "      <td>left_only</td>\n",
       "    </tr>\n",
       "    <tr>\n",
       "      <th>399</th>\n",
       "      <td>15608</td>\n",
       "      <td>4921</td>\n",
       "      <td>0</td>\n",
       "      <td>13.8</td>\n",
       "      <td>0</td>\n",
       "      <td>outofstock</td>\n",
       "      <td>7.13</td>\n",
       "      <td>NaN</td>\n",
       "      <td>NaN</td>\n",
       "      <td>NaN</td>\n",
       "      <td>NaT</td>\n",
       "      <td>NaT</td>\n",
       "      <td>NaN</td>\n",
       "      <td>NaN</td>\n",
       "      <td>NaN</td>\n",
       "      <td>NaN</td>\n",
       "      <td>NaT</td>\n",
       "      <td>NaT</td>\n",
       "      <td>NaN</td>\n",
       "      <td>NaN</td>\n",
       "      <td>left_only</td>\n",
       "    </tr>\n",
       "    <tr>\n",
       "      <th>400</th>\n",
       "      <td>15586</td>\n",
       "      <td>4922</td>\n",
       "      <td>0</td>\n",
       "      <td>21.5</td>\n",
       "      <td>0</td>\n",
       "      <td>outofstock</td>\n",
       "      <td>10.55</td>\n",
       "      <td>NaN</td>\n",
       "      <td>NaN</td>\n",
       "      <td>NaN</td>\n",
       "      <td>NaT</td>\n",
       "      <td>NaT</td>\n",
       "      <td>NaN</td>\n",
       "      <td>NaN</td>\n",
       "      <td>NaN</td>\n",
       "      <td>NaN</td>\n",
       "      <td>NaT</td>\n",
       "      <td>NaT</td>\n",
       "      <td>NaN</td>\n",
       "      <td>NaN</td>\n",
       "      <td>left_only</td>\n",
       "    </tr>\n",
       "    <tr>\n",
       "      <th>442</th>\n",
       "      <td>15272</td>\n",
       "      <td>5018</td>\n",
       "      <td>0</td>\n",
       "      <td>15.4</td>\n",
       "      <td>0</td>\n",
       "      <td>outofstock</td>\n",
       "      <td>7.72</td>\n",
       "      <td>NaN</td>\n",
       "      <td>NaN</td>\n",
       "      <td>NaN</td>\n",
       "      <td>NaT</td>\n",
       "      <td>NaT</td>\n",
       "      <td>NaN</td>\n",
       "      <td>NaN</td>\n",
       "      <td>NaN</td>\n",
       "      <td>NaN</td>\n",
       "      <td>NaT</td>\n",
       "      <td>NaT</td>\n",
       "      <td>NaN</td>\n",
       "      <td>NaN</td>\n",
       "      <td>left_only</td>\n",
       "    </tr>\n",
       "    <tr>\n",
       "      <th>444</th>\n",
       "      <td>15630</td>\n",
       "      <td>5021</td>\n",
       "      <td>0</td>\n",
       "      <td>17.1</td>\n",
       "      <td>0</td>\n",
       "      <td>outofstock</td>\n",
       "      <td>8.92</td>\n",
       "      <td>NaN</td>\n",
       "      <td>NaN</td>\n",
       "      <td>NaN</td>\n",
       "      <td>NaT</td>\n",
       "      <td>NaT</td>\n",
       "      <td>NaN</td>\n",
       "      <td>NaN</td>\n",
       "      <td>NaN</td>\n",
       "      <td>NaN</td>\n",
       "      <td>NaT</td>\n",
       "      <td>NaT</td>\n",
       "      <td>NaN</td>\n",
       "      <td>NaN</td>\n",
       "      <td>left_only</td>\n",
       "    </tr>\n",
       "    <tr>\n",
       "      <th>492</th>\n",
       "      <td>14648</td>\n",
       "      <td>5505</td>\n",
       "      <td>0</td>\n",
       "      <td>10.1</td>\n",
       "      <td>0</td>\n",
       "      <td>outofstock</td>\n",
       "      <td>5.22</td>\n",
       "      <td>NaN</td>\n",
       "      <td>NaN</td>\n",
       "      <td>NaN</td>\n",
       "      <td>NaT</td>\n",
       "      <td>NaT</td>\n",
       "      <td>NaN</td>\n",
       "      <td>NaN</td>\n",
       "      <td>NaN</td>\n",
       "      <td>NaN</td>\n",
       "      <td>NaT</td>\n",
       "      <td>NaT</td>\n",
       "      <td>NaN</td>\n",
       "      <td>NaN</td>\n",
       "      <td>left_only</td>\n",
       "    </tr>\n",
       "    <tr>\n",
       "      <th>509</th>\n",
       "      <td>14715</td>\n",
       "      <td>5559</td>\n",
       "      <td>0</td>\n",
       "      <td>27.9</td>\n",
       "      <td>3</td>\n",
       "      <td>instock</td>\n",
       "      <td>13.98</td>\n",
       "      <td>NaN</td>\n",
       "      <td>NaN</td>\n",
       "      <td>NaN</td>\n",
       "      <td>NaT</td>\n",
       "      <td>NaT</td>\n",
       "      <td>NaN</td>\n",
       "      <td>NaN</td>\n",
       "      <td>NaN</td>\n",
       "      <td>NaN</td>\n",
       "      <td>NaT</td>\n",
       "      <td>NaT</td>\n",
       "      <td>NaN</td>\n",
       "      <td>NaN</td>\n",
       "      <td>left_only</td>\n",
       "    </tr>\n",
       "    <tr>\n",
       "      <th>515</th>\n",
       "      <td>14730</td>\n",
       "      <td>5570</td>\n",
       "      <td>0</td>\n",
       "      <td>22.5</td>\n",
       "      <td>0</td>\n",
       "      <td>outofstock</td>\n",
       "      <td>11.16</td>\n",
       "      <td>NaN</td>\n",
       "      <td>NaN</td>\n",
       "      <td>NaN</td>\n",
       "      <td>NaT</td>\n",
       "      <td>NaT</td>\n",
       "      <td>NaN</td>\n",
       "      <td>NaN</td>\n",
       "      <td>NaN</td>\n",
       "      <td>NaN</td>\n",
       "      <td>NaT</td>\n",
       "      <td>NaT</td>\n",
       "      <td>NaN</td>\n",
       "      <td>NaN</td>\n",
       "      <td>left_only</td>\n",
       "    </tr>\n",
       "    <tr>\n",
       "      <th>580</th>\n",
       "      <td>14689</td>\n",
       "      <td>5800</td>\n",
       "      <td>0</td>\n",
       "      <td>32.3</td>\n",
       "      <td>0</td>\n",
       "      <td>outofstock</td>\n",
       "      <td>16.02</td>\n",
       "      <td>NaN</td>\n",
       "      <td>NaN</td>\n",
       "      <td>NaN</td>\n",
       "      <td>NaT</td>\n",
       "      <td>NaT</td>\n",
       "      <td>NaN</td>\n",
       "      <td>NaN</td>\n",
       "      <td>NaN</td>\n",
       "      <td>NaN</td>\n",
       "      <td>NaT</td>\n",
       "      <td>NaT</td>\n",
       "      <td>NaN</td>\n",
       "      <td>NaN</td>\n",
       "      <td>left_only</td>\n",
       "    </tr>\n",
       "    <tr>\n",
       "      <th>624</th>\n",
       "      <td>14379</td>\n",
       "      <td>5953</td>\n",
       "      <td>0</td>\n",
       "      <td>47.5</td>\n",
       "      <td>0</td>\n",
       "      <td>outofstock</td>\n",
       "      <td>23.81</td>\n",
       "      <td>NaN</td>\n",
       "      <td>NaN</td>\n",
       "      <td>NaN</td>\n",
       "      <td>NaT</td>\n",
       "      <td>NaT</td>\n",
       "      <td>NaN</td>\n",
       "      <td>NaN</td>\n",
       "      <td>NaN</td>\n",
       "      <td>NaN</td>\n",
       "      <td>NaT</td>\n",
       "      <td>NaT</td>\n",
       "      <td>NaN</td>\n",
       "      <td>NaN</td>\n",
       "      <td>left_only</td>\n",
       "    </tr>\n",
       "    <tr>\n",
       "      <th>625</th>\n",
       "      <td>15609</td>\n",
       "      <td>5954</td>\n",
       "      <td>0</td>\n",
       "      <td>18.8</td>\n",
       "      <td>0</td>\n",
       "      <td>outofstock</td>\n",
       "      <td>9.32</td>\n",
       "      <td>NaN</td>\n",
       "      <td>NaN</td>\n",
       "      <td>NaN</td>\n",
       "      <td>NaT</td>\n",
       "      <td>NaT</td>\n",
       "      <td>NaN</td>\n",
       "      <td>NaN</td>\n",
       "      <td>NaN</td>\n",
       "      <td>NaN</td>\n",
       "      <td>NaT</td>\n",
       "      <td>NaT</td>\n",
       "      <td>NaN</td>\n",
       "      <td>NaN</td>\n",
       "      <td>left_only</td>\n",
       "    </tr>\n",
       "    <tr>\n",
       "      <th>626</th>\n",
       "      <td>14377</td>\n",
       "      <td>5955</td>\n",
       "      <td>0</td>\n",
       "      <td>27.3</td>\n",
       "      <td>0</td>\n",
       "      <td>outofstock</td>\n",
       "      <td>13.68</td>\n",
       "      <td>NaN</td>\n",
       "      <td>NaN</td>\n",
       "      <td>NaN</td>\n",
       "      <td>NaT</td>\n",
       "      <td>NaT</td>\n",
       "      <td>NaN</td>\n",
       "      <td>NaN</td>\n",
       "      <td>NaN</td>\n",
       "      <td>NaN</td>\n",
       "      <td>NaT</td>\n",
       "      <td>NaT</td>\n",
       "      <td>NaN</td>\n",
       "      <td>NaN</td>\n",
       "      <td>left_only</td>\n",
       "    </tr>\n",
       "    <tr>\n",
       "      <th>628</th>\n",
       "      <td>13577</td>\n",
       "      <td>5957</td>\n",
       "      <td>0</td>\n",
       "      <td>39.0</td>\n",
       "      <td>0</td>\n",
       "      <td>outofstock</td>\n",
       "      <td>20.75</td>\n",
       "      <td>NaN</td>\n",
       "      <td>NaN</td>\n",
       "      <td>NaN</td>\n",
       "      <td>NaT</td>\n",
       "      <td>NaT</td>\n",
       "      <td>NaN</td>\n",
       "      <td>NaN</td>\n",
       "      <td>NaN</td>\n",
       "      <td>NaN</td>\n",
       "      <td>NaT</td>\n",
       "      <td>NaT</td>\n",
       "      <td>NaN</td>\n",
       "      <td>NaN</td>\n",
       "      <td>left_only</td>\n",
       "    </tr>\n",
       "    <tr>\n",
       "      <th>651</th>\n",
       "      <td>15529</td>\n",
       "      <td>6100</td>\n",
       "      <td>0</td>\n",
       "      <td>12.9</td>\n",
       "      <td>0</td>\n",
       "      <td>outofstock</td>\n",
       "      <td>6.47</td>\n",
       "      <td>NaN</td>\n",
       "      <td>NaN</td>\n",
       "      <td>NaN</td>\n",
       "      <td>NaT</td>\n",
       "      <td>NaT</td>\n",
       "      <td>NaN</td>\n",
       "      <td>NaN</td>\n",
       "      <td>NaN</td>\n",
       "      <td>NaN</td>\n",
       "      <td>NaT</td>\n",
       "      <td>NaT</td>\n",
       "      <td>NaN</td>\n",
       "      <td>NaN</td>\n",
       "      <td>left_only</td>\n",
       "    </tr>\n",
       "  </tbody>\n",
       "</table>\n",
       "</div>"
      ],
      "text/plain": [
       "    id_web  product_id  onsale_web  price  stock_quantity stock_status  \\\n",
       "185  13771        4289           0   22.8               0   outofstock   \n",
       "227  15065        4568           0   21.5               0   outofstock   \n",
       "230  14785        4584           0   32.3               0   outofstock   \n",
       "334  12601        4741           0   12.4               0   outofstock   \n",
       "368  15154        4864           0    8.3               0   outofstock   \n",
       "371  14360        4869           0   17.2               0   outofstock   \n",
       "399  15608        4921           0   13.8               0   outofstock   \n",
       "400  15586        4922           0   21.5               0   outofstock   \n",
       "442  15272        5018           0   15.4               0   outofstock   \n",
       "444  15630        5021           0   17.1               0   outofstock   \n",
       "492  14648        5505           0   10.1               0   outofstock   \n",
       "509  14715        5559           0   27.9               3      instock   \n",
       "515  14730        5570           0   22.5               0   outofstock   \n",
       "580  14689        5800           0   32.3               0   outofstock   \n",
       "624  14379        5953           0   47.5               0   outofstock   \n",
       "625  15609        5954           0   18.8               0   outofstock   \n",
       "626  14377        5955           0   27.3               0   outofstock   \n",
       "628  13577        5957           0   39.0               0   outofstock   \n",
       "651  15529        6100           0   12.9               0   outofstock   \n",
       "\n",
       "     purchase_price  sku  total_sales  post_author post_date post_date_gmt  \\\n",
       "185           11.90  NaN          NaN          NaN       NaT           NaT   \n",
       "227           11.22  NaN          NaN          NaN       NaT           NaT   \n",
       "230           17.36  NaN          NaN          NaN       NaT           NaT   \n",
       "334            6.66  NaN          NaN          NaN       NaT           NaT   \n",
       "368            9.99  NaN          NaN          NaN       NaT           NaT   \n",
       "371            9.33  NaN          NaN          NaN       NaT           NaT   \n",
       "399            7.13  NaN          NaN          NaN       NaT           NaT   \n",
       "400           10.55  NaN          NaN          NaN       NaT           NaT   \n",
       "442            7.72  NaN          NaN          NaN       NaT           NaT   \n",
       "444            8.92  NaN          NaN          NaN       NaT           NaT   \n",
       "492            5.22  NaN          NaN          NaN       NaT           NaT   \n",
       "509           13.98  NaN          NaN          NaN       NaT           NaT   \n",
       "515           11.16  NaN          NaN          NaN       NaT           NaT   \n",
       "580           16.02  NaN          NaN          NaN       NaT           NaT   \n",
       "624           23.81  NaN          NaN          NaN       NaT           NaT   \n",
       "625            9.32  NaN          NaN          NaN       NaT           NaT   \n",
       "626           13.68  NaN          NaN          NaN       NaT           NaT   \n",
       "628           20.75  NaN          NaN          NaN       NaT           NaT   \n",
       "651            6.47  NaN          NaN          NaN       NaT           NaT   \n",
       "\n",
       "    product_type post_title post_excerpt post_name post_modified  \\\n",
       "185          NaN        NaN          NaN       NaN           NaT   \n",
       "227          NaN        NaN          NaN       NaN           NaT   \n",
       "230          NaN        NaN          NaN       NaN           NaT   \n",
       "334          NaN        NaN          NaN       NaN           NaT   \n",
       "368          NaN        NaN          NaN       NaN           NaT   \n",
       "371          NaN        NaN          NaN       NaN           NaT   \n",
       "399          NaN        NaN          NaN       NaN           NaT   \n",
       "400          NaN        NaN          NaN       NaN           NaT   \n",
       "442          NaN        NaN          NaN       NaN           NaT   \n",
       "444          NaN        NaN          NaN       NaN           NaT   \n",
       "492          NaN        NaN          NaN       NaN           NaT   \n",
       "509          NaN        NaN          NaN       NaN           NaT   \n",
       "515          NaN        NaN          NaN       NaN           NaT   \n",
       "580          NaN        NaN          NaN       NaN           NaT   \n",
       "624          NaN        NaN          NaN       NaN           NaT   \n",
       "625          NaN        NaN          NaN       NaN           NaT   \n",
       "626          NaN        NaN          NaN       NaN           NaT   \n",
       "628          NaN        NaN          NaN       NaN           NaT   \n",
       "651          NaN        NaN          NaN       NaN           NaT   \n",
       "\n",
       "    post_modified_gmt guid post_type     _merge  \n",
       "185               NaT  NaN       NaN  left_only  \n",
       "227               NaT  NaN       NaN  left_only  \n",
       "230               NaT  NaN       NaN  left_only  \n",
       "334               NaT  NaN       NaN  left_only  \n",
       "368               NaT  NaN       NaN  left_only  \n",
       "371               NaT  NaN       NaN  left_only  \n",
       "399               NaT  NaN       NaN  left_only  \n",
       "400               NaT  NaN       NaN  left_only  \n",
       "442               NaT  NaN       NaN  left_only  \n",
       "444               NaT  NaN       NaN  left_only  \n",
       "492               NaT  NaN       NaN  left_only  \n",
       "509               NaT  NaN       NaN  left_only  \n",
       "515               NaT  NaN       NaN  left_only  \n",
       "580               NaT  NaN       NaN  left_only  \n",
       "624               NaT  NaN       NaN  left_only  \n",
       "625               NaT  NaN       NaN  left_only  \n",
       "626               NaT  NaN       NaN  left_only  \n",
       "628               NaT  NaN       NaN  left_only  \n",
       "651               NaT  NaN       NaN  left_only  "
      ]
     },
     "execution_count": 86,
     "metadata": {},
     "output_type": "execute_result"
    }
   ],
   "source": [
    "df_merge2_verification[df_merge2_verification['_merge'] == 'left_only']"
   ]
  },
  {
   "cell_type": "code",
   "execution_count": 87,
   "id": "a6243807-0535-4be1-9375-c8df389f76be",
   "metadata": {},
   "outputs": [
    {
     "data": {
      "text/plain": [
       "id_web               0\n",
       "product_id           0\n",
       "onsale_web           0\n",
       "price                0\n",
       "stock_quantity       0\n",
       "stock_status         0\n",
       "purchase_price       0\n",
       "sku                  0\n",
       "total_sales          0\n",
       "post_author          0\n",
       "post_date            0\n",
       "post_date_gmt        0\n",
       "product_type         0\n",
       "post_title           0\n",
       "post_excerpt         0\n",
       "post_name            0\n",
       "post_modified        0\n",
       "post_modified_gmt    0\n",
       "guid                 0\n",
       "post_type            0\n",
       "dtype: int64"
      ]
     },
     "execution_count": 87,
     "metadata": {},
     "output_type": "execute_result"
    }
   ],
   "source": [
    "#Comme toutes les données invalides ont un clé \"sku\", je supprime les 'sku' NAN\n",
    "donnees_valides = ~df_merge2['sku'].isna()\n",
    "df_data = df_merge2[donnees_valides].copy()\n",
    "df_data.isna().sum()"
   ]
  },
  {
   "cell_type": "code",
   "execution_count": 88,
   "id": "db0a4aa0-a9f0-4f2e-beec-d4eeaf9709e7",
   "metadata": {},
   "outputs": [
    {
     "data": {
      "text/html": [
       "<div>\n",
       "<style scoped>\n",
       "    .dataframe tbody tr th:only-of-type {\n",
       "        vertical-align: middle;\n",
       "    }\n",
       "\n",
       "    .dataframe tbody tr th {\n",
       "        vertical-align: top;\n",
       "    }\n",
       "\n",
       "    .dataframe thead th {\n",
       "        text-align: right;\n",
       "    }\n",
       "</style>\n",
       "<table border=\"1\" class=\"dataframe\">\n",
       "  <thead>\n",
       "    <tr style=\"text-align: right;\">\n",
       "      <th></th>\n",
       "      <th>id_web</th>\n",
       "      <th>product_id</th>\n",
       "      <th>onsale_web</th>\n",
       "      <th>price</th>\n",
       "      <th>stock_quantity</th>\n",
       "      <th>stock_status</th>\n",
       "      <th>purchase_price</th>\n",
       "      <th>sku</th>\n",
       "      <th>total_sales</th>\n",
       "      <th>post_author</th>\n",
       "      <th>post_date</th>\n",
       "      <th>post_date_gmt</th>\n",
       "      <th>product_type</th>\n",
       "      <th>post_title</th>\n",
       "      <th>post_excerpt</th>\n",
       "      <th>post_name</th>\n",
       "      <th>post_modified</th>\n",
       "      <th>post_modified_gmt</th>\n",
       "      <th>guid</th>\n",
       "      <th>post_type</th>\n",
       "    </tr>\n",
       "  </thead>\n",
       "  <tbody>\n",
       "  </tbody>\n",
       "</table>\n",
       "</div>"
      ],
      "text/plain": [
       "Empty DataFrame\n",
       "Columns: [id_web, product_id, onsale_web, price, stock_quantity, stock_status, purchase_price, sku, total_sales, post_author, post_date, post_date_gmt, product_type, post_title, post_excerpt, post_name, post_modified, post_modified_gmt, guid, post_type]\n",
       "Index: []"
      ]
     },
     "execution_count": 88,
     "metadata": {},
     "output_type": "execute_result"
    }
   ],
   "source": [
    "doublons_df_data1 = df_data.duplicated(subset='id_web')\n",
    "df_data[doublons_df_data1]"
   ]
  },
  {
   "cell_type": "code",
   "execution_count": 89,
   "id": "fde0dd47-7680-4c30-b0d8-ee33c40164e6",
   "metadata": {},
   "outputs": [
    {
     "data": {
      "text/html": [
       "<div>\n",
       "<style scoped>\n",
       "    .dataframe tbody tr th:only-of-type {\n",
       "        vertical-align: middle;\n",
       "    }\n",
       "\n",
       "    .dataframe tbody tr th {\n",
       "        vertical-align: top;\n",
       "    }\n",
       "\n",
       "    .dataframe thead th {\n",
       "        text-align: right;\n",
       "    }\n",
       "</style>\n",
       "<table border=\"1\" class=\"dataframe\">\n",
       "  <thead>\n",
       "    <tr style=\"text-align: right;\">\n",
       "      <th></th>\n",
       "      <th>id_web</th>\n",
       "      <th>product_id</th>\n",
       "      <th>onsale_web</th>\n",
       "      <th>price</th>\n",
       "      <th>stock_quantity</th>\n",
       "      <th>stock_status</th>\n",
       "      <th>purchase_price</th>\n",
       "      <th>sku</th>\n",
       "      <th>total_sales</th>\n",
       "      <th>post_author</th>\n",
       "      <th>post_date</th>\n",
       "      <th>post_date_gmt</th>\n",
       "      <th>product_type</th>\n",
       "      <th>post_title</th>\n",
       "      <th>post_excerpt</th>\n",
       "      <th>post_name</th>\n",
       "      <th>post_modified</th>\n",
       "      <th>post_modified_gmt</th>\n",
       "      <th>guid</th>\n",
       "      <th>post_type</th>\n",
       "    </tr>\n",
       "  </thead>\n",
       "  <tbody>\n",
       "  </tbody>\n",
       "</table>\n",
       "</div>"
      ],
      "text/plain": [
       "Empty DataFrame\n",
       "Columns: [id_web, product_id, onsale_web, price, stock_quantity, stock_status, purchase_price, sku, total_sales, post_author, post_date, post_date_gmt, product_type, post_title, post_excerpt, post_name, post_modified, post_modified_gmt, guid, post_type]\n",
       "Index: []"
      ]
     },
     "execution_count": 89,
     "metadata": {},
     "output_type": "execute_result"
    }
   ],
   "source": [
    "doublons_df_data2 = df_data.duplicated(subset='sku')\n",
    "df_data[doublons_df_data2]"
   ]
  },
  {
   "cell_type": "markdown",
   "id": "56c7cd0a-a90f-462c-92d9-008c7cb91561",
   "metadata": {},
   "source": [
    "**Je créé le dataframe df_data.  \n",
    "Il y avait 19 lignes sur 731 qui ne matchaient pas, je les ai supprimées.\n",
    "df_data fait donc 712 lignes, sans doublons pour les clés 'sku' et 'id_web' ni valeurs manquantes.** "
   ]
  },
  {
   "cell_type": "markdown",
   "id": "13d81fd6",
   "metadata": {},
   "source": [
    "<div style=\"background-color: RGB(51,165,182);\" >\n",
    "<h2 style=\"margin: auto; padding: 20px; color:#fff; \">Etape 4 - Analyse univariée des prix</h2>\n",
    "</div>"
   ]
  },
  {
   "cell_type": "markdown",
   "id": "9c8d0615",
   "metadata": {},
   "source": [
    "<div style=\"border: 1px solid RGB(51,165,182);\" >\n",
    "<h3 style=\"margin: auto; padding: 20px; color: RGB(51,165,182); \">Etape 4.1 - Exploration par la visualisation de données</h3>\n",
    "</div>"
   ]
  },
  {
   "cell_type": "code",
   "execution_count": 90,
   "id": "3be61f06",
   "metadata": {},
   "outputs": [
    {
     "data": {
      "image/png": "[encoded data removed]",
      "text/plain": [
       "<Figure size 1011.11x500 with 1 Axes>"
      ]
     },
     "metadata": {},
     "output_type": "display_data"
    }
   ],
   "source": [
    "#Création d'une boîte à moustache de la répartition des prix grâce à Pandas\n",
    "g = sns.catplot(data=df_data, x='price', kind='box', aspect=2)\n",
    "g.fig.suptitle(\"Répartition du prix des produits\", y=1.06, fontsize=20)\n",
    "g.set(xlabel =\"Prix (en euros)\")\n",
    "plt.show()"
   ]
  },
  {
   "cell_type": "code",
   "execution_count": 91,
   "id": "cbfe6346",
   "metadata": {},
   "outputs": [
    {
     "data": {
      "application/vnd.plotly.v1+json": {
       "config": {
        "plotlyServerURL": "https://plot.ly"
       },
       "data": [
        {
         "alignmentgroup": "True",
         "hovertemplate": "price=%{y}<extra></extra>",
         "legendgroup": "",
         "marker": {
          "color": "#636efa"
         },
         "name": "",
         "notched": false,
         "offsetgroup": "",
         "orientation": "v",
         "showlegend": false,
         "type": "box",
         "x0": " ",
         "xaxis": "x",
         "y": {
          "bdata": "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",
          "dtype": "f8"
         },
         "y0": " ",
         "yaxis": "y"
        }
       ],
       "layout": {
        "boxmode": "group",
        "legend": {
         "tracegroupgap": 0
        },
        "template": {
         "data": {
          "bar": [
           {
            "error_x": {
             "color": "#2a3f5f"
            },
            "error_y": {
             "color": "#2a3f5f"
            },
            "marker": {
             "line": {
              "color": "#E5ECF6",
              "width": 0.5
             },
             "pattern": {
              "fillmode": "overlay",
              "size": 10,
              "solidity": 0.2
             }
            },
            "type": "bar"
           }
          ],
          "barpolar": [
           {
            "marker": {
             "line": {
              "color": "#E5ECF6",
              "width": 0.5
             },
             "pattern": {
              "fillmode": "overlay",
              "size": 10,
              "solidity": 0.2
             }
            },
            "type": "barpolar"
           }
          ],
          "carpet": [
           {
            "aaxis": {
             "endlinecolor": "#2a3f5f",
             "gridcolor": "white",
             "linecolor": "white",
             "minorgridcolor": "white",
             "startlinecolor": "#2a3f5f"
            },
            "baxis": {
             "endlinecolor": "#2a3f5f",
             "gridcolor": "white",
             "linecolor": "white",
             "minorgridcolor": "white",
             "startlinecolor": "#2a3f5f"
            },
            "type": "carpet"
           }
          ],
          "choropleth": [
           {
            "colorbar": {
             "outlinewidth": 0,
             "ticks": ""
            },
            "type": "choropleth"
           }
          ],
          "contour": [
           {
            "colorbar": {
             "outlinewidth": 0,
             "ticks": ""
            },
            "colorscale": [
             [
              0,
              "#0d0887"
             ],
             [
              0.1111111111111111,
              "#46039f"
             ],
             [
              0.2222222222222222,
              "#7201a8"
             ],
             [
              0.3333333333333333,
              "#9c179e"
             ],
             [
              0.4444444444444444,
              "#bd3786"
             ],
             [
              0.5555555555555556,
              "#d8576b"
             ],
             [
              0.6666666666666666,
              "#ed7953"
             ],
             [
              0.7777777777777778,
              "#fb9f3a"
             ],
             [
              0.8888888888888888,
              "#fdca26"
             ],
             [
              1,
              "#f0f921"
             ]
            ],
            "type": "contour"
           }
          ],
          "contourcarpet": [
           {
            "colorbar": {
             "outlinewidth": 0,
             "ticks": ""
            },
            "type": "contourcarpet"
           }
          ],
          "heatmap": [
           {
            "colorbar": {
             "outlinewidth": 0,
             "ticks": ""
            },
            "colorscale": [
             [
              0,
              "#0d0887"
             ],
             [
              0.1111111111111111,
              "#46039f"
             ],
             [
              0.2222222222222222,
              "#7201a8"
             ],
             [
              0.3333333333333333,
              "#9c179e"
             ],
             [
              0.4444444444444444,
              "#bd3786"
             ],
             [
              0.5555555555555556,
              "#d8576b"
             ],
             [
              0.6666666666666666,
              "#ed7953"
             ],
             [
              0.7777777777777778,
              "#fb9f3a"
             ],
             [
              0.8888888888888888,
              "#fdca26"
             ],
             [
              1,
              "#f0f921"
             ]
            ],
            "type": "heatmap"
           }
          ],
          "histogram": [
           {
            "marker": {
             "pattern": {
              "fillmode": "overlay",
              "size": 10,
              "solidity": 0.2
             }
            },
            "type": "histogram"
           }
          ],
          "histogram2d": [
           {
            "colorbar": {
             "outlinewidth": 0,
             "ticks": ""
            },
            "colorscale": [
             [
              0,
              "#0d0887"
             ],
             [
              0.1111111111111111,
              "#46039f"
             ],
             [
              0.2222222222222222,
              "#7201a8"
             ],
             [
              0.3333333333333333,
              "#9c179e"
             ],
             [
              0.4444444444444444,
              "#bd3786"
             ],
             [
              0.5555555555555556,
              "#d8576b"
             ],
             [
              0.6666666666666666,
              "#ed7953"
             ],
             [
              0.7777777777777778,
              "#fb9f3a"
             ],
             [
              0.8888888888888888,
              "#fdca26"
             ],
             [
              1,
              "#f0f921"
             ]
            ],
            "type": "histogram2d"
           }
          ],
          "histogram2dcontour": [
           {
            "colorbar": {
             "outlinewidth": 0,
             "ticks": ""
            },
            "colorscale": [
             [
              0,
              "#0d0887"
             ],
             [
              0.1111111111111111,
              "#46039f"
             ],
             [
              0.2222222222222222,
              "#7201a8"
             ],
             [
              0.3333333333333333,
              "#9c179e"
             ],
             [
              0.4444444444444444,
              "#bd3786"
             ],
             [
              0.5555555555555556,
              "#d8576b"
             ],
             [
              0.6666666666666666,
              "#ed7953"
             ],
             [
              0.7777777777777778,
              "#fb9f3a"
             ],
             [
              0.8888888888888888,
              "#fdca26"
             ],
             [
              1,
              "#f0f921"
             ]
            ],
            "type": "histogram2dcontour"
           }
          ],
          "mesh3d": [
           {
            "colorbar": {
             "outlinewidth": 0,
             "ticks": ""
            },
            "type": "mesh3d"
           }
          ],
          "parcoords": [
           {
            "line": {
             "colorbar": {
              "outlinewidth": 0,
              "ticks": ""
             }
            },
            "type": "parcoords"
           }
          ],
          "pie": [
           {
            "automargin": true,
            "type": "pie"
           }
          ],
          "scatter": [
           {
            "fillpattern": {
             "fillmode": "overlay",
             "size": 10,
             "solidity": 0.2
            },
            "type": "scatter"
           }
          ],
          "scatter3d": [
           {
            "line": {
             "colorbar": {
              "outlinewidth": 0,
              "ticks": ""
             }
            },
            "marker": {
             "colorbar": {
              "outlinewidth": 0,
              "ticks": ""
             }
            },
            "type": "scatter3d"
           }
          ],
          "scattercarpet": [
           {
            "marker": {
             "colorbar": {
              "outlinewidth": 0,
              "ticks": ""
             }
            },
            "type": "scattercarpet"
           }
          ],
          "scattergeo": [
           {
            "marker": {
             "colorbar": {
              "outlinewidth": 0,
              "ticks": ""
             }
            },
            "type": "scattergeo"
           }
          ],
          "scattergl": [
           {
            "marker": {
             "colorbar": {
              "outlinewidth": 0,
              "ticks": ""
             }
            },
            "type": "scattergl"
           }
          ],
          "scattermap": [
           {
            "marker": {
             "colorbar": {
              "outlinewidth": 0,
              "ticks": ""
             }
            },
            "type": "scattermap"
           }
          ],
          "scattermapbox": [
           {
            "marker": {
             "colorbar": {
              "outlinewidth": 0,
              "ticks": ""
             }
            },
            "type": "scattermapbox"
           }
          ],
          "scatterpolar": [
           {
            "marker": {
             "colorbar": {
              "outlinewidth": 0,
              "ticks": ""
             }
            },
            "type": "scatterpolar"
           }
          ],
          "scatterpolargl": [
           {
            "marker": {
             "colorbar": {
              "outlinewidth": 0,
              "ticks": ""
             }
            },
            "type": "scatterpolargl"
           }
          ],
          "scatterternary": [
           {
            "marker": {
             "colorbar": {
              "outlinewidth": 0,
              "ticks": ""
             }
            },
            "type": "scatterternary"
           }
          ],
          "surface": [
           {
            "colorbar": {
             "outlinewidth": 0,
             "ticks": ""
            },
            "colorscale": [
             [
              0,
              "#0d0887"
             ],
             [
              0.1111111111111111,
              "#46039f"
             ],
             [
              0.2222222222222222,
              "#7201a8"
             ],
             [
              0.3333333333333333,
              "#9c179e"
             ],
             [
              0.4444444444444444,
              "#bd3786"
             ],
             [
              0.5555555555555556,
              "#d8576b"
             ],
             [
              0.6666666666666666,
              "#ed7953"
             ],
             [
              0.7777777777777778,
              "#fb9f3a"
             ],
             [
              0.8888888888888888,
              "#fdca26"
             ],
             [
              1,
              "#f0f921"
             ]
            ],
            "type": "surface"
           }
          ],
          "table": [
           {
            "cells": {
             "fill": {
              "color": "#EBF0F8"
             },
             "line": {
              "color": "white"
             }
            },
            "header": {
             "fill": {
              "color": "#C8D4E3"
             },
             "line": {
              "color": "white"
             }
            },
            "type": "table"
           }
          ]
         },
         "layout": {
          "annotationdefaults": {
           "arrowcolor": "#2a3f5f",
           "arrowhead": 0,
           "arrowwidth": 1
          },
          "autotypenumbers": "strict",
          "coloraxis": {
           "colorbar": {
            "outlinewidth": 0,
            "ticks": ""
           }
          },
          "colorscale": {
           "diverging": [
            [
             0,
             "#8e0152"
            ],
            [
             0.1,
             "#c51b7d"
            ],
            [
             0.2,
             "#de77ae"
            ],
            [
             0.3,
             "#f1b6da"
            ],
            [
             0.4,
             "#fde0ef"
            ],
            [
             0.5,
             "#f7f7f7"
            ],
            [
             0.6,
             "#e6f5d0"
            ],
            [
             0.7,
             "#b8e186"
            ],
            [
             0.8,
             "#7fbc41"
            ],
            [
             0.9,
             "#4d9221"
            ],
            [
             1,
             "#276419"
            ]
           ],
           "sequential": [
            [
             0,
             "#0d0887"
            ],
            [
             0.1111111111111111,
             "#46039f"
            ],
            [
             0.2222222222222222,
             "#7201a8"
            ],
            [
             0.3333333333333333,
             "#9c179e"
            ],
            [
             0.4444444444444444,
             "#bd3786"
            ],
            [
             0.5555555555555556,
             "#d8576b"
            ],
            [
             0.6666666666666666,
             "#ed7953"
            ],
            [
             0.7777777777777778,
             "#fb9f3a"
            ],
            [
             0.8888888888888888,
             "#fdca26"
            ],
            [
             1,
             "#f0f921"
            ]
           ],
           "sequentialminus": [
            [
             0,
             "#0d0887"
            ],
            [
             0.1111111111111111,
             "#46039f"
            ],
            [
             0.2222222222222222,
             "#7201a8"
            ],
            [
             0.3333333333333333,
             "#9c179e"
            ],
            [
             0.4444444444444444,
             "#bd3786"
            ],
            [
             0.5555555555555556,
             "#d8576b"
            ],
            [
             0.6666666666666666,
             "#ed7953"
            ],
            [
             0.7777777777777778,
             "#fb9f3a"
            ],
            [
             0.8888888888888888,
             "#fdca26"
            ],
            [
             1,
             "#f0f921"
            ]
           ]
          },
          "colorway": [
           "#636efa",
           "#EF553B",
           "#00cc96",
           "#ab63fa",
           "#FFA15A",
           "#19d3f3",
           "#FF6692",
           "#B6E880",
           "#FF97FF",
           "#FECB52"
          ],
          "font": {
           "color": "#2a3f5f"
          },
          "geo": {
           "bgcolor": "white",
           "lakecolor": "white",
           "landcolor": "#E5ECF6",
           "showlakes": true,
           "showland": true,
           "subunitcolor": "white"
          },
          "hoverlabel": {
           "align": "left"
          },
          "hovermode": "closest",
          "mapbox": {
           "style": "light"
          },
          "paper_bgcolor": "white",
          "plot_bgcolor": "#E5ECF6",
          "polar": {
           "angularaxis": {
            "gridcolor": "white",
            "linecolor": "white",
            "ticks": ""
           },
           "bgcolor": "#E5ECF6",
           "radialaxis": {
            "gridcolor": "white",
            "linecolor": "white",
            "ticks": ""
           }
          },
          "scene": {
           "xaxis": {
            "backgroundcolor": "#E5ECF6",
            "gridcolor": "white",
            "gridwidth": 2,
            "linecolor": "white",
            "showbackground": true,
            "ticks": "",
            "zerolinecolor": "white"
           },
           "yaxis": {
            "backgroundcolor": "#E5ECF6",
            "gridcolor": "white",
            "gridwidth": 2,
            "linecolor": "white",
            "showbackground": true,
            "ticks": "",
            "zerolinecolor": "white"
           },
           "zaxis": {
            "backgroundcolor": "#E5ECF6",
            "gridcolor": "white",
            "gridwidth": 2,
            "linecolor": "white",
            "showbackground": true,
            "ticks": "",
            "zerolinecolor": "white"
           }
          },
          "shapedefaults": {
           "line": {
            "color": "#2a3f5f"
           }
          },
          "ternary": {
           "aaxis": {
            "gridcolor": "white",
            "linecolor": "white",
            "ticks": ""
           },
           "baxis": {
            "gridcolor": "white",
            "linecolor": "white",
            "ticks": ""
           },
           "bgcolor": "#E5ECF6",
           "caxis": {
            "gridcolor": "white",
            "linecolor": "white",
            "ticks": ""
           }
          },
          "title": {
           "x": 0.05
          },
          "xaxis": {
           "automargin": true,
           "gridcolor": "white",
           "linecolor": "white",
           "ticks": "",
           "title": {
            "standoff": 15
           },
           "zerolinecolor": "white",
           "zerolinewidth": 2
          },
          "yaxis": {
           "automargin": true,
           "gridcolor": "white",
           "linecolor": "white",
           "ticks": "",
           "title": {
            "standoff": 15
           },
           "zerolinecolor": "white",
           "zerolinewidth": 2
          }
         }
        },
        "title": {
         "text": "Répartition du prix des produits",
         "x": 0.5
        },
        "xaxis": {
         "anchor": "y",
         "domain": [
          0,
          1
         ]
        },
        "yaxis": {
         "anchor": "x",
         "domain": [
          0,
          1
         ],
         "title": {
          "text": "Prix (en euros)"
         }
        }
       }
      }
     },
     "metadata": {},
     "output_type": "display_data"
    }
   ],
   "source": [
    "#Autre méthode avec plotly express\n",
    "# Création de la boîte à moustaches interactive avec Plotly\n",
    "fig = px.box(df_data, y=\"price\", title=\"Répartition du prix des produits\")\n",
    "\n",
    "# Mise à jour du label de l’axe Y\n",
    "fig.update_layout(\n",
    "    yaxis_title=\"Prix (en euros)\",\n",
    "    title_x=0.5  # Centrer le titre\n",
    ")\n",
    "\n",
    "fig.show()"
   ]
  },
  {
   "cell_type": "markdown",
   "id": "79e2f2eb",
   "metadata": {},
   "source": [
    "<div style=\"border: 1px solid RGB(51,165,182);\" >\n",
    "<h3 style=\"margin: auto; padding: 20px; color: RGB(51,165,182); \">Etape 4.2 - Exploration par l'utilisation de méthodes statistiques</h3>\n",
    "</div>"
   ]
  },
  {
   "cell_type": "markdown",
   "id": "0735c3b2",
   "metadata": {},
   "source": [
    "<div style=\"border: 1px solid RGB(51,165,182);\" >\n",
    "<h3 style=\"margin: auto; padding: 20px; color: RGB(51,165,182); \">Etape 4.2.1 - Identification par le Z-index</h3>\n",
    "</div>"
   ]
  },
  {
   "cell_type": "code",
   "execution_count": 92,
   "id": "d2123b1d-c8dc-43fe-b622-6f9858f94ad9",
   "metadata": {},
   "outputs": [
    {
     "data": {
      "text/plain": [
       "np.float64(32.3124297752809)"
      ]
     },
     "execution_count": 92,
     "metadata": {},
     "output_type": "execute_result"
    }
   ],
   "source": [
    "#Calculer la moyenne du prix\n",
    "moyenne = df_data['price'].mean()\n",
    "moyenne"
   ]
  },
  {
   "cell_type": "code",
   "execution_count": 93,
   "id": "6b7ce22c-cda4-47ef-8cea-ae60e6823bc4",
   "metadata": {},
   "outputs": [
    {
     "data": {
      "text/plain": [
       "np.float64(27.62089402816087)"
      ]
     },
     "execution_count": 93,
     "metadata": {},
     "output_type": "execute_result"
    }
   ],
   "source": [
    "#Calculer l'écart-type du prix\n",
    "std = df_data['price'].std()\n",
    "std"
   ]
  },
  {
   "cell_type": "code",
   "execution_count": 94,
   "id": "1950ef8d",
   "metadata": {},
   "outputs": [],
   "source": [
    "#Calculer le Z-score"
   ]
  },
  {
   "cell_type": "code",
   "execution_count": 95,
   "id": "9c2f435f",
   "metadata": {},
   "outputs": [
    {
     "name": "stdout",
     "output_type": "stream",
     "text": [
      "Valeur seuil d'après le z_score : 115.18 euros\n"
     ]
    }
   ],
   "source": [
    "#Quel est le seuil prix dont le z-score est supérieur à 3?\n",
    "# z_score = (valeur - moyenne) / std\n",
    "# 3 =(valeur - moyenne) / std\n",
    "# DONC 3*std + moyenne = valeur\n",
    "valeur = round(3*std + moyenne, 2)\n",
    "print (\"Valeur seuil d'après le z_score :\", valeur, \"euros\")"
   ]
  },
  {
   "cell_type": "markdown",
   "id": "0af9ef34-89e2-4a93-9936-ff7dd139cc07",
   "metadata": {},
   "source": [
    "**Si l'on dépasse un z_score de 3, alors le seuil de prix est de 115.18 euros.**"
   ]
  },
  {
   "cell_type": "markdown",
   "id": "750f54f3",
   "metadata": {},
   "source": [
    "<div style=\"border: 1px solid RGB(51,165,182);\" >\n",
    "<h3 style=\"margin: auto; padding: 20px; color: RGB(51,165,182); \">Etape 4.2.2 - Identification par l'intervalle interquartile</h3>\n",
    "</div>"
   ]
  },
  {
   "cell_type": "code",
   "execution_count": 96,
   "id": "6c0db8c0",
   "metadata": {},
   "outputs": [
    {
     "data": {
      "text/plain": [
       "count    712.000000\n",
       "mean      32.312430\n",
       "std       27.620894\n",
       "min        5.200000\n",
       "25%       14.037500\n",
       "50%       23.400000\n",
       "75%       42.025000\n",
       "max      225.000000\n",
       "Name: price, dtype: float64"
      ]
     },
     "execution_count": 96,
     "metadata": {},
     "output_type": "execute_result"
    }
   ],
   "source": [
    "#Utilisation de la fonction \"describe\" de Pandas pour l'étude des mesures de dispersion\n",
    "df_data['price'].describe()"
   ]
  },
  {
   "cell_type": "code",
   "execution_count": 97,
   "id": "a458ca14",
   "metadata": {},
   "outputs": [
    {
     "name": "stdout",
     "output_type": "stream",
     "text": [
      "Seuil pour les articles outliers pour un prix trop élevé : 84.01 euros\n"
     ]
    }
   ],
   "source": [
    "#Définir un seuil pour les articles \"outliers\" en prix\n",
    "Q1 = df_data['price'].quantile(0.25)\n",
    "Q3 = df_data['price'].quantile(0.75)\n",
    "IQR = Q3 - Q1\n",
    "seuil = Q3+ (1.5* IQR)\n",
    "seuil = round(seuil, 2)\n",
    "print(\"Seuil pour les articles outliers pour un prix trop élevé :\", seuil, \"euros\")"
   ]
  },
  {
   "cell_type": "code",
   "execution_count": 98,
   "id": "7d05cde7",
   "metadata": {},
   "outputs": [
    {
     "data": {
      "text/plain": [
       "31"
      ]
     },
     "execution_count": 98,
     "metadata": {},
     "output_type": "execute_result"
    }
   ],
   "source": [
    "#Définir le nombre d'articles sur l'ensemble du catalogue \"outliers\"\n",
    "valeurs_superieures_seuil = df_data[df_data['price'] > seuil]\n",
    "len(valeurs_superieures_seuil)"
   ]
  },
  {
   "cell_type": "markdown",
   "id": "52543a7b-720a-408e-b9f8-3a6eda6310e9",
   "metadata": {},
   "source": [
    "**On compte 31 articles supérieurs au seuil de la méthode de l'intervalle interquartile.**"
   ]
  },
  {
   "cell_type": "code",
   "execution_count": 99,
   "id": "11a2ca1a-2771-4f34-bb84-a107093d6322",
   "metadata": {},
   "outputs": [
    {
     "name": "stdout",
     "output_type": "stream",
     "text": [
      "Proportion d'outliers : 4.35 %\n"
     ]
    }
   ],
   "source": [
    "#Définir la proportion de l'ensemble du catalogue \"outliers\"\n",
    "proportion_outliers = len(valeurs_superieures_seuil) / len(df_data)\n",
    "pourcentage_outliers = round(proportion_outliers * 100, 2)\n",
    "print( \"Proportion d'outliers :\", pourcentage_outliers, \"%\")"
   ]
  },
  {
   "cell_type": "markdown",
   "id": "4f776137-5655-4306-9104-9b3bdfcd4c73",
   "metadata": {},
   "source": [
    "**On compte 4.35% de valeurs du dataframe au-dessus au seuil de la méthode de l'intervalle interquartile.**"
   ]
  },
  {
   "cell_type": "code",
   "execution_count": 100,
   "id": "06138432",
   "metadata": {},
   "outputs": [
    {
     "data": {
      "text/html": [
       "<div>\n",
       "<style scoped>\n",
       "    .dataframe tbody tr th:only-of-type {\n",
       "        vertical-align: middle;\n",
       "    }\n",
       "\n",
       "    .dataframe tbody tr th {\n",
       "        vertical-align: top;\n",
       "    }\n",
       "\n",
       "    .dataframe thead th {\n",
       "        text-align: right;\n",
       "    }\n",
       "</style>\n",
       "<table border=\"1\" class=\"dataframe\">\n",
       "  <thead>\n",
       "    <tr style=\"text-align: right;\">\n",
       "      <th></th>\n",
       "      <th>id_web</th>\n",
       "      <th>product_id</th>\n",
       "      <th>onsale_web</th>\n",
       "      <th>price</th>\n",
       "      <th>stock_quantity</th>\n",
       "      <th>stock_status</th>\n",
       "      <th>purchase_price</th>\n",
       "      <th>sku</th>\n",
       "      <th>total_sales</th>\n",
       "      <th>post_author</th>\n",
       "      <th>post_date</th>\n",
       "      <th>post_date_gmt</th>\n",
       "      <th>product_type</th>\n",
       "      <th>post_title</th>\n",
       "      <th>post_excerpt</th>\n",
       "      <th>post_name</th>\n",
       "      <th>post_modified</th>\n",
       "      <th>post_modified_gmt</th>\n",
       "      <th>guid</th>\n",
       "      <th>post_type</th>\n",
       "    </tr>\n",
       "  </thead>\n",
       "  <tbody>\n",
       "    <tr>\n",
       "      <th>63</th>\n",
       "      <td>15382</td>\n",
       "      <td>4115</td>\n",
       "      <td>1</td>\n",
       "      <td>100.0</td>\n",
       "      <td>12</td>\n",
       "      <td>instock</td>\n",
       "      <td>52.70</td>\n",
       "      <td>15382</td>\n",
       "      <td>1.0</td>\n",
       "      <td>2.0</td>\n",
       "      <td>2018-02-13 11:08:45</td>\n",
       "      <td>2018-02-13 10:08:45</td>\n",
       "      <td>Vin</td>\n",
       "      <td>Zind-Humbrecht Riesling Grand Cru Rangen De Th...</td>\n",
       "      <td>Le nez est puissant, dominant, riche, sur la f...</td>\n",
       "      <td>zind-humbrecht-riesling-gc-rangen-thann-clos-s...</td>\n",
       "      <td>2020-02-08 11:45:02</td>\n",
       "      <td>2020-02-08 10:45:02</td>\n",
       "      <td>https://www.bottle-neck.fr/?post_type=product&amp;...</td>\n",
       "      <td>product</td>\n",
       "    </tr>\n",
       "    <tr>\n",
       "      <th>65</th>\n",
       "      <td>11668</td>\n",
       "      <td>4132</td>\n",
       "      <td>1</td>\n",
       "      <td>88.4</td>\n",
       "      <td>7</td>\n",
       "      <td>instock</td>\n",
       "      <td>44.30</td>\n",
       "      <td>11668</td>\n",
       "      <td>5.0</td>\n",
       "      <td>2.0</td>\n",
       "      <td>2018-02-13 11:43:55</td>\n",
       "      <td>2018-02-13 10:43:55</td>\n",
       "      <td>Vin</td>\n",
       "      <td>Zind-Humbrecht Pinot Gris Grand Cru Rangen De ...</td>\n",
       "      <td>Le nez dévoile déjà une belle intensité de fru...</td>\n",
       "      <td>zind-humbrecht-pinot-gris-grand-cru-rangen-de-...</td>\n",
       "      <td>2020-02-20 09:55:02</td>\n",
       "      <td>2020-02-20 08:55:02</td>\n",
       "      <td>https://www.bottle-neck.fr/?post_type=product&amp;...</td>\n",
       "      <td>product</td>\n",
       "    </tr>\n",
       "    <tr>\n",
       "      <th>200</th>\n",
       "      <td>15940</td>\n",
       "      <td>4352</td>\n",
       "      <td>1</td>\n",
       "      <td>225.0</td>\n",
       "      <td>0</td>\n",
       "      <td>outofstock</td>\n",
       "      <td>137.81</td>\n",
       "      <td>15940</td>\n",
       "      <td>11.0</td>\n",
       "      <td>2.0</td>\n",
       "      <td>2018-03-02 10:30:04</td>\n",
       "      <td>2018-03-02 09:30:04</td>\n",
       "      <td>Champagne</td>\n",
       "      <td>Champagne Egly-Ouriet Grand Cru Millésimé 2008</td>\n",
       "      <td>Issu d’un assemblage de 70% de Pinot Noir du g...</td>\n",
       "      <td>champagne-egly-ouriet-grand-cru-millesime-2008</td>\n",
       "      <td>2020-03-07 11:18:45</td>\n",
       "      <td>2020-03-07 10:18:45</td>\n",
       "      <td>https://www.bottle-neck.fr/?post_type=product&amp;...</td>\n",
       "      <td>product</td>\n",
       "    </tr>\n",
       "    <tr>\n",
       "      <th>206</th>\n",
       "      <td>13853</td>\n",
       "      <td>4359</td>\n",
       "      <td>1</td>\n",
       "      <td>85.6</td>\n",
       "      <td>112</td>\n",
       "      <td>instock</td>\n",
       "      <td>51.93</td>\n",
       "      <td>13853</td>\n",
       "      <td>7.0</td>\n",
       "      <td>2.0</td>\n",
       "      <td>2018-03-02 11:11:48</td>\n",
       "      <td>2018-03-02 10:11:48</td>\n",
       "      <td>Champagne</td>\n",
       "      <td>Champagne Larmandier-Bernier Grand Cru Les Che...</td>\n",
       "      <td>Belle maîtrise de ce millésime compliqué en Ch...</td>\n",
       "      <td>champagne-larmandier-bernier-grand-cru-vieille...</td>\n",
       "      <td>2019-12-23 09:30:11</td>\n",
       "      <td>2019-12-23 08:30:11</td>\n",
       "      <td>https://www.bottle-neck.fr/?post_type=product&amp;...</td>\n",
       "      <td>product</td>\n",
       "    </tr>\n",
       "    <tr>\n",
       "      <th>219</th>\n",
       "      <td>3510</td>\n",
       "      <td>4402</td>\n",
       "      <td>1</td>\n",
       "      <td>176.0</td>\n",
       "      <td>11</td>\n",
       "      <td>instock</td>\n",
       "      <td>78.25</td>\n",
       "      <td>3510</td>\n",
       "      <td>3.0</td>\n",
       "      <td>2.0</td>\n",
       "      <td>2018-03-22 11:21:05</td>\n",
       "      <td>2018-03-22 10:21:05</td>\n",
       "      <td>Cognac</td>\n",
       "      <td>Cognac Frapin VIP XO</td>\n",
       "      <td>La cuvée VIP XO à été enrichie d’eaux-de-vie t...</td>\n",
       "      <td>cognac-frapin-vip-xo</td>\n",
       "      <td>2020-08-22 11:35:03</td>\n",
       "      <td>2020-08-22 09:35:03</td>\n",
       "      <td>https://www.bottle-neck.fr/?post_type=product&amp;...</td>\n",
       "      <td>product</td>\n",
       "    </tr>\n",
       "    <tr>\n",
       "      <th>220</th>\n",
       "      <td>3507</td>\n",
       "      <td>4404</td>\n",
       "      <td>1</td>\n",
       "      <td>108.5</td>\n",
       "      <td>17</td>\n",
       "      <td>instock</td>\n",
       "      <td>52.22</td>\n",
       "      <td>3507</td>\n",
       "      <td>4.0</td>\n",
       "      <td>2.0</td>\n",
       "      <td>2018-03-22 11:32:55</td>\n",
       "      <td>2018-03-22 10:32:55</td>\n",
       "      <td>Cognac</td>\n",
       "      <td>Cognac Frapin Château de Fontpinot XO</td>\n",
       "      <td>Exclusivement vendangé, distillé, vieilli et m...</td>\n",
       "      <td>cognac-frapin-fontpinot-xo</td>\n",
       "      <td>2020-08-12 09:30:16</td>\n",
       "      <td>2020-08-12 07:30:16</td>\n",
       "      <td>https://www.bottle-neck.fr/?post_type=product&amp;...</td>\n",
       "      <td>product</td>\n",
       "    </tr>\n",
       "    <tr>\n",
       "      <th>222</th>\n",
       "      <td>7819</td>\n",
       "      <td>4406</td>\n",
       "      <td>1</td>\n",
       "      <td>157.0</td>\n",
       "      <td>12</td>\n",
       "      <td>instock</td>\n",
       "      <td>69.08</td>\n",
       "      <td>7819</td>\n",
       "      <td>4.0</td>\n",
       "      <td>2.0</td>\n",
       "      <td>2018-03-22 11:42:48</td>\n",
       "      <td>2018-03-22 10:42:48</td>\n",
       "      <td>Cognac</td>\n",
       "      <td>Cognac Frapin Château de Fontpinot 1989 20 Ans...</td>\n",
       "      <td>Eau-de-Vie distillée à partir de raisins de Gr...</td>\n",
       "      <td>cognac-frapin-chateau-de-fontpinot-1989-20-ans</td>\n",
       "      <td>2020-03-14 16:05:04</td>\n",
       "      <td>2020-03-14 15:05:04</td>\n",
       "      <td>https://www.bottle-neck.fr/?post_type=product&amp;...</td>\n",
       "      <td>product</td>\n",
       "    </tr>\n",
       "    <tr>\n",
       "      <th>223</th>\n",
       "      <td>3509</td>\n",
       "      <td>4407</td>\n",
       "      <td>1</td>\n",
       "      <td>104.0</td>\n",
       "      <td>14</td>\n",
       "      <td>instock</td>\n",
       "      <td>46.71</td>\n",
       "      <td>3509</td>\n",
       "      <td>5.0</td>\n",
       "      <td>2.0</td>\n",
       "      <td>2018-03-22 11:49:53</td>\n",
       "      <td>2018-03-22 10:49:53</td>\n",
       "      <td>Cognac</td>\n",
       "      <td>Cognac Frapin Cigar Blend</td>\n",
       "      <td>Ce cognac bénéficie d'un vieillissement plus l...</td>\n",
       "      <td>cognac-frapin-cigar-blend</td>\n",
       "      <td>2020-07-04 09:45:03</td>\n",
       "      <td>2020-07-04 07:45:03</td>\n",
       "      <td>https://www.bottle-neck.fr/?post_type=product&amp;...</td>\n",
       "      <td>product</td>\n",
       "    </tr>\n",
       "    <tr>\n",
       "      <th>229</th>\n",
       "      <td>12857</td>\n",
       "      <td>4582</td>\n",
       "      <td>1</td>\n",
       "      <td>109.6</td>\n",
       "      <td>18</td>\n",
       "      <td>instock</td>\n",
       "      <td>53.80</td>\n",
       "      <td>12857</td>\n",
       "      <td>1.0</td>\n",
       "      <td>2.0</td>\n",
       "      <td>2018-04-12 17:56:13</td>\n",
       "      <td>2018-04-12 15:56:13</td>\n",
       "      <td>Vin</td>\n",
       "      <td>Château de Meursault Puligny-Montrachet 1er Cr...</td>\n",
       "      <td>Il présente une grande fraîcheur minérale au n...</td>\n",
       "      <td>chateau-de-puligny-montrachet-1cru-champ-canet...</td>\n",
       "      <td>2020-02-06 16:35:02</td>\n",
       "      <td>2020-02-06 15:35:02</td>\n",
       "      <td>https://www.bottle-neck.fr/?post_type=product&amp;...</td>\n",
       "      <td>product</td>\n",
       "    </tr>\n",
       "    <tr>\n",
       "      <th>386</th>\n",
       "      <td>14805</td>\n",
       "      <td>4903</td>\n",
       "      <td>1</td>\n",
       "      <td>102.3</td>\n",
       "      <td>12</td>\n",
       "      <td>instock</td>\n",
       "      <td>51.80</td>\n",
       "      <td>14805</td>\n",
       "      <td>2.0</td>\n",
       "      <td>2.0</td>\n",
       "      <td>2018-05-15 10:10:57</td>\n",
       "      <td>2018-05-15 08:10:57</td>\n",
       "      <td>Vin</td>\n",
       "      <td>Domaine Des Croix Corton Grand Cru Les Grèves ...</td>\n",
       "      <td>Ce vin exhale de beaux arômes de fruits rouges...</td>\n",
       "      <td>domaine-des-croix-corton-grand-cru-les-greves-...</td>\n",
       "      <td>2020-06-27 09:00:07</td>\n",
       "      <td>2020-06-27 07:00:07</td>\n",
       "      <td>https://www.bottle-neck.fr/?post_type=product&amp;...</td>\n",
       "      <td>product</td>\n",
       "    </tr>\n",
       "    <tr>\n",
       "      <th>387</th>\n",
       "      <td>14220</td>\n",
       "      <td>4904</td>\n",
       "      <td>1</td>\n",
       "      <td>137.0</td>\n",
       "      <td>9</td>\n",
       "      <td>instock</td>\n",
       "      <td>67.95</td>\n",
       "      <td>14220</td>\n",
       "      <td>3.0</td>\n",
       "      <td>2.0</td>\n",
       "      <td>2018-05-15 10:23:41</td>\n",
       "      <td>2018-05-15 08:23:41</td>\n",
       "      <td>Vin</td>\n",
       "      <td>Domaine Des Croix Corton Charlemagne Grand Cru...</td>\n",
       "      <td>Ce Corton Charlemagne éblouit par son assise, ...</td>\n",
       "      <td>domaine-des-croix-corton-charlemagne-grand-cru...</td>\n",
       "      <td>2020-05-19 17:15:02</td>\n",
       "      <td>2020-05-19 15:15:02</td>\n",
       "      <td>https://www.bottle-neck.fr/?post_type=product&amp;...</td>\n",
       "      <td>product</td>\n",
       "    </tr>\n",
       "    <tr>\n",
       "      <th>433</th>\n",
       "      <td>14581</td>\n",
       "      <td>5001</td>\n",
       "      <td>1</td>\n",
       "      <td>217.5</td>\n",
       "      <td>18</td>\n",
       "      <td>instock</td>\n",
       "      <td>116.87</td>\n",
       "      <td>14581</td>\n",
       "      <td>2.0</td>\n",
       "      <td>2.0</td>\n",
       "      <td>2018-07-17 09:45:39</td>\n",
       "      <td>2018-07-17 07:45:39</td>\n",
       "      <td>Vin</td>\n",
       "      <td>David Duband Charmes-Chambertin Grand Cru 2014</td>\n",
       "      <td>Robe cerise chatoyante. Un nez de fruits rouge...</td>\n",
       "      <td>david-duband-charmes-chambertin-grand-cru-2014</td>\n",
       "      <td>2020-05-16 09:00:05</td>\n",
       "      <td>2020-05-16 07:00:05</td>\n",
       "      <td>https://www.bottle-neck.fr/?post_type=product&amp;...</td>\n",
       "      <td>product</td>\n",
       "    </tr>\n",
       "    <tr>\n",
       "      <th>438</th>\n",
       "      <td>12791</td>\n",
       "      <td>5007</td>\n",
       "      <td>1</td>\n",
       "      <td>105.0</td>\n",
       "      <td>15</td>\n",
       "      <td>instock</td>\n",
       "      <td>55.88</td>\n",
       "      <td>12791</td>\n",
       "      <td>3.0</td>\n",
       "      <td>2.0</td>\n",
       "      <td>2018-07-17 10:36:03</td>\n",
       "      <td>2018-07-17 08:36:03</td>\n",
       "      <td>Vin</td>\n",
       "      <td>Domaine des Comtes Lafon Volnay 1er Cru Santen...</td>\n",
       "      <td>\"Il s'agit là de la meilleure partie de l'appe...</td>\n",
       "      <td>domaine-des-comtes-lafon-volnay-1er-cru-santen...</td>\n",
       "      <td>2020-07-02 09:30:03</td>\n",
       "      <td>2020-07-02 07:30:03</td>\n",
       "      <td>https://www.bottle-neck.fr/?post_type=product&amp;...</td>\n",
       "      <td>product</td>\n",
       "    </tr>\n",
       "    <tr>\n",
       "      <th>439</th>\n",
       "      <td>11602</td>\n",
       "      <td>5008</td>\n",
       "      <td>1</td>\n",
       "      <td>105.0</td>\n",
       "      <td>12</td>\n",
       "      <td>instock</td>\n",
       "      <td>56.42</td>\n",
       "      <td>11602</td>\n",
       "      <td>7.0</td>\n",
       "      <td>2.0</td>\n",
       "      <td>2018-07-17 10:52:41</td>\n",
       "      <td>2018-07-17 08:52:41</td>\n",
       "      <td>Vin</td>\n",
       "      <td>Domaine des Comtes Lafon Volnay 1er Cru Santen...</td>\n",
       "      <td>\"Il s'agit là de la meilleure partie de l'appe...</td>\n",
       "      <td>domaine-des-comtes-lafon-volnay-1er-cru-santen...</td>\n",
       "      <td>2020-06-23 15:35:02</td>\n",
       "      <td>2020-06-23 13:35:02</td>\n",
       "      <td>https://www.bottle-neck.fr/?post_type=product&amp;...</td>\n",
       "      <td>product</td>\n",
       "    </tr>\n",
       "    <tr>\n",
       "      <th>446</th>\n",
       "      <td>13914</td>\n",
       "      <td>5025</td>\n",
       "      <td>1</td>\n",
       "      <td>112.0</td>\n",
       "      <td>136</td>\n",
       "      <td>instock</td>\n",
       "      <td>68.60</td>\n",
       "      <td>13914</td>\n",
       "      <td>6.0</td>\n",
       "      <td>2.0</td>\n",
       "      <td>2018-07-18 10:39:43</td>\n",
       "      <td>2018-07-18 08:39:43</td>\n",
       "      <td>Champagne</td>\n",
       "      <td>Champagne Agrapart &amp;amp; Fils L'Avizoise Extra...</td>\n",
       "      <td>Une cuvée surprenante, par son amer articulé a...</td>\n",
       "      <td>champagne-agrapart-fils-lavizoise-grand-cru-20...</td>\n",
       "      <td>2020-07-09 17:05:02</td>\n",
       "      <td>2020-07-09 15:05:02</td>\n",
       "      <td>https://www.bottle-neck.fr/?post_type=product&amp;...</td>\n",
       "      <td>product</td>\n",
       "    </tr>\n",
       "    <tr>\n",
       "      <th>447</th>\n",
       "      <td>13913</td>\n",
       "      <td>5026</td>\n",
       "      <td>1</td>\n",
       "      <td>86.8</td>\n",
       "      <td>101</td>\n",
       "      <td>instock</td>\n",
       "      <td>50.13</td>\n",
       "      <td>13913</td>\n",
       "      <td>9.0</td>\n",
       "      <td>2.0</td>\n",
       "      <td>2018-07-18 10:46:30</td>\n",
       "      <td>2018-07-18 08:46:30</td>\n",
       "      <td>Champagne</td>\n",
       "      <td>Champagne Agrapart &amp;amp; Fils Minéral Extra Br...</td>\n",
       "      <td>Légèrement praliné au nez, nerveux, frais, inc...</td>\n",
       "      <td>champagne-agrapart-fils-mineral-extra-brut-bla...</td>\n",
       "      <td>2020-05-11 14:35:02</td>\n",
       "      <td>2020-05-11 12:35:02</td>\n",
       "      <td>https://www.bottle-neck.fr/?post_type=product&amp;...</td>\n",
       "      <td>product</td>\n",
       "    </tr>\n",
       "    <tr>\n",
       "      <th>513</th>\n",
       "      <td>19822</td>\n",
       "      <td>5565</td>\n",
       "      <td>1</td>\n",
       "      <td>92.0</td>\n",
       "      <td>0</td>\n",
       "      <td>outofstock</td>\n",
       "      <td>46.11</td>\n",
       "      <td>19822</td>\n",
       "      <td>1.0</td>\n",
       "      <td>2.0</td>\n",
       "      <td>2018-11-26 10:59:10</td>\n",
       "      <td>2018-11-26 09:59:10</td>\n",
       "      <td>Vin</td>\n",
       "      <td>Tempier Bandol Cabassaou 2017</td>\n",
       "      <td>&lt;div id=\"wrapper\"&gt;\\n&lt;div id=\"container-wrapper...</td>\n",
       "      <td>tempier-bandol-cabassaou-2017</td>\n",
       "      <td>2020-01-04 13:57:04</td>\n",
       "      <td>2020-01-04 12:57:04</td>\n",
       "      <td>https://www.bottle-neck.fr/?post_type=product&amp;...</td>\n",
       "      <td>product</td>\n",
       "    </tr>\n",
       "    <tr>\n",
       "      <th>523</th>\n",
       "      <td>14915</td>\n",
       "      <td>5612</td>\n",
       "      <td>1</td>\n",
       "      <td>124.8</td>\n",
       "      <td>19</td>\n",
       "      <td>instock</td>\n",
       "      <td>66.41</td>\n",
       "      <td>14915</td>\n",
       "      <td>1.0</td>\n",
       "      <td>2.0</td>\n",
       "      <td>2019-01-15 15:30:49</td>\n",
       "      <td>2019-01-15 14:30:49</td>\n",
       "      <td>Vin</td>\n",
       "      <td>Domaine Weinbach Gewurztraminer Grand Cru Furs...</td>\n",
       "      <td>Né sur un sol marno-gréseux, ce Furstentum est...</td>\n",
       "      <td>domaine-weinbach-gewurztraminer-gc-furstentum-...</td>\n",
       "      <td>2019-01-23 09:33:57</td>\n",
       "      <td>2019-01-23 08:33:57</td>\n",
       "      <td>https://www.bottle-neck.fr/?post_type=product&amp;...</td>\n",
       "      <td>product</td>\n",
       "    </tr>\n",
       "    <tr>\n",
       "      <th>565</th>\n",
       "      <td>15185</td>\n",
       "      <td>5767</td>\n",
       "      <td>1</td>\n",
       "      <td>175.0</td>\n",
       "      <td>12</td>\n",
       "      <td>instock</td>\n",
       "      <td>90.42</td>\n",
       "      <td>15185</td>\n",
       "      <td>4.0</td>\n",
       "      <td>2.0</td>\n",
       "      <td>2019-03-13 14:43:22</td>\n",
       "      <td>2019-03-13 13:43:22</td>\n",
       "      <td>Vin</td>\n",
       "      <td>Camille Giroud Clos de Vougeot 2016</td>\n",
       "      <td>&lt;div&gt;Ce vin provient de vignes âgées de 50 ans...</td>\n",
       "      <td>camille-giroud-clos-de-vougeot-2016</td>\n",
       "      <td>2020-06-11 15:25:04</td>\n",
       "      <td>2020-06-11 13:25:04</td>\n",
       "      <td>https://www.bottle-neck.fr/?post_type=product&amp;...</td>\n",
       "      <td>product</td>\n",
       "    </tr>\n",
       "    <tr>\n",
       "      <th>600</th>\n",
       "      <td>14983</td>\n",
       "      <td>5892</td>\n",
       "      <td>1</td>\n",
       "      <td>191.3</td>\n",
       "      <td>98</td>\n",
       "      <td>instock</td>\n",
       "      <td>116.06</td>\n",
       "      <td>14983</td>\n",
       "      <td>6.0</td>\n",
       "      <td>2.0</td>\n",
       "      <td>2019-03-28 10:21:36</td>\n",
       "      <td>2019-03-28 09:21:36</td>\n",
       "      <td>Champagne</td>\n",
       "      <td>Coteaux Champenois Egly-Ouriet Ambonnay Rouge ...</td>\n",
       "      <td>Cet Ambonnay évoque les grands Pinots Noirs de...</td>\n",
       "      <td>coteaux-champenois-egly-ouriet-ambonnay-rouge-...</td>\n",
       "      <td>2020-04-01 09:30:09</td>\n",
       "      <td>2020-04-01 07:30:09</td>\n",
       "      <td>https://www.bottle-neck.fr/?post_type=product&amp;...</td>\n",
       "      <td>product</td>\n",
       "    </tr>\n",
       "    <tr>\n",
       "      <th>615</th>\n",
       "      <td>14774</td>\n",
       "      <td>5916</td>\n",
       "      <td>1</td>\n",
       "      <td>93.0</td>\n",
       "      <td>1</td>\n",
       "      <td>instock</td>\n",
       "      <td>40.49</td>\n",
       "      <td>14774</td>\n",
       "      <td>1.0</td>\n",
       "      <td>2.0</td>\n",
       "      <td>2019-04-04 16:39:24</td>\n",
       "      <td>2019-04-04 14:39:24</td>\n",
       "      <td>Whisky</td>\n",
       "      <td>Wemyss Malts Single Cask Scotch Whisky Chocola...</td>\n",
       "      <td>305 bouteilles, 13 ans d'âge.\\n\\n&lt;span title=\"...</td>\n",
       "      <td>wemyss-malts-single-cask-chocolate-moka-cake</td>\n",
       "      <td>2019-12-23 09:30:21</td>\n",
       "      <td>2019-12-23 08:30:21</td>\n",
       "      <td>https://www.bottle-neck.fr/?post_type=product&amp;...</td>\n",
       "      <td>product</td>\n",
       "    </tr>\n",
       "    <tr>\n",
       "      <th>616</th>\n",
       "      <td>14775</td>\n",
       "      <td>5917</td>\n",
       "      <td>1</td>\n",
       "      <td>122.0</td>\n",
       "      <td>12</td>\n",
       "      <td>instock</td>\n",
       "      <td>54.24</td>\n",
       "      <td>14775</td>\n",
       "      <td>3.0</td>\n",
       "      <td>2.0</td>\n",
       "      <td>2019-04-04 16:49:37</td>\n",
       "      <td>2019-04-04 14:49:37</td>\n",
       "      <td>Whisky</td>\n",
       "      <td>Wemyss Malts Single Cask Scotch Whisky Choc 'n...</td>\n",
       "      <td>710 bouteilles, 17 ans d'âge.\\n\\n&lt;span title=\"...</td>\n",
       "      <td>wemyss-malts-single-cask-scotch-whisky-choc-n-...</td>\n",
       "      <td>2020-03-11 09:30:09</td>\n",
       "      <td>2020-03-11 08:30:09</td>\n",
       "      <td>https://www.bottle-neck.fr/?post_type=product&amp;...</td>\n",
       "      <td>product</td>\n",
       "    </tr>\n",
       "    <tr>\n",
       "      <th>617</th>\n",
       "      <td>14773</td>\n",
       "      <td>5918</td>\n",
       "      <td>1</td>\n",
       "      <td>114.0</td>\n",
       "      <td>12</td>\n",
       "      <td>instock</td>\n",
       "      <td>52.25</td>\n",
       "      <td>14773</td>\n",
       "      <td>3.0</td>\n",
       "      <td>2.0</td>\n",
       "      <td>2019-04-04 17:01:54</td>\n",
       "      <td>2019-04-04 15:01:54</td>\n",
       "      <td>Whisky</td>\n",
       "      <td>Wemyss Malts Single Cask Scotch Whisky Chai Ca...</td>\n",
       "      <td>644 bouteilles - 16 ans d'âge.\\n\\nNez très élé...</td>\n",
       "      <td>wemyss-malts-single-cask-scotch-whisky-chai-ca...</td>\n",
       "      <td>2020-07-31 18:25:03</td>\n",
       "      <td>2020-07-31 16:25:03</td>\n",
       "      <td>https://www.bottle-neck.fr/?post_type=product&amp;...</td>\n",
       "      <td>product</td>\n",
       "    </tr>\n",
       "    <tr>\n",
       "      <th>660</th>\n",
       "      <td>14923</td>\n",
       "      <td>6126</td>\n",
       "      <td>1</td>\n",
       "      <td>135.0</td>\n",
       "      <td>138</td>\n",
       "      <td>instock</td>\n",
       "      <td>80.33</td>\n",
       "      <td>14923</td>\n",
       "      <td>5.0</td>\n",
       "      <td>2.0</td>\n",
       "      <td>2019-06-28 17:22:27</td>\n",
       "      <td>2019-06-28 15:22:27</td>\n",
       "      <td>Champagne</td>\n",
       "      <td>Champagne Gosset Célébris Vintage 2007</td>\n",
       "      <td>Une robe somptueuse a la teinte jaune pâle eti...</td>\n",
       "      <td>champagne-gosset-celebris-vintage-2007</td>\n",
       "      <td>2020-08-27 11:45:02</td>\n",
       "      <td>2020-08-27 09:45:02</td>\n",
       "      <td>https://www.bottle-neck.fr/?post_type=product&amp;...</td>\n",
       "      <td>product</td>\n",
       "    </tr>\n",
       "    <tr>\n",
       "      <th>665</th>\n",
       "      <td>14596</td>\n",
       "      <td>6201</td>\n",
       "      <td>1</td>\n",
       "      <td>105.6</td>\n",
       "      <td>16</td>\n",
       "      <td>instock</td>\n",
       "      <td>57.29</td>\n",
       "      <td>14596</td>\n",
       "      <td>6.0</td>\n",
       "      <td>2.0</td>\n",
       "      <td>2019-07-23 10:37:14</td>\n",
       "      <td>2019-07-23 08:37:14</td>\n",
       "      <td>Vin</td>\n",
       "      <td>David Duband Chambolle-Musigny 1er Cru Les Sen...</td>\n",
       "      <td>Une robe d'un rouge carmin avec des reflets br...</td>\n",
       "      <td>david-duband-chambolle-musigny-1er-cru-les-sen...</td>\n",
       "      <td>2020-02-29 15:25:02</td>\n",
       "      <td>2020-02-29 14:25:02</td>\n",
       "      <td>https://www.bottle-neck.fr/?post_type=product&amp;...</td>\n",
       "      <td>product</td>\n",
       "    </tr>\n",
       "    <tr>\n",
       "      <th>666</th>\n",
       "      <td>15126</td>\n",
       "      <td>6202</td>\n",
       "      <td>1</td>\n",
       "      <td>116.4</td>\n",
       "      <td>12</td>\n",
       "      <td>instock</td>\n",
       "      <td>63.15</td>\n",
       "      <td>15126</td>\n",
       "      <td>5.0</td>\n",
       "      <td>2.0</td>\n",
       "      <td>2019-07-23 10:50:24</td>\n",
       "      <td>2019-07-23 08:50:24</td>\n",
       "      <td>Vin</td>\n",
       "      <td>Domaine Clerget Echezeaux Grand Cru En Orveaux...</td>\n",
       "      <td>Ce vin allie la puissance et la finesse… Un vi...</td>\n",
       "      <td>domaine-clerget-echezeaux-en-orveaux-2015</td>\n",
       "      <td>2020-06-06 15:45:01</td>\n",
       "      <td>2020-06-06 13:45:01</td>\n",
       "      <td>https://www.bottle-neck.fr/?post_type=product&amp;...</td>\n",
       "      <td>product</td>\n",
       "    </tr>\n",
       "    <tr>\n",
       "      <th>671</th>\n",
       "      <td>13996</td>\n",
       "      <td>6212</td>\n",
       "      <td>1</td>\n",
       "      <td>115.0</td>\n",
       "      <td>16</td>\n",
       "      <td>instock</td>\n",
       "      <td>59.42</td>\n",
       "      <td>13996</td>\n",
       "      <td>7.0</td>\n",
       "      <td>2.0</td>\n",
       "      <td>2019-07-25 09:09:17</td>\n",
       "      <td>2019-07-25 07:09:17</td>\n",
       "      <td>Vin</td>\n",
       "      <td>Domaine des Comtes Lafon Volnay 1er Cru Santen...</td>\n",
       "      <td>\"Il s'agit là de la meilleure partie de l'appe...</td>\n",
       "      <td>domaine-des-comtes-lafon-volnay-1er-cru-santen...</td>\n",
       "      <td>2020-06-16 09:30:16</td>\n",
       "      <td>2020-06-16 07:30:16</td>\n",
       "      <td>https://www.bottle-neck.fr/?post_type=product&amp;...</td>\n",
       "      <td>product</td>\n",
       "    </tr>\n",
       "    <tr>\n",
       "      <th>672</th>\n",
       "      <td>15072</td>\n",
       "      <td>6213</td>\n",
       "      <td>1</td>\n",
       "      <td>121.0</td>\n",
       "      <td>9</td>\n",
       "      <td>instock</td>\n",
       "      <td>63.14</td>\n",
       "      <td>15072</td>\n",
       "      <td>3.0</td>\n",
       "      <td>2.0</td>\n",
       "      <td>2019-07-25 09:10:32</td>\n",
       "      <td>2019-07-25 07:10:32</td>\n",
       "      <td>Vin</td>\n",
       "      <td>Domaine des Comtes Lafon Volnay 1er Cru Santen...</td>\n",
       "      <td>\"Il s'agit là de la meilleure partie de l'appe...</td>\n",
       "      <td>domaine-des-comtes-lafon-volnay-1er-cru-santen...</td>\n",
       "      <td>2020-06-25 09:30:06</td>\n",
       "      <td>2020-06-25 07:30:06</td>\n",
       "      <td>https://www.bottle-neck.fr/?post_type=product&amp;...</td>\n",
       "      <td>product</td>\n",
       "    </tr>\n",
       "    <tr>\n",
       "      <th>673</th>\n",
       "      <td>11601</td>\n",
       "      <td>6214</td>\n",
       "      <td>1</td>\n",
       "      <td>99.0</td>\n",
       "      <td>9</td>\n",
       "      <td>instock</td>\n",
       "      <td>49.62</td>\n",
       "      <td>11601</td>\n",
       "      <td>6.0</td>\n",
       "      <td>2.0</td>\n",
       "      <td>2019-07-25 09:15:41</td>\n",
       "      <td>2019-07-25 07:15:41</td>\n",
       "      <td>Vin</td>\n",
       "      <td>Domaine des Comtes Lafon Volnay 1er Cru Champa...</td>\n",
       "      <td>La couleur rouge intense annonce un belle conc...</td>\n",
       "      <td>domaine-des-comtes-lafon-volnay-1er-cru-champa...</td>\n",
       "      <td>2020-07-04 11:35:02</td>\n",
       "      <td>2020-07-04 09:35:02</td>\n",
       "      <td>https://www.bottle-neck.fr/?post_type=product&amp;...</td>\n",
       "      <td>product</td>\n",
       "    </tr>\n",
       "    <tr>\n",
       "      <th>674</th>\n",
       "      <td>12790</td>\n",
       "      <td>6215</td>\n",
       "      <td>1</td>\n",
       "      <td>115.0</td>\n",
       "      <td>14</td>\n",
       "      <td>instock</td>\n",
       "      <td>56.45</td>\n",
       "      <td>12790</td>\n",
       "      <td>4.0</td>\n",
       "      <td>2.0</td>\n",
       "      <td>2019-07-25 09:30:16</td>\n",
       "      <td>2019-07-25 07:30:16</td>\n",
       "      <td>Vin</td>\n",
       "      <td>Domaine des Comtes Lafon Volnay 1er Cru Champa...</td>\n",
       "      <td>La couleur rouge intense annonce un belle conc...</td>\n",
       "      <td>domaine-des-comtes-lafon-volnay-1er-cru-champa...</td>\n",
       "      <td>2019-11-04 09:30:25</td>\n",
       "      <td>2019-11-04 08:30:25</td>\n",
       "      <td>https://www.bottle-neck.fr/?post_type=product&amp;...</td>\n",
       "      <td>product</td>\n",
       "    </tr>\n",
       "    <tr>\n",
       "      <th>675</th>\n",
       "      <td>15070</td>\n",
       "      <td>6216</td>\n",
       "      <td>1</td>\n",
       "      <td>121.0</td>\n",
       "      <td>14</td>\n",
       "      <td>instock</td>\n",
       "      <td>60.02</td>\n",
       "      <td>15070</td>\n",
       "      <td>2.0</td>\n",
       "      <td>2.0</td>\n",
       "      <td>2019-07-25 09:31:09</td>\n",
       "      <td>2019-07-25 07:31:09</td>\n",
       "      <td>Vin</td>\n",
       "      <td>Domaine des Comtes Lafon Volnay 1er Cru Champa...</td>\n",
       "      <td>La couleur rouge intense annonce un belle conc...</td>\n",
       "      <td>domaine-des-comtes-lafon-volnay-1er-cru-champa...</td>\n",
       "      <td>2020-07-30 09:30:08</td>\n",
       "      <td>2020-07-30 07:30:08</td>\n",
       "      <td>https://www.bottle-neck.fr/?post_type=product&amp;...</td>\n",
       "      <td>product</td>\n",
       "    </tr>\n",
       "  </tbody>\n",
       "</table>\n",
       "</div>"
      ],
      "text/plain": [
       "    id_web  product_id  onsale_web  price  stock_quantity stock_status  \\\n",
       "63   15382        4115           1  100.0              12      instock   \n",
       "65   11668        4132           1   88.4               7      instock   \n",
       "200  15940        4352           1  225.0               0   outofstock   \n",
       "206  13853        4359           1   85.6             112      instock   \n",
       "219   3510        4402           1  176.0              11      instock   \n",
       "220   3507        4404           1  108.5              17      instock   \n",
       "222   7819        4406           1  157.0              12      instock   \n",
       "223   3509        4407           1  104.0              14      instock   \n",
       "229  12857        4582           1  109.6              18      instock   \n",
       "386  14805        4903           1  102.3              12      instock   \n",
       "387  14220        4904           1  137.0               9      instock   \n",
       "433  14581        5001           1  217.5              18      instock   \n",
       "438  12791        5007           1  105.0              15      instock   \n",
       "439  11602        5008           1  105.0              12      instock   \n",
       "446  13914        5025           1  112.0             136      instock   \n",
       "447  13913        5026           1   86.8             101      instock   \n",
       "513  19822        5565           1   92.0               0   outofstock   \n",
       "523  14915        5612           1  124.8              19      instock   \n",
       "565  15185        5767           1  175.0              12      instock   \n",
       "600  14983        5892           1  191.3              98      instock   \n",
       "615  14774        5916           1   93.0               1      instock   \n",
       "616  14775        5917           1  122.0              12      instock   \n",
       "617  14773        5918           1  114.0              12      instock   \n",
       "660  14923        6126           1  135.0             138      instock   \n",
       "665  14596        6201           1  105.6              16      instock   \n",
       "666  15126        6202           1  116.4              12      instock   \n",
       "671  13996        6212           1  115.0              16      instock   \n",
       "672  15072        6213           1  121.0               9      instock   \n",
       "673  11601        6214           1   99.0               9      instock   \n",
       "674  12790        6215           1  115.0              14      instock   \n",
       "675  15070        6216           1  121.0              14      instock   \n",
       "\n",
       "     purchase_price    sku  total_sales  post_author           post_date  \\\n",
       "63            52.70  15382          1.0          2.0 2018-02-13 11:08:45   \n",
       "65            44.30  11668          5.0          2.0 2018-02-13 11:43:55   \n",
       "200          137.81  15940         11.0          2.0 2018-03-02 10:30:04   \n",
       "206           51.93  13853          7.0          2.0 2018-03-02 11:11:48   \n",
       "219           78.25   3510          3.0          2.0 2018-03-22 11:21:05   \n",
       "220           52.22   3507          4.0          2.0 2018-03-22 11:32:55   \n",
       "222           69.08   7819          4.0          2.0 2018-03-22 11:42:48   \n",
       "223           46.71   3509          5.0          2.0 2018-03-22 11:49:53   \n",
       "229           53.80  12857          1.0          2.0 2018-04-12 17:56:13   \n",
       "386           51.80  14805          2.0          2.0 2018-05-15 10:10:57   \n",
       "387           67.95  14220          3.0          2.0 2018-05-15 10:23:41   \n",
       "433          116.87  14581          2.0          2.0 2018-07-17 09:45:39   \n",
       "438           55.88  12791          3.0          2.0 2018-07-17 10:36:03   \n",
       "439           56.42  11602          7.0          2.0 2018-07-17 10:52:41   \n",
       "446           68.60  13914          6.0          2.0 2018-07-18 10:39:43   \n",
       "447           50.13  13913          9.0          2.0 2018-07-18 10:46:30   \n",
       "513           46.11  19822          1.0          2.0 2018-11-26 10:59:10   \n",
       "523           66.41  14915          1.0          2.0 2019-01-15 15:30:49   \n",
       "565           90.42  15185          4.0          2.0 2019-03-13 14:43:22   \n",
       "600          116.06  14983          6.0          2.0 2019-03-28 10:21:36   \n",
       "615           40.49  14774          1.0          2.0 2019-04-04 16:39:24   \n",
       "616           54.24  14775          3.0          2.0 2019-04-04 16:49:37   \n",
       "617           52.25  14773          3.0          2.0 2019-04-04 17:01:54   \n",
       "660           80.33  14923          5.0          2.0 2019-06-28 17:22:27   \n",
       "665           57.29  14596          6.0          2.0 2019-07-23 10:37:14   \n",
       "666           63.15  15126          5.0          2.0 2019-07-23 10:50:24   \n",
       "671           59.42  13996          7.0          2.0 2019-07-25 09:09:17   \n",
       "672           63.14  15072          3.0          2.0 2019-07-25 09:10:32   \n",
       "673           49.62  11601          6.0          2.0 2019-07-25 09:15:41   \n",
       "674           56.45  12790          4.0          2.0 2019-07-25 09:30:16   \n",
       "675           60.02  15070          2.0          2.0 2019-07-25 09:31:09   \n",
       "\n",
       "          post_date_gmt product_type  \\\n",
       "63  2018-02-13 10:08:45          Vin   \n",
       "65  2018-02-13 10:43:55          Vin   \n",
       "200 2018-03-02 09:30:04    Champagne   \n",
       "206 2018-03-02 10:11:48    Champagne   \n",
       "219 2018-03-22 10:21:05       Cognac   \n",
       "220 2018-03-22 10:32:55       Cognac   \n",
       "222 2018-03-22 10:42:48       Cognac   \n",
       "223 2018-03-22 10:49:53       Cognac   \n",
       "229 2018-04-12 15:56:13          Vin   \n",
       "386 2018-05-15 08:10:57          Vin   \n",
       "387 2018-05-15 08:23:41          Vin   \n",
       "433 2018-07-17 07:45:39          Vin   \n",
       "438 2018-07-17 08:36:03          Vin   \n",
       "439 2018-07-17 08:52:41          Vin   \n",
       "446 2018-07-18 08:39:43    Champagne   \n",
       "447 2018-07-18 08:46:30    Champagne   \n",
       "513 2018-11-26 09:59:10          Vin   \n",
       "523 2019-01-15 14:30:49          Vin   \n",
       "565 2019-03-13 13:43:22          Vin   \n",
       "600 2019-03-28 09:21:36    Champagne   \n",
       "615 2019-04-04 14:39:24       Whisky   \n",
       "616 2019-04-04 14:49:37       Whisky   \n",
       "617 2019-04-04 15:01:54       Whisky   \n",
       "660 2019-06-28 15:22:27    Champagne   \n",
       "665 2019-07-23 08:37:14          Vin   \n",
       "666 2019-07-23 08:50:24          Vin   \n",
       "671 2019-07-25 07:09:17          Vin   \n",
       "672 2019-07-25 07:10:32          Vin   \n",
       "673 2019-07-25 07:15:41          Vin   \n",
       "674 2019-07-25 07:30:16          Vin   \n",
       "675 2019-07-25 07:31:09          Vin   \n",
       "\n",
       "                                            post_title  \\\n",
       "63   Zind-Humbrecht Riesling Grand Cru Rangen De Th...   \n",
       "65   Zind-Humbrecht Pinot Gris Grand Cru Rangen De ...   \n",
       "200     Champagne Egly-Ouriet Grand Cru Millésimé 2008   \n",
       "206  Champagne Larmandier-Bernier Grand Cru Les Che...   \n",
       "219                               Cognac Frapin VIP XO   \n",
       "220              Cognac Frapin Château de Fontpinot XO   \n",
       "222  Cognac Frapin Château de Fontpinot 1989 20 Ans...   \n",
       "223                          Cognac Frapin Cigar Blend   \n",
       "229  Château de Meursault Puligny-Montrachet 1er Cr...   \n",
       "386  Domaine Des Croix Corton Grand Cru Les Grèves ...   \n",
       "387  Domaine Des Croix Corton Charlemagne Grand Cru...   \n",
       "433     David Duband Charmes-Chambertin Grand Cru 2014   \n",
       "438  Domaine des Comtes Lafon Volnay 1er Cru Santen...   \n",
       "439  Domaine des Comtes Lafon Volnay 1er Cru Santen...   \n",
       "446  Champagne Agrapart &amp; Fils L'Avizoise Extra...   \n",
       "447  Champagne Agrapart &amp; Fils Minéral Extra Br...   \n",
       "513                      Tempier Bandol Cabassaou 2017   \n",
       "523  Domaine Weinbach Gewurztraminer Grand Cru Furs...   \n",
       "565                Camille Giroud Clos de Vougeot 2016   \n",
       "600  Coteaux Champenois Egly-Ouriet Ambonnay Rouge ...   \n",
       "615  Wemyss Malts Single Cask Scotch Whisky Chocola...   \n",
       "616  Wemyss Malts Single Cask Scotch Whisky Choc 'n...   \n",
       "617  Wemyss Malts Single Cask Scotch Whisky Chai Ca...   \n",
       "660             Champagne Gosset Célébris Vintage 2007   \n",
       "665  David Duband Chambolle-Musigny 1er Cru Les Sen...   \n",
       "666  Domaine Clerget Echezeaux Grand Cru En Orveaux...   \n",
       "671  Domaine des Comtes Lafon Volnay 1er Cru Santen...   \n",
       "672  Domaine des Comtes Lafon Volnay 1er Cru Santen...   \n",
       "673  Domaine des Comtes Lafon Volnay 1er Cru Champa...   \n",
       "674  Domaine des Comtes Lafon Volnay 1er Cru Champa...   \n",
       "675  Domaine des Comtes Lafon Volnay 1er Cru Champa...   \n",
       "\n",
       "                                          post_excerpt  \\\n",
       "63   Le nez est puissant, dominant, riche, sur la f...   \n",
       "65   Le nez dévoile déjà une belle intensité de fru...   \n",
       "200  Issu d’un assemblage de 70% de Pinot Noir du g...   \n",
       "206  Belle maîtrise de ce millésime compliqué en Ch...   \n",
       "219  La cuvée VIP XO à été enrichie d’eaux-de-vie t...   \n",
       "220  Exclusivement vendangé, distillé, vieilli et m...   \n",
       "222  Eau-de-Vie distillée à partir de raisins de Gr...   \n",
       "223  Ce cognac bénéficie d'un vieillissement plus l...   \n",
       "229  Il présente une grande fraîcheur minérale au n...   \n",
       "386  Ce vin exhale de beaux arômes de fruits rouges...   \n",
       "387  Ce Corton Charlemagne éblouit par son assise, ...   \n",
       "433  Robe cerise chatoyante. Un nez de fruits rouge...   \n",
       "438  \"Il s'agit là de la meilleure partie de l'appe...   \n",
       "439  \"Il s'agit là de la meilleure partie de l'appe...   \n",
       "446  Une cuvée surprenante, par son amer articulé a...   \n",
       "447  Légèrement praliné au nez, nerveux, frais, inc...   \n",
       "513  <div id=\"wrapper\">\\n<div id=\"container-wrapper...   \n",
       "523  Né sur un sol marno-gréseux, ce Furstentum est...   \n",
       "565  <div>Ce vin provient de vignes âgées de 50 ans...   \n",
       "600  Cet Ambonnay évoque les grands Pinots Noirs de...   \n",
       "615  305 bouteilles, 13 ans d'âge.\\n\\n<span title=\"...   \n",
       "616  710 bouteilles, 17 ans d'âge.\\n\\n<span title=\"...   \n",
       "617  644 bouteilles - 16 ans d'âge.\\n\\nNez très élé...   \n",
       "660  Une robe somptueuse a la teinte jaune pâle eti...   \n",
       "665  Une robe d'un rouge carmin avec des reflets br...   \n",
       "666  Ce vin allie la puissance et la finesse… Un vi...   \n",
       "671  \"Il s'agit là de la meilleure partie de l'appe...   \n",
       "672  \"Il s'agit là de la meilleure partie de l'appe...   \n",
       "673  La couleur rouge intense annonce un belle conc...   \n",
       "674  La couleur rouge intense annonce un belle conc...   \n",
       "675  La couleur rouge intense annonce un belle conc...   \n",
       "\n",
       "                                             post_name       post_modified  \\\n",
       "63   zind-humbrecht-riesling-gc-rangen-thann-clos-s... 2020-02-08 11:45:02   \n",
       "65   zind-humbrecht-pinot-gris-grand-cru-rangen-de-... 2020-02-20 09:55:02   \n",
       "200     champagne-egly-ouriet-grand-cru-millesime-2008 2020-03-07 11:18:45   \n",
       "206  champagne-larmandier-bernier-grand-cru-vieille... 2019-12-23 09:30:11   \n",
       "219                               cognac-frapin-vip-xo 2020-08-22 11:35:03   \n",
       "220                         cognac-frapin-fontpinot-xo 2020-08-12 09:30:16   \n",
       "222     cognac-frapin-chateau-de-fontpinot-1989-20-ans 2020-03-14 16:05:04   \n",
       "223                          cognac-frapin-cigar-blend 2020-07-04 09:45:03   \n",
       "229  chateau-de-puligny-montrachet-1cru-champ-canet... 2020-02-06 16:35:02   \n",
       "386  domaine-des-croix-corton-grand-cru-les-greves-... 2020-06-27 09:00:07   \n",
       "387  domaine-des-croix-corton-charlemagne-grand-cru... 2020-05-19 17:15:02   \n",
       "433     david-duband-charmes-chambertin-grand-cru-2014 2020-05-16 09:00:05   \n",
       "438  domaine-des-comtes-lafon-volnay-1er-cru-santen... 2020-07-02 09:30:03   \n",
       "439  domaine-des-comtes-lafon-volnay-1er-cru-santen... 2020-06-23 15:35:02   \n",
       "446  champagne-agrapart-fils-lavizoise-grand-cru-20... 2020-07-09 17:05:02   \n",
       "447  champagne-agrapart-fils-mineral-extra-brut-bla... 2020-05-11 14:35:02   \n",
       "513                      tempier-bandol-cabassaou-2017 2020-01-04 13:57:04   \n",
       "523  domaine-weinbach-gewurztraminer-gc-furstentum-... 2019-01-23 09:33:57   \n",
       "565                camille-giroud-clos-de-vougeot-2016 2020-06-11 15:25:04   \n",
       "600  coteaux-champenois-egly-ouriet-ambonnay-rouge-... 2020-04-01 09:30:09   \n",
       "615       wemyss-malts-single-cask-chocolate-moka-cake 2019-12-23 09:30:21   \n",
       "616  wemyss-malts-single-cask-scotch-whisky-choc-n-... 2020-03-11 09:30:09   \n",
       "617  wemyss-malts-single-cask-scotch-whisky-chai-ca... 2020-07-31 18:25:03   \n",
       "660             champagne-gosset-celebris-vintage-2007 2020-08-27 11:45:02   \n",
       "665  david-duband-chambolle-musigny-1er-cru-les-sen... 2020-02-29 15:25:02   \n",
       "666          domaine-clerget-echezeaux-en-orveaux-2015 2020-06-06 15:45:01   \n",
       "671  domaine-des-comtes-lafon-volnay-1er-cru-santen... 2020-06-16 09:30:16   \n",
       "672  domaine-des-comtes-lafon-volnay-1er-cru-santen... 2020-06-25 09:30:06   \n",
       "673  domaine-des-comtes-lafon-volnay-1er-cru-champa... 2020-07-04 11:35:02   \n",
       "674  domaine-des-comtes-lafon-volnay-1er-cru-champa... 2019-11-04 09:30:25   \n",
       "675  domaine-des-comtes-lafon-volnay-1er-cru-champa... 2020-07-30 09:30:08   \n",
       "\n",
       "      post_modified_gmt                                               guid  \\\n",
       "63  2020-02-08 10:45:02  https://www.bottle-neck.fr/?post_type=product&...   \n",
       "65  2020-02-20 08:55:02  https://www.bottle-neck.fr/?post_type=product&...   \n",
       "200 2020-03-07 10:18:45  https://www.bottle-neck.fr/?post_type=product&...   \n",
       "206 2019-12-23 08:30:11  https://www.bottle-neck.fr/?post_type=product&...   \n",
       "219 2020-08-22 09:35:03  https://www.bottle-neck.fr/?post_type=product&...   \n",
       "220 2020-08-12 07:30:16  https://www.bottle-neck.fr/?post_type=product&...   \n",
       "222 2020-03-14 15:05:04  https://www.bottle-neck.fr/?post_type=product&...   \n",
       "223 2020-07-04 07:45:03  https://www.bottle-neck.fr/?post_type=product&...   \n",
       "229 2020-02-06 15:35:02  https://www.bottle-neck.fr/?post_type=product&...   \n",
       "386 2020-06-27 07:00:07  https://www.bottle-neck.fr/?post_type=product&...   \n",
       "387 2020-05-19 15:15:02  https://www.bottle-neck.fr/?post_type=product&...   \n",
       "433 2020-05-16 07:00:05  https://www.bottle-neck.fr/?post_type=product&...   \n",
       "438 2020-07-02 07:30:03  https://www.bottle-neck.fr/?post_type=product&...   \n",
       "439 2020-06-23 13:35:02  https://www.bottle-neck.fr/?post_type=product&...   \n",
       "446 2020-07-09 15:05:02  https://www.bottle-neck.fr/?post_type=product&...   \n",
       "447 2020-05-11 12:35:02  https://www.bottle-neck.fr/?post_type=product&...   \n",
       "513 2020-01-04 12:57:04  https://www.bottle-neck.fr/?post_type=product&...   \n",
       "523 2019-01-23 08:33:57  https://www.bottle-neck.fr/?post_type=product&...   \n",
       "565 2020-06-11 13:25:04  https://www.bottle-neck.fr/?post_type=product&...   \n",
       "600 2020-04-01 07:30:09  https://www.bottle-neck.fr/?post_type=product&...   \n",
       "615 2019-12-23 08:30:21  https://www.bottle-neck.fr/?post_type=product&...   \n",
       "616 2020-03-11 08:30:09  https://www.bottle-neck.fr/?post_type=product&...   \n",
       "617 2020-07-31 16:25:03  https://www.bottle-neck.fr/?post_type=product&...   \n",
       "660 2020-08-27 09:45:02  https://www.bottle-neck.fr/?post_type=product&...   \n",
       "665 2020-02-29 14:25:02  https://www.bottle-neck.fr/?post_type=product&...   \n",
       "666 2020-06-06 13:45:01  https://www.bottle-neck.fr/?post_type=product&...   \n",
       "671 2020-06-16 07:30:16  https://www.bottle-neck.fr/?post_type=product&...   \n",
       "672 2020-06-25 07:30:06  https://www.bottle-neck.fr/?post_type=product&...   \n",
       "673 2020-07-04 09:35:02  https://www.bottle-neck.fr/?post_type=product&...   \n",
       "674 2019-11-04 08:30:25  https://www.bottle-neck.fr/?post_type=product&...   \n",
       "675 2020-07-30 07:30:08  https://www.bottle-neck.fr/?post_type=product&...   \n",
       "\n",
       "    post_type  \n",
       "63    product  \n",
       "65    product  \n",
       "200   product  \n",
       "206   product  \n",
       "219   product  \n",
       "220   product  \n",
       "222   product  \n",
       "223   product  \n",
       "229   product  \n",
       "386   product  \n",
       "387   product  \n",
       "433   product  \n",
       "438   product  \n",
       "439   product  \n",
       "446   product  \n",
       "447   product  \n",
       "513   product  \n",
       "523   product  \n",
       "565   product  \n",
       "600   product  \n",
       "615   product  \n",
       "616   product  \n",
       "617   product  \n",
       "660   product  \n",
       "665   product  \n",
       "666   product  \n",
       "671   product  \n",
       "672   product  \n",
       "673   product  \n",
       "674   product  \n",
       "675   product  "
      ]
     },
     "execution_count": 100,
     "metadata": {},
     "output_type": "execute_result"
    }
   ],
   "source": [
    "#Selon vous, ces outliers sont-ils justifiés ? Comment le démontrer si cela est possible ?\n",
    "valeurs_superieures_seuil "
   ]
  },
  {
   "cell_type": "code",
   "execution_count": 101,
   "id": "89959af3-16f1-4624-842c-34aa3e229ce4",
   "metadata": {},
   "outputs": [],
   "source": [
    "df_data['post_title'] = df_data['post_title'].astype(str)"
   ]
  },
  {
   "cell_type": "code",
   "execution_count": 102,
   "id": "1f4f6e9e-b69d-4ef1-bf0b-b3a8a7787cec",
   "metadata": {},
   "outputs": [
    {
     "data": {
      "text/plain": [
       "(51, 11)"
      ]
     },
     "execution_count": 102,
     "metadata": {},
     "output_type": "execute_result"
    }
   ],
   "source": [
    "grand_cru = df_data[df_data['post_title'].str.contains(\"Grand Cru\")]\n",
    "grand_cru_outliers = valeurs_superieures_seuil[valeurs_superieures_seuil['post_title'].str.contains(\"Grand Cru\")]\n",
    "len(grand_cru), len(grand_cru_outliers)"
   ]
  },
  {
   "cell_type": "markdown",
   "id": "2ac5d3ac-f4b5-4d7e-bb90-8be9d524fbc4",
   "metadata": {},
   "source": [
    "**On compte 31 produits outliers, soit 4.35 %.  \n",
    "Cela peut s'expliquer en autre par la qualité du produit alcolisé qui peut vite atteindre des montants conséquents**"
   ]
  },
  {
   "cell_type": "markdown",
   "id": "640da2c8",
   "metadata": {},
   "source": [
    "<div style=\"background-color: RGB(51,165,182);\" >\n",
    "<h2 style=\"margin: auto; padding: 20px; color:#fff; \">Etape 5 - Analyse univariée du CA, des quantités vendues, des stocks et de la marge ainsi qu'une analyse multivariée  </h2>\n",
    "</div>"
   ]
  },
  {
   "cell_type": "markdown",
   "id": "5871c808",
   "metadata": {},
   "source": [
    "<div style=\"border: 1px solid RGB(51,165,182);\" >\n",
    "<h3 style=\"margin: auto; padding: 20px; color: RGB(51,165,182); \">Etape 5.1 - Analyse des ventes en CA</h3>\n",
    "</div>"
   ]
  },
  {
   "cell_type": "code",
   "execution_count": 103,
   "id": "8811bd83-d999-4a15-a1e7-a26a9f5c643b",
   "metadata": {},
   "outputs": [
    {
     "data": {
      "text/html": [
       "<div>\n",
       "<style scoped>\n",
       "    .dataframe tbody tr th:only-of-type {\n",
       "        vertical-align: middle;\n",
       "    }\n",
       "\n",
       "    .dataframe tbody tr th {\n",
       "        vertical-align: top;\n",
       "    }\n",
       "\n",
       "    .dataframe thead th {\n",
       "        text-align: right;\n",
       "    }\n",
       "</style>\n",
       "<table border=\"1\" class=\"dataframe\">\n",
       "  <thead>\n",
       "    <tr style=\"text-align: right;\">\n",
       "      <th></th>\n",
       "      <th>ca_par_article</th>\n",
       "    </tr>\n",
       "  </thead>\n",
       "  <tbody>\n",
       "    <tr>\n",
       "      <th>0</th>\n",
       "      <td>145.2</td>\n",
       "    </tr>\n",
       "    <tr>\n",
       "      <th>1</th>\n",
       "      <td>308.7</td>\n",
       "    </tr>\n",
       "    <tr>\n",
       "      <th>2</th>\n",
       "      <td>0.0</td>\n",
       "    </tr>\n",
       "    <tr>\n",
       "      <th>3</th>\n",
       "      <td>169.2</td>\n",
       "    </tr>\n",
       "    <tr>\n",
       "      <th>4</th>\n",
       "      <td>138.0</td>\n",
       "    </tr>\n",
       "    <tr>\n",
       "      <th>...</th>\n",
       "      <td>...</td>\n",
       "    </tr>\n",
       "    <tr>\n",
       "      <th>726</th>\n",
       "      <td>133.0</td>\n",
       "    </tr>\n",
       "    <tr>\n",
       "      <th>727</th>\n",
       "      <td>75.6</td>\n",
       "    </tr>\n",
       "    <tr>\n",
       "      <th>728</th>\n",
       "      <td>247.5</td>\n",
       "    </tr>\n",
       "    <tr>\n",
       "      <th>729</th>\n",
       "      <td>345.0</td>\n",
       "    </tr>\n",
       "    <tr>\n",
       "      <th>730</th>\n",
       "      <td>211.9</td>\n",
       "    </tr>\n",
       "  </tbody>\n",
       "</table>\n",
       "<p>712 rows × 1 columns</p>\n",
       "</div>"
      ],
      "text/plain": [
       "     ca_par_article\n",
       "0             145.2\n",
       "1             308.7\n",
       "2               0.0\n",
       "3             169.2\n",
       "4             138.0\n",
       "..              ...\n",
       "726           133.0\n",
       "727            75.6\n",
       "728           247.5\n",
       "729           345.0\n",
       "730           211.9\n",
       "\n",
       "[712 rows x 1 columns]"
      ]
     },
     "execution_count": 103,
     "metadata": {},
     "output_type": "execute_result"
    }
   ],
   "source": [
    "##############################\n",
    "# Calculer le CA du site web #\n",
    "##############################\n",
    "\n",
    "#Créer une colonne calculant le CA par article\n",
    "df_data['ca_par_article'] = round(df_data['price'] * df_data['total_sales'], 2)\n",
    "df_data[['ca_par_article']]"
   ]
  },
  {
   "cell_type": "code",
   "execution_count": 104,
   "id": "98d3b700-9c81-4234-a20f-6c9a59fe2368",
   "metadata": {},
   "outputs": [
    {
     "data": {
      "text/plain": [
       "np.float64(143285.9)"
      ]
     },
     "execution_count": 104,
     "metadata": {},
     "output_type": "execute_result"
    }
   ],
   "source": [
    "#Calculer la somme de la colonne \"ca_par_article\"\n",
    "Chiffre_affaire = round(df_data['ca_par_article'].sum(), 2)\n",
    "Chiffre_affaire"
   ]
  },
  {
   "cell_type": "code",
   "execution_count": 105,
   "id": "da0d5834",
   "metadata": {},
   "outputs": [
    {
     "name": "stdout",
     "output_type": "stream",
     "text": [
      "Chiffre d'affaire du site : 143285.9 euros\n"
     ]
    }
   ],
   "source": [
    "#Ce résultat correspond au chiffre d'affaire du site web\n",
    "print(\"Chiffre d'affaire du site :\", Chiffre_affaire, \"euros\")"
   ]
  },
  {
   "cell_type": "code",
   "execution_count": 106,
   "id": "0d9b713c-6f4a-421e-9847-ea290d4103a8",
   "metadata": {},
   "outputs": [
    {
     "data": {
      "text/html": [
       "<div>\n",
       "<style scoped>\n",
       "    .dataframe tbody tr th:only-of-type {\n",
       "        vertical-align: middle;\n",
       "    }\n",
       "\n",
       "    .dataframe tbody tr th {\n",
       "        vertical-align: top;\n",
       "    }\n",
       "\n",
       "    .dataframe thead th {\n",
       "        text-align: right;\n",
       "    }\n",
       "</style>\n",
       "<table border=\"1\" class=\"dataframe\">\n",
       "  <thead>\n",
       "    <tr style=\"text-align: right;\">\n",
       "      <th></th>\n",
       "      <th>id_web</th>\n",
       "      <th>product_id</th>\n",
       "      <th>onsale_web</th>\n",
       "      <th>price</th>\n",
       "      <th>stock_quantity</th>\n",
       "      <th>stock_status</th>\n",
       "      <th>purchase_price</th>\n",
       "      <th>sku</th>\n",
       "      <th>total_sales</th>\n",
       "      <th>post_author</th>\n",
       "      <th>post_date</th>\n",
       "      <th>post_date_gmt</th>\n",
       "      <th>product_type</th>\n",
       "      <th>post_title</th>\n",
       "      <th>post_excerpt</th>\n",
       "      <th>post_name</th>\n",
       "      <th>post_modified</th>\n",
       "      <th>post_modified_gmt</th>\n",
       "      <th>guid</th>\n",
       "      <th>post_type</th>\n",
       "      <th>ca_par_article</th>\n",
       "    </tr>\n",
       "  </thead>\n",
       "  <tbody>\n",
       "    <tr>\n",
       "      <th>0</th>\n",
       "      <td>15940</td>\n",
       "      <td>4352</td>\n",
       "      <td>1</td>\n",
       "      <td>225.0</td>\n",
       "      <td>0</td>\n",
       "      <td>outofstock</td>\n",
       "      <td>137.81</td>\n",
       "      <td>15940</td>\n",
       "      <td>11.0</td>\n",
       "      <td>2.0</td>\n",
       "      <td>2018-03-02 10:30:04</td>\n",
       "      <td>2018-03-02 09:30:04</td>\n",
       "      <td>Champagne</td>\n",
       "      <td>Champagne Egly-Ouriet Grand Cru Millésimé 2008</td>\n",
       "      <td>Issu d’un assemblage de 70% de Pinot Noir du g...</td>\n",
       "      <td>champagne-egly-ouriet-grand-cru-millesime-2008</td>\n",
       "      <td>2020-03-07 11:18:45</td>\n",
       "      <td>2020-03-07 10:18:45</td>\n",
       "      <td>https://www.bottle-neck.fr/?post_type=product&amp;...</td>\n",
       "      <td>product</td>\n",
       "      <td>2475.0</td>\n",
       "    </tr>\n",
       "    <tr>\n",
       "      <th>1</th>\n",
       "      <td>14983</td>\n",
       "      <td>5892</td>\n",
       "      <td>1</td>\n",
       "      <td>191.3</td>\n",
       "      <td>98</td>\n",
       "      <td>instock</td>\n",
       "      <td>116.06</td>\n",
       "      <td>14983</td>\n",
       "      <td>6.0</td>\n",
       "      <td>2.0</td>\n",
       "      <td>2019-03-28 10:21:36</td>\n",
       "      <td>2019-03-28 09:21:36</td>\n",
       "      <td>Champagne</td>\n",
       "      <td>Coteaux Champenois Egly-Ouriet Ambonnay Rouge ...</td>\n",
       "      <td>Cet Ambonnay évoque les grands Pinots Noirs de...</td>\n",
       "      <td>coteaux-champenois-egly-ouriet-ambonnay-rouge-...</td>\n",
       "      <td>2020-04-01 09:30:09</td>\n",
       "      <td>2020-04-01 07:30:09</td>\n",
       "      <td>https://www.bottle-neck.fr/?post_type=product&amp;...</td>\n",
       "      <td>product</td>\n",
       "      <td>1147.8</td>\n",
       "    </tr>\n",
       "    <tr>\n",
       "      <th>2</th>\n",
       "      <td>12587</td>\n",
       "      <td>4353</td>\n",
       "      <td>1</td>\n",
       "      <td>79.5</td>\n",
       "      <td>127</td>\n",
       "      <td>instock</td>\n",
       "      <td>45.91</td>\n",
       "      <td>12587</td>\n",
       "      <td>14.0</td>\n",
       "      <td>2.0</td>\n",
       "      <td>2018-03-02 10:37:26</td>\n",
       "      <td>2018-03-02 09:37:26</td>\n",
       "      <td>Champagne</td>\n",
       "      <td>Champagne Egly-Ouriet Grand Cru Brut Rosé</td>\n",
       "      <td>&amp;nbsp;\\n\\nLe Rosé Grand Cru de la maison Egly-...</td>\n",
       "      <td>champagne-egly-ouriet-grand-cru-brut-rose</td>\n",
       "      <td>2020-08-22 11:45:02</td>\n",
       "      <td>2020-08-22 09:45:02</td>\n",
       "      <td>https://www.bottle-neck.fr/?post_type=product&amp;...</td>\n",
       "      <td>product</td>\n",
       "      <td>1113.0</td>\n",
       "    </tr>\n",
       "    <tr>\n",
       "      <th>3</th>\n",
       "      <td>15325</td>\n",
       "      <td>5826</td>\n",
       "      <td>1</td>\n",
       "      <td>41.2</td>\n",
       "      <td>34</td>\n",
       "      <td>instock</td>\n",
       "      <td>21.71</td>\n",
       "      <td>15325</td>\n",
       "      <td>20.0</td>\n",
       "      <td>2.0</td>\n",
       "      <td>2019-03-27 17:59:49</td>\n",
       "      <td>2019-03-27 16:59:49</td>\n",
       "      <td>Vin</td>\n",
       "      <td>Agnès Levet Côte Rôtie Améthyste 2017</td>\n",
       "      <td>&lt;span style=\"float: none;background-color: tra...</td>\n",
       "      <td>agnes-levet-amethyste-2017</td>\n",
       "      <td>2020-05-21 14:00:02</td>\n",
       "      <td>2020-05-21 12:00:02</td>\n",
       "      <td>https://www.bottle-neck.fr/?post_type=product&amp;...</td>\n",
       "      <td>product</td>\n",
       "      <td>824.0</td>\n",
       "    </tr>\n",
       "    <tr>\n",
       "      <th>4</th>\n",
       "      <td>13996</td>\n",
       "      <td>6212</td>\n",
       "      <td>1</td>\n",
       "      <td>115.0</td>\n",
       "      <td>16</td>\n",
       "      <td>instock</td>\n",
       "      <td>59.42</td>\n",
       "      <td>13996</td>\n",
       "      <td>7.0</td>\n",
       "      <td>2.0</td>\n",
       "      <td>2019-07-25 09:09:17</td>\n",
       "      <td>2019-07-25 07:09:17</td>\n",
       "      <td>Vin</td>\n",
       "      <td>Domaine des Comtes Lafon Volnay 1er Cru Santen...</td>\n",
       "      <td>\"Il s'agit là de la meilleure partie de l'appe...</td>\n",
       "      <td>domaine-des-comtes-lafon-volnay-1er-cru-santen...</td>\n",
       "      <td>2020-06-16 09:30:16</td>\n",
       "      <td>2020-06-16 07:30:16</td>\n",
       "      <td>https://www.bottle-neck.fr/?post_type=product&amp;...</td>\n",
       "      <td>product</td>\n",
       "      <td>805.0</td>\n",
       "    </tr>\n",
       "    <tr>\n",
       "      <th>5</th>\n",
       "      <td>13913</td>\n",
       "      <td>5026</td>\n",
       "      <td>1</td>\n",
       "      <td>86.8</td>\n",
       "      <td>101</td>\n",
       "      <td>instock</td>\n",
       "      <td>50.13</td>\n",
       "      <td>13913</td>\n",
       "      <td>9.0</td>\n",
       "      <td>2.0</td>\n",
       "      <td>2018-07-18 10:46:30</td>\n",
       "      <td>2018-07-18 08:46:30</td>\n",
       "      <td>Champagne</td>\n",
       "      <td>Champagne Agrapart &amp;amp; Fils Minéral Extra Br...</td>\n",
       "      <td>Légèrement praliné au nez, nerveux, frais, inc...</td>\n",
       "      <td>champagne-agrapart-fils-mineral-extra-brut-bla...</td>\n",
       "      <td>2020-05-11 14:35:02</td>\n",
       "      <td>2020-05-11 12:35:02</td>\n",
       "      <td>https://www.bottle-neck.fr/?post_type=product&amp;...</td>\n",
       "      <td>product</td>\n",
       "      <td>781.2</td>\n",
       "    </tr>\n",
       "    <tr>\n",
       "      <th>6</th>\n",
       "      <td>11602</td>\n",
       "      <td>5008</td>\n",
       "      <td>1</td>\n",
       "      <td>105.0</td>\n",
       "      <td>12</td>\n",
       "      <td>instock</td>\n",
       "      <td>56.42</td>\n",
       "      <td>11602</td>\n",
       "      <td>7.0</td>\n",
       "      <td>2.0</td>\n",
       "      <td>2018-07-17 10:52:41</td>\n",
       "      <td>2018-07-17 08:52:41</td>\n",
       "      <td>Vin</td>\n",
       "      <td>Domaine des Comtes Lafon Volnay 1er Cru Santen...</td>\n",
       "      <td>\"Il s'agit là de la meilleure partie de l'appe...</td>\n",
       "      <td>domaine-des-comtes-lafon-volnay-1er-cru-santen...</td>\n",
       "      <td>2020-06-23 15:35:02</td>\n",
       "      <td>2020-06-23 13:35:02</td>\n",
       "      <td>https://www.bottle-neck.fr/?post_type=product&amp;...</td>\n",
       "      <td>product</td>\n",
       "      <td>735.0</td>\n",
       "    </tr>\n",
       "    <tr>\n",
       "      <th>7</th>\n",
       "      <td>15185</td>\n",
       "      <td>5767</td>\n",
       "      <td>1</td>\n",
       "      <td>175.0</td>\n",
       "      <td>12</td>\n",
       "      <td>instock</td>\n",
       "      <td>90.42</td>\n",
       "      <td>15185</td>\n",
       "      <td>4.0</td>\n",
       "      <td>2.0</td>\n",
       "      <td>2019-03-13 14:43:22</td>\n",
       "      <td>2019-03-13 13:43:22</td>\n",
       "      <td>Vin</td>\n",
       "      <td>Camille Giroud Clos de Vougeot 2016</td>\n",
       "      <td>&lt;div&gt;Ce vin provient de vignes âgées de 50 ans...</td>\n",
       "      <td>camille-giroud-clos-de-vougeot-2016</td>\n",
       "      <td>2020-06-11 15:25:04</td>\n",
       "      <td>2020-06-11 13:25:04</td>\n",
       "      <td>https://www.bottle-neck.fr/?post_type=product&amp;...</td>\n",
       "      <td>product</td>\n",
       "      <td>700.0</td>\n",
       "    </tr>\n",
       "    <tr>\n",
       "      <th>8</th>\n",
       "      <td>14923</td>\n",
       "      <td>6126</td>\n",
       "      <td>1</td>\n",
       "      <td>135.0</td>\n",
       "      <td>138</td>\n",
       "      <td>instock</td>\n",
       "      <td>80.33</td>\n",
       "      <td>14923</td>\n",
       "      <td>5.0</td>\n",
       "      <td>2.0</td>\n",
       "      <td>2019-06-28 17:22:27</td>\n",
       "      <td>2019-06-28 15:22:27</td>\n",
       "      <td>Champagne</td>\n",
       "      <td>Champagne Gosset Célébris Vintage 2007</td>\n",
       "      <td>Une robe somptueuse a la teinte jaune pâle eti...</td>\n",
       "      <td>champagne-gosset-celebris-vintage-2007</td>\n",
       "      <td>2020-08-27 11:45:02</td>\n",
       "      <td>2020-08-27 09:45:02</td>\n",
       "      <td>https://www.bottle-neck.fr/?post_type=product&amp;...</td>\n",
       "      <td>product</td>\n",
       "      <td>675.0</td>\n",
       "    </tr>\n",
       "    <tr>\n",
       "      <th>9</th>\n",
       "      <td>13914</td>\n",
       "      <td>5025</td>\n",
       "      <td>1</td>\n",
       "      <td>112.0</td>\n",
       "      <td>136</td>\n",
       "      <td>instock</td>\n",
       "      <td>68.60</td>\n",
       "      <td>13914</td>\n",
       "      <td>6.0</td>\n",
       "      <td>2.0</td>\n",
       "      <td>2018-07-18 10:39:43</td>\n",
       "      <td>2018-07-18 08:39:43</td>\n",
       "      <td>Champagne</td>\n",
       "      <td>Champagne Agrapart &amp;amp; Fils L'Avizoise Extra...</td>\n",
       "      <td>Une cuvée surprenante, par son amer articulé a...</td>\n",
       "      <td>champagne-agrapart-fils-lavizoise-grand-cru-20...</td>\n",
       "      <td>2020-07-09 17:05:02</td>\n",
       "      <td>2020-07-09 15:05:02</td>\n",
       "      <td>https://www.bottle-neck.fr/?post_type=product&amp;...</td>\n",
       "      <td>product</td>\n",
       "      <td>672.0</td>\n",
       "    </tr>\n",
       "    <tr>\n",
       "      <th>10</th>\n",
       "      <td>14596</td>\n",
       "      <td>6201</td>\n",
       "      <td>1</td>\n",
       "      <td>105.6</td>\n",
       "      <td>16</td>\n",
       "      <td>instock</td>\n",
       "      <td>57.29</td>\n",
       "      <td>14596</td>\n",
       "      <td>6.0</td>\n",
       "      <td>2.0</td>\n",
       "      <td>2019-07-23 10:37:14</td>\n",
       "      <td>2019-07-23 08:37:14</td>\n",
       "      <td>Vin</td>\n",
       "      <td>David Duband Chambolle-Musigny 1er Cru Les Sen...</td>\n",
       "      <td>Une robe d'un rouge carmin avec des reflets br...</td>\n",
       "      <td>david-duband-chambolle-musigny-1er-cru-les-sen...</td>\n",
       "      <td>2020-02-29 15:25:02</td>\n",
       "      <td>2020-02-29 14:25:02</td>\n",
       "      <td>https://www.bottle-neck.fr/?post_type=product&amp;...</td>\n",
       "      <td>product</td>\n",
       "      <td>633.6</td>\n",
       "    </tr>\n",
       "    <tr>\n",
       "      <th>11</th>\n",
       "      <td>7819</td>\n",
       "      <td>4406</td>\n",
       "      <td>1</td>\n",
       "      <td>157.0</td>\n",
       "      <td>12</td>\n",
       "      <td>instock</td>\n",
       "      <td>69.08</td>\n",
       "      <td>7819</td>\n",
       "      <td>4.0</td>\n",
       "      <td>2.0</td>\n",
       "      <td>2018-03-22 11:42:48</td>\n",
       "      <td>2018-03-22 10:42:48</td>\n",
       "      <td>Cognac</td>\n",
       "      <td>Cognac Frapin Château de Fontpinot 1989 20 Ans...</td>\n",
       "      <td>Eau-de-Vie distillée à partir de raisins de Gr...</td>\n",
       "      <td>cognac-frapin-chateau-de-fontpinot-1989-20-ans</td>\n",
       "      <td>2020-03-14 16:05:04</td>\n",
       "      <td>2020-03-14 15:05:04</td>\n",
       "      <td>https://www.bottle-neck.fr/?post_type=product&amp;...</td>\n",
       "      <td>product</td>\n",
       "      <td>628.0</td>\n",
       "    </tr>\n",
       "    <tr>\n",
       "      <th>12</th>\n",
       "      <td>16525</td>\n",
       "      <td>4647</td>\n",
       "      <td>1</td>\n",
       "      <td>28.5</td>\n",
       "      <td>45</td>\n",
       "      <td>instock</td>\n",
       "      <td>14.14</td>\n",
       "      <td>16525</td>\n",
       "      <td>22.0</td>\n",
       "      <td>2.0</td>\n",
       "      <td>2018-04-17 09:28:58</td>\n",
       "      <td>2018-04-17 07:28:58</td>\n",
       "      <td>Vin</td>\n",
       "      <td>Bernard Baudry Chinon Rouge La Croix Boissée 2017</td>\n",
       "      <td>Sur ce sol très calcaire, la Croix Boissée dél...</td>\n",
       "      <td>bernard-baudry-chinon-rouge-croix-boissee-2017</td>\n",
       "      <td>2020-07-31 09:31:39</td>\n",
       "      <td>2020-07-31 07:31:39</td>\n",
       "      <td>https://www.bottle-neck.fr/?post_type=product&amp;...</td>\n",
       "      <td>product</td>\n",
       "      <td>627.0</td>\n",
       "    </tr>\n",
       "    <tr>\n",
       "      <th>13</th>\n",
       "      <td>13854</td>\n",
       "      <td>4358</td>\n",
       "      <td>1</td>\n",
       "      <td>77.0</td>\n",
       "      <td>81</td>\n",
       "      <td>instock</td>\n",
       "      <td>47.16</td>\n",
       "      <td>13854</td>\n",
       "      <td>8.0</td>\n",
       "      <td>2.0</td>\n",
       "      <td>2018-03-02 11:03:30</td>\n",
       "      <td>2018-03-02 10:03:30</td>\n",
       "      <td>Champagne</td>\n",
       "      <td>Champagne Larmandier-Bernier Grand Cru Vieille...</td>\n",
       "      <td>Une très belle robe or jaune dore. Le nez est ...</td>\n",
       "      <td>champagne-larmandier-bernier-vieilles-vignes-l...</td>\n",
       "      <td>2020-01-04 11:07:14</td>\n",
       "      <td>2020-01-04 10:07:14</td>\n",
       "      <td>https://www.bottle-neck.fr/?post_type=product&amp;...</td>\n",
       "      <td>product</td>\n",
       "      <td>616.0</td>\n",
       "    </tr>\n",
       "    <tr>\n",
       "      <th>14</th>\n",
       "      <td>13853</td>\n",
       "      <td>4359</td>\n",
       "      <td>1</td>\n",
       "      <td>85.6</td>\n",
       "      <td>112</td>\n",
       "      <td>instock</td>\n",
       "      <td>51.93</td>\n",
       "      <td>13853</td>\n",
       "      <td>7.0</td>\n",
       "      <td>2.0</td>\n",
       "      <td>2018-03-02 11:11:48</td>\n",
       "      <td>2018-03-02 10:11:48</td>\n",
       "      <td>Champagne</td>\n",
       "      <td>Champagne Larmandier-Bernier Grand Cru Les Che...</td>\n",
       "      <td>Belle maîtrise de ce millésime compliqué en Ch...</td>\n",
       "      <td>champagne-larmandier-bernier-grand-cru-vieille...</td>\n",
       "      <td>2019-12-23 09:30:11</td>\n",
       "      <td>2019-12-23 08:30:11</td>\n",
       "      <td>https://www.bottle-neck.fr/?post_type=product&amp;...</td>\n",
       "      <td>product</td>\n",
       "      <td>599.2</td>\n",
       "    </tr>\n",
       "    <tr>\n",
       "      <th>15</th>\n",
       "      <td>11601</td>\n",
       "      <td>6214</td>\n",
       "      <td>1</td>\n",
       "      <td>99.0</td>\n",
       "      <td>9</td>\n",
       "      <td>instock</td>\n",
       "      <td>49.62</td>\n",
       "      <td>11601</td>\n",
       "      <td>6.0</td>\n",
       "      <td>2.0</td>\n",
       "      <td>2019-07-25 09:15:41</td>\n",
       "      <td>2019-07-25 07:15:41</td>\n",
       "      <td>Vin</td>\n",
       "      <td>Domaine des Comtes Lafon Volnay 1er Cru Champa...</td>\n",
       "      <td>La couleur rouge intense annonce un belle conc...</td>\n",
       "      <td>domaine-des-comtes-lafon-volnay-1er-cru-champa...</td>\n",
       "      <td>2020-07-04 11:35:02</td>\n",
       "      <td>2020-07-04 09:35:02</td>\n",
       "      <td>https://www.bottle-neck.fr/?post_type=product&amp;...</td>\n",
       "      <td>product</td>\n",
       "      <td>594.0</td>\n",
       "    </tr>\n",
       "    <tr>\n",
       "      <th>16</th>\n",
       "      <td>15126</td>\n",
       "      <td>6202</td>\n",
       "      <td>1</td>\n",
       "      <td>116.4</td>\n",
       "      <td>12</td>\n",
       "      <td>instock</td>\n",
       "      <td>63.15</td>\n",
       "      <td>15126</td>\n",
       "      <td>5.0</td>\n",
       "      <td>2.0</td>\n",
       "      <td>2019-07-23 10:50:24</td>\n",
       "      <td>2019-07-23 08:50:24</td>\n",
       "      <td>Vin</td>\n",
       "      <td>Domaine Clerget Echezeaux Grand Cru En Orveaux...</td>\n",
       "      <td>Ce vin allie la puissance et la finesse… Un vi...</td>\n",
       "      <td>domaine-clerget-echezeaux-en-orveaux-2015</td>\n",
       "      <td>2020-06-06 15:45:01</td>\n",
       "      <td>2020-06-06 13:45:01</td>\n",
       "      <td>https://www.bottle-neck.fr/?post_type=product&amp;...</td>\n",
       "      <td>product</td>\n",
       "      <td>582.0</td>\n",
       "    </tr>\n",
       "    <tr>\n",
       "      <th>17</th>\n",
       "      <td>12588</td>\n",
       "      <td>4350</td>\n",
       "      <td>1</td>\n",
       "      <td>79.5</td>\n",
       "      <td>145</td>\n",
       "      <td>instock</td>\n",
       "      <td>47.30</td>\n",
       "      <td>12588</td>\n",
       "      <td>7.0</td>\n",
       "      <td>2.0</td>\n",
       "      <td>2018-03-02 10:00:02</td>\n",
       "      <td>2018-03-02 09:00:02</td>\n",
       "      <td>Champagne</td>\n",
       "      <td>Champagne Egly-Ouriet Grand Cru Extra Brut V.P.</td>\n",
       "      <td>Le Grand Cru VP, pour Vieillissement Prolongé,...</td>\n",
       "      <td>champagne-egly-ouriet-extra-brut-vp</td>\n",
       "      <td>2020-08-27 11:45:02</td>\n",
       "      <td>2020-08-27 09:45:02</td>\n",
       "      <td>https://www.bottle-neck.fr/?post_type=product&amp;...</td>\n",
       "      <td>product</td>\n",
       "      <td>556.5</td>\n",
       "    </tr>\n",
       "    <tr>\n",
       "      <th>18</th>\n",
       "      <td>13604</td>\n",
       "      <td>4573</td>\n",
       "      <td>1</td>\n",
       "      <td>67.2</td>\n",
       "      <td>12</td>\n",
       "      <td>instock</td>\n",
       "      <td>36.46</td>\n",
       "      <td>13604</td>\n",
       "      <td>8.0</td>\n",
       "      <td>2.0</td>\n",
       "      <td>2018-04-12 16:31:16</td>\n",
       "      <td>2018-04-12 14:31:16</td>\n",
       "      <td>Vin</td>\n",
       "      <td>Château de Meursault Beaune-Grèves Les Trois J...</td>\n",
       "      <td>Le nez intense et racé évoque des saveurs mûre...</td>\n",
       "      <td>cdme-beaune-1ercru-greves-3-journaux-2015</td>\n",
       "      <td>2020-08-06 16:45:02</td>\n",
       "      <td>2020-08-06 14:45:02</td>\n",
       "      <td>https://www.bottle-neck.fr/?post_type=product&amp;...</td>\n",
       "      <td>product</td>\n",
       "      <td>537.6</td>\n",
       "    </tr>\n",
       "    <tr>\n",
       "      <th>19</th>\n",
       "      <td>3510</td>\n",
       "      <td>4402</td>\n",
       "      <td>1</td>\n",
       "      <td>176.0</td>\n",
       "      <td>11</td>\n",
       "      <td>instock</td>\n",
       "      <td>78.25</td>\n",
       "      <td>3510</td>\n",
       "      <td>3.0</td>\n",
       "      <td>2.0</td>\n",
       "      <td>2018-03-22 11:21:05</td>\n",
       "      <td>2018-03-22 10:21:05</td>\n",
       "      <td>Cognac</td>\n",
       "      <td>Cognac Frapin VIP XO</td>\n",
       "      <td>La cuvée VIP XO à été enrichie d’eaux-de-vie t...</td>\n",
       "      <td>cognac-frapin-vip-xo</td>\n",
       "      <td>2020-08-22 11:35:03</td>\n",
       "      <td>2020-08-22 09:35:03</td>\n",
       "      <td>https://www.bottle-neck.fr/?post_type=product&amp;...</td>\n",
       "      <td>product</td>\n",
       "      <td>528.0</td>\n",
       "    </tr>\n",
       "  </tbody>\n",
       "</table>\n",
       "</div>"
      ],
      "text/plain": [
       "   id_web  product_id  onsale_web  price  stock_quantity stock_status  \\\n",
       "0   15940        4352           1  225.0               0   outofstock   \n",
       "1   14983        5892           1  191.3              98      instock   \n",
       "2   12587        4353           1   79.5             127      instock   \n",
       "3   15325        5826           1   41.2              34      instock   \n",
       "4   13996        6212           1  115.0              16      instock   \n",
       "5   13913        5026           1   86.8             101      instock   \n",
       "6   11602        5008           1  105.0              12      instock   \n",
       "7   15185        5767           1  175.0              12      instock   \n",
       "8   14923        6126           1  135.0             138      instock   \n",
       "9   13914        5025           1  112.0             136      instock   \n",
       "10  14596        6201           1  105.6              16      instock   \n",
       "11   7819        4406           1  157.0              12      instock   \n",
       "12  16525        4647           1   28.5              45      instock   \n",
       "13  13854        4358           1   77.0              81      instock   \n",
       "14  13853        4359           1   85.6             112      instock   \n",
       "15  11601        6214           1   99.0               9      instock   \n",
       "16  15126        6202           1  116.4              12      instock   \n",
       "17  12588        4350           1   79.5             145      instock   \n",
       "18  13604        4573           1   67.2              12      instock   \n",
       "19   3510        4402           1  176.0              11      instock   \n",
       "\n",
       "    purchase_price    sku  total_sales  post_author           post_date  \\\n",
       "0           137.81  15940         11.0          2.0 2018-03-02 10:30:04   \n",
       "1           116.06  14983          6.0          2.0 2019-03-28 10:21:36   \n",
       "2            45.91  12587         14.0          2.0 2018-03-02 10:37:26   \n",
       "3            21.71  15325         20.0          2.0 2019-03-27 17:59:49   \n",
       "4            59.42  13996          7.0          2.0 2019-07-25 09:09:17   \n",
       "5            50.13  13913          9.0          2.0 2018-07-18 10:46:30   \n",
       "6            56.42  11602          7.0          2.0 2018-07-17 10:52:41   \n",
       "7            90.42  15185          4.0          2.0 2019-03-13 14:43:22   \n",
       "8            80.33  14923          5.0          2.0 2019-06-28 17:22:27   \n",
       "9            68.60  13914          6.0          2.0 2018-07-18 10:39:43   \n",
       "10           57.29  14596          6.0          2.0 2019-07-23 10:37:14   \n",
       "11           69.08   7819          4.0          2.0 2018-03-22 11:42:48   \n",
       "12           14.14  16525         22.0          2.0 2018-04-17 09:28:58   \n",
       "13           47.16  13854          8.0          2.0 2018-03-02 11:03:30   \n",
       "14           51.93  13853          7.0          2.0 2018-03-02 11:11:48   \n",
       "15           49.62  11601          6.0          2.0 2019-07-25 09:15:41   \n",
       "16           63.15  15126          5.0          2.0 2019-07-23 10:50:24   \n",
       "17           47.30  12588          7.0          2.0 2018-03-02 10:00:02   \n",
       "18           36.46  13604          8.0          2.0 2018-04-12 16:31:16   \n",
       "19           78.25   3510          3.0          2.0 2018-03-22 11:21:05   \n",
       "\n",
       "         post_date_gmt product_type  \\\n",
       "0  2018-03-02 09:30:04    Champagne   \n",
       "1  2019-03-28 09:21:36    Champagne   \n",
       "2  2018-03-02 09:37:26    Champagne   \n",
       "3  2019-03-27 16:59:49          Vin   \n",
       "4  2019-07-25 07:09:17          Vin   \n",
       "5  2018-07-18 08:46:30    Champagne   \n",
       "6  2018-07-17 08:52:41          Vin   \n",
       "7  2019-03-13 13:43:22          Vin   \n",
       "8  2019-06-28 15:22:27    Champagne   \n",
       "9  2018-07-18 08:39:43    Champagne   \n",
       "10 2019-07-23 08:37:14          Vin   \n",
       "11 2018-03-22 10:42:48       Cognac   \n",
       "12 2018-04-17 07:28:58          Vin   \n",
       "13 2018-03-02 10:03:30    Champagne   \n",
       "14 2018-03-02 10:11:48    Champagne   \n",
       "15 2019-07-25 07:15:41          Vin   \n",
       "16 2019-07-23 08:50:24          Vin   \n",
       "17 2018-03-02 09:00:02    Champagne   \n",
       "18 2018-04-12 14:31:16          Vin   \n",
       "19 2018-03-22 10:21:05       Cognac   \n",
       "\n",
       "                                           post_title  \\\n",
       "0      Champagne Egly-Ouriet Grand Cru Millésimé 2008   \n",
       "1   Coteaux Champenois Egly-Ouriet Ambonnay Rouge ...   \n",
       "2           Champagne Egly-Ouriet Grand Cru Brut Rosé   \n",
       "3               Agnès Levet Côte Rôtie Améthyste 2017   \n",
       "4   Domaine des Comtes Lafon Volnay 1er Cru Santen...   \n",
       "5   Champagne Agrapart &amp; Fils Minéral Extra Br...   \n",
       "6   Domaine des Comtes Lafon Volnay 1er Cru Santen...   \n",
       "7                 Camille Giroud Clos de Vougeot 2016   \n",
       "8              Champagne Gosset Célébris Vintage 2007   \n",
       "9   Champagne Agrapart &amp; Fils L'Avizoise Extra...   \n",
       "10  David Duband Chambolle-Musigny 1er Cru Les Sen...   \n",
       "11  Cognac Frapin Château de Fontpinot 1989 20 Ans...   \n",
       "12  Bernard Baudry Chinon Rouge La Croix Boissée 2017   \n",
       "13  Champagne Larmandier-Bernier Grand Cru Vieille...   \n",
       "14  Champagne Larmandier-Bernier Grand Cru Les Che...   \n",
       "15  Domaine des Comtes Lafon Volnay 1er Cru Champa...   \n",
       "16  Domaine Clerget Echezeaux Grand Cru En Orveaux...   \n",
       "17    Champagne Egly-Ouriet Grand Cru Extra Brut V.P.   \n",
       "18  Château de Meursault Beaune-Grèves Les Trois J...   \n",
       "19                               Cognac Frapin VIP XO   \n",
       "\n",
       "                                         post_excerpt  \\\n",
       "0   Issu d’un assemblage de 70% de Pinot Noir du g...   \n",
       "1   Cet Ambonnay évoque les grands Pinots Noirs de...   \n",
       "2   &nbsp;\\n\\nLe Rosé Grand Cru de la maison Egly-...   \n",
       "3   <span style=\"float: none;background-color: tra...   \n",
       "4   \"Il s'agit là de la meilleure partie de l'appe...   \n",
       "5   Légèrement praliné au nez, nerveux, frais, inc...   \n",
       "6   \"Il s'agit là de la meilleure partie de l'appe...   \n",
       "7   <div>Ce vin provient de vignes âgées de 50 ans...   \n",
       "8   Une robe somptueuse a la teinte jaune pâle eti...   \n",
       "9   Une cuvée surprenante, par son amer articulé a...   \n",
       "10  Une robe d'un rouge carmin avec des reflets br...   \n",
       "11  Eau-de-Vie distillée à partir de raisins de Gr...   \n",
       "12  Sur ce sol très calcaire, la Croix Boissée dél...   \n",
       "13  Une très belle robe or jaune dore. Le nez est ...   \n",
       "14  Belle maîtrise de ce millésime compliqué en Ch...   \n",
       "15  La couleur rouge intense annonce un belle conc...   \n",
       "16  Ce vin allie la puissance et la finesse… Un vi...   \n",
       "17  Le Grand Cru VP, pour Vieillissement Prolongé,...   \n",
       "18  Le nez intense et racé évoque des saveurs mûre...   \n",
       "19  La cuvée VIP XO à été enrichie d’eaux-de-vie t...   \n",
       "\n",
       "                                            post_name       post_modified  \\\n",
       "0      champagne-egly-ouriet-grand-cru-millesime-2008 2020-03-07 11:18:45   \n",
       "1   coteaux-champenois-egly-ouriet-ambonnay-rouge-... 2020-04-01 09:30:09   \n",
       "2           champagne-egly-ouriet-grand-cru-brut-rose 2020-08-22 11:45:02   \n",
       "3                          agnes-levet-amethyste-2017 2020-05-21 14:00:02   \n",
       "4   domaine-des-comtes-lafon-volnay-1er-cru-santen... 2020-06-16 09:30:16   \n",
       "5   champagne-agrapart-fils-mineral-extra-brut-bla... 2020-05-11 14:35:02   \n",
       "6   domaine-des-comtes-lafon-volnay-1er-cru-santen... 2020-06-23 15:35:02   \n",
       "7                 camille-giroud-clos-de-vougeot-2016 2020-06-11 15:25:04   \n",
       "8              champagne-gosset-celebris-vintage-2007 2020-08-27 11:45:02   \n",
       "9   champagne-agrapart-fils-lavizoise-grand-cru-20... 2020-07-09 17:05:02   \n",
       "10  david-duband-chambolle-musigny-1er-cru-les-sen... 2020-02-29 15:25:02   \n",
       "11     cognac-frapin-chateau-de-fontpinot-1989-20-ans 2020-03-14 16:05:04   \n",
       "12     bernard-baudry-chinon-rouge-croix-boissee-2017 2020-07-31 09:31:39   \n",
       "13  champagne-larmandier-bernier-vieilles-vignes-l... 2020-01-04 11:07:14   \n",
       "14  champagne-larmandier-bernier-grand-cru-vieille... 2019-12-23 09:30:11   \n",
       "15  domaine-des-comtes-lafon-volnay-1er-cru-champa... 2020-07-04 11:35:02   \n",
       "16          domaine-clerget-echezeaux-en-orveaux-2015 2020-06-06 15:45:01   \n",
       "17                champagne-egly-ouriet-extra-brut-vp 2020-08-27 11:45:02   \n",
       "18          cdme-beaune-1ercru-greves-3-journaux-2015 2020-08-06 16:45:02   \n",
       "19                               cognac-frapin-vip-xo 2020-08-22 11:35:03   \n",
       "\n",
       "     post_modified_gmt                                               guid  \\\n",
       "0  2020-03-07 10:18:45  https://www.bottle-neck.fr/?post_type=product&...   \n",
       "1  2020-04-01 07:30:09  https://www.bottle-neck.fr/?post_type=product&...   \n",
       "2  2020-08-22 09:45:02  https://www.bottle-neck.fr/?post_type=product&...   \n",
       "3  2020-05-21 12:00:02  https://www.bottle-neck.fr/?post_type=product&...   \n",
       "4  2020-06-16 07:30:16  https://www.bottle-neck.fr/?post_type=product&...   \n",
       "5  2020-05-11 12:35:02  https://www.bottle-neck.fr/?post_type=product&...   \n",
       "6  2020-06-23 13:35:02  https://www.bottle-neck.fr/?post_type=product&...   \n",
       "7  2020-06-11 13:25:04  https://www.bottle-neck.fr/?post_type=product&...   \n",
       "8  2020-08-27 09:45:02  https://www.bottle-neck.fr/?post_type=product&...   \n",
       "9  2020-07-09 15:05:02  https://www.bottle-neck.fr/?post_type=product&...   \n",
       "10 2020-02-29 14:25:02  https://www.bottle-neck.fr/?post_type=product&...   \n",
       "11 2020-03-14 15:05:04  https://www.bottle-neck.fr/?post_type=product&...   \n",
       "12 2020-07-31 07:31:39  https://www.bottle-neck.fr/?post_type=product&...   \n",
       "13 2020-01-04 10:07:14  https://www.bottle-neck.fr/?post_type=product&...   \n",
       "14 2019-12-23 08:30:11  https://www.bottle-neck.fr/?post_type=product&...   \n",
       "15 2020-07-04 09:35:02  https://www.bottle-neck.fr/?post_type=product&...   \n",
       "16 2020-06-06 13:45:01  https://www.bottle-neck.fr/?post_type=product&...   \n",
       "17 2020-08-27 09:45:02  https://www.bottle-neck.fr/?post_type=product&...   \n",
       "18 2020-08-06 14:45:02  https://www.bottle-neck.fr/?post_type=product&...   \n",
       "19 2020-08-22 09:35:03  https://www.bottle-neck.fr/?post_type=product&...   \n",
       "\n",
       "   post_type  ca_par_article  \n",
       "0    product          2475.0  \n",
       "1    product          1147.8  \n",
       "2    product          1113.0  \n",
       "3    product           824.0  \n",
       "4    product           805.0  \n",
       "5    product           781.2  \n",
       "6    product           735.0  \n",
       "7    product           700.0  \n",
       "8    product           675.0  \n",
       "9    product           672.0  \n",
       "10   product           633.6  \n",
       "11   product           628.0  \n",
       "12   product           627.0  \n",
       "13   product           616.0  \n",
       "14   product           599.2  \n",
       "15   product           594.0  \n",
       "16   product           582.0  \n",
       "17   product           556.5  \n",
       "18   product           537.6  \n",
       "19   product           528.0  "
      ]
     },
     "execution_count": 106,
     "metadata": {},
     "output_type": "execute_result"
    }
   ],
   "source": [
    "###############################\n",
    "# Palmarès des articles en CA #\n",
    "###############################\n",
    "\n",
    "#Effectuer le tri dans l'ordre décroissant du CA du dataset df_merge\n",
    "df_data_20 = df_data.sort_values(\"ca_par_article\", ascending = False)\n",
    "#Réinitialiser l'index du dataset par un reset_index\n",
    "df_data_20.reset_index(drop=True, inplace =True)\n",
    "#Afficher les 20 premiers articles en CA\n",
    "df_data_20 = df_data_20.head(20)\n",
    "df_data_20"
   ]
  },
  {
   "cell_type": "code",
   "execution_count": 107,
   "id": "4040ced7",
   "metadata": {},
   "outputs": [
    {
     "data": {
      "application/vnd.plotly.v1+json": {
       "config": {
        "plotlyServerURL": "https://plot.ly"
       },
       "data": [
        {
         "hovertemplate": "Type=Champagne<br>Produit=%{x}<br>Chiffre d'affaires (€)=%{text}<extra></extra>",
         "legendgroup": "Champagne",
         "marker": {
          "color": "#636efa",
          "pattern": {
           "shape": ""
          }
         },
         "name": "Champagne",
         "orientation": "v",
         "showlegend": true,
         "text": {
          "bdata": "AAAAAABWo0AzMzMzM++RQAAAAAAAZJFAmpmZmZlpiEAAAAAAABiFQAAAAAAAAIVAAAAAAABAg0CamZmZmbmCQAAAAAAAZIFA",
          "dtype": "f8"
         },
         "textposition": "auto",
         "type": "bar",
         "x": [
          "Champagne Egly-Ouriet Grand Cru Millésimé 2008",
          "Coteaux Champenois Egly-Ouriet Ambonnay Rouge 2016",
          "Champagne Egly-Ouriet Grand Cru Brut Rosé",
          "Champagne Agrapart &amp; Fils Minéral Extra Brut Blanc de Blancs Grand Cru 2012",
          "Champagne Gosset Célébris Vintage 2007",
          "Champagne Agrapart &amp; Fils L'Avizoise Extra Brut Blanc de Blancs Grand Cru 2012",
          "Champagne Larmandier-Bernier Grand Cru Vieilles Vignes du Levant 2008",
          "Champagne Larmandier-Bernier Grand Cru Les Chemins d'Avize 2011",
          "Champagne Egly-Ouriet Grand Cru Extra Brut V.P."
         ],
         "xaxis": "x",
         "y": {
          "bdata": "AAAAAABWo0AzMzMzM++RQAAAAAAAZJFAmpmZmZlpiEAAAAAAABiFQAAAAAAAAIVAAAAAAABAg0CamZmZmbmCQAAAAAAAZIFA",
          "dtype": "f8"
         },
         "yaxis": "y"
        },
        {
         "hovertemplate": "Type=Vin<br>Produit=%{x}<br>Chiffre d'affaires (€)=%{text}<extra></extra>",
         "legendgroup": "Vin",
         "marker": {
          "color": "#EF553B",
          "pattern": {
           "shape": ""
          }
         },
         "name": "Vin",
         "orientation": "v",
         "showlegend": true,
         "text": {
          "bdata": "AAAAAADAiUAAAAAAACiJQAAAAAAA+IZAAAAAAADghUDNzMzMzMyDQAAAAAAAmINAAAAAAACQgkAAAAAAADCCQM3MzMzMzIBA",
          "dtype": "f8"
         },
         "textposition": "auto",
         "type": "bar",
         "x": [
          "Agnès Levet Côte Rôtie Améthyste 2017",
          "Domaine des Comtes Lafon Volnay 1er Cru Santenots du Milieu 2015",
          "Domaine des Comtes Lafon Volnay 1er Cru Santenots du Milieu 2013",
          "Camille Giroud Clos de Vougeot 2016",
          "David Duband Chambolle-Musigny 1er Cru Les Sentiers 2016",
          "Bernard Baudry Chinon Rouge La Croix Boissée 2017",
          "Domaine des Comtes Lafon Volnay 1er Cru Champans 2013",
          "Domaine Clerget Echezeaux Grand Cru En Orveaux 2015",
          "Château de Meursault Beaune-Grèves Les Trois Journaux 1er Cru 2015"
         ],
         "xaxis": "x",
         "y": {
          "bdata": "AAAAAADAiUAAAAAAACiJQAAAAAAA+IZAAAAAAADghUDNzMzMzMyDQAAAAAAAmINAAAAAAACQgkAAAAAAADCCQM3MzMzMzIBA",
          "dtype": "f8"
         },
         "yaxis": "y"
        },
        {
         "hovertemplate": "Type=Cognac<br>Produit=%{x}<br>Chiffre d'affaires (€)=%{text}<extra></extra>",
         "legendgroup": "Cognac",
         "marker": {
          "color": "#00cc96",
          "pattern": {
           "shape": ""
          }
         },
         "name": "Cognac",
         "orientation": "v",
         "showlegend": true,
         "text": {
          "bdata": "AAAAAACgg0AAAAAAAICAQA==",
          "dtype": "f8"
         },
         "textposition": "auto",
         "type": "bar",
         "x": [
          "Cognac Frapin Château de Fontpinot 1989 20 Ans d'Age",
          "Cognac Frapin VIP XO"
         ],
         "xaxis": "x",
         "y": {
          "bdata": "AAAAAACgg0AAAAAAAICAQA==",
          "dtype": "f8"
         },
         "yaxis": "y"
        }
       ],
       "layout": {
        "barmode": "relative",
        "height": 600,
        "legend": {
         "title": {
          "text": "Type"
         },
         "tracegroupgap": 0
        },
        "template": {
         "data": {
          "bar": [
           {
            "error_x": {
             "color": "#2a3f5f"
            },
            "error_y": {
             "color": "#2a3f5f"
            },
            "marker": {
             "line": {
              "color": "#E5ECF6",
              "width": 0.5
             },
             "pattern": {
              "fillmode": "overlay",
              "size": 10,
              "solidity": 0.2
             }
            },
            "type": "bar"
           }
          ],
          "barpolar": [
           {
            "marker": {
             "line": {
              "color": "#E5ECF6",
              "width": 0.5
             },
             "pattern": {
              "fillmode": "overlay",
              "size": 10,
              "solidity": 0.2
             }
            },
            "type": "barpolar"
           }
          ],
          "carpet": [
           {
            "aaxis": {
             "endlinecolor": "#2a3f5f",
             "gridcolor": "white",
             "linecolor": "white",
             "minorgridcolor": "white",
             "startlinecolor": "#2a3f5f"
            },
            "baxis": {
             "endlinecolor": "#2a3f5f",
             "gridcolor": "white",
             "linecolor": "white",
             "minorgridcolor": "white",
             "startlinecolor": "#2a3f5f"
            },
            "type": "carpet"
           }
          ],
          "choropleth": [
           {
            "colorbar": {
             "outlinewidth": 0,
             "ticks": ""
            },
            "type": "choropleth"
           }
          ],
          "contour": [
           {
            "colorbar": {
             "outlinewidth": 0,
             "ticks": ""
            },
            "colorscale": [
             [
              0,
              "#0d0887"
             ],
             [
              0.1111111111111111,
              "#46039f"
             ],
             [
              0.2222222222222222,
              "#7201a8"
             ],
             [
              0.3333333333333333,
              "#9c179e"
             ],
             [
              0.4444444444444444,
              "#bd3786"
             ],
             [
              0.5555555555555556,
              "#d8576b"
             ],
             [
              0.6666666666666666,
              "#ed7953"
             ],
             [
              0.7777777777777778,
              "#fb9f3a"
             ],
             [
              0.8888888888888888,
              "#fdca26"
             ],
             [
              1,
              "#f0f921"
             ]
            ],
            "type": "contour"
           }
          ],
          "contourcarpet": [
           {
            "colorbar": {
             "outlinewidth": 0,
             "ticks": ""
            },
            "type": "contourcarpet"
           }
          ],
          "heatmap": [
           {
            "colorbar": {
             "outlinewidth": 0,
             "ticks": ""
            },
            "colorscale": [
             [
              0,
              "#0d0887"
             ],
             [
              0.1111111111111111,
              "#46039f"
             ],
             [
              0.2222222222222222,
              "#7201a8"
             ],
             [
              0.3333333333333333,
              "#9c179e"
             ],
             [
              0.4444444444444444,
              "#bd3786"
             ],
             [
              0.5555555555555556,
              "#d8576b"
             ],
             [
              0.6666666666666666,
              "#ed7953"
             ],
             [
              0.7777777777777778,
              "#fb9f3a"
             ],
             [
              0.8888888888888888,
              "#fdca26"
             ],
             [
              1,
              "#f0f921"
             ]
            ],
            "type": "heatmap"
           }
          ],
          "histogram": [
           {
            "marker": {
             "pattern": {
              "fillmode": "overlay",
              "size": 10,
              "solidity": 0.2
             }
            },
            "type": "histogram"
           }
          ],
          "histogram2d": [
           {
            "colorbar": {
             "outlinewidth": 0,
             "ticks": ""
            },
            "colorscale": [
             [
              0,
              "#0d0887"
             ],
             [
              0.1111111111111111,
              "#46039f"
             ],
             [
              0.2222222222222222,
              "#7201a8"
             ],
             [
              0.3333333333333333,
              "#9c179e"
             ],
             [
              0.4444444444444444,
              "#bd3786"
             ],
             [
              0.5555555555555556,
              "#d8576b"
             ],
             [
              0.6666666666666666,
              "#ed7953"
             ],
             [
              0.7777777777777778,
              "#fb9f3a"
             ],
             [
              0.8888888888888888,
              "#fdca26"
             ],
             [
              1,
              "#f0f921"
             ]
            ],
            "type": "histogram2d"
           }
          ],
          "histogram2dcontour": [
           {
            "colorbar": {
             "outlinewidth": 0,
             "ticks": ""
            },
            "colorscale": [
             [
              0,
              "#0d0887"
             ],
             [
              0.1111111111111111,
              "#46039f"
             ],
             [
              0.2222222222222222,
              "#7201a8"
             ],
             [
              0.3333333333333333,
              "#9c179e"
             ],
             [
              0.4444444444444444,
              "#bd3786"
             ],
             [
              0.5555555555555556,
              "#d8576b"
             ],
             [
              0.6666666666666666,
              "#ed7953"
             ],
             [
              0.7777777777777778,
              "#fb9f3a"
             ],
             [
              0.8888888888888888,
              "#fdca26"
             ],
             [
              1,
              "#f0f921"
             ]
            ],
            "type": "histogram2dcontour"
           }
          ],
          "mesh3d": [
           {
            "colorbar": {
             "outlinewidth": 0,
             "ticks": ""
            },
            "type": "mesh3d"
           }
          ],
          "parcoords": [
           {
            "line": {
             "colorbar": {
              "outlinewidth": 0,
              "ticks": ""
             }
            },
            "type": "parcoords"
           }
          ],
          "pie": [
           {
            "automargin": true,
            "type": "pie"
           }
          ],
          "scatter": [
           {
            "fillpattern": {
             "fillmode": "overlay",
             "size": 10,
             "solidity": 0.2
            },
            "type": "scatter"
           }
          ],
          "scatter3d": [
           {
            "line": {
             "colorbar": {
              "outlinewidth": 0,
              "ticks": ""
             }
            },
            "marker": {
             "colorbar": {
              "outlinewidth": 0,
              "ticks": ""
             }
            },
            "type": "scatter3d"
           }
          ],
          "scattercarpet": [
           {
            "marker": {
             "colorbar": {
              "outlinewidth": 0,
              "ticks": ""
             }
            },
            "type": "scattercarpet"
           }
          ],
          "scattergeo": [
           {
            "marker": {
             "colorbar": {
              "outlinewidth": 0,
              "ticks": ""
             }
            },
            "type": "scattergeo"
           }
          ],
          "scattergl": [
           {
            "marker": {
             "colorbar": {
              "outlinewidth": 0,
              "ticks": ""
             }
            },
            "type": "scattergl"
           }
          ],
          "scattermap": [
           {
            "marker": {
             "colorbar": {
              "outlinewidth": 0,
              "ticks": ""
             }
            },
            "type": "scattermap"
           }
          ],
          "scattermapbox": [
           {
            "marker": {
             "colorbar": {
              "outlinewidth": 0,
              "ticks": ""
             }
            },
            "type": "scattermapbox"
           }
          ],
          "scatterpolar": [
           {
            "marker": {
             "colorbar": {
              "outlinewidth": 0,
              "ticks": ""
             }
            },
            "type": "scatterpolar"
           }
          ],
          "scatterpolargl": [
           {
            "marker": {
             "colorbar": {
              "outlinewidth": 0,
              "ticks": ""
             }
            },
            "type": "scatterpolargl"
           }
          ],
          "scatterternary": [
           {
            "marker": {
             "colorbar": {
              "outlinewidth": 0,
              "ticks": ""
             }
            },
            "type": "scatterternary"
           }
          ],
          "surface": [
           {
            "colorbar": {
             "outlinewidth": 0,
             "ticks": ""
            },
            "colorscale": [
             [
              0,
              "#0d0887"
             ],
             [
              0.1111111111111111,
              "#46039f"
             ],
             [
              0.2222222222222222,
              "#7201a8"
             ],
             [
              0.3333333333333333,
              "#9c179e"
             ],
             [
              0.4444444444444444,
              "#bd3786"
             ],
             [
              0.5555555555555556,
              "#d8576b"
             ],
             [
              0.6666666666666666,
              "#ed7953"
             ],
             [
              0.7777777777777778,
              "#fb9f3a"
             ],
             [
              0.8888888888888888,
              "#fdca26"
             ],
             [
              1,
              "#f0f921"
             ]
            ],
            "type": "surface"
           }
          ],
          "table": [
           {
            "cells": {
             "fill": {
              "color": "#EBF0F8"
             },
             "line": {
              "color": "white"
             }
            },
            "header": {
             "fill": {
              "color": "#C8D4E3"
             },
             "line": {
              "color": "white"
             }
            },
            "type": "table"
           }
          ]
         },
         "layout": {
          "annotationdefaults": {
           "arrowcolor": "#2a3f5f",
           "arrowhead": 0,
           "arrowwidth": 1
          },
          "autotypenumbers": "strict",
          "coloraxis": {
           "colorbar": {
            "outlinewidth": 0,
            "ticks": ""
           }
          },
          "colorscale": {
           "diverging": [
            [
             0,
             "#8e0152"
            ],
            [
             0.1,
             "#c51b7d"
            ],
            [
             0.2,
             "#de77ae"
            ],
            [
             0.3,
             "#f1b6da"
            ],
            [
             0.4,
             "#fde0ef"
            ],
            [
             0.5,
             "#f7f7f7"
            ],
            [
             0.6,
             "#e6f5d0"
            ],
            [
             0.7,
             "#b8e186"
            ],
            [
             0.8,
             "#7fbc41"
            ],
            [
             0.9,
             "#4d9221"
            ],
            [
             1,
             "#276419"
            ]
           ],
           "sequential": [
            [
             0,
             "#0d0887"
            ],
            [
             0.1111111111111111,
             "#46039f"
            ],
            [
             0.2222222222222222,
             "#7201a8"
            ],
            [
             0.3333333333333333,
             "#9c179e"
            ],
            [
             0.4444444444444444,
             "#bd3786"
            ],
            [
             0.5555555555555556,
             "#d8576b"
            ],
            [
             0.6666666666666666,
             "#ed7953"
            ],
            [
             0.7777777777777778,
             "#fb9f3a"
            ],
            [
             0.8888888888888888,
             "#fdca26"
            ],
            [
             1,
             "#f0f921"
            ]
           ],
           "sequentialminus": [
            [
             0,
             "#0d0887"
            ],
            [
             0.1111111111111111,
             "#46039f"
            ],
            [
             0.2222222222222222,
             "#7201a8"
            ],
            [
             0.3333333333333333,
             "#9c179e"
            ],
            [
             0.4444444444444444,
             "#bd3786"
            ],
            [
             0.5555555555555556,
             "#d8576b"
            ],
            [
             0.6666666666666666,
             "#ed7953"
            ],
            [
             0.7777777777777778,
             "#fb9f3a"
            ],
            [
             0.8888888888888888,
             "#fdca26"
            ],
            [
             1,
             "#f0f921"
            ]
           ]
          },
          "colorway": [
           "#636efa",
           "#EF553B",
           "#00cc96",
           "#ab63fa",
           "#FFA15A",
           "#19d3f3",
           "#FF6692",
           "#B6E880",
           "#FF97FF",
           "#FECB52"
          ],
          "font": {
           "color": "#2a3f5f"
          },
          "geo": {
           "bgcolor": "white",
           "lakecolor": "white",
           "landcolor": "#E5ECF6",
           "showlakes": true,
           "showland": true,
           "subunitcolor": "white"
          },
          "hoverlabel": {
           "align": "left"
          },
          "hovermode": "closest",
          "mapbox": {
           "style": "light"
          },
          "paper_bgcolor": "white",
          "plot_bgcolor": "#E5ECF6",
          "polar": {
           "angularaxis": {
            "gridcolor": "white",
            "linecolor": "white",
            "ticks": ""
           },
           "bgcolor": "#E5ECF6",
           "radialaxis": {
            "gridcolor": "white",
            "linecolor": "white",
            "ticks": ""
           }
          },
          "scene": {
           "xaxis": {
            "backgroundcolor": "#E5ECF6",
            "gridcolor": "white",
            "gridwidth": 2,
            "linecolor": "white",
            "showbackground": true,
            "ticks": "",
            "zerolinecolor": "white"
           },
           "yaxis": {
            "backgroundcolor": "#E5ECF6",
            "gridcolor": "white",
            "gridwidth": 2,
            "linecolor": "white",
            "showbackground": true,
            "ticks": "",
            "zerolinecolor": "white"
           },
           "zaxis": {
            "backgroundcolor": "#E5ECF6",
            "gridcolor": "white",
            "gridwidth": 2,
            "linecolor": "white",
            "showbackground": true,
            "ticks": "",
            "zerolinecolor": "white"
           }
          },
          "shapedefaults": {
           "line": {
            "color": "#2a3f5f"
           }
          },
          "ternary": {
           "aaxis": {
            "gridcolor": "white",
            "linecolor": "white",
            "ticks": ""
           },
           "baxis": {
            "gridcolor": "white",
            "linecolor": "white",
            "ticks": ""
           },
           "bgcolor": "#E5ECF6",
           "caxis": {
            "gridcolor": "white",
            "linecolor": "white",
            "ticks": ""
           }
          },
          "title": {
           "x": 0.05
          },
          "xaxis": {
           "automargin": true,
           "gridcolor": "white",
           "linecolor": "white",
           "ticks": "",
           "title": {
            "standoff": 15
           },
           "zerolinecolor": "white",
           "zerolinewidth": 2
          },
          "yaxis": {
           "automargin": true,
           "gridcolor": "white",
           "linecolor": "white",
           "ticks": "",
           "title": {
            "standoff": 15
           },
           "zerolinecolor": "white",
           "zerolinewidth": 2
          }
         }
        },
        "title": {
         "text": "Top 20 des articles par chiffre d'affaires (groupés par type)"
        },
        "width": 1500,
        "xaxis": {
         "anchor": "y",
         "categoryarray": [
          "Champagne Egly-Ouriet Grand Cru Millésimé 2008",
          "Coteaux Champenois Egly-Ouriet Ambonnay Rouge 2016",
          "Champagne Egly-Ouriet Grand Cru Brut Rosé",
          "Agnès Levet Côte Rôtie Améthyste 2017",
          "Domaine des Comtes Lafon Volnay 1er Cru Santenots du Milieu 2015",
          "Champagne Agrapart &amp; Fils Minéral Extra Brut Blanc de Blancs Grand Cru 2012",
          "Domaine des Comtes Lafon Volnay 1er Cru Santenots du Milieu 2013",
          "Camille Giroud Clos de Vougeot 2016",
          "Champagne Gosset Célébris Vintage 2007",
          "Champagne Agrapart &amp; Fils L'Avizoise Extra Brut Blanc de Blancs Grand Cru 2012",
          "David Duband Chambolle-Musigny 1er Cru Les Sentiers 2016",
          "Cognac Frapin Château de Fontpinot 1989 20 Ans d'Age",
          "Bernard Baudry Chinon Rouge La Croix Boissée 2017",
          "Champagne Larmandier-Bernier Grand Cru Vieilles Vignes du Levant 2008",
          "Champagne Larmandier-Bernier Grand Cru Les Chemins d'Avize 2011",
          "Domaine des Comtes Lafon Volnay 1er Cru Champans 2013",
          "Domaine Clerget Echezeaux Grand Cru En Orveaux 2015",
          "Champagne Egly-Ouriet Grand Cru Extra Brut V.P.",
          "Château de Meursault Beaune-Grèves Les Trois Journaux 1er Cru 2015",
          "Cognac Frapin VIP XO"
         ],
         "categoryorder": "array",
         "domain": [
          0,
          1
         ],
         "title": {
          "text": "Produit"
         }
        },
        "yaxis": {
         "anchor": "x",
         "domain": [
          0,
          1
         ],
         "title": {
          "text": "Chiffre d'affaires (€)"
         }
        }
       }
      }
     },
     "metadata": {},
     "output_type": "display_data"
    }
   ],
   "source": [
    "#Graphique en barre des 20 premiers articles avec plotly express\n",
    "fig = px.bar(\n",
    "    df_data_20,\n",
    "    x='post_title',\n",
    "    y='ca_par_article',\n",
    "    color='product_type',\n",
    "    title=\"Top 20 des articles par chiffre d'affaires (groupés par type)\",\n",
    "    labels={\n",
    "        'post_title': 'Produit',\n",
    "        'ca_par_article': 'Chiffre d\\'affaires (€)',\n",
    "        'product_type': 'Type'\n",
    "    },\n",
    "    text='ca_par_article',\n",
    "    category_orders={'post_title': df_data_20['post_title'].tolist()} \n",
    ")\n",
    "\n",
    "fig.update_layout(\n",
    "    width=1500, \n",
    "    height=600\n",
    ")\n",
    "\n",
    "fig.show()"
   ]
  },
  {
   "cell_type": "code",
   "execution_count": 108,
   "id": "50594119-5177-445b-a468-ad90ff74e1b0",
   "metadata": {},
   "outputs": [
    {
     "name": "stdout",
     "output_type": "stream",
     "text": [
      "Nombre d'articles représentant 80 % du CA : 432\n"
     ]
    }
   ],
   "source": [
    "#############################\n",
    "# Calculer le 20 / 80 en CA #\n",
    "#############################\n",
    "\n",
    "df_data = df_data.sort_values('ca_par_article', ascending =False)\n",
    "#Créer une colonne calculant la part du CA de la ligne dans le dataset\n",
    "df_data['part_ca'] = df_data['ca_par_article'] /Chiffre_affaire\n",
    "#Créer une colonne réalisant la somme cumulative de la colonne précedemment créée\n",
    "df_data['part_ca_cum_sum'] = df_data['part_ca'].cumsum()\n",
    "#Grâce aux deux colonnes créées précedemment, calculer le nombre d'articles représentant 80% du CA\n",
    "seuil_80 = df_data[df_data['part_ca_cum_sum'] <= 0.8]\n",
    "nb_articles_80 = len(seuil_80)\n",
    "print(\"Nombre d'articles représentant 80 % du CA :\", nb_articles_80)"
   ]
  },
  {
   "cell_type": "code",
   "execution_count": 109,
   "id": "d7e5e87b",
   "metadata": {},
   "outputs": [
    {
     "name": "stdout",
     "output_type": "stream",
     "text": [
      "Proportion d'articles représentant 80 % du CA : 60.67 %\n"
     ]
    }
   ],
   "source": [
    "#Afficher la proportion que représente ce groupe d'articles dans le catalogue entier du site web\n",
    "proportion_80 = round(len(seuil_80) /len(df_data) * 100, 2) \n",
    "print(\"Proportion d'articles représentant 80 % du CA :\", proportion_80, \"%\")"
   ]
  },
  {
   "cell_type": "markdown",
   "id": "403d9e85-764d-4118-80bc-61e83dfd8a5d",
   "metadata": {},
   "source": [
    "**On compte 80 % du CA fait par  60.67 % des produits.  \n",
    "Le chiffre d'affaire est de 143 285.9 €.**"
   ]
  },
  {
   "cell_type": "markdown",
   "id": "8de7af87",
   "metadata": {},
   "source": [
    "<div style=\"border: 1px solid RGB(51,165,182);\" >\n",
    "<h3 style=\"margin: auto; padding: 20px; color: RGB(51,165,182); \">Etape 5.2 - Analyse des ventes en quantité</h3>\n",
    "</div>"
   ]
  },
  {
   "cell_type": "code",
   "execution_count": 110,
   "id": "13997214-434f-4913-88c5-e0441515e461",
   "metadata": {},
   "outputs": [
    {
     "data": {
      "text/html": [
       "<div>\n",
       "<style scoped>\n",
       "    .dataframe tbody tr th:only-of-type {\n",
       "        vertical-align: middle;\n",
       "    }\n",
       "\n",
       "    .dataframe tbody tr th {\n",
       "        vertical-align: top;\n",
       "    }\n",
       "\n",
       "    .dataframe thead th {\n",
       "        text-align: right;\n",
       "    }\n",
       "</style>\n",
       "<table border=\"1\" class=\"dataframe\">\n",
       "  <thead>\n",
       "    <tr style=\"text-align: right;\">\n",
       "      <th></th>\n",
       "      <th>id_web</th>\n",
       "      <th>product_id</th>\n",
       "      <th>onsale_web</th>\n",
       "      <th>price</th>\n",
       "      <th>stock_quantity</th>\n",
       "      <th>stock_status</th>\n",
       "      <th>purchase_price</th>\n",
       "      <th>sku</th>\n",
       "      <th>total_sales</th>\n",
       "      <th>post_author</th>\n",
       "      <th>post_date</th>\n",
       "      <th>post_date_gmt</th>\n",
       "      <th>product_type</th>\n",
       "      <th>post_title</th>\n",
       "      <th>post_excerpt</th>\n",
       "      <th>post_name</th>\n",
       "      <th>post_modified</th>\n",
       "      <th>post_modified_gmt</th>\n",
       "      <th>guid</th>\n",
       "      <th>post_type</th>\n",
       "      <th>ca_par_article</th>\n",
       "      <th>part_ca</th>\n",
       "      <th>part_ca_cum_sum</th>\n",
       "    </tr>\n",
       "  </thead>\n",
       "  <tbody>\n",
       "    <tr>\n",
       "      <th>0</th>\n",
       "      <td>16148</td>\n",
       "      <td>4867</td>\n",
       "      <td>1</td>\n",
       "      <td>9.9</td>\n",
       "      <td>121</td>\n",
       "      <td>instock</td>\n",
       "      <td>4.86</td>\n",
       "      <td>16148</td>\n",
       "      <td>36.0</td>\n",
       "      <td>2.0</td>\n",
       "      <td>2018-05-03 13:20:05</td>\n",
       "      <td>2018-05-03 11:20:05</td>\n",
       "      <td>Vin</td>\n",
       "      <td>Château De La Selve IGP Coteaux de l'Ardèche M...</td>\n",
       "      <td>&lt;div&gt;\\n\\nUn rosé minéral, fruité et d’une gran...</td>\n",
       "      <td>chateau-de-la-selve-igp-coteaux-de-lardeche-ma...</td>\n",
       "      <td>2020-08-27 09:30:15</td>\n",
       "      <td>2020-08-27 07:30:15</td>\n",
       "      <td>https://www.bottle-neck.fr/?post_type=product&amp;...</td>\n",
       "      <td>product</td>\n",
       "      <td>356.4</td>\n",
       "      <td>0.002487</td>\n",
       "      <td>0.228621</td>\n",
       "    </tr>\n",
       "    <tr>\n",
       "      <th>1</th>\n",
       "      <td>15415</td>\n",
       "      <td>4203</td>\n",
       "      <td>1</td>\n",
       "      <td>9.9</td>\n",
       "      <td>74</td>\n",
       "      <td>instock</td>\n",
       "      <td>5.01</td>\n",
       "      <td>15415</td>\n",
       "      <td>27.0</td>\n",
       "      <td>2.0</td>\n",
       "      <td>2018-02-15 14:33:42</td>\n",
       "      <td>2018-02-15 13:33:42</td>\n",
       "      <td>Vin</td>\n",
       "      <td>Mas Laval IGP Pays d'Hérault Les Pampres Blanc...</td>\n",
       "      <td>Vin de gourmandise à boire sur la fraîcheur po...</td>\n",
       "      <td>mas-laval-igp-pays-herault-pampres-blanc-2018</td>\n",
       "      <td>2020-07-11 16:45:03</td>\n",
       "      <td>2020-07-11 14:45:03</td>\n",
       "      <td>https://www.bottle-neck.fr/?post_type=product&amp;...</td>\n",
       "      <td>product</td>\n",
       "      <td>267.3</td>\n",
       "      <td>0.001866</td>\n",
       "      <td>0.403497</td>\n",
       "    </tr>\n",
       "    <tr>\n",
       "      <th>2</th>\n",
       "      <td>14864</td>\n",
       "      <td>4275</td>\n",
       "      <td>1</td>\n",
       "      <td>14.9</td>\n",
       "      <td>62</td>\n",
       "      <td>instock</td>\n",
       "      <td>7.78</td>\n",
       "      <td>14864</td>\n",
       "      <td>24.0</td>\n",
       "      <td>2.0</td>\n",
       "      <td>2018-02-27 13:33:54</td>\n",
       "      <td>2018-02-27 12:33:54</td>\n",
       "      <td>Vin</td>\n",
       "      <td>I Fabbri Chianti Classico Lamole 2017</td>\n",
       "      <td>Un nez typique de petits fruits rouges. Une bo...</td>\n",
       "      <td>i-fabbri-chianti-classico-lamole-2017</td>\n",
       "      <td>2020-08-22 14:35:02</td>\n",
       "      <td>2020-08-22 12:35:02</td>\n",
       "      <td>https://www.bottle-neck.fr/?post_type=product&amp;...</td>\n",
       "      <td>product</td>\n",
       "      <td>357.6</td>\n",
       "      <td>0.002496</td>\n",
       "      <td>0.216169</td>\n",
       "    </tr>\n",
       "    <tr>\n",
       "      <th>3</th>\n",
       "      <td>14950</td>\n",
       "      <td>4726</td>\n",
       "      <td>1</td>\n",
       "      <td>12.7</td>\n",
       "      <td>0</td>\n",
       "      <td>outofstock</td>\n",
       "      <td>6.82</td>\n",
       "      <td>14950</td>\n",
       "      <td>22.0</td>\n",
       "      <td>2.0</td>\n",
       "      <td>2018-04-18 11:53:51</td>\n",
       "      <td>2018-04-18 09:53:51</td>\n",
       "      <td>Vin</td>\n",
       "      <td>François Baur Pinot Noir Schlittweg 2017</td>\n",
       "      <td>Un éclat de fruits, de la souplesse, de la ron...</td>\n",
       "      <td>francois-baur-pinot-noir-schlittweg-2017</td>\n",
       "      <td>2020-05-06 11:35:01</td>\n",
       "      <td>2020-05-06 09:35:01</td>\n",
       "      <td>https://www.bottle-neck.fr/?post_type=product&amp;...</td>\n",
       "      <td>product</td>\n",
       "      <td>279.4</td>\n",
       "      <td>0.001950</td>\n",
       "      <td>0.369086</td>\n",
       "    </tr>\n",
       "    <tr>\n",
       "      <th>4</th>\n",
       "      <td>16525</td>\n",
       "      <td>4647</td>\n",
       "      <td>1</td>\n",
       "      <td>28.5</td>\n",
       "      <td>45</td>\n",
       "      <td>instock</td>\n",
       "      <td>14.14</td>\n",
       "      <td>16525</td>\n",
       "      <td>22.0</td>\n",
       "      <td>2.0</td>\n",
       "      <td>2018-04-17 09:28:58</td>\n",
       "      <td>2018-04-17 07:28:58</td>\n",
       "      <td>Vin</td>\n",
       "      <td>Bernard Baudry Chinon Rouge La Croix Boissée 2017</td>\n",
       "      <td>Sur ce sol très calcaire, la Croix Boissée dél...</td>\n",
       "      <td>bernard-baudry-chinon-rouge-croix-boissee-2017</td>\n",
       "      <td>2020-07-31 09:31:39</td>\n",
       "      <td>2020-07-31 07:31:39</td>\n",
       "      <td>https://www.bottle-neck.fr/?post_type=product&amp;...</td>\n",
       "      <td>product</td>\n",
       "      <td>627.0</td>\n",
       "      <td>0.004376</td>\n",
       "      <td>0.082469</td>\n",
       "    </tr>\n",
       "    <tr>\n",
       "      <th>5</th>\n",
       "      <td>15325</td>\n",
       "      <td>5826</td>\n",
       "      <td>1</td>\n",
       "      <td>41.2</td>\n",
       "      <td>34</td>\n",
       "      <td>instock</td>\n",
       "      <td>21.71</td>\n",
       "      <td>15325</td>\n",
       "      <td>20.0</td>\n",
       "      <td>2.0</td>\n",
       "      <td>2019-03-27 17:59:49</td>\n",
       "      <td>2019-03-27 16:59:49</td>\n",
       "      <td>Vin</td>\n",
       "      <td>Agnès Levet Côte Rôtie Améthyste 2017</td>\n",
       "      <td>&lt;span style=\"float: none;background-color: tra...</td>\n",
       "      <td>agnes-levet-amethyste-2017</td>\n",
       "      <td>2020-05-21 14:00:02</td>\n",
       "      <td>2020-05-21 12:00:02</td>\n",
       "      <td>https://www.bottle-neck.fr/?post_type=product&amp;...</td>\n",
       "      <td>product</td>\n",
       "      <td>824.0</td>\n",
       "      <td>0.005751</td>\n",
       "      <td>0.038802</td>\n",
       "    </tr>\n",
       "    <tr>\n",
       "      <th>6</th>\n",
       "      <td>14570</td>\n",
       "      <td>6129</td>\n",
       "      <td>1</td>\n",
       "      <td>5.2</td>\n",
       "      <td>68</td>\n",
       "      <td>instock</td>\n",
       "      <td>2.74</td>\n",
       "      <td>14570</td>\n",
       "      <td>20.0</td>\n",
       "      <td>2.0</td>\n",
       "      <td>2019-06-28 18:01:06</td>\n",
       "      <td>2019-06-28 16:01:06</td>\n",
       "      <td>Vin</td>\n",
       "      <td>Moulin de Gassac IGP Pays d'Hérault Guilhem Bl...</td>\n",
       "      <td>Nez Séduisant et puissant. Bouquet de fleurs j...</td>\n",
       "      <td>moulin-de-gassac-igp-pays-dherault-guilhem-bla...</td>\n",
       "      <td>2020-08-26 15:55:02</td>\n",
       "      <td>2020-08-26 13:55:02</td>\n",
       "      <td>https://www.bottle-neck.fr/?post_type=product&amp;...</td>\n",
       "      <td>product</td>\n",
       "      <td>104.0</td>\n",
       "      <td>0.000726</td>\n",
       "      <td>0.952568</td>\n",
       "    </tr>\n",
       "    <tr>\n",
       "      <th>7</th>\n",
       "      <td>15758</td>\n",
       "      <td>4220</td>\n",
       "      <td>1</td>\n",
       "      <td>11.6</td>\n",
       "      <td>48</td>\n",
       "      <td>instock</td>\n",
       "      <td>5.75</td>\n",
       "      <td>15758</td>\n",
       "      <td>18.0</td>\n",
       "      <td>2.0</td>\n",
       "      <td>2018-02-16 10:54:27</td>\n",
       "      <td>2018-02-16 09:54:27</td>\n",
       "      <td>Vin</td>\n",
       "      <td>Xavier Frissant Touraine Amboise Chenin Les Pi...</td>\n",
       "      <td>Un Touraine Amboise fin et élégant, un joli ch...</td>\n",
       "      <td>frissant-chenin-pierres-2018</td>\n",
       "      <td>2020-08-27 11:45:02</td>\n",
       "      <td>2020-08-27 09:45:02</td>\n",
       "      <td>https://www.bottle-neck.fr/?post_type=product&amp;...</td>\n",
       "      <td>product</td>\n",
       "      <td>208.8</td>\n",
       "      <td>0.001457</td>\n",
       "      <td>0.579071</td>\n",
       "    </tr>\n",
       "    <tr>\n",
       "      <th>8</th>\n",
       "      <td>15561</td>\n",
       "      <td>5778</td>\n",
       "      <td>1</td>\n",
       "      <td>5.8</td>\n",
       "      <td>44</td>\n",
       "      <td>instock</td>\n",
       "      <td>3.09</td>\n",
       "      <td>15561</td>\n",
       "      <td>17.0</td>\n",
       "      <td>2.0</td>\n",
       "      <td>2019-03-15 10:20:59</td>\n",
       "      <td>2019-03-15 09:20:59</td>\n",
       "      <td>Vin</td>\n",
       "      <td>Maurel Pays d'Oc Merlot 2018</td>\n",
       "      <td>&lt;div&gt;Robe rouge rubis avec des reflets violine...</td>\n",
       "      <td>maurel-pays-d-oc-merot-2018</td>\n",
       "      <td>2020-08-14 10:55:02</td>\n",
       "      <td>2020-08-14 08:55:02</td>\n",
       "      <td>https://www.bottle-neck.fr/?post_type=product&amp;...</td>\n",
       "      <td>product</td>\n",
       "      <td>98.6</td>\n",
       "      <td>0.000688</td>\n",
       "      <td>0.967435</td>\n",
       "    </tr>\n",
       "    <tr>\n",
       "      <th>9</th>\n",
       "      <td>15705</td>\n",
       "      <td>6569</td>\n",
       "      <td>1</td>\n",
       "      <td>29.0</td>\n",
       "      <td>58</td>\n",
       "      <td>instock</td>\n",
       "      <td>15.28</td>\n",
       "      <td>15705</td>\n",
       "      <td>17.0</td>\n",
       "      <td>2.0</td>\n",
       "      <td>2020-01-03 16:39:53</td>\n",
       "      <td>2020-01-03 15:39:53</td>\n",
       "      <td>Vin</td>\n",
       "      <td>Decelle-Villa Chorey-Lès-Beaune 2016</td>\n",
       "      <td>&lt;span style=\"display: inline !important; float...</td>\n",
       "      <td>decelle-villa-chorey-beaune-2016</td>\n",
       "      <td>2020-07-27 11:55:02</td>\n",
       "      <td>2020-07-27 09:55:02</td>\n",
       "      <td>https://www.bottle-neck.fr/?post_type=product&amp;...</td>\n",
       "      <td>product</td>\n",
       "      <td>493.0</td>\n",
       "      <td>0.003441</td>\n",
       "      <td>0.124571</td>\n",
       "    </tr>\n",
       "    <tr>\n",
       "      <th>10</th>\n",
       "      <td>13572</td>\n",
       "      <td>5803</td>\n",
       "      <td>1</td>\n",
       "      <td>17.1</td>\n",
       "      <td>47</td>\n",
       "      <td>instock</td>\n",
       "      <td>9.19</td>\n",
       "      <td>13572</td>\n",
       "      <td>17.0</td>\n",
       "      <td>2.0</td>\n",
       "      <td>2019-03-19 11:33:39</td>\n",
       "      <td>2019-03-19 10:33:39</td>\n",
       "      <td>Vin</td>\n",
       "      <td>Château Tour Haut-Caussan Médoc 2015</td>\n",
       "      <td>Vous trouverez dans cette cuvée du Château Tou...</td>\n",
       "      <td>tour-haut-caussan-medoc-2015</td>\n",
       "      <td>2020-08-26 16:55:02</td>\n",
       "      <td>2020-08-26 14:55:02</td>\n",
       "      <td>https://www.bottle-neck.fr/?post_type=product&amp;...</td>\n",
       "      <td>product</td>\n",
       "      <td>290.7</td>\n",
       "      <td>0.002029</td>\n",
       "      <td>0.341207</td>\n",
       "    </tr>\n",
       "    <tr>\n",
       "      <th>11</th>\n",
       "      <td>16504</td>\n",
       "      <td>4105</td>\n",
       "      <td>1</td>\n",
       "      <td>6.8</td>\n",
       "      <td>45</td>\n",
       "      <td>instock</td>\n",
       "      <td>3.51</td>\n",
       "      <td>16504</td>\n",
       "      <td>16.0</td>\n",
       "      <td>2.0</td>\n",
       "      <td>2018-02-13 10:31:33</td>\n",
       "      <td>2018-02-13 09:31:33</td>\n",
       "      <td>Vin</td>\n",
       "      <td>Emile Boeckel Sylvaner Vieilles Vignes 2019</td>\n",
       "      <td>Vin fortement fruité, très bonne longueur en b...</td>\n",
       "      <td>emile-boeckel-sylvaner-vieilles-vignes-2019</td>\n",
       "      <td>2020-08-27 09:28:39</td>\n",
       "      <td>2020-08-27 07:28:39</td>\n",
       "      <td>https://www.bottle-neck.fr/?post_type=product&amp;...</td>\n",
       "      <td>product</td>\n",
       "      <td>108.8</td>\n",
       "      <td>0.000759</td>\n",
       "      <td>0.939217</td>\n",
       "    </tr>\n",
       "    <tr>\n",
       "      <th>12</th>\n",
       "      <td>16304</td>\n",
       "      <td>5695</td>\n",
       "      <td>1</td>\n",
       "      <td>6.5</td>\n",
       "      <td>33</td>\n",
       "      <td>instock</td>\n",
       "      <td>3.53</td>\n",
       "      <td>16304</td>\n",
       "      <td>16.0</td>\n",
       "      <td>2.0</td>\n",
       "      <td>2019-01-30 16:32:42</td>\n",
       "      <td>2019-01-30 15:32:42</td>\n",
       "      <td>Vin</td>\n",
       "      <td>Philippe Nusswitz IGP Cévènnes Rosé O Pale 2019</td>\n",
       "      <td>&lt;div id=\"wrapper\"&gt;\\n&lt;div id=\"container-wrapper...</td>\n",
       "      <td>philippe-nusswitz-igp-cevennes-opale-rose-2019</td>\n",
       "      <td>2020-08-22 16:15:03</td>\n",
       "      <td>2020-08-22 14:15:03</td>\n",
       "      <td>https://www.bottle-neck.fr/?post_type=product&amp;...</td>\n",
       "      <td>product</td>\n",
       "      <td>104.0</td>\n",
       "      <td>0.000726</td>\n",
       "      <td>0.951117</td>\n",
       "    </tr>\n",
       "    <tr>\n",
       "      <th>13</th>\n",
       "      <td>14338</td>\n",
       "      <td>5777</td>\n",
       "      <td>1</td>\n",
       "      <td>5.7</td>\n",
       "      <td>51</td>\n",
       "      <td>instock</td>\n",
       "      <td>3.03</td>\n",
       "      <td>14338</td>\n",
       "      <td>16.0</td>\n",
       "      <td>2.0</td>\n",
       "      <td>2019-03-15 10:13:30</td>\n",
       "      <td>2019-03-15 09:13:30</td>\n",
       "      <td>Vin</td>\n",
       "      <td>Maurel Pays d'Oc Cabernet-Sauvignon 2017</td>\n",
       "      <td>&lt;span style=\"float: none; background-color: tr...</td>\n",
       "      <td>maurel-pays-d-oc-cabernet-sauvignon-2017</td>\n",
       "      <td>2020-03-11 09:30:06</td>\n",
       "      <td>2020-03-11 08:30:06</td>\n",
       "      <td>https://www.bottle-neck.fr/?post_type=product&amp;...</td>\n",
       "      <td>product</td>\n",
       "      <td>91.2</td>\n",
       "      <td>0.000636</td>\n",
       "      <td>0.976063</td>\n",
       "    </tr>\n",
       "    <tr>\n",
       "      <th>14</th>\n",
       "      <td>16275</td>\n",
       "      <td>4059</td>\n",
       "      <td>1</td>\n",
       "      <td>8.7</td>\n",
       "      <td>34</td>\n",
       "      <td>instock</td>\n",
       "      <td>4.32</td>\n",
       "      <td>16275</td>\n",
       "      <td>16.0</td>\n",
       "      <td>2.0</td>\n",
       "      <td>2018-02-12 12:12:28</td>\n",
       "      <td>2018-02-12 11:12:28</td>\n",
       "      <td>Vin</td>\n",
       "      <td>Mourgues du Grès Costières de Nîmes Galets Ros...</td>\n",
       "      <td>Des senteurs de fruits rouges forment un préam...</td>\n",
       "      <td>mourgues-du-gres-costieres-de-nimes-galets-ros...</td>\n",
       "      <td>2020-08-27 09:30:16</td>\n",
       "      <td>2020-08-27 07:30:16</td>\n",
       "      <td>https://www.bottle-neck.fr/?post_type=product&amp;...</td>\n",
       "      <td>product</td>\n",
       "      <td>139.2</td>\n",
       "      <td>0.000971</td>\n",
       "      <td>0.834176</td>\n",
       "    </tr>\n",
       "    <tr>\n",
       "      <th>15</th>\n",
       "      <td>16149</td>\n",
       "      <td>4870</td>\n",
       "      <td>1</td>\n",
       "      <td>9.3</td>\n",
       "      <td>0</td>\n",
       "      <td>outofstock</td>\n",
       "      <td>4.81</td>\n",
       "      <td>16149</td>\n",
       "      <td>16.0</td>\n",
       "      <td>2.0</td>\n",
       "      <td>2018-05-03 13:45:43</td>\n",
       "      <td>2018-05-03 11:45:43</td>\n",
       "      <td>Vin</td>\n",
       "      <td>Triennes IGP Méditerranée Rosé 2019</td>\n",
       "      <td>&lt;div id=\"wrapper\"&gt;\\n&lt;div id=\"container-wrapper...</td>\n",
       "      <td>triennes-igp-mediterranee-rose-2019</td>\n",
       "      <td>2020-08-27 17:25:03</td>\n",
       "      <td>2020-08-27 15:25:03</td>\n",
       "      <td>https://www.bottle-neck.fr/?post_type=product&amp;...</td>\n",
       "      <td>product</td>\n",
       "      <td>148.8</td>\n",
       "      <td>0.001038</td>\n",
       "      <td>0.789998</td>\n",
       "    </tr>\n",
       "    <tr>\n",
       "      <th>16</th>\n",
       "      <td>16255</td>\n",
       "      <td>4863</td>\n",
       "      <td>1</td>\n",
       "      <td>8.2</td>\n",
       "      <td>54</td>\n",
       "      <td>instock</td>\n",
       "      <td>4.11</td>\n",
       "      <td>16255</td>\n",
       "      <td>16.0</td>\n",
       "      <td>2.0</td>\n",
       "      <td>2018-05-03 12:58:34</td>\n",
       "      <td>2018-05-03 10:58:34</td>\n",
       "      <td>Vin</td>\n",
       "      <td>Château Ollieux Romanis Corbières Rosé Classiq...</td>\n",
       "      <td>&lt;div id=\"wrapper\"&gt;\\n&lt;div id=\"container-wrapper...</td>\n",
       "      <td>chateau-ollieux-romanis-corbieres-rose-classiq...</td>\n",
       "      <td>2020-07-20 17:47:47</td>\n",
       "      <td>2020-07-20 15:47:47</td>\n",
       "      <td>https://www.bottle-neck.fr/?post_type=product&amp;...</td>\n",
       "      <td>product</td>\n",
       "      <td>131.2</td>\n",
       "      <td>0.000916</td>\n",
       "      <td>0.864485</td>\n",
       "    </tr>\n",
       "    <tr>\n",
       "      <th>17</th>\n",
       "      <td>16265</td>\n",
       "      <td>4188</td>\n",
       "      <td>1</td>\n",
       "      <td>9.5</td>\n",
       "      <td>51</td>\n",
       "      <td>instock</td>\n",
       "      <td>5.06</td>\n",
       "      <td>16265</td>\n",
       "      <td>16.0</td>\n",
       "      <td>2.0</td>\n",
       "      <td>2018-02-15 10:18:39</td>\n",
       "      <td>2018-02-15 09:18:39</td>\n",
       "      <td>Vin</td>\n",
       "      <td>Château de La Liquière Languedoc Blanc Les Ama...</td>\n",
       "      <td>Très flatteur et expressif, on y trouve des no...</td>\n",
       "      <td>liquiere-languedoc-amandiers-blancs-2019</td>\n",
       "      <td>2020-08-25 18:25:03</td>\n",
       "      <td>2020-08-25 16:25:03</td>\n",
       "      <td>https://www.bottle-neck.fr/?post_type=product&amp;...</td>\n",
       "      <td>product</td>\n",
       "      <td>152.0</td>\n",
       "      <td>0.001061</td>\n",
       "      <td>0.778482</td>\n",
       "    </tr>\n",
       "    <tr>\n",
       "      <th>18</th>\n",
       "      <td>15487</td>\n",
       "      <td>6093</td>\n",
       "      <td>1</td>\n",
       "      <td>12.6</td>\n",
       "      <td>51</td>\n",
       "      <td>instock</td>\n",
       "      <td>6.71</td>\n",
       "      <td>15487</td>\n",
       "      <td>15.0</td>\n",
       "      <td>2.0</td>\n",
       "      <td>2019-06-04 17:04:39</td>\n",
       "      <td>2019-06-04 15:04:39</td>\n",
       "      <td>Vin</td>\n",
       "      <td>Château de Villeneuve Saumur-Champigny 2017</td>\n",
       "      <td>&lt;span style=\"font-family: trebuchet ms, geneva...</td>\n",
       "      <td>chateau-de-villeneuve-saumur-champigny-2017</td>\n",
       "      <td>2020-02-25 15:25:02</td>\n",
       "      <td>2020-02-25 14:25:02</td>\n",
       "      <td>https://www.bottle-neck.fr/?post_type=product&amp;...</td>\n",
       "      <td>product</td>\n",
       "      <td>189.0</td>\n",
       "      <td>0.001319</td>\n",
       "      <td>0.643803</td>\n",
       "    </tr>\n",
       "    <tr>\n",
       "      <th>19</th>\n",
       "      <td>15414</td>\n",
       "      <td>4204</td>\n",
       "      <td>1</td>\n",
       "      <td>11.3</td>\n",
       "      <td>50</td>\n",
       "      <td>instock</td>\n",
       "      <td>5.96</td>\n",
       "      <td>15414</td>\n",
       "      <td>15.0</td>\n",
       "      <td>2.0</td>\n",
       "      <td>2018-02-15 14:40:54</td>\n",
       "      <td>2018-02-15 13:40:54</td>\n",
       "      <td>Vin</td>\n",
       "      <td>Mas Laval IGP Pays d'Hérault Les Pampres Rouge...</td>\n",
       "      <td>Fruité, gouleyant et aérien, ce vin à des tani...</td>\n",
       "      <td>mas-laval-igp-pays-dherault-les-pampres-rouges...</td>\n",
       "      <td>2020-08-21 15:15:02</td>\n",
       "      <td>2020-08-21 13:15:02</td>\n",
       "      <td>https://www.bottle-neck.fr/?post_type=product&amp;...</td>\n",
       "      <td>product</td>\n",
       "      <td>169.5</td>\n",
       "      <td>0.001183</td>\n",
       "      <td>0.707899</td>\n",
       "    </tr>\n",
       "  </tbody>\n",
       "</table>\n",
       "</div>"
      ],
      "text/plain": [
       "   id_web  product_id  onsale_web  price  stock_quantity stock_status  \\\n",
       "0   16148        4867           1    9.9             121      instock   \n",
       "1   15415        4203           1    9.9              74      instock   \n",
       "2   14864        4275           1   14.9              62      instock   \n",
       "3   14950        4726           1   12.7               0   outofstock   \n",
       "4   16525        4647           1   28.5              45      instock   \n",
       "5   15325        5826           1   41.2              34      instock   \n",
       "6   14570        6129           1    5.2              68      instock   \n",
       "7   15758        4220           1   11.6              48      instock   \n",
       "8   15561        5778           1    5.8              44      instock   \n",
       "9   15705        6569           1   29.0              58      instock   \n",
       "10  13572        5803           1   17.1              47      instock   \n",
       "11  16504        4105           1    6.8              45      instock   \n",
       "12  16304        5695           1    6.5              33      instock   \n",
       "13  14338        5777           1    5.7              51      instock   \n",
       "14  16275        4059           1    8.7              34      instock   \n",
       "15  16149        4870           1    9.3               0   outofstock   \n",
       "16  16255        4863           1    8.2              54      instock   \n",
       "17  16265        4188           1    9.5              51      instock   \n",
       "18  15487        6093           1   12.6              51      instock   \n",
       "19  15414        4204           1   11.3              50      instock   \n",
       "\n",
       "    purchase_price    sku  total_sales  post_author           post_date  \\\n",
       "0             4.86  16148         36.0          2.0 2018-05-03 13:20:05   \n",
       "1             5.01  15415         27.0          2.0 2018-02-15 14:33:42   \n",
       "2             7.78  14864         24.0          2.0 2018-02-27 13:33:54   \n",
       "3             6.82  14950         22.0          2.0 2018-04-18 11:53:51   \n",
       "4            14.14  16525         22.0          2.0 2018-04-17 09:28:58   \n",
       "5            21.71  15325         20.0          2.0 2019-03-27 17:59:49   \n",
       "6             2.74  14570         20.0          2.0 2019-06-28 18:01:06   \n",
       "7             5.75  15758         18.0          2.0 2018-02-16 10:54:27   \n",
       "8             3.09  15561         17.0          2.0 2019-03-15 10:20:59   \n",
       "9            15.28  15705         17.0          2.0 2020-01-03 16:39:53   \n",
       "10            9.19  13572         17.0          2.0 2019-03-19 11:33:39   \n",
       "11            3.51  16504         16.0          2.0 2018-02-13 10:31:33   \n",
       "12            3.53  16304         16.0          2.0 2019-01-30 16:32:42   \n",
       "13            3.03  14338         16.0          2.0 2019-03-15 10:13:30   \n",
       "14            4.32  16275         16.0          2.0 2018-02-12 12:12:28   \n",
       "15            4.81  16149         16.0          2.0 2018-05-03 13:45:43   \n",
       "16            4.11  16255         16.0          2.0 2018-05-03 12:58:34   \n",
       "17            5.06  16265         16.0          2.0 2018-02-15 10:18:39   \n",
       "18            6.71  15487         15.0          2.0 2019-06-04 17:04:39   \n",
       "19            5.96  15414         15.0          2.0 2018-02-15 14:40:54   \n",
       "\n",
       "         post_date_gmt product_type  \\\n",
       "0  2018-05-03 11:20:05          Vin   \n",
       "1  2018-02-15 13:33:42          Vin   \n",
       "2  2018-02-27 12:33:54          Vin   \n",
       "3  2018-04-18 09:53:51          Vin   \n",
       "4  2018-04-17 07:28:58          Vin   \n",
       "5  2019-03-27 16:59:49          Vin   \n",
       "6  2019-06-28 16:01:06          Vin   \n",
       "7  2018-02-16 09:54:27          Vin   \n",
       "8  2019-03-15 09:20:59          Vin   \n",
       "9  2020-01-03 15:39:53          Vin   \n",
       "10 2019-03-19 10:33:39          Vin   \n",
       "11 2018-02-13 09:31:33          Vin   \n",
       "12 2019-01-30 15:32:42          Vin   \n",
       "13 2019-03-15 09:13:30          Vin   \n",
       "14 2018-02-12 11:12:28          Vin   \n",
       "15 2018-05-03 11:45:43          Vin   \n",
       "16 2018-05-03 10:58:34          Vin   \n",
       "17 2018-02-15 09:18:39          Vin   \n",
       "18 2019-06-04 15:04:39          Vin   \n",
       "19 2018-02-15 13:40:54          Vin   \n",
       "\n",
       "                                           post_title  \\\n",
       "0   Château De La Selve IGP Coteaux de l'Ardèche M...   \n",
       "1   Mas Laval IGP Pays d'Hérault Les Pampres Blanc...   \n",
       "2               I Fabbri Chianti Classico Lamole 2017   \n",
       "3            François Baur Pinot Noir Schlittweg 2017   \n",
       "4   Bernard Baudry Chinon Rouge La Croix Boissée 2017   \n",
       "5               Agnès Levet Côte Rôtie Améthyste 2017   \n",
       "6   Moulin de Gassac IGP Pays d'Hérault Guilhem Bl...   \n",
       "7   Xavier Frissant Touraine Amboise Chenin Les Pi...   \n",
       "8                        Maurel Pays d'Oc Merlot 2018   \n",
       "9                Decelle-Villa Chorey-Lès-Beaune 2016   \n",
       "10               Château Tour Haut-Caussan Médoc 2015   \n",
       "11        Emile Boeckel Sylvaner Vieilles Vignes 2019   \n",
       "12    Philippe Nusswitz IGP Cévènnes Rosé O Pale 2019   \n",
       "13           Maurel Pays d'Oc Cabernet-Sauvignon 2017   \n",
       "14  Mourgues du Grès Costières de Nîmes Galets Ros...   \n",
       "15                Triennes IGP Méditerranée Rosé 2019   \n",
       "16  Château Ollieux Romanis Corbières Rosé Classiq...   \n",
       "17  Château de La Liquière Languedoc Blanc Les Ama...   \n",
       "18        Château de Villeneuve Saumur-Champigny 2017   \n",
       "19  Mas Laval IGP Pays d'Hérault Les Pampres Rouge...   \n",
       "\n",
       "                                         post_excerpt  \\\n",
       "0   <div>\\n\\nUn rosé minéral, fruité et d’une gran...   \n",
       "1   Vin de gourmandise à boire sur la fraîcheur po...   \n",
       "2   Un nez typique de petits fruits rouges. Une bo...   \n",
       "3   Un éclat de fruits, de la souplesse, de la ron...   \n",
       "4   Sur ce sol très calcaire, la Croix Boissée dél...   \n",
       "5   <span style=\"float: none;background-color: tra...   \n",
       "6   Nez Séduisant et puissant. Bouquet de fleurs j...   \n",
       "7   Un Touraine Amboise fin et élégant, un joli ch...   \n",
       "8   <div>Robe rouge rubis avec des reflets violine...   \n",
       "9   <span style=\"display: inline !important; float...   \n",
       "10  Vous trouverez dans cette cuvée du Château Tou...   \n",
       "11  Vin fortement fruité, très bonne longueur en b...   \n",
       "12  <div id=\"wrapper\">\\n<div id=\"container-wrapper...   \n",
       "13  <span style=\"float: none; background-color: tr...   \n",
       "14  Des senteurs de fruits rouges forment un préam...   \n",
       "15  <div id=\"wrapper\">\\n<div id=\"container-wrapper...   \n",
       "16  <div id=\"wrapper\">\\n<div id=\"container-wrapper...   \n",
       "17  Très flatteur et expressif, on y trouve des no...   \n",
       "18  <span style=\"font-family: trebuchet ms, geneva...   \n",
       "19  Fruité, gouleyant et aérien, ce vin à des tani...   \n",
       "\n",
       "                                            post_name       post_modified  \\\n",
       "0   chateau-de-la-selve-igp-coteaux-de-lardeche-ma... 2020-08-27 09:30:15   \n",
       "1       mas-laval-igp-pays-herault-pampres-blanc-2018 2020-07-11 16:45:03   \n",
       "2               i-fabbri-chianti-classico-lamole-2017 2020-08-22 14:35:02   \n",
       "3            francois-baur-pinot-noir-schlittweg-2017 2020-05-06 11:35:01   \n",
       "4      bernard-baudry-chinon-rouge-croix-boissee-2017 2020-07-31 09:31:39   \n",
       "5                          agnes-levet-amethyste-2017 2020-05-21 14:00:02   \n",
       "6   moulin-de-gassac-igp-pays-dherault-guilhem-bla... 2020-08-26 15:55:02   \n",
       "7                        frissant-chenin-pierres-2018 2020-08-27 11:45:02   \n",
       "8                         maurel-pays-d-oc-merot-2018 2020-08-14 10:55:02   \n",
       "9                    decelle-villa-chorey-beaune-2016 2020-07-27 11:55:02   \n",
       "10                       tour-haut-caussan-medoc-2015 2020-08-26 16:55:02   \n",
       "11        emile-boeckel-sylvaner-vieilles-vignes-2019 2020-08-27 09:28:39   \n",
       "12     philippe-nusswitz-igp-cevennes-opale-rose-2019 2020-08-22 16:15:03   \n",
       "13           maurel-pays-d-oc-cabernet-sauvignon-2017 2020-03-11 09:30:06   \n",
       "14  mourgues-du-gres-costieres-de-nimes-galets-ros... 2020-08-27 09:30:16   \n",
       "15                triennes-igp-mediterranee-rose-2019 2020-08-27 17:25:03   \n",
       "16  chateau-ollieux-romanis-corbieres-rose-classiq... 2020-07-20 17:47:47   \n",
       "17           liquiere-languedoc-amandiers-blancs-2019 2020-08-25 18:25:03   \n",
       "18        chateau-de-villeneuve-saumur-champigny-2017 2020-02-25 15:25:02   \n",
       "19  mas-laval-igp-pays-dherault-les-pampres-rouges... 2020-08-21 15:15:02   \n",
       "\n",
       "     post_modified_gmt                                               guid  \\\n",
       "0  2020-08-27 07:30:15  https://www.bottle-neck.fr/?post_type=product&...   \n",
       "1  2020-07-11 14:45:03  https://www.bottle-neck.fr/?post_type=product&...   \n",
       "2  2020-08-22 12:35:02  https://www.bottle-neck.fr/?post_type=product&...   \n",
       "3  2020-05-06 09:35:01  https://www.bottle-neck.fr/?post_type=product&...   \n",
       "4  2020-07-31 07:31:39  https://www.bottle-neck.fr/?post_type=product&...   \n",
       "5  2020-05-21 12:00:02  https://www.bottle-neck.fr/?post_type=product&...   \n",
       "6  2020-08-26 13:55:02  https://www.bottle-neck.fr/?post_type=product&...   \n",
       "7  2020-08-27 09:45:02  https://www.bottle-neck.fr/?post_type=product&...   \n",
       "8  2020-08-14 08:55:02  https://www.bottle-neck.fr/?post_type=product&...   \n",
       "9  2020-07-27 09:55:02  https://www.bottle-neck.fr/?post_type=product&...   \n",
       "10 2020-08-26 14:55:02  https://www.bottle-neck.fr/?post_type=product&...   \n",
       "11 2020-08-27 07:28:39  https://www.bottle-neck.fr/?post_type=product&...   \n",
       "12 2020-08-22 14:15:03  https://www.bottle-neck.fr/?post_type=product&...   \n",
       "13 2020-03-11 08:30:06  https://www.bottle-neck.fr/?post_type=product&...   \n",
       "14 2020-08-27 07:30:16  https://www.bottle-neck.fr/?post_type=product&...   \n",
       "15 2020-08-27 15:25:03  https://www.bottle-neck.fr/?post_type=product&...   \n",
       "16 2020-07-20 15:47:47  https://www.bottle-neck.fr/?post_type=product&...   \n",
       "17 2020-08-25 16:25:03  https://www.bottle-neck.fr/?post_type=product&...   \n",
       "18 2020-02-25 14:25:02  https://www.bottle-neck.fr/?post_type=product&...   \n",
       "19 2020-08-21 13:15:02  https://www.bottle-neck.fr/?post_type=product&...   \n",
       "\n",
       "   post_type  ca_par_article   part_ca  part_ca_cum_sum  \n",
       "0    product           356.4  0.002487         0.228621  \n",
       "1    product           267.3  0.001866         0.403497  \n",
       "2    product           357.6  0.002496         0.216169  \n",
       "3    product           279.4  0.001950         0.369086  \n",
       "4    product           627.0  0.004376         0.082469  \n",
       "5    product           824.0  0.005751         0.038802  \n",
       "6    product           104.0  0.000726         0.952568  \n",
       "7    product           208.8  0.001457         0.579071  \n",
       "8    product            98.6  0.000688         0.967435  \n",
       "9    product           493.0  0.003441         0.124571  \n",
       "10   product           290.7  0.002029         0.341207  \n",
       "11   product           108.8  0.000759         0.939217  \n",
       "12   product           104.0  0.000726         0.951117  \n",
       "13   product            91.2  0.000636         0.976063  \n",
       "14   product           139.2  0.000971         0.834176  \n",
       "15   product           148.8  0.001038         0.789998  \n",
       "16   product           131.2  0.000916         0.864485  \n",
       "17   product           152.0  0.001061         0.778482  \n",
       "18   product           189.0  0.001319         0.643803  \n",
       "19   product           169.5  0.001183         0.707899  "
      ]
     },
     "execution_count": 110,
     "metadata": {},
     "output_type": "execute_result"
    }
   ],
   "source": [
    "#####################################\n",
    "# Palmarès des articles en quantité #\n",
    "#####################################\n",
    "\n",
    "#Effectuer le tri dans l'ordre décroissant de quantités vendues du dataset df_merge\n",
    "df_data_quantite = df_data.sort_values(\"total_sales\", ascending = False)\n",
    "#Réinitialiser l'index du dataset par un reset_index\n",
    "df_data_quantite.reset_index(drop=True, inplace=True)\n",
    "#Afficher les 20 premiers articles en quantité\n",
    "df_data_quantite.head(20)"
   ]
  },
  {
   "cell_type": "code",
   "execution_count": 111,
   "id": "ab222e08",
   "metadata": {},
   "outputs": [
    {
     "data": {
      "application/vnd.plotly.v1+json": {
       "config": {
        "plotlyServerURL": "https://plot.ly"
       },
       "data": [
        {
         "hovertemplate": "Type=Vin<br>Produit=%{x}<br>Quantité vendue=%{text}<extra></extra>",
         "legendgroup": "Vin",
         "marker": {
          "color": "#636efa",
          "pattern": {
           "shape": ""
          }
         },
         "name": "Vin",
         "orientation": "v",
         "showlegend": true,
         "text": {
          "bdata": "AAAAAAAAQkAAAAAAAAA7QAAAAAAAADhAAAAAAAAANkAAAAAAAAA2QAAAAAAAADRAAAAAAAAANEAAAAAAAAAyQAAAAAAAADFAAAAAAAAAMUAAAAAAAAAxQAAAAAAAADBAAAAAAAAAMEAAAAAAAAAwQAAAAAAAADBAAAAAAAAAMEAAAAAAAAAwQAAAAAAAADBAAAAAAAAALkAAAAAAAAAuQA==",
          "dtype": "f8"
         },
         "textposition": "auto",
         "type": "bar",
         "x": [
          "Château De La Selve IGP Coteaux de l'Ardèche Maguelonne Rosé 2019",
          "Mas Laval IGP Pays d'Hérault Les Pampres Blancs 2018",
          "I Fabbri Chianti Classico Lamole 2017",
          "François Baur Pinot Noir Schlittweg 2017",
          "Bernard Baudry Chinon Rouge La Croix Boissée 2017",
          "Agnès Levet Côte Rôtie Améthyste 2017",
          "Moulin de Gassac IGP Pays d'Hérault Guilhem Blanc 2017",
          "Xavier Frissant Touraine Amboise Chenin Les Pierres 2018",
          "Maurel Pays d'Oc Merlot 2018",
          "Decelle-Villa Chorey-Lès-Beaune 2016",
          "Château Tour Haut-Caussan Médoc 2015",
          "Emile Boeckel Sylvaner Vieilles Vignes 2019",
          "Philippe Nusswitz IGP Cévènnes Rosé O Pale 2019",
          "Maurel Pays d'Oc Cabernet-Sauvignon 2017",
          "Mourgues du Grès Costières de Nîmes Galets Rosés 2019",
          "Triennes IGP Méditerranée Rosé 2019",
          "Château Ollieux Romanis Corbières Rosé Classique 2019",
          "Château de La Liquière Languedoc Blanc Les Amandiers 2019",
          "Château de Villeneuve Saumur-Champigny 2017",
          "Mas Laval IGP Pays d'Hérault Les Pampres Rouges 2017"
         ],
         "xaxis": "x",
         "y": {
          "bdata": "AAAAAAAAQkAAAAAAAAA7QAAAAAAAADhAAAAAAAAANkAAAAAAAAA2QAAAAAAAADRAAAAAAAAANEAAAAAAAAAyQAAAAAAAADFAAAAAAAAAMUAAAAAAAAAxQAAAAAAAADBAAAAAAAAAMEAAAAAAAAAwQAAAAAAAADBAAAAAAAAAMEAAAAAAAAAwQAAAAAAAADBAAAAAAAAALkAAAAAAAAAuQA==",
          "dtype": "f8"
         },
         "yaxis": "y"
        }
       ],
       "layout": {
        "barmode": "relative",
        "height": 600,
        "legend": {
         "title": {
          "text": "Type"
         },
         "tracegroupgap": 0
        },
        "template": {
         "data": {
          "bar": [
           {
            "error_x": {
             "color": "#2a3f5f"
            },
            "error_y": {
             "color": "#2a3f5f"
            },
            "marker": {
             "line": {
              "color": "#E5ECF6",
              "width": 0.5
             },
             "pattern": {
              "fillmode": "overlay",
              "size": 10,
              "solidity": 0.2
             }
            },
            "type": "bar"
           }
          ],
          "barpolar": [
           {
            "marker": {
             "line": {
              "color": "#E5ECF6",
              "width": 0.5
             },
             "pattern": {
              "fillmode": "overlay",
              "size": 10,
              "solidity": 0.2
             }
            },
            "type": "barpolar"
           }
          ],
          "carpet": [
           {
            "aaxis": {
             "endlinecolor": "#2a3f5f",
             "gridcolor": "white",
             "linecolor": "white",
             "minorgridcolor": "white",
             "startlinecolor": "#2a3f5f"
            },
            "baxis": {
             "endlinecolor": "#2a3f5f",
             "gridcolor": "white",
             "linecolor": "white",
             "minorgridcolor": "white",
             "startlinecolor": "#2a3f5f"
            },
            "type": "carpet"
           }
          ],
          "choropleth": [
           {
            "colorbar": {
             "outlinewidth": 0,
             "ticks": ""
            },
            "type": "choropleth"
           }
          ],
          "contour": [
           {
            "colorbar": {
             "outlinewidth": 0,
             "ticks": ""
            },
            "colorscale": [
             [
              0,
              "#0d0887"
             ],
             [
              0.1111111111111111,
              "#46039f"
             ],
             [
              0.2222222222222222,
              "#7201a8"
             ],
             [
              0.3333333333333333,
              "#9c179e"
             ],
             [
              0.4444444444444444,
              "#bd3786"
             ],
             [
              0.5555555555555556,
              "#d8576b"
             ],
             [
              0.6666666666666666,
              "#ed7953"
             ],
             [
              0.7777777777777778,
              "#fb9f3a"
             ],
             [
              0.8888888888888888,
              "#fdca26"
             ],
             [
              1,
              "#f0f921"
             ]
            ],
            "type": "contour"
           }
          ],
          "contourcarpet": [
           {
            "colorbar": {
             "outlinewidth": 0,
             "ticks": ""
            },
            "type": "contourcarpet"
           }
          ],
          "heatmap": [
           {
            "colorbar": {
             "outlinewidth": 0,
             "ticks": ""
            },
            "colorscale": [
             [
              0,
              "#0d0887"
             ],
             [
              0.1111111111111111,
              "#46039f"
             ],
             [
              0.2222222222222222,
              "#7201a8"
             ],
             [
              0.3333333333333333,
              "#9c179e"
             ],
             [
              0.4444444444444444,
              "#bd3786"
             ],
             [
              0.5555555555555556,
              "#d8576b"
             ],
             [
              0.6666666666666666,
              "#ed7953"
             ],
             [
              0.7777777777777778,
              "#fb9f3a"
             ],
             [
              0.8888888888888888,
              "#fdca26"
             ],
             [
              1,
              "#f0f921"
             ]
            ],
            "type": "heatmap"
           }
          ],
          "histogram": [
           {
            "marker": {
             "pattern": {
              "fillmode": "overlay",
              "size": 10,
              "solidity": 0.2
             }
            },
            "type": "histogram"
           }
          ],
          "histogram2d": [
           {
            "colorbar": {
             "outlinewidth": 0,
             "ticks": ""
            },
            "colorscale": [
             [
              0,
              "#0d0887"
             ],
             [
              0.1111111111111111,
              "#46039f"
             ],
             [
              0.2222222222222222,
              "#7201a8"
             ],
             [
              0.3333333333333333,
              "#9c179e"
             ],
             [
              0.4444444444444444,
              "#bd3786"
             ],
             [
              0.5555555555555556,
              "#d8576b"
             ],
             [
              0.6666666666666666,
              "#ed7953"
             ],
             [
              0.7777777777777778,
              "#fb9f3a"
             ],
             [
              0.8888888888888888,
              "#fdca26"
             ],
             [
              1,
              "#f0f921"
             ]
            ],
            "type": "histogram2d"
           }
          ],
          "histogram2dcontour": [
           {
            "colorbar": {
             "outlinewidth": 0,
             "ticks": ""
            },
            "colorscale": [
             [
              0,
              "#0d0887"
             ],
             [
              0.1111111111111111,
              "#46039f"
             ],
             [
              0.2222222222222222,
              "#7201a8"
             ],
             [
              0.3333333333333333,
              "#9c179e"
             ],
             [
              0.4444444444444444,
              "#bd3786"
             ],
             [
              0.5555555555555556,
              "#d8576b"
             ],
             [
              0.6666666666666666,
              "#ed7953"
             ],
             [
              0.7777777777777778,
              "#fb9f3a"
             ],
             [
              0.8888888888888888,
              "#fdca26"
             ],
             [
              1,
              "#f0f921"
             ]
            ],
            "type": "histogram2dcontour"
           }
          ],
          "mesh3d": [
           {
            "colorbar": {
             "outlinewidth": 0,
             "ticks": ""
            },
            "type": "mesh3d"
           }
          ],
          "parcoords": [
           {
            "line": {
             "colorbar": {
              "outlinewidth": 0,
              "ticks": ""
             }
            },
            "type": "parcoords"
           }
          ],
          "pie": [
           {
            "automargin": true,
            "type": "pie"
           }
          ],
          "scatter": [
           {
            "fillpattern": {
             "fillmode": "overlay",
             "size": 10,
             "solidity": 0.2
            },
            "type": "scatter"
           }
          ],
          "scatter3d": [
           {
            "line": {
             "colorbar": {
              "outlinewidth": 0,
              "ticks": ""
             }
            },
            "marker": {
             "colorbar": {
              "outlinewidth": 0,
              "ticks": ""
             }
            },
            "type": "scatter3d"
           }
          ],
          "scattercarpet": [
           {
            "marker": {
             "colorbar": {
              "outlinewidth": 0,
              "ticks": ""
             }
            },
            "type": "scattercarpet"
           }
          ],
          "scattergeo": [
           {
            "marker": {
             "colorbar": {
              "outlinewidth": 0,
              "ticks": ""
             }
            },
            "type": "scattergeo"
           }
          ],
          "scattergl": [
           {
            "marker": {
             "colorbar": {
              "outlinewidth": 0,
              "ticks": ""
             }
            },
            "type": "scattergl"
           }
          ],
          "scattermap": [
           {
            "marker": {
             "colorbar": {
              "outlinewidth": 0,
              "ticks": ""
             }
            },
            "type": "scattermap"
           }
          ],
          "scattermapbox": [
           {
            "marker": {
             "colorbar": {
              "outlinewidth": 0,
              "ticks": ""
             }
            },
            "type": "scattermapbox"
           }
          ],
          "scatterpolar": [
           {
            "marker": {
             "colorbar": {
              "outlinewidth": 0,
              "ticks": ""
             }
            },
            "type": "scatterpolar"
           }
          ],
          "scatterpolargl": [
           {
            "marker": {
             "colorbar": {
              "outlinewidth": 0,
              "ticks": ""
             }
            },
            "type": "scatterpolargl"
           }
          ],
          "scatterternary": [
           {
            "marker": {
             "colorbar": {
              "outlinewidth": 0,
              "ticks": ""
             }
            },
            "type": "scatterternary"
           }
          ],
          "surface": [
           {
            "colorbar": {
             "outlinewidth": 0,
             "ticks": ""
            },
            "colorscale": [
             [
              0,
              "#0d0887"
             ],
             [
              0.1111111111111111,
              "#46039f"
             ],
             [
              0.2222222222222222,
              "#7201a8"
             ],
             [
              0.3333333333333333,
              "#9c179e"
             ],
             [
              0.4444444444444444,
              "#bd3786"
             ],
             [
              0.5555555555555556,
              "#d8576b"
             ],
             [
              0.6666666666666666,
              "#ed7953"
             ],
             [
              0.7777777777777778,
              "#fb9f3a"
             ],
             [
              0.8888888888888888,
              "#fdca26"
             ],
             [
              1,
              "#f0f921"
             ]
            ],
            "type": "surface"
           }
          ],
          "table": [
           {
            "cells": {
             "fill": {
              "color": "#EBF0F8"
             },
             "line": {
              "color": "white"
             }
            },
            "header": {
             "fill": {
              "color": "#C8D4E3"
             },
             "line": {
              "color": "white"
             }
            },
            "type": "table"
           }
          ]
         },
         "layout": {
          "annotationdefaults": {
           "arrowcolor": "#2a3f5f",
           "arrowhead": 0,
           "arrowwidth": 1
          },
          "autotypenumbers": "strict",
          "coloraxis": {
           "colorbar": {
            "outlinewidth": 0,
            "ticks": ""
           }
          },
          "colorscale": {
           "diverging": [
            [
             0,
             "#8e0152"
            ],
            [
             0.1,
             "#c51b7d"
            ],
            [
             0.2,
             "#de77ae"
            ],
            [
             0.3,
             "#f1b6da"
            ],
            [
             0.4,
             "#fde0ef"
            ],
            [
             0.5,
             "#f7f7f7"
            ],
            [
             0.6,
             "#e6f5d0"
            ],
            [
             0.7,
             "#b8e186"
            ],
            [
             0.8,
             "#7fbc41"
            ],
            [
             0.9,
             "#4d9221"
            ],
            [
             1,
             "#276419"
            ]
           ],
           "sequential": [
            [
             0,
             "#0d0887"
            ],
            [
             0.1111111111111111,
             "#46039f"
            ],
            [
             0.2222222222222222,
             "#7201a8"
            ],
            [
             0.3333333333333333,
             "#9c179e"
            ],
            [
             0.4444444444444444,
             "#bd3786"
            ],
            [
             0.5555555555555556,
             "#d8576b"
            ],
            [
             0.6666666666666666,
             "#ed7953"
            ],
            [
             0.7777777777777778,
             "#fb9f3a"
            ],
            [
             0.8888888888888888,
             "#fdca26"
            ],
            [
             1,
             "#f0f921"
            ]
           ],
           "sequentialminus": [
            [
             0,
             "#0d0887"
            ],
            [
             0.1111111111111111,
             "#46039f"
            ],
            [
             0.2222222222222222,
             "#7201a8"
            ],
            [
             0.3333333333333333,
             "#9c179e"
            ],
            [
             0.4444444444444444,
             "#bd3786"
            ],
            [
             0.5555555555555556,
             "#d8576b"
            ],
            [
             0.6666666666666666,
             "#ed7953"
            ],
            [
             0.7777777777777778,
             "#fb9f3a"
            ],
            [
             0.8888888888888888,
             "#fdca26"
            ],
            [
             1,
             "#f0f921"
            ]
           ]
          },
          "colorway": [
           "#636efa",
           "#EF553B",
           "#00cc96",
           "#ab63fa",
           "#FFA15A",
           "#19d3f3",
           "#FF6692",
           "#B6E880",
           "#FF97FF",
           "#FECB52"
          ],
          "font": {
           "color": "#2a3f5f"
          },
          "geo": {
           "bgcolor": "white",
           "lakecolor": "white",
           "landcolor": "#E5ECF6",
           "showlakes": true,
           "showland": true,
           "subunitcolor": "white"
          },
          "hoverlabel": {
           "align": "left"
          },
          "hovermode": "closest",
          "mapbox": {
           "style": "light"
          },
          "paper_bgcolor": "white",
          "plot_bgcolor": "#E5ECF6",
          "polar": {
           "angularaxis": {
            "gridcolor": "white",
            "linecolor": "white",
            "ticks": ""
           },
           "bgcolor": "#E5ECF6",
           "radialaxis": {
            "gridcolor": "white",
            "linecolor": "white",
            "ticks": ""
           }
          },
          "scene": {
           "xaxis": {
            "backgroundcolor": "#E5ECF6",
            "gridcolor": "white",
            "gridwidth": 2,
            "linecolor": "white",
            "showbackground": true,
            "ticks": "",
            "zerolinecolor": "white"
           },
           "yaxis": {
            "backgroundcolor": "#E5ECF6",
            "gridcolor": "white",
            "gridwidth": 2,
            "linecolor": "white",
            "showbackground": true,
            "ticks": "",
            "zerolinecolor": "white"
           },
           "zaxis": {
            "backgroundcolor": "#E5ECF6",
            "gridcolor": "white",
            "gridwidth": 2,
            "linecolor": "white",
            "showbackground": true,
            "ticks": "",
            "zerolinecolor": "white"
           }
          },
          "shapedefaults": {
           "line": {
            "color": "#2a3f5f"
           }
          },
          "ternary": {
           "aaxis": {
            "gridcolor": "white",
            "linecolor": "white",
            "ticks": ""
           },
           "baxis": {
            "gridcolor": "white",
            "linecolor": "white",
            "ticks": ""
           },
           "bgcolor": "#E5ECF6",
           "caxis": {
            "gridcolor": "white",
            "linecolor": "white",
            "ticks": ""
           }
          },
          "title": {
           "x": 0.05
          },
          "xaxis": {
           "automargin": true,
           "gridcolor": "white",
           "linecolor": "white",
           "ticks": "",
           "title": {
            "standoff": 15
           },
           "zerolinecolor": "white",
           "zerolinewidth": 2
          },
          "yaxis": {
           "automargin": true,
           "gridcolor": "white",
           "linecolor": "white",
           "ticks": "",
           "title": {
            "standoff": 15
           },
           "zerolinecolor": "white",
           "zerolinewidth": 2
          }
         }
        },
        "title": {
         "text": "Top 20 des articles les plus vendus (en quantité)"
        },
        "width": 1400,
        "xaxis": {
         "anchor": "y",
         "categoryarray": [
          "Château De La Selve IGP Coteaux de l'Ardèche Maguelonne Rosé 2019",
          "Mas Laval IGP Pays d'Hérault Les Pampres Blancs 2018",
          "I Fabbri Chianti Classico Lamole 2017",
          "François Baur Pinot Noir Schlittweg 2017",
          "Bernard Baudry Chinon Rouge La Croix Boissée 2017",
          "Agnès Levet Côte Rôtie Améthyste 2017",
          "Moulin de Gassac IGP Pays d'Hérault Guilhem Blanc 2017",
          "Xavier Frissant Touraine Amboise Chenin Les Pierres 2018",
          "Maurel Pays d'Oc Merlot 2018",
          "Decelle-Villa Chorey-Lès-Beaune 2016",
          "Château Tour Haut-Caussan Médoc 2015",
          "Emile Boeckel Sylvaner Vieilles Vignes 2019",
          "Philippe Nusswitz IGP Cévènnes Rosé O Pale 2019",
          "Maurel Pays d'Oc Cabernet-Sauvignon 2017",
          "Mourgues du Grès Costières de Nîmes Galets Rosés 2019",
          "Triennes IGP Méditerranée Rosé 2019",
          "Château Ollieux Romanis Corbières Rosé Classique 2019",
          "Château de La Liquière Languedoc Blanc Les Amandiers 2019",
          "Château de Villeneuve Saumur-Champigny 2017",
          "Mas Laval IGP Pays d'Hérault Les Pampres Rouges 2017"
         ],
         "categoryorder": "array",
         "domain": [
          0,
          1
         ],
         "tickangle": -45,
         "title": {
          "text": "Produit"
         }
        },
        "yaxis": {
         "anchor": "x",
         "domain": [
          0,
          1
         ],
         "title": {
          "text": "Quantité vendue"
         }
        }
       }
      }
     },
     "metadata": {},
     "output_type": "display_data"
    }
   ],
   "source": [
    "# Copier les 20 premiers pour éviter les effets de bord\n",
    "df_top20_quantite = df_data_quantite.head(20).copy()\n",
    "\n",
    "df_top20_quantite['post_title'] = pd.Categorical(\n",
    "    df_top20_quantite['post_title'],\n",
    "    categories=df_top20_quantite['post_title'],\n",
    "    ordered=True\n",
    ")\n",
    "\n",
    "fig = px.bar(\n",
    "    df_top20_quantite,\n",
    "    x='post_title',\n",
    "    y='total_sales',\n",
    "    color='product_type',\n",
    "    title=\"Top 20 des articles les plus vendus (en quantité)\",\n",
    "    labels={\n",
    "        'post_title': 'Produit',\n",
    "        'total_sales': 'Quantité vendue',\n",
    "        'product_type': 'Type'\n",
    "    },\n",
    "    text='total_sales',\n",
    "    category_orders={'post_title': df_top20_quantite['post_title'].tolist()}\n",
    ")\n",
    "\n",
    "fig.update_layout(\n",
    "    xaxis_tickangle=-45,\n",
    "    width=1400,\n",
    "    height=600\n",
    ")\n",
    "\n",
    "fig.show()"
   ]
  },
  {
   "cell_type": "code",
   "execution_count": 112,
   "id": "2aad021e",
   "metadata": {},
   "outputs": [
    {
     "name": "stdout",
     "output_type": "stream",
     "text": [
      "Nombre d'articles représentant 80% des ventes en quantité : 431 sur 712\n"
     ]
    }
   ],
   "source": [
    "#############################\n",
    "# Calculer le 20 / 80 en CA #\n",
    "#############################\n",
    "\n",
    "df_data = df_data.sort_values(\"total_sales\", ascending= False)\n",
    "#Créer une colonne calculant la part en quantité de la ligne dans le dataset\n",
    "df_data['part_quantite'] = df_data['total_sales'] /df_data['total_sales'].sum()\n",
    "#Créer une colonne réalisant la somme cumulative de la colonne précedemment créée\n",
    "df_data['part_quantite_cum_sum'] = df_data['part_quantite'].cumsum()\n",
    "#Grâce aux deux colonnes créées précedemment, calculer le nombre d'articles représentant 80% des ventes en quantité\n",
    "seuil_80_quantite = df_data[df_data['part_quantite_cum_sum'] <= 0.8]\n",
    "nb_article_80_quantite = len(seuil_80_quantite)\n",
    "print(\"Nombre d'articles représentant 80% des ventes en quantité :\", nb_article_80_quantite, \"sur\", len(df_data))"
   ]
  },
  {
   "cell_type": "code",
   "execution_count": 113,
   "id": "9040d2b8-700f-417e-bcef-e331412ec2ca",
   "metadata": {},
   "outputs": [
    {
     "name": "stdout",
     "output_type": "stream",
     "text": [
      "Proportion d'articles représentant 80% des ventes en quantité : 60.53 %\n"
     ]
    }
   ],
   "source": [
    "#Afficher la proportion que représente ce groupe d'articles dans le catalogue entier du site web\n",
    "print(\"Proportion d'articles représentant 80% des ventes en quantité :\", round(nb_article_80_quantite/len(df_data) *100, 2), \"%\")"
   ]
  },
  {
   "cell_type": "markdown",
   "id": "fddc9c78-9701-43b1-874f-018c51423141",
   "metadata": {},
   "source": [
    "**On compte 60.53 %des articles qui représentant 80% des ventes en quantité**"
   ]
  },
  {
   "cell_type": "markdown",
   "id": "077789b1",
   "metadata": {},
   "source": [
    "<div style=\"border: 1px solid RGB(51,165,182);\" >\n",
    "<h3 style=\"margin: auto; padding: 20px; color: RGB(51,165,182); \">Etape 5.3 - Analyse des stocks</h3>\n",
    "</div>"
   ]
  },
  {
   "cell_type": "code",
   "execution_count": 114,
   "id": "14e45472",
   "metadata": {},
   "outputs": [],
   "source": [
    "######################################\n",
    "# Calculer le nombre de mois de stock #\n",
    "######################################\n",
    "\n",
    "#Création de la colonne Rotation de stock\n",
    "df_data['Rotation de stock'] = df_data['total_sales'] /df_data['stock_quantity']\n",
    "#Remplacement des \"inf\" par 0\n",
    "df_data['Rotation de stock'] = df_data['Rotation de stock'].replace([np.inf, -np.inf], 0)\n",
    "df_data['Rotation de stock'] = df_data['Rotation de stock'].fillna(0)\n",
    "df_data['Rotation de stock'].isna().sum()\n",
    "#Effectuer le tri dans l'ordre décroissant du nombre de mois de stock dans le dataset df_merge\n",
    "df_data['Mois de stock'] = 1 / df_data['Rotation de stock']\n",
    "df_data['Mois de stock'] = df_data['Mois de stock'].replace([np.inf, -np.inf], 0).fillna(0)\n",
    "df_data.sort_values('Mois de stock', ascending = False, inplace=True)\n",
    "df_data_flop_20 = df_data.head(20)"
   ]
  },
  {
   "cell_type": "code",
   "execution_count": 115,
   "id": "e0349c37-cab9-47d3-9874-4d7c7661fb47",
   "metadata": {},
   "outputs": [
    {
     "data": {
      "image/png": "[encoded data removed]",
      "text/plain": [
       "<Figure size 1211.11x600 with 1 Axes>"
      ]
     },
     "metadata": {},
     "output_type": "display_data"
    }
   ],
   "source": [
    "#Graphique en barre du flop 20 des produits qui ont le plus de mois de stock\n",
    "g =sns.catplot(data= df_data_flop_20, x= \"post_title\", y=\"Mois de stock\", kind='bar', height=6, aspect=2)\n",
    "g.set_xticklabels(rotation=90)\n",
    "g.fig.suptitle(\"flop 20 des produits avec le stock qui dure le plus longtemps\", y=1.06)\n",
    "plt.show()"
   ]
  },
  {
   "cell_type": "code",
   "execution_count": 116,
   "id": "0cd6696c",
   "metadata": {},
   "outputs": [
    {
     "name": "stdout",
     "output_type": "stream",
     "text": [
      "La valeur totale de tout le stock : 276859.09 €\n"
     ]
    }
   ],
   "source": [
    "####################################\n",
    "# Valorisation des stocks en euros #\n",
    "####################################\n",
    "\n",
    "#Création de la colonne Valorisation des stocks en euros\n",
    "df_data['Valorisation des stocks'] = df_data[\"purchase_price\"] *  df_data['stock_quantity']\n",
    "#Calculer la somme de la colonne \"Valorisation_stock_euros\"\n",
    "print( \"La valeur totale de tout le stock :\", round(df_data['Valorisation des stocks'].sum(), 2), \"€\")"
   ]
  },
  {
   "cell_type": "code",
   "execution_count": 117,
   "id": "4a3dd99d",
   "metadata": {},
   "outputs": [
    {
     "name": "stdout",
     "output_type": "stream",
     "text": [
      "Somme des produits en stock : 16711\n"
     ]
    }
   ],
   "source": [
    "##############################################\n",
    "# Valorisation du nombre de produits en stock #\n",
    "##############################################\n",
    "\n",
    "#Calculer la somme de la colonne stock quantity\n",
    "print(\"Somme des produits en stock :\", df_data['stock_quantity'].sum())"
   ]
  },
  {
   "cell_type": "markdown",
   "id": "39be81e9-4836-415f-b8bf-9b18deca0b33",
   "metadata": {},
   "source": [
    "**La valeur du stock est estimé à 276 859.09 €, et la somme des produits en stock est de 16 711.  \n",
    "Je fais un graphique pour mettre en lumière les 20 produits avec le stock qui dure le plus longtemps (en nombre de mois), c’est-à-dire ceux dont la rotation est la plus faible**\n"
   ]
  },
  {
   "cell_type": "markdown",
   "id": "9e48f6dc",
   "metadata": {},
   "source": [
    "<div style=\"border: 1px solid RGB(51,165,182);\" >\n",
    "<h3 style=\"margin: auto; padding: 20px; color: RGB(51,165,182); \">Etape 5.4 - Analyse du taux de marge</h3>\n",
    "</div>"
   ]
  },
  {
   "cell_type": "code",
   "execution_count": 118,
   "id": "7de5ca46",
   "metadata": {},
   "outputs": [
    {
     "name": "stdout",
     "output_type": "stream",
     "text": [
      "Taux de marge minimum : -635.1043643263757 %\n"
     ]
    }
   ],
   "source": [
    "############################\n",
    "# Analyse du taux de marge #\n",
    "############################\n",
    "\n",
    "#Création de la colonne Prix HT\n",
    "df_data['Prix_HT'] = round(df_data['price'] / 1.20, 2)\n",
    "\n",
    "#Création de la colonne Taux de marge\n",
    "df_data['Taux_de_marge'] = ((df_data['Prix_HT'] - df_data['purchase_price']) / df_data['Prix_HT']) * 100\n",
    "\n",
    "#Afficher le prix minimum de la colonne \"taux_marge\"\n",
    "print( \"Taux de marge minimum :\", df_data['Taux_de_marge'].min(), \"%\")"
   ]
  },
  {
   "cell_type": "code",
   "execution_count": 119,
   "id": "32cc4758-844f-4c59-8e1d-e46e98ee3f82",
   "metadata": {},
   "outputs": [
    {
     "name": "stdout",
     "output_type": "stream",
     "text": [
      "Taux de marge maximum : 47.754838709677415 %\n"
     ]
    }
   ],
   "source": [
    "#Afficher le prix maximum de la colonne \"taux_marge\"\n",
    "print( \"Taux de marge maximum :\", df_data['Taux_de_marge'].max(), \"%\")"
   ]
  },
  {
   "cell_type": "code",
   "execution_count": 120,
   "id": "6082d42b",
   "metadata": {},
   "outputs": [
    {
     "data": {
      "text/html": [
       "<div>\n",
       "<style scoped>\n",
       "    .dataframe tbody tr th:only-of-type {\n",
       "        vertical-align: middle;\n",
       "    }\n",
       "\n",
       "    .dataframe tbody tr th {\n",
       "        vertical-align: top;\n",
       "    }\n",
       "\n",
       "    .dataframe thead th {\n",
       "        text-align: right;\n",
       "    }\n",
       "</style>\n",
       "<table border=\"1\" class=\"dataframe\">\n",
       "  <thead>\n",
       "    <tr style=\"text-align: right;\">\n",
       "      <th></th>\n",
       "      <th>id_web</th>\n",
       "      <th>product_id</th>\n",
       "      <th>onsale_web</th>\n",
       "      <th>price</th>\n",
       "      <th>stock_quantity</th>\n",
       "      <th>stock_status</th>\n",
       "      <th>purchase_price</th>\n",
       "      <th>sku</th>\n",
       "      <th>total_sales</th>\n",
       "      <th>post_author</th>\n",
       "      <th>post_date</th>\n",
       "      <th>post_date_gmt</th>\n",
       "      <th>product_type</th>\n",
       "      <th>post_title</th>\n",
       "      <th>post_excerpt</th>\n",
       "      <th>post_name</th>\n",
       "      <th>post_modified</th>\n",
       "      <th>post_modified_gmt</th>\n",
       "      <th>guid</th>\n",
       "      <th>post_type</th>\n",
       "      <th>ca_par_article</th>\n",
       "      <th>part_ca</th>\n",
       "      <th>part_ca_cum_sum</th>\n",
       "      <th>part_quantite</th>\n",
       "      <th>part_quantite_cum_sum</th>\n",
       "      <th>Rotation de stock</th>\n",
       "      <th>Mois de stock</th>\n",
       "      <th>Valorisation des stocks</th>\n",
       "      <th>Prix_HT</th>\n",
       "      <th>Taux_de_marge</th>\n",
       "    </tr>\n",
       "  </thead>\n",
       "  <tbody>\n",
       "    <tr>\n",
       "      <th>202</th>\n",
       "      <td>12589</td>\n",
       "      <td>4355</td>\n",
       "      <td>1</td>\n",
       "      <td>12.65</td>\n",
       "      <td>97</td>\n",
       "      <td>instock</td>\n",
       "      <td>77.48</td>\n",
       "      <td>12589</td>\n",
       "      <td>0.0</td>\n",
       "      <td>2.0</td>\n",
       "      <td>2018-03-02 10:46:10</td>\n",
       "      <td>2018-03-02 09:46:10</td>\n",
       "      <td>Champagne</td>\n",
       "      <td>Champagne Egly-Ouriet Grand Cru Blanc de Noirs</td>\n",
       "      <td>Le Blanc de Noirs représente le meilleur du sa...</td>\n",
       "      <td>champagne-egly-ouriet-grand-cru-brut-blanc-de-...</td>\n",
       "      <td>2020-08-13 10:15:02</td>\n",
       "      <td>2020-08-13 08:15:02</td>\n",
       "      <td>https://www.bottle-neck.fr/?post_type=product&amp;...</td>\n",
       "      <td>product</td>\n",
       "      <td>0.0</td>\n",
       "      <td>0.0</td>\n",
       "      <td>1.0</td>\n",
       "      <td>0.0</td>\n",
       "      <td>1.0</td>\n",
       "      <td>0.0</td>\n",
       "      <td>0.0</td>\n",
       "      <td>7515.56</td>\n",
       "      <td>10.54</td>\n",
       "      <td>-635.104364</td>\n",
       "    </tr>\n",
       "  </tbody>\n",
       "</table>\n",
       "</div>"
      ],
      "text/plain": [
       "    id_web  product_id  onsale_web  price  stock_quantity stock_status  \\\n",
       "202  12589        4355           1  12.65              97      instock   \n",
       "\n",
       "     purchase_price    sku  total_sales  post_author           post_date  \\\n",
       "202           77.48  12589          0.0          2.0 2018-03-02 10:46:10   \n",
       "\n",
       "          post_date_gmt product_type  \\\n",
       "202 2018-03-02 09:46:10    Champagne   \n",
       "\n",
       "                                         post_title  \\\n",
       "202  Champagne Egly-Ouriet Grand Cru Blanc de Noirs   \n",
       "\n",
       "                                          post_excerpt  \\\n",
       "202  Le Blanc de Noirs représente le meilleur du sa...   \n",
       "\n",
       "                                             post_name       post_modified  \\\n",
       "202  champagne-egly-ouriet-grand-cru-brut-blanc-de-... 2020-08-13 10:15:02   \n",
       "\n",
       "      post_modified_gmt                                               guid  \\\n",
       "202 2020-08-13 08:15:02  https://www.bottle-neck.fr/?post_type=product&...   \n",
       "\n",
       "    post_type  ca_par_article  part_ca  part_ca_cum_sum  part_quantite  \\\n",
       "202   product             0.0      0.0              1.0            0.0   \n",
       "\n",
       "     part_quantite_cum_sum  Rotation de stock  Mois de stock  \\\n",
       "202                    1.0                0.0            0.0   \n",
       "\n",
       "     Valorisation des stocks  Prix_HT  Taux_de_marge  \n",
       "202                  7515.56    10.54    -635.104364  "
      ]
     },
     "execution_count": 120,
     "metadata": {},
     "output_type": "execute_result"
    }
   ],
   "source": [
    "#Affichage de la ligne avec un taux de marge inférieur à 0\n",
    "df_data[df_data['Taux_de_marge'] <= 0]"
   ]
  },
  {
   "cell_type": "code",
   "execution_count": 121,
   "id": "d756037c",
   "metadata": {},
   "outputs": [
    {
     "data": {
      "text/plain": [
       "np.float64(22.802197802197803)"
      ]
     },
     "execution_count": 121,
     "metadata": {},
     "output_type": "execute_result"
    }
   ],
   "source": [
    "#Création d'un dataframe avec les taux positifs\n",
    "df_data_taux_positif = df_data[df_data['Taux_de_marge'] >= 0]\n",
    "#Afficher le prix minimum de la colonne \"taux_marge\"\n",
    "df_data_taux_positif['Taux_de_marge'].min()"
   ]
  },
  {
   "cell_type": "code",
   "execution_count": 122,
   "id": "48b2fc3a-c851-4a7e-830f-9fbe52f1b532",
   "metadata": {},
   "outputs": [
    {
     "data": {
      "text/plain": [
       "np.float64(47.754838709677415)"
      ]
     },
     "execution_count": 122,
     "metadata": {},
     "output_type": "execute_result"
    }
   ],
   "source": [
    "#Afficher le prix maximum de la colonne \"taux_marge\"\n",
    "df_data_taux_positif['Taux_de_marge'].max()"
   ]
  },
  {
   "cell_type": "code",
   "execution_count": 123,
   "id": "b24042f8",
   "metadata": {},
   "outputs": [
    {
     "data": {
      "image/png": "[encoded data removed]",
      "text/plain": [
       "<Figure size 650x500 with 1 Axes>"
      ]
     },
     "metadata": {},
     "output_type": "display_data"
    }
   ],
   "source": [
    "#Création d'un dataframe avec le taux de marge moyen par type de produit\n",
    "df_data_taux_moyen = df_data.groupby('product_type')['Taux_de_marge'].mean().reset_index()\n",
    "df_data_taux_moyen.rename(columns={\"Taux_de_marge\" : \"Taux_de_marge_moyen\"}, inplace=True)\n",
    "#Affichage dans un graphique du taux de marge par type de produit\n",
    "g = sns.catplot(data = df_data_taux_moyen, x=\"product_type\", y=\"Taux_de_marge_moyen\", hue=\"product_type\", kind=\"bar\", aspect=1.3)\n",
    "g.fig.suptitle(\"Taux de marge moyen par type de produit\", y=1.06)\n",
    "plt.xlabel(\"Type de produit\", labelpad=18)\n",
    "plt.ylabel(\"Taux de marge moyen (en %)\", labelpad=18)\n",
    "plt.show()"
   ]
  },
  {
   "cell_type": "markdown",
   "id": "2e752bd0-5aaa-4cd5-93de-4e1254afd027",
   "metadata": {},
   "source": [
    "**Je créer en graphique du taux de marge moyen pour chaque produit.**"
   ]
  },
  {
   "cell_type": "markdown",
   "id": "ce216060",
   "metadata": {},
   "source": [
    "<div style=\"border: 1px solid RGB(51,165,182);\" >\n",
    "<h3 style=\"margin: auto; padding: 20px; color: RGB(51,165,182); \">Etape 5.5 - Analyse des corrélations entre les variables stock, sales et price</h3>\n",
    "</div>"
   ]
  },
  {
   "cell_type": "code",
   "execution_count": 124,
   "id": "12e4a540",
   "metadata": {},
   "outputs": [
    {
     "data": {
      "image/png": "[encoded data removed]",
      "text/plain": [
       "<Figure size 640x480 with 2 Axes>"
      ]
     },
     "metadata": {},
     "output_type": "display_data"
    }
   ],
   "source": [
    "############################\n",
    "# Analyse des corrélations #\n",
    "############################\n",
    "\n",
    "#Création d'une heatmap de corrélation avec les variables stock, sales et price\n",
    "sns.heatmap(df_data[['stock_quantity', \"total_sales\", \"price\"]].corr(), annot=True)\n",
    "plt.show()\n",
    "#On peut également créer un mask pour n'afficher qu'une demi heatmap"
   ]
  },
  {
   "cell_type": "markdown",
   "id": "e70687d0-c59b-4538-b227-25ff791b0621",
   "metadata": {},
   "source": [
    "**-0.52 : Corrélation modérée à forte et négative.  \n",
    "  -0.11 : Corrélation très faible négative  \n",
    "     0.44 : Corrélation Corrélation modérée et positive**"
   ]
  },
  {
   "cell_type": "markdown",
   "id": "7c162cd3-9b65-4a4d-8f8f-8853ce441f84",
   "metadata": {},
   "source": [
    "**Je conclue que les variables dans le dataset sont modérément liées, mais qu’il n’y a aucune corrélation très forte (proche de -1 ou 1).**"
   ]
  },
  {
   "cell_type": "markdown",
   "id": "f1d22f1d",
   "metadata": {},
   "source": [
    "<div style=\"border: 1px solid RGB(51,165,182);\" >\n",
    "<h3 style=\"margin: auto; padding: 20px; color: RGB(51,165,182); \">Etape 5.6 - Mise à disposition de la nouvelle table sur un fichier Excel</h3>\n",
    "</div>"
   ]
  },
  {
   "cell_type": "code",
   "execution_count": 125,
   "id": "09bfe632",
   "metadata": {},
   "outputs": [],
   "source": [
    "#Mettre le dataset df_merge sur un fichier Excel\n",
    "#Cette étape peut être utile pour partager le résultat du dataset obtenu avec les équipes.  \n",
    "df_data.to_csv(\"C:/Users/AUCLAIR/Documents/Projet_Data_6/dataframe_projet6.csv\", sep=';', encoding='utf-8-sig')"
   ]
  },
  {
   "cell_type": "markdown",
   "id": "8b8eb423-e67e-45d6-9342-db7187ef3a16",
   "metadata": {},
   "source": [
    "**Pour finir, j'exporte le DataFrame principal du projet en fichier CSV.**"
   ]
  }
 ],
 "metadata": {
  "kernelspec": {
   "display_name": "Python 3 (ipykernel)",
   "language": "python",
   "name": "python3"
  },
  "language_info": {
   "codemirror_mode": {
    "name": "ipython",
    "version": 3
   },
   "file_extension": ".py",
   "mimetype": "text/x-python",
   "name": "python",
   "nbconvert_exporter": "python",
   "pygments_lexer": "ipython3",
   "version": "3.12.5"
  }
 },
 "nbformat": 4,
 "nbformat_minor": 5
}
